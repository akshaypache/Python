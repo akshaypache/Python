{
 "cells": [
  {
   "cell_type": "markdown",
   "metadata": {
    "id": "17_g98JhJmme"
   },
   "source": [
    "# Practice Questions"
   ]
  },
  {
   "cell_type": "markdown",
   "metadata": {
    "id": "edPpPzX-Jw6y"
   },
   "source": [
    " **Q.1 Check using given length and breadth if given mesaurements will make a rectangle or square.**"
   ]
  },
  {
   "cell_type": "code",
   "execution_count": null,
   "metadata": {
    "colab": {
     "base_uri": "https://localhost:8080/"
    },
    "id": "p555A6UgA3cc",
    "outputId": "575a14c9-d820-473b-8c47-c6d5e866be3b"
   },
   "outputs": [
    {
     "name": "stdout",
     "output_type": "stream",
     "text": [
      "These are dimensions of Rectangle\n"
     ]
    }
   ],
   "source": [
    "#Check using given length and breadth if given mesaurements will make a rectangle or square.\n"
   ]
  },
  {
   "cell_type": "markdown",
   "metadata": {
    "id": "uapWE7j36n-c"
   },
   "source": [
    "**Q.2 Write a program that prints all the number from 0 to 5 except 3**\n",
    "\n",
    "**Input**: 0, 1, 2, 3, 4, 5 <br>\n",
    "**Output**: 0, 1, 2, 4, 5 "
   ]
  },
  {
   "cell_type": "code",
   "execution_count": null,
   "metadata": {
    "colab": {
     "base_uri": "https://localhost:8080/"
    },
    "id": "yBcNLvLuJlYK",
    "outputId": "dacc8ef3-4f56-4584-b8f8-5770fc14ec70"
   },
   "outputs": [
    {
     "name": "stdout",
     "output_type": "stream",
     "text": [
      "0\n",
      "1\n",
      "2\n",
      "4\n",
      "5\n"
     ]
    }
   ],
   "source": [
    "#Note : Use 'continue' statement.\n"
   ]
  },
  {
   "cell_type": "markdown",
   "metadata": {
    "id": "o5Kh76Mb7T1g"
   },
   "source": [
    "**Q.3 Write the sum of all the natural numbers upto 10**"
   ]
  },
  {
   "cell_type": "code",
   "execution_count": null,
   "metadata": {
    "colab": {
     "base_uri": "https://localhost:8080/"
    },
    "id": "IcXzJgNL7MX-",
    "outputId": "bfc1cfcc-3786-4dc7-c9b6-cb02ee785ebe"
   },
   "outputs": [
    {
     "name": "stdout",
     "output_type": "stream",
     "text": [
      "55\n"
     ]
    }
   ],
   "source": [
    "#Note : Using while loop\n"
   ]
  },
  {
   "cell_type": "markdown",
   "metadata": {
    "id": "LCTG5iAR8nGS"
   },
   "source": [
    "**Q.4 Print all the numbers in the given list in the sequence till the number is divisble by 6**\n",
    "\n",
    "```list_set = [2,4,7,13,19,18,21,23,35,36]```"
   ]
  },
  {
   "cell_type": "code",
   "execution_count": null,
   "metadata": {
    "colab": {
     "base_uri": "https://localhost:8080/"
    },
    "id": "iXgM7mSN8Wk9",
    "outputId": "56eaaeb8-34e0-4bde-bd57-af58a3040db0"
   },
   "outputs": [
    {
     "name": "stdout",
     "output_type": "stream",
     "text": [
      "2 4 7 13 19 "
     ]
    }
   ],
   "source": []
  },
  {
   "cell_type": "markdown",
   "metadata": {
    "id": "Is4uQp7S-Y8G"
   },
   "source": [
    "**Q.5 Program to print given pattern**\n",
    "\n",
    "\n",
    "\n",
    "```\n",
    "*\n",
    "**\n",
    "***\n",
    "****\n",
    "*****\n",
    "```\n",
    "\n"
   ]
  },
  {
   "cell_type": "code",
   "execution_count": 2,
   "metadata": {
    "colab": {
     "base_uri": "https://localhost:8080/"
    },
    "id": "N81s16LZ-RHU",
    "outputId": "5557594b-2e5a-4908-b088-b6651696d150"
   },
   "outputs": [
    {
     "name": "stdout",
     "output_type": "stream",
     "text": [
      "*\n",
      "**\n",
      "***\n",
      "****\n",
      "*****\n"
     ]
    }
   ],
   "source": [
    "for i in range(1,6):\n",
    "    for j in range(i):\n",
    "        print(end=\"*\")\n",
    "    print()"
   ]
  },
  {
   "cell_type": "markdown",
   "metadata": {
    "id": "rDi6_3UcAhor"
   },
   "source": [
    "**Q.6 Print the square of all the non-negative whole numbers below 5 in separate lines**\n",
    "\n",
    "\n",
    "```\n",
    "Output:\n",
    "25\n",
    "16\n",
    "9\n",
    "4\n",
    "1\n",
    "```"
   ]
  },
  {
   "cell_type": "code",
   "execution_count": null,
   "metadata": {
    "colab": {
     "base_uri": "https://localhost:8080/"
    },
    "id": "-1B8xXJtAWGu",
    "outputId": "d8ac460b-d538-4e51-b77d-837cdc435bba"
   },
   "outputs": [
    {
     "name": "stdout",
     "output_type": "stream",
     "text": [
      "25\n",
      "16\n",
      "9\n",
      "4\n",
      "1\n"
     ]
    }
   ],
   "source": []
  },
  {
   "cell_type": "markdown",
   "metadata": {
    "id": "3l53bDBi73_o"
   },
   "source": [
    "**Q.7 Print multiplication table till 10 for numbers from 1 to 9 using a nested while and for loop.**\n",
    "\n",
    "```\n",
    "1 2 3 4 5 6 7 8 9 10 \n",
    "2 4 6 8 10 12 14 16 18 20 \n",
    "3 6 9 12 15 18 21 24 27 30 \n",
    "4 8 12 16 20 24 28 32 36 40 \n",
    "5 10 15 20 25 30 35 40 45 50 \n",
    "6 12 18 24 30 36 42 48 54 60 \n",
    "7 14 21 28 35 42 49 56 63 70 \n",
    "8 16 24 32 40 48 56 64 72 80 \n",
    "9 18 27 36 45 54 63 72 81 90\n",
    "```"
   ]
  },
  {
   "cell_type": "code",
   "execution_count": 4,
   "metadata": {
    "colab": {
     "base_uri": "https://localhost:8080/"
    },
    "id": "zTIxcnoECNqj",
    "outputId": "8a7eeb19-6751-4a66-d70a-8f8d8e18fae7"
   },
   "outputs": [
    {
     "name": "stdout",
     "output_type": "stream",
     "text": [
      "1 2 3 4 5 6 7 8 9 10 \n",
      "2 4 6 8 10 12 14 16 18 20 \n",
      "3 6 9 12 15 18 21 24 27 30 \n",
      "4 8 12 16 20 24 28 32 36 40 \n",
      "5 10 15 20 25 30 35 40 45 50 \n",
      "6 12 18 24 30 36 42 48 54 60 \n",
      "7 14 21 28 35 42 49 56 63 70 \n",
      "8 16 24 32 40 48 56 64 72 80 \n",
      "9 18 27 36 45 54 63 72 81 90 \n"
     ]
    }
   ],
   "source": [
    "for i in range(1,10):\n",
    "    for j in range(1,11):\n",
    "        print(i*j,end=\" \")\n",
    "    print()"
   ]
  },
  {
   "cell_type": "markdown",
   "metadata": {
    "id": "mpokretXMyCi"
   },
   "source": [
    "**Q.8 Program to print given pattern**\n",
    "\n",
    "```\n",
    "*****\n",
    "****\n",
    "***\n",
    "**\n",
    "*\n",
    "```"
   ]
  },
  {
   "cell_type": "code",
   "execution_count": 5,
   "metadata": {
    "colab": {
     "base_uri": "https://localhost:8080/"
    },
    "id": "td2f7EueGIrM",
    "outputId": "349b7936-538b-4d6c-bf5f-6d4d858653e4"
   },
   "outputs": [
    {
     "name": "stdout",
     "output_type": "stream",
     "text": [
      "*****\n",
      "****\n",
      "***\n",
      "**\n",
      "*\n"
     ]
    }
   ],
   "source": [
    "for i in range(5,0,-1):\n",
    "    for j in range(i):\n",
    "        print(end=\"*\")\n",
    "    print()"
   ]
  },
  {
   "cell_type": "markdown",
   "metadata": {
    "id": "gHgihJaganoB"
   },
   "source": [
    "**Q.9 Program to print given pattern**\n",
    "\n",
    "```   \n",
    "    *\n",
    "   **\n",
    "  ***\n",
    " ****\n",
    "*****\n",
    "``` "
   ]
  },
  {
   "cell_type": "code",
   "execution_count": 6,
   "metadata": {
    "colab": {
     "base_uri": "https://localhost:8080/"
    },
    "id": "lThQgApwcm7J",
    "outputId": "16ef962f-1902-41d4-c402-e3a880d85588"
   },
   "outputs": [
    {
     "name": "stdout",
     "output_type": "stream",
     "text": [
      "    *\n",
      "   **\n",
      "  ***\n",
      " ****\n",
      "*****\n"
     ]
    }
   ],
   "source": [
    "for i in range(1,6):\n",
    "    for j in range(i,5):\n",
    "        print(end=\" \")\n",
    "    for j in range(i):\n",
    "        print(end=\"*\")\n",
    "    print()"
   ]
  },
  {
   "cell_type": "code",
   "execution_count": null,
   "metadata": {
    "colab": {
     "base_uri": "https://localhost:8080/"
    },
    "id": "VRnnHzBja4-M",
    "outputId": "6e3b9bad-da7e-4837-d845-257f98b52fd8"
   },
   "outputs": [
    {
     "name": "stdout",
     "output_type": "stream",
     "text": [
      "    *\n",
      "   **\n",
      "  ***\n",
      " ****\n",
      "*****\n"
     ]
    }
   ],
   "source": []
  },
  {
   "cell_type": "markdown",
   "metadata": {
    "id": "92_tUffCcSfd"
   },
   "source": [
    "**Q.10 Write a programme to find the number of words with length of 5 present in the given sentence.**\n",
    "\n",
    "s = \"The Dowry system is evil in society. It has reduced the sacred affair of marriage to a business deal. Brides are treated as a marketable commodity. The parents of the brides are often put under inhuman pressure for a handsome dowry. Sometimes they become paupers to get their daughters married. In many cases, young brides are ruthlessly tortured or pushed to suicide\""
   ]
  },
  {
   "cell_type": "code",
   "execution_count": null,
   "metadata": {
    "colab": {
     "base_uri": "https://localhost:8080/"
    },
    "id": "IAfkiDqYc287",
    "outputId": "1f97b95f-7573-4887-ce26-1ed921481fed"
   },
   "outputs": [
    {
     "name": "stdout",
     "output_type": "stream",
     "text": [
      "Total words with length 4 is 6\n"
     ]
    }
   ],
   "source": []
  },
  {
   "cell_type": "markdown",
   "metadata": {
    "id": "uCv9kT1pdokH"
   },
   "source": [
    "**Q.11 Calculate the number of digits and number of characters (it includes letters, digits, special characters including space) in the given string and find the sum of the digits.**\n",
    "\n",
    "```\n",
    "lng_str = \"jjt8g%ust!58thg8rthgurt5out9t yfohu%$lkfw3uw4twkejlrwe7werhwa1khed7fjfslfjd9dhh!ehhl*ksf8fjlko%o995h@g87strf7fef4sen98%t1jj2(jghj6j$&jshh47@dhkljkaf6a\"\n",
    "```"
   ]
  },
  {
   "cell_type": "code",
   "execution_count": null,
   "metadata": {
    "colab": {
     "base_uri": "https://localhost:8080/"
    },
    "id": "e0gAwkc6dHf7",
    "outputId": "d71dfe75-2e4d-45fc-9e94-98b194741bbd"
   },
   "outputs": [
    {
     "name": "stdout",
     "output_type": "stream",
     "text": [
      "The number of digits is:\n",
      "28\n",
      "The number of characters is:\n",
      "150\n",
      "The digits sum is:\n",
      "174\n"
     ]
    }
   ],
   "source": []
  },
  {
   "cell_type": "markdown",
   "metadata": {
    "id": "QkExO7whf634"
   },
   "source": [
    "**Q 12 Calculate the number of digits and number of characters (it includes letters, digits, special characters including space) in the given string and find the sum of the digits.**\n",
    "\n",
    "Input:  khokho <br>\n",
    "Output:  <br>\n",
    "The entered string is symmetrical  <br>\n",
    "The entered string is not palindrome  <br>\n",
    "\n",
    "<br>\n",
    "\n",
    "Input: level  <br>\n",
    "Output:  <br>\n",
    "The entered string is not symmetrical  <br>\n",
    "The entered string is palindrome  <br>\n",
    "\n",
    "<br>\n",
    "\n",
    "Input: radar  <br>\n",
    "Output:  <br>\n",
    "The entered string is not symmetrical  <br>\n",
    "The entered string is palindrome  <br>\n",
    "\n",
    "<br>\n",
    "\n",
    "Input: amaama  <br>\n",
    "Output:  <br>\n",
    "The entered string is symmetrical  <br>\n",
    "The entered string is palindrome  <br>"
   ]
  },
  {
   "cell_type": "code",
   "execution_count": null,
   "metadata": {
    "colab": {
     "base_uri": "https://localhost:8080/"
    },
    "id": "ULRrl0c2eQPu",
    "outputId": "855d2049-a63f-4ac7-8fce-f2b087b1bf02"
   },
   "outputs": [
    {
     "name": "stdout",
     "output_type": "stream",
     "text": [
      "level string is not symmertical\n",
      "level string is palindrome\n"
     ]
    }
   ],
   "source": []
  },
  {
   "cell_type": "markdown",
   "metadata": {
    "id": "7epuzssbkeI1"
   },
   "source": [
    "**Q 13 Write a code to find out the name of the student who have got highest average marsks in homework. Additionally also print the average score**\n",
    "\n"
   ]
  },
  {
   "cell_type": "code",
   "execution_count": null,
   "metadata": {
    "id": "O38t8E5zgPJn"
   },
   "outputs": [],
   "source": []
  },
  {
   "cell_type": "code",
   "execution_count": null,
   "metadata": {
    "colab": {
     "base_uri": "https://localhost:8080/"
    },
    "id": "WBW71z72i_Qd",
    "outputId": "95d6099a-126c-4bc7-8c9a-2de1a9d1336e"
   },
   "outputs": [
    {
     "name": "stdout",
     "output_type": "stream",
     "text": [
      "Suresh\n",
      "97.5\n"
     ]
    }
   ],
   "source": []
  }
 ],
 "metadata": {
  "colab": {
   "collapsed_sections": [],
   "name": "Decision_Making_and_loops_Assignment_Question.ipynb",
   "provenance": []
  },
  "kernelspec": {
   "display_name": "Python 3 (ipykernel)",
   "language": "python",
   "name": "python3"
  },
  "language_info": {
   "codemirror_mode": {
    "name": "ipython",
    "version": 3
   },
   "file_extension": ".py",
   "mimetype": "text/x-python",
   "name": "python",
   "nbconvert_exporter": "python",
   "pygments_lexer": "ipython3",
   "version": "3.11.2"
  }
 },
 "nbformat": 4,
 "nbformat_minor": 1
}
