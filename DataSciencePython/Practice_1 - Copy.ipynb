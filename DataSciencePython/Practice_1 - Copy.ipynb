{
 "cells": [
  {
   "cell_type": "markdown",
   "metadata": {
    "id": "N_Y6ZjqHolcn"
   },
   "source": []
  },
  {
   "cell_type": "markdown",
   "metadata": {
    "id": "uGHKJxigPJCS"
   },
   "source": [
    "# **Question-1:**\n",
    "You are given two integer variables,  x and y. You have to swap the values stored in x and y.\n",
    "\n",
    "----------------------------------------------------------------------\n",
    "Input:\n",
    "Two numbers x and y separated by a comma.\n",
    "\n",
    "Output:\n",
    "Print 5 lines. The first two lines will have values of variables shown before swapping, and the last two lines will have values of variables shown after swapping. The third line will be blank.\n",
    "\n",
    "----------------------------------------------------------------------\n",
    "Sample input:\n",
    "20, 50\n",
    "\n",
    "Sample output:\n",
    "x before swapping: 20\n",
    "y before swapping: 50\n",
    "\n",
    "x after swapping: 50\n",
    "y after swapping: 20\n"
   ]
  },
  {
   "cell_type": "code",
   "execution_count": 10,
   "metadata": {},
   "outputs": [
    {
     "name": "stdout",
     "output_type": "stream",
     "text": [
      "20, 50\n",
      "x before swapping  20 y before swapping  50\n",
      "x after swapping  50 y after swapping  20\n"
     ]
    }
   ],
   "source": [
    "var = input(\"Enter a number = \")      # \"20, 50\"\n",
    "var = var.split(\", \")                 # [\"20\",\"50\"]\n",
    "# int(\"20\") -----> 20\n",
    "x = int(var[0])            # 20\n",
    "y = int(var[1])            # 50\n",
    "print(\"x before swapping \", x, \"y before swapping \",y)\n",
    "\n",
    "# logic\n",
    "# 1) Arithmatic : = ,+,-\n",
    "x = x + y                # x = 70\n",
    "y = x - y                # y = 20\n",
    "x = x - y                # x = 50\n",
    "\n",
    "print(\"x after swapping \", x, \"y after swapping \",y)"
   ]
  },
  {
   "cell_type": "code",
   "execution_count": 11,
   "metadata": {},
   "outputs": [
    {
     "name": "stdout",
     "output_type": "stream",
     "text": [
      "Enter a number = 10, 20\n",
      "x before swapping  10 y before swapping  20\n",
      "x after swapping  20 y after swapping  10\n"
     ]
    }
   ],
   "source": [
    "var = input(\"Enter a number = \")      # \"20, 50\"\n",
    "var = var.split(\", \")                 # [\"20\",\"50\"]\n",
    "# int(\"20\") -----> 20\n",
    "x = int(var[0])            # 20\n",
    "y = int(var[1])            # 50\n",
    "print(\"x before swapping \", x, \"y before swapping \",y)\n",
    "\n",
    "# logic\n",
    "# 2) using 3rd variable\n",
    "temp = x \n",
    "x = y \n",
    "y = temp\n",
    "\n",
    "print(\"x after swapping \", x, \"y after swapping \",y)"
   ]
  },
  {
   "cell_type": "code",
   "execution_count": null,
   "metadata": {},
   "outputs": [],
   "source": [
    "var = input(\"Enter a number = \")      # \"20, 50\"\n",
    "var = var.split(\", \")                 # [\"20\",\"50\"]\n",
    "# int(\"20\") -----> 20\n",
    "x = int(var[0])            # 20\n",
    "y = int(var[1])            # 50\n",
    "print(\"x before swapping \", x, \"y before swapping \",y)\n",
    "\n",
    "# logic\n",
    "# 3) tuple concept\n",
    "x,y = y,x\n",
    "\n",
    "print(\"x after swapping \", x, \"y after swapping \",y)"
   ]
  },
  {
   "cell_type": "code",
   "execution_count": 13,
   "metadata": {},
   "outputs": [
    {
     "name": "stdout",
     "output_type": "stream",
     "text": [
      "<class 'tuple'>\n"
     ]
    }
   ],
   "source": [
    "# tuple - ()\n",
    "x = (12,43,54,65,\"jeet\", 3.14,34)\n",
    "# x,y = 50, 20\n",
    "print(type(x))"
   ]
  },
  {
   "cell_type": "markdown",
   "metadata": {
    "id": "3sJtRsGpQjfQ"
   },
   "source": [
    "**Question-2:**\n",
    "\n",
    "Given an integer, print whether it is Even or Odd.\n",
    "\n",
    "----------------------------------------------------------------------\n",
    "Input:\n",
    "An integer\n",
    "\n",
    "Output:\n",
    "'Even' or 'Odd'\n",
    "\n",
    "----------------------------------------------------------------------\n",
    "Sample input:\n",
    "3\n",
    "\n",
    "Sample output:\n",
    "Odd\n",
    "\n",
    "----------------------------------------------------------------------\n",
    "Sample input:\n",
    "6\n",
    "\n",
    "Sample output:\n",
    "Even"
   ]
  },
  {
   "cell_type": "code",
   "execution_count": 16,
   "metadata": {},
   "outputs": [
    {
     "name": "stdout",
     "output_type": "stream",
     "text": [
      "bhagwan ke name pe dede re baba = 6\n",
      "Even number\n"
     ]
    }
   ],
   "source": [
    "var = int(input(\"bhagwan ke name pe dede re baba = \"))\n",
    "# if (condition):        # camparison , logical\n",
    "#     true statements\n",
    "# else:\n",
    "#     false statements\n",
    "\n",
    "if (var%2 == 0):\n",
    "    print(\"Even number\")\n",
    "else:\n",
    "    print(\"Odd number\")\n"
   ]
  },
  {
   "cell_type": "markdown",
   "metadata": {
    "id": "dBy-nWTVfNiD"
   },
   "source": [
    "**Question-3:**\n",
    "\n",
    "A number k is beautiful if it is of the form 3n+1, is pretty if it is of the form 3n+2 and is awesome if it is of form 3n.\n",
    "Given a number k, print if it is beautiful, pretty or awesome.\n",
    "\n",
    "Sample input:\n",
    "21\n",
    "\n",
    "Sample output:\n",
    "awesome\n",
    "\n",
    "Sample input:\n",
    "22\n",
    "\n",
    "Sample output:\n",
    "beautiful\n",
    "\n",
    "Sample input:\n",
    "23\n",
    "\n",
    "Sample output:\n",
    "pretty\n"
   ]
  },
  {
   "cell_type": "code",
   "execution_count": null,
   "metadata": {
    "id": "AcVNxxU2f0mp"
   },
   "outputs": [],
   "source": [
    "21 = 3n                \n",
    "21 % 3 == 0          awesome\n",
    "\n",
    "22 = 3n + 1\n",
    "22 % 3 == 1          beautiful\n",
    "\n",
    "23 = 3n + 2\n",
    "23 % 3 == 2          pretty"
   ]
  },
  {
   "cell_type": "code",
   "execution_count": 19,
   "metadata": {},
   "outputs": [
    {
     "name": "stdout",
     "output_type": "stream",
     "text": [
      "bhagwan ke name pe dede re baba = 23\n",
      "pretty\n"
     ]
    }
   ],
   "source": [
    "var = int(input(\"bhagwan ke name pe dede re baba = \"))\n",
    "if (var % 3 == 0):\n",
    "    print(\"awesome\")\n",
    "elif (var % 3 == 1):\n",
    "    print(\"beautiful\")\n",
    "else:\n",
    "    print(\"pretty\")"
   ]
  },
  {
   "cell_type": "code",
   "execution_count": null,
   "metadata": {},
   "outputs": [],
   "source": []
  },
  {
   "cell_type": "markdown",
   "metadata": {
    "id": "sb25bj5mf1Hi"
   },
   "source": [
    "**Question - 4:**\n",
    "\n",
    "You're trying to automate your alarm clock by writing a function for it. You're given a day of the week encoded as 1=Mon, 2=Tue, ... 6=Sat, 7=Sun, and whether you are on vacation as a boolean value (a boolean object is either True or False. Google \"booleans python\" to get a better understanding). Based on the day and whether you're on vacation, write a function that returns a time in form of a string indicating when the alarm clock should ring. \n",
    "\n",
    "When not on a vacation, on weekdays, the alarm should ring at \"7:00\" and on the weekends (Saturday and Sunday) it should ring at \"10:00\". \n",
    "\n",
    "While on a vacation, it should ring at \"10:00\" on weekdays. On vacation, it should not ring on weekends, that is, it should return \"off\".\n",
    "\n",
    "----------------------------------------------------------------------\n",
    "Input:\n",
    "The input will be a list of two elements. The first element will be an integer from 1 to 7, and the second element will be a boolean value.\n",
    "\n",
    "Output:\n",
    "The output will be a string denoting the time alarm will ring or 'off'\n",
    "\n",
    "----------------------------------------------------------------------\n",
    "Sample input:\n",
    "[7, True]\n",
    "\n",
    "Sample output:\n",
    "off\n",
    "\n",
    "----------------------------------------------------------------------\n",
    "Sample input:\n",
    "[3, True]\n",
    "\n",
    "Sample output:\n",
    "10:00\n",
    "\n",
    "----------------------------------------------------------------------\n"
   ]
  },
  {
   "cell_type": "code",
   "execution_count": 22,
   "metadata": {},
   "outputs": [
    {
     "name": "stdout",
     "output_type": "stream",
     "text": [
      "0\n"
     ]
    }
   ],
   "source": [
    "day = [1,2,3,4,5] and vac = False ---------->  7:00\n",
    "day = [6,7] and vac = False ------> 10:00\n",
    "day = [1,2,3,4,5] and vac = True ---------->  10:00\n",
    "day = [6,7] and vac = True ------> off  "
   ]
  },
  {
   "cell_type": "code",
   "execution_count": 25,
   "metadata": {},
   "outputs": [
    {
     "name": "stdout",
     "output_type": "stream",
     "text": [
      "[3,True]\n",
      "10:00\n"
     ]
    }
   ],
   "source": [
    "import ast\n",
    "var = input()               # \"[7,True]\"\n",
    "list1 = ast.literal_eval(var)     # [7, True]\n",
    "day = list1[0]\n",
    "vac = list1[1]\n",
    "\n",
    "if day in [1,2,3,4,5] and vac == False:\n",
    "    print(\"7:00\")\n",
    "elif day in [6,7] and vac == False:\n",
    "    print(\"10:00\")\n",
    "elif day in [1,2,3,4,5] and vac == True:\n",
    "    print(\"10:00\")\n",
    "else:\n",
    "    print(\"Off\")"
   ]
  },
  {
   "cell_type": "markdown",
   "metadata": {
    "id": "AqrscNL0gY21"
   },
   "source": [
    "**Question-5:**\n",
    "\n",
    "Description\n",
    "Factorial is a mathematical function denoted by '!'. It is defined as\n",
    "\n",
    "n factorial = n!= 1*2*3...*(n-1)*n\n",
    "\n",
    "In this question, you have to make a function that will take an integer as input, and return the factorial of that integer if that integer is greater than or equal to zero and return -1 if the number is less than zero or negative.\n",
    "\n",
    "Note: the function doesn't return print the factorial but returns it.\n",
    "----------------------------------------------------------------------\n",
    "Input:\n",
    "An integer n\n",
    "\n",
    "Output:\n",
    "The function returns n! if n is greater than or equal to 0.\n",
    "0! = 1\n",
    "and the function returns -1 if the number is less than 0.\n",
    "\n",
    "----------------------------------------------------------------------\n",
    "Sample input:\n",
    "3\n",
    "\n",
    "Sample output:\n",
    "6\n",
    "\n",
    "----------------------------------------------------------------------\n",
    "Sample input:\n",
    "-4\n",
    "\n",
    "Sample output:\n",
    "-1\n"
   ]
  },
  {
   "cell_type": "code",
   "execution_count": null,
   "metadata": {},
   "outputs": [],
   "source": []
  },
  {
   "cell_type": "code",
   "execution_count": null,
   "metadata": {},
   "outputs": [],
   "source": []
  },
  {
   "cell_type": "code",
   "execution_count": null,
   "metadata": {},
   "outputs": [],
   "source": []
  },
  {
   "cell_type": "markdown",
   "metadata": {
    "id": "NBKZMigznHE5"
   },
   "source": [
    "**Question - 6:**\n",
    "\n",
    "You will be given a number. You have to reverse the digits of the number and print it.\n",
    "\n",
    "----------------------------------------------------------------------\n",
    "Input:\n",
    "A positive integer greater than zero\n",
    "\n",
    "Output:\n",
    "The number in reverse order. Check sample outputs for more details.\n",
    "\n",
    "----------------------------------------------------------------------\n",
    "Sample input:\n",
    "345200\n",
    "\n",
    "Sample output:\n",
    "2543\n",
    "\n",
    "----------------------------------------------------------------------\n",
    "Sample input:\n",
    "6752343\n",
    "\n",
    "Sample output:\n",
    "3432576"
   ]
  },
  {
   "cell_type": "code",
   "execution_count": null,
   "metadata": {},
   "outputs": [],
   "source": []
  },
  {
   "cell_type": "markdown",
   "metadata": {
    "id": "1wSk_FQkncpE"
   },
   "source": [
    "Question-7: \n",
    "\n",
    "How Many Chocolates?\n",
    "Description\n",
    "Sanjay loves chocolates. He goes to a shop to buy his favourite chocolate. There he notices there is an offer going on, upon bringing 3 wrappers of the same chocolate, you will get new chocolate for free. If Sanjay has m Rupees. How many chocolates will he be able to eat if each chocolate costs c Rupees?\n",
    "\n",
    "----------------------------------------------------------------------\n",
    "Input:\n",
    "Two positive integers m and c separated by a comma. The first integer is m and the second integer is c \n",
    "\n",
    "Output:\n",
    "A single integer denoting the number of chocolates Sanjay was able to eat in total.\n",
    "\n",
    "----------------------------------------------------------------------\n",
    "Sample input:\n",
    "15, 2\n",
    "\n",
    "Sample output:\n",
    "10\n",
    "\n",
    "Explanation:\n",
    "First, he will get 15/2=7 chocolates. He then will return 6 wrappers for 2 chocolates. And lastly, these two wrappers and the one he previously had will get him one more chocolate, making a total of 7+2+1=10 chocolates.\n",
    "\n",
    "----------------------------------------------------------------------\n",
    "Sample input:\n",
    "3,1\n",
    "\n",
    "Sample output:\n",
    "4"
   ]
  },
  {
   "cell_type": "code",
   "execution_count": null,
   "metadata": {},
   "outputs": [],
   "source": []
  },
  {
   "cell_type": "markdown",
   "metadata": {
    "id": "vMBAW2ESn8ij"
   },
   "source": [
    "**Question - 8:**\n",
    "\n",
    "Printing different patterns is a very good exercise to reinforce iteration through loops and strong logic building. Here you will be given a positive integer and you will generate pattern based on that integer.\n",
    "\n",
    "----------------------------------------------------------------------\n",
    "Input:\n",
    "A positive integer n\n",
    "1 <= n <=20\n",
    "\n",
    "Output:\n",
    "A pattern as described by the Sample input and outputs below.\n",
    "\n",
    "----------------------------------------------------------------------\n",
    "Sample input:\n",
    "5\n",
    "\n",
    "Sample output:\n",
    "\n",
    "    *\n",
    "   *_*\n",
    "  *_*_*\n",
    " *_*_*_*\n",
    "*_*_*_*_*\n",
    "\n",
    "\n",
    "----------------------------------------------------------------------\n",
    "Sample input:\n",
    "3\n",
    "\n",
    "Sample output:\n",
    "  *\n",
    " *_*\n",
    "*_*_*\n"
   ]
  },
  {
   "cell_type": "code",
   "execution_count": null,
   "metadata": {},
   "outputs": [],
   "source": []
  },
  {
   "cell_type": "markdown",
   "metadata": {
    "id": "Q3ilIiW3tT5E"
   },
   "source": [
    "**Question-9:** \n",
    "\n",
    "Any number, say n is called an Armstrong number if it is equal to the sum of its digits, where each is raised to the power of number of digits in n. For example: 153=1^3+5^3+3^3\n",
    "\n",
    "Write Python code to determine whether an entered three digit number is an Armstrong number or not. Assume that the number entered will strictly be a three digit number. Print \"True\" if it is an Armstrong number and print \"False\" if it is not.\n",
    "\n",
    "Sample Input: 153\n",
    "\n",
    "Sample Output: True\n",
    "\n",
    "Sample Input: 125\n",
    "\n",
    "Sample Output: False"
   ]
  },
  {
   "cell_type": "markdown",
   "metadata": {
    "id": "7d_OEStycDnA"
   },
   "source": [
    "**Logic to solve problem**\n",
    "\n",
    "We should start with writing a pseudo code:\n",
    "\n",
    "\n",
    "\n",
    "*   Step-1: Converst the number into string and determine the length. This length will be used as power to which each digit will be raised\n",
    "\n",
    "*   Step-2: Use modulo function to determine each digit\n",
    "\n",
    "*   Step-3: Take summation of each digit raised to the power equal to the number of digit\n",
    "\n",
    "\n",
    "\n",
    "\n",
    "\n",
    "\n"
   ]
  },
  {
   "cell_type": "code",
   "execution_count": null,
   "metadata": {},
   "outputs": [],
   "source": []
  },
  {
   "cell_type": "markdown",
   "metadata": {
    "id": "28wgnpsctpmV"
   },
   "source": [
    "**Question-10:**\n",
    "\n",
    "Compute and display Fibonacci series upto n terms where n is a positive integer entered by the user.\n",
    "\n",
    "Sample Input: 5\n",
    "\n",
    "Sample Output:\n",
    "\n",
    "0\n",
    "\n",
    "1\n",
    "\n",
    "1\n",
    "\n",
    "2\n",
    "\n",
    "3"
   ]
  },
  {
   "cell_type": "markdown",
   "metadata": {
    "id": "SIWurRQpdKYE"
   },
   "source": [
    "**Logic to solve problem**\n",
    "\n",
    "The Fibonacci numbers are the numbers in the following integer sequence.\n",
    "0, 1, 1, 2, 3, 5, 8, 13, 21, 34, 55, 89, 144, ……..\n",
    "\n",
    "In mathematical terms, the sequence Fn of Fibonacci numbers is defined by the recurrence relation \n",
    "\n",
    "Fn = Fn-1 + Fn-2\n",
    "with seed values \n",
    "\n",
    "F0 = 0 and F1 = 1. \n",
    "\n",
    "In this problem, we have to write a function sch that it determines a new number as the sum of last two numbers and then print that number"
   ]
  },
  {
   "cell_type": "code",
   "execution_count": null,
   "metadata": {},
   "outputs": [],
   "source": []
  },
  {
   "cell_type": "markdown",
   "metadata": {
    "id": "Z8Xd-eqRt5aA"
   },
   "source": [
    "Question-11:\n",
    "\n",
    "Write python code to find the sum of prime numbers from 2 to n where n is a positive integer entered by the user.\n",
    "\n",
    "Note: n can be non-prime or prime. You have to find sum of primes till n and not sum of n prime numbers. i.e. for input 10, output should be 17.\n",
    "\n",
    "Hint: You can try using lambda functions and comprehensions to reduce the lines of code you have to write.\n",
    "\n",
    "Input: A positive integer n.\n",
    "\n",
    "Output: A integer denoting the sum of primes less than or equal to n\n",
    "\n",
    "Sample Input:\n",
    "\n",
    "5\n",
    "\n",
    "Sample Output:\n",
    "\n",
    "10"
   ]
  },
  {
   "cell_type": "code",
   "execution_count": null,
   "metadata": {},
   "outputs": [],
   "source": []
  }
 ],
 "metadata": {
  "colab": {
   "collapsed_sections": [],
   "provenance": [
    {
     "file_id": "153Ic0TQb8d9bplrsCihv8JJhNLxMMq3l",
     "timestamp": 1662099280434
    }
   ]
  },
  "kernelspec": {
   "display_name": "Python 3 (ipykernel)",
   "language": "python",
   "name": "python3"
  },
  "language_info": {
   "codemirror_mode": {
    "name": "ipython",
    "version": 3
   },
   "file_extension": ".py",
   "mimetype": "text/x-python",
   "name": "python",
   "nbconvert_exporter": "python",
   "pygments_lexer": "ipython3",
   "version": "3.11.2"
  }
 },
 "nbformat": 4,
 "nbformat_minor": 1
}
