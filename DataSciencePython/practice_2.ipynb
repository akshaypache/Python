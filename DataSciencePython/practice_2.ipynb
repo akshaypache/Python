{
 "cells": [
  {
   "cell_type": "markdown",
   "metadata": {
    "id": "w5MN0PRup-Z7"
   },
   "source": []
  },
  {
   "cell_type": "markdown",
   "metadata": {
    "id": "iKAWX0vSqQGT"
   },
   "source": [
    "**Question-1:**\n",
    "\n",
    "You have to find and print the smallest element of the list given as input. \n",
    "\n",
    "----------------------------------------------------------------------\n",
    "Input:\n",
    "A non-empty list of integers.\n",
    "\n",
    "Output:\n",
    "The smallest integer of the input list.\n",
    "\n",
    "----------------------------------------------------------------------\n",
    "Sample input:\n",
    "[2, -3, 0, 7, 21]\n",
    "\n",
    "Sample output:\n",
    "-3"
   ]
  },
  {
   "cell_type": "markdown",
   "metadata": {
    "id": "yaqUNoVUqZ50"
   },
   "source": []
  },
  {
   "cell_type": "code",
   "execution_count": 6,
   "metadata": {
    "colab": {
     "base_uri": "https://localhost:8080/"
    },
    "executionInfo": {
     "elapsed": 11954,
     "status": "ok",
     "timestamp": 1660477564415,
     "user": {
      "displayName": "Eshan Tiwari",
      "userId": "08888152677302974738"
     },
     "user_tz": -330
    },
    "id": "qsGTQ-rYqaj9",
    "outputId": "60c79504-b931-44ac-d3da-d62d2405eebc"
   },
   "outputs": [
    {
     "name": "stdout",
     "output_type": "stream",
     "text": [
      "[2, -3, 0, 7, 21]\n",
      "-3\n"
     ]
    }
   ],
   "source": [
    "#input have been taken for you here\n",
    "import ast \n",
    "input_str = input()\n",
    "list = ast.literal_eval(input_str)\n",
    "\n",
    "print(min(list))"
   ]
  },
  {
   "cell_type": "code",
   "execution_count": 2,
   "metadata": {},
   "outputs": [
    {
     "name": "stdout",
     "output_type": "stream",
     "text": [
      "[12,23,54,6,54]\n",
      "54\n"
     ]
    }
   ],
   "source": [
    "import ast \n",
    "input_str = input()\n",
    "list = ast.literal_eval(input_str)\n",
    "\n",
    "min = list[0]\n",
    "for i in list:\n",
    "    if(min>i):\n",
    "        min = i\n",
    "        \n",
    "print(min)"
   ]
  },
  {
   "cell_type": "markdown",
   "metadata": {
    "id": "1PJKMhgtq_Zk"
   },
   "source": [
    "**Question-2:**\n",
    "\n",
    "Finding the average of the data and comparing it with other values is often encountered while analysing the data. Here you will do the same thing. The data will be provided to you in a list. You will also be given a number check.  You will return whether the number check is above average or no.\n",
    "\n",
    "----------------------------------------------------------------------\n",
    "Input:\n",
    "A list with two elements:\n",
    "The first element will be the list of data of integers and\n",
    "The second element will be an integer check.\n",
    "\n",
    "Output:\n",
    "True if check is above average and False otherwise\n",
    "\n",
    "----------------------------------------------------------------------\n",
    "Sample input:\n",
    "[ [2,4,6,8,10],  4]\n",
    "\n",
    "Sample output:\n",
    "False\n",
    "\n",
    "----------------------------------------------------------------------\n",
    "Sample input:\n",
    "[ [2,4,6,8,-10],  4]\n",
    "\n",
    "Sample output:\n",
    "True"
   ]
  },
  {
   "cell_type": "code",
   "execution_count": 18,
   "metadata": {
    "colab": {
     "base_uri": "https://localhost:8080/"
    },
    "executionInfo": {
     "elapsed": 8074,
     "status": "ok",
     "timestamp": 1660477583175,
     "user": {
      "displayName": "Eshan Tiwari",
      "userId": "08888152677302974738"
     },
     "user_tz": -330
    },
    "id": "qdMKgw98rICO",
    "outputId": "fbedc90a-b50f-43a1-89b8-962926e46742"
   },
   "outputs": [
    {
     "name": "stdout",
     "output_type": "stream",
     "text": [
      " [ [2,4,6,8,-10], 4]\n"
     ]
    },
    {
     "ename": "TypeError",
     "evalue": "'int' object is not callable",
     "output_type": "error",
     "traceback": [
      "\u001b[1;31m---------------------------------------------------------------------------\u001b[0m",
      "\u001b[1;31mTypeError\u001b[0m                                 Traceback (most recent call last)",
      "Cell \u001b[1;32mIn[18], line 9\u001b[0m\n\u001b[0;32m      6\u001b[0m a \u001b[38;5;241m=\u001b[39m list1[\u001b[38;5;241m0\u001b[39m]\n\u001b[0;32m      7\u001b[0m b \u001b[38;5;241m=\u001b[39m list1[\u001b[38;5;241m1\u001b[39m]\n\u001b[1;32m----> 9\u001b[0m var \u001b[38;5;241m=\u001b[39m \u001b[38;5;28;43msum\u001b[39;49m\u001b[43m(\u001b[49m\u001b[43ma\u001b[49m\u001b[43m)\u001b[49m \u001b[38;5;241m/\u001b[39m \u001b[38;5;28mlen\u001b[39m(a)\n\u001b[0;32m     11\u001b[0m \u001b[38;5;28;01mif\u001b[39;00m var \u001b[38;5;241m<\u001b[39m b:\n\u001b[0;32m     12\u001b[0m     \u001b[38;5;28mprint\u001b[39m(\u001b[38;5;28;01mTrue\u001b[39;00m)\n",
      "\u001b[1;31mTypeError\u001b[0m: 'int' object is not callable"
     ]
    }
   ],
   "source": [
    "#Take input here\n",
    "import ast \n",
    "input_str = input()\n",
    "list1 = ast.literal_eval(input_str)\n",
    "\n",
    "a = list1[0]\n",
    "b = list1[1]\n",
    "\n",
    "var = sum(a) / len(a)\n",
    "\n",
    "if var < b:\n",
    "    print(True)\n",
    "else:\n",
    "    print(False)"
   ]
  },
  {
   "cell_type": "code",
   "execution_count": 17,
   "metadata": {},
   "outputs": [
    {
     "name": "stdout",
     "output_type": "stream",
     "text": [
      "[ [2,4,6,8,10], 4]\n",
      "False\n"
     ]
    }
   ],
   "source": [
    "#Take input here\n",
    "import ast \n",
    "input_str = input()\n",
    "list1 = ast.literal_eval(input_str)\n",
    "\n",
    "a = list1[0]\n",
    "b = list1[1]\n",
    "totalsum = 0\n",
    "\n",
    "for i in a:\n",
    "    totalsum = totalsum + i\n",
    "var = totalsum / b\n",
    "\n",
    "if var < b:\n",
    "    print(True)\n",
    "else:\n",
    "    print(False)"
   ]
  },
  {
   "cell_type": "markdown",
   "metadata": {
    "id": "NPcOl3ISr0NT"
   },
   "source": [
    "**Question-3:**\n",
    "\n",
    "Write a code to remove duplicate elements from a list\n",
    "\n",
    "\n",
    "----------------------------------------------------------------------\n",
    "\n",
    "Input:\n",
    "\n",
    "[12, 36, 56, 36, 36, 50, 56, 12] \n",
    "\n",
    "\n",
    "Output:\n",
    "\n",
    "[12, 36, 56, 50, 12] \n"
   ]
  },
  {
   "cell_type": "code",
   "execution_count": 1,
   "metadata": {
    "colab": {
     "base_uri": "https://localhost:8080/"
    },
    "executionInfo": {
     "elapsed": 6567,
     "status": "ok",
     "timestamp": 1660508858156,
     "user": {
      "displayName": "Eshan Tiwari",
      "userId": "08888152677302974738"
     },
     "user_tz": -330
    },
    "id": "IlNGwgCOr9DF",
    "outputId": "d8c1421b-25c2-4361-b271-afdfa4e587c2"
   },
   "outputs": [
    {
     "name": "stdout",
     "output_type": "stream",
     "text": [
      "[56, 50, 12, 36]\n"
     ]
    }
   ],
   "source": [
    "import ast \n",
    "input_str = input()\n",
    "list1 = ast.literal_eval(input_str)\n",
    "\n",
    "print(list(set(list1)))"
   ]
  },
  {
   "cell_type": "code",
   "execution_count": null,
   "metadata": {},
   "outputs": [],
   "source": [
    "import ast \n",
    "input_str = input()\n",
    "list1 = ast.literal_eval(input_str)\n",
    "\n",
    "uniqueList = []\n",
    "for i in list1:\n",
    "    if i not in uniqueList:\n",
    "        uniqueList.append(i)\n",
    "       \n",
    "    \n",
    "print(uniqueList)"
   ]
  },
  {
   "cell_type": "markdown",
   "metadata": {
    "id": "7ABPjz0XsMzN"
   },
   "source": [
    "**Question-4:**\n",
    "\n",
    "You are planning to go to your friend's wedding and you have long events all month, lasting at least a few days. You have the start and end dates of events and your task is to find out events overlapping with the wedding date.\n",
    "\n",
    "The code for taking input has already been written for you, please don't modify that, but do read and try to understand the way input has been taken. You will be asked to take input on your own for most of the problems here onwards. Taking data in a suitable format is an important skill for a Data Scientist.\n",
    "\n",
    "----------------------------------------------------------------------\n",
    "Input:\n",
    "The input will contain a list of lists where each sub-list has only two elements representing the start and end date of an event, the start date will be less than or equal to the end date. The next line of input will have a wedding date. \n",
    "\n",
    "Output:\n",
    "The output should have the number of events overlapping with the wedding date.\n",
    "\n",
    "----------------------------------------------------------------------\n",
    "Sample input:\n",
    "\n",
    "[ [29,31], [23,26], [24,25] ]\n",
    "\n",
    "24\n",
    "\n",
    "Sample output:\n",
    "2\n",
    "\n",
    "Explanation:\n",
    "There are three events in the month.\n",
    "Event 1= from date 29 to 31\n",
    "Event 2= from date 23 to 26\n",
    "Event 3= from date 24 to 25\n",
    "Wedding is on 24. This means it will clash with Event 3 and Event 2, that is two events. The output is therefore 2.\n",
    "\n",
    "----------------------------------------------------------------------\n",
    "Sample input:\n",
    "\n",
    "[ [1, 4], [7, 10], [8, 8], [14, 23] ]\n",
    "\n",
    "26\n",
    "\n",
    "Sample output:\n",
    "0\n",
    "\n"
   ]
  },
  {
   "cell_type": "code",
   "execution_count": null,
   "metadata": {
    "colab": {
     "base_uri": "https://localhost:8080/"
    },
    "executionInfo": {
     "elapsed": 10170,
     "status": "ok",
     "timestamp": 1660478521313,
     "user": {
      "displayName": "Eshan Tiwari",
      "userId": "08888152677302974738"
     },
     "user_tz": -330
    },
    "id": "YBT93c-VsSIL",
    "outputId": "c871662f-f585-46d5-a053-b3beece60124"
   },
   "outputs": [],
   "source": []
  },
  {
   "cell_type": "markdown",
   "metadata": {
    "id": "1MKFtqN4Ir5q"
   },
   "source": [
    "**Question-5:**\n",
    "\n",
    "You will be given two positive integers m and n. You have to make a list of lists (which can be visualised as a matrix) of size m*n, that is m sublists (rows), with each sublists having n integers (columns). The matrix should be such that it should have 1 on the border and 0 everywhere else. See sample input and output for more clarification.\n",
    "\n",
    "----------------------------------------------------------------------\n",
    "Input:\n",
    "Two integers separated by a space\n",
    "\n",
    "Output:\n",
    "A list of lists of size m*n printed like matrix as shown in the sample output.\n",
    "\n",
    "----------------------------------------------------------------------\n",
    "Sample input:\n",
    "4,5\n",
    "\n",
    "Sample output:\n",
    "\n",
    "[1, 1, 1, 1, 1]\n",
    "\n",
    "[1, 0, 0, 0, 1]\n",
    "\n",
    "[1, 0, 0, 0, 1]\n",
    "\n",
    "[1, 1, 1, 1, 1]\n",
    "\n",
    "----------------------------------------------------------------------\n",
    "Sample input:\n",
    "3,3\n",
    "\n",
    "Sample output:\n",
    "\n",
    "[1, 1, 1]\n",
    "\n",
    "[1, 0, 1]\n",
    "\n",
    "[1, 1, 1]\n",
    "\n",
    "----------------------------------------------------------------------\n",
    "Sample input:\n",
    "3,2\n",
    "\n",
    "Sample output:\n",
    "\n",
    "[1, 1]\n",
    "\n",
    "[1, 1]\n",
    "\n",
    "[1, 1]\n"
   ]
  },
  {
   "cell_type": "code",
   "execution_count": null,
   "metadata": {
    "colab": {
     "base_uri": "https://localhost:8080/"
    },
    "executionInfo": {
     "elapsed": 7025,
     "status": "ok",
     "timestamp": 1660478535605,
     "user": {
      "displayName": "Eshan Tiwari",
      "userId": "08888152677302974738"
     },
     "user_tz": -330
    },
    "id": "RSiTGjDDI-7m",
    "outputId": "da501f60-667d-4f30-e027-0bc2a09d0304"
   },
   "outputs": [],
   "source": []
  },
  {
   "cell_type": "markdown",
   "metadata": {
    "id": "RV0yPJG-PGZM"
   },
   "source": [
    "**Question-6:**\n",
    "\n",
    "Write a Python program to divide a given list into chunks of size k.\n",
    "\n",
    "The number of elements in the list need not to be divisible by k.\n",
    "For example, if you want to divide the list [1,2,3,4,5,6,7] into chunk size k=4, then the first chunk will be [1,2,3,4] and the second one will have [5,6,7]. i.e. the last chunk need not have k elements.\n",
    "The input will have two lines, the first line would have the list and the second line would have the value of k.(the code for taking input has already been written, you should not change that)\n",
    "The final output should have the list chunks in different lines.\n",
    "\n",
    "Sample Input:\n",
    "\n",
    "[[1,2,3,4,5,6,7,8,9], 3]\n",
    "\n",
    "Sample Output:\n",
    "\n",
    "[1, 2, 3]\n",
    "[4, 5, 6]\n",
    "[7, 8, 9]"
   ]
  },
  {
   "cell_type": "code",
   "execution_count": null,
   "metadata": {
    "colab": {
     "base_uri": "https://localhost:8080/"
    },
    "executionInfo": {
     "elapsed": 8268,
     "status": "ok",
     "timestamp": 1660478783815,
     "user": {
      "displayName": "Eshan Tiwari",
      "userId": "08888152677302974738"
     },
     "user_tz": -330
    },
    "id": "rwVyMmqoPOJ3",
    "outputId": "268cc120-90af-435d-97df-cd4dd46c1e14"
   },
   "outputs": [],
   "source": []
  },
  {
   "cell_type": "markdown",
   "metadata": {
    "id": "I2uR6LFqQs6W"
   },
   "source": [
    "**Question - 7**\n",
    "\n",
    "Given a list of numbers, find the second largest number in the list.\n",
    "\n",
    "Note: There might be repeated numbers in the list. If there is only one number present in the list, return 'not present'.\n",
    "\n",
    "Examples:\n",
    "\n",
    "Input 1:\n",
    "\n",
    "[7, 2, 0, 9, -1, 8]\n",
    "\n",
    "Output 1:\n",
    "\n",
    "8\n",
    "\n",
    "Input 2:\n",
    "\n",
    "[3, 1, 4, 4, 5, 5, 5, 0, 2, 2]\n",
    "\n",
    "Output 2:\n",
    "\n",
    "4\n",
    "\n",
    "Input 2:\n",
    "\n",
    "[6, 6, 6, 6, 6]\n",
    "\n",
    "Output 2:\n",
    "\n",
    "not present"
   ]
  },
  {
   "cell_type": "code",
   "execution_count": null,
   "metadata": {
    "colab": {
     "base_uri": "https://localhost:8080/"
    },
    "executionInfo": {
     "elapsed": 34294,
     "status": "ok",
     "timestamp": 1660479122156,
     "user": {
      "displayName": "Eshan Tiwari",
      "userId": "08888152677302974738"
     },
     "user_tz": -330
    },
    "id": "to7W1H3eQ-ea",
    "outputId": "73d7407e-21f5-4755-ef1c-f6cd0d92846c"
   },
   "outputs": [],
   "source": []
  },
  {
   "cell_type": "markdown",
   "metadata": {
    "id": "ChlXvIQZRVjW"
   },
   "source": [
    "**Question - 8**\n",
    "\n",
    "Given a positive integer n. Print the pattern as shown in sample outputs.\n",
    "\n",
    "A code has already been provided. You have to understand the logic of the code on your own and try and make changes to the code so that it gives correct output.\n",
    "\n",
    "\n",
    "\n",
    "Input: A positive integer n\n",
    "\n",
    "1<= n <=9\n",
    "\n",
    "\n",
    "\n",
    "Output: Pattern as shown in examples below\n",
    "\n",
    "\n",
    "\n",
    "\n",
    "\n",
    "Sample input:\n",
    "\n",
    "4\n",
    "\n",
    "\n",
    "\n",
    "Sample output:\n",
    "\n",
    "4444444\n",
    "\n",
    "4333334\n",
    "\n",
    "4322234\n",
    "\n",
    "4321234\n",
    "\n",
    "4322234\n",
    "\n",
    "4333334\n",
    "\n",
    "4444444\n",
    "\n",
    "\n",
    "\n",
    "Sample input:\n",
    "\n",
    "5\n",
    "\n"
   ]
  },
  {
   "cell_type": "code",
   "execution_count": null,
   "metadata": {
    "colab": {
     "base_uri": "https://localhost:8080/"
    },
    "executionInfo": {
     "elapsed": 8154,
     "status": "ok",
     "timestamp": 1660479220918,
     "user": {
      "displayName": "Eshan Tiwari",
      "userId": "08888152677302974738"
     },
     "user_tz": -330
    },
    "id": "cvxUytsgRcw_",
    "outputId": "bcfed65f-ed56-440f-b7c9-536fad9d9d9a"
   },
   "outputs": [],
   "source": []
  },
  {
   "cell_type": "markdown",
   "metadata": {
    "id": "O8efzrIFApNd"
   },
   "source": [
    "**Question-9**\n",
    "\n",
    "Write a code to get the first element from each nested list of a list\n",
    "\n",
    "Input:\n",
    "\n",
    "[[15, 78, 4],['C#',80,7],['Go','Rust','C++'],['Python',12]]\n",
    "\n",
    "\n",
    "Output:\n",
    "\n",
    "[15, 'C#', 'Go', 'Python']\n"
   ]
  },
  {
   "cell_type": "code",
   "execution_count": null,
   "metadata": {
    "colab": {
     "base_uri": "https://localhost:8080/"
    },
    "executionInfo": {
     "elapsed": 5950,
     "status": "ok",
     "timestamp": 1660509063980,
     "user": {
      "displayName": "Eshan Tiwari",
      "userId": "08888152677302974738"
     },
     "user_tz": -330
    },
    "id": "xCLIWRopAzmQ",
    "outputId": "641dc1b9-8b1c-4b55-a8e5-ed8ea9ee0b9d"
   },
   "outputs": [],
   "source": []
  },
  {
   "cell_type": "markdown",
   "metadata": {
    "id": "MIwCRdtxfMWr"
   },
   "source": [
    "**Question-10:**\n",
    "\n",
    "Return a set of elements present in Set A or B, but not both\n",
    "\n",
    "\n",
    "Input: \n",
    "\n",
    "setA = {10, 20, 30, 40, 50}\n",
    "\n",
    "setB = {30, 40, 50, 60, 70}\n",
    "\n",
    "\n",
    "Ouput:\n",
    "\n",
    "{20, 70, 10, 60}"
   ]
  },
  {
   "cell_type": "code",
   "execution_count": null,
   "metadata": {
    "colab": {
     "base_uri": "https://localhost:8080/"
    },
    "executionInfo": {
     "elapsed": 11923,
     "status": "ok",
     "timestamp": 1661942634622,
     "user": {
      "displayName": "Eshan Tiwari",
      "userId": "08888152677302974738"
     },
     "user_tz": -330
    },
    "id": "qRauPdd5fcHt",
    "outputId": "828418fa-1957-401e-e058-1ae9297123f7"
   },
   "outputs": [],
   "source": []
  },
  {
   "cell_type": "markdown",
   "metadata": {
    "id": "dNIY2sUy5ZX2"
   },
   "source": []
  }
 ],
 "metadata": {
  "colab": {
   "provenance": [
    {
     "file_id": "182wbsNkYuO6Z7IE07o-QMj0aZTpCvxoy",
     "timestamp": 1662104678897
    }
   ]
  },
  "kernelspec": {
   "display_name": "Python 3 (ipykernel)",
   "language": "python",
   "name": "python3"
  },
  "language_info": {
   "codemirror_mode": {
    "name": "ipython",
    "version": 3
   },
   "file_extension": ".py",
   "mimetype": "text/x-python",
   "name": "python",
   "nbconvert_exporter": "python",
   "pygments_lexer": "ipython3",
   "version": "3.11.2"
  },
  "vscode": {
   "interpreter": {
    "hash": "fbe58ca63fe33f9eeae9e71d10368d2b4a57f2b1b395836210cc60d362c66949"
   }
  }
 },
 "nbformat": 4,
 "nbformat_minor": 1
}
