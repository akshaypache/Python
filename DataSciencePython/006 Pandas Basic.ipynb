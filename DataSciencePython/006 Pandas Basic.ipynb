{
 "cells": [
  {
   "cell_type": "code",
   "execution_count": 1,
   "metadata": {
    "id": "atRe45vOjiuT"
   },
   "outputs": [],
   "source": [
    "import numpy as np\n",
    "import pandas as pd"
   ]
  },
  {
   "cell_type": "markdown",
   "metadata": {
    "id": "KvEu1-XPylsQ"
   },
   "source": [
    "### Merge vs JOIN"
   ]
  },
  {
   "cell_type": "markdown",
   "metadata": {
    "id": "6LU5iLPDQPXd"
   },
   "source": [
    "#### JOIN"
   ]
  },
  {
   "cell_type": "code",
   "execution_count": 48,
   "metadata": {
    "colab": {
     "base_uri": "https://localhost:8080/",
     "height": 175
    },
    "executionInfo": {
     "elapsed": 52,
     "status": "ok",
     "timestamp": 1663167136888,
     "user": {
      "displayName": "Yogesh Kothiya",
      "userId": "16013917111822092306"
     },
     "user_tz": -330
    },
    "id": "0XrbHP_UylZP",
    "outputId": "7fe3abf2-19d2-4bb1-f8e4-2a19ffb5c53f"
   },
   "outputs": [
    {
     "data": {
      "text/html": [
       "<div>\n",
       "<style scoped>\n",
       "    .dataframe tbody tr th:only-of-type {\n",
       "        vertical-align: middle;\n",
       "    }\n",
       "\n",
       "    .dataframe tbody tr th {\n",
       "        vertical-align: top;\n",
       "    }\n",
       "\n",
       "    .dataframe thead th {\n",
       "        text-align: right;\n",
       "    }\n",
       "</style>\n",
       "<table border=\"1\" class=\"dataframe\">\n",
       "  <thead>\n",
       "    <tr style=\"text-align: right;\">\n",
       "      <th></th>\n",
       "      <th>Courses</th>\n",
       "      <th>Fee</th>\n",
       "      <th>Duration</th>\n",
       "    </tr>\n",
       "  </thead>\n",
       "  <tbody>\n",
       "    <tr>\n",
       "      <th>r1</th>\n",
       "      <td>Spark</td>\n",
       "      <td>20000</td>\n",
       "      <td>30days</td>\n",
       "    </tr>\n",
       "    <tr>\n",
       "      <th>r2</th>\n",
       "      <td>PySpark</td>\n",
       "      <td>25000</td>\n",
       "      <td>40days</td>\n",
       "    </tr>\n",
       "    <tr>\n",
       "      <th>r3</th>\n",
       "      <td>C++</td>\n",
       "      <td>22000</td>\n",
       "      <td>35days</td>\n",
       "    </tr>\n",
       "    <tr>\n",
       "      <th>r4</th>\n",
       "      <td>Assembly language</td>\n",
       "      <td>30000</td>\n",
       "      <td>50days</td>\n",
       "    </tr>\n",
       "  </tbody>\n",
       "</table>\n",
       "</div>"
      ],
      "text/plain": [
       "              Courses    Fee Duration\n",
       "r1              Spark  20000   30days\n",
       "r2            PySpark  25000   40days\n",
       "r3                C++  22000   35days\n",
       "r4  Assembly language  30000   50days"
      ]
     },
     "execution_count": 48,
     "metadata": {},
     "output_type": "execute_result"
    }
   ],
   "source": [
    "## Creating an Dataframe for technology course\n",
    "technologies = {\n",
    "    'Courses':[\"Spark\",\"PySpark\",\"C++\",\"Assembly language\"],\n",
    "    'Fee' :[20000,25000,22000,30000],\n",
    "    'Duration':['30days','40days','35days','50days'],\n",
    "              }\n",
    "index_labels=['r1','r2','r3','r4']\n",
    "df1 = pd.DataFrame(technologies,index=index_labels)\n",
    "\n",
    "\n",
    "df1"
   ]
  },
  {
   "cell_type": "code",
   "execution_count": 49,
   "metadata": {
    "colab": {
     "base_uri": "https://localhost:8080/",
     "height": 175
    },
    "executionInfo": {
     "elapsed": 49,
     "status": "ok",
     "timestamp": 1663167136889,
     "user": {
      "displayName": "Yogesh Kothiya",
      "userId": "16013917111822092306"
     },
     "user_tz": -330
    },
    "id": "Un56JuBRywId",
    "outputId": "98aae72e-4c48-40d7-afb8-a96900d5ad44"
   },
   "outputs": [
    {
     "data": {
      "text/html": [
       "<div>\n",
       "<style scoped>\n",
       "    .dataframe tbody tr th:only-of-type {\n",
       "        vertical-align: middle;\n",
       "    }\n",
       "\n",
       "    .dataframe tbody tr th {\n",
       "        vertical-align: top;\n",
       "    }\n",
       "\n",
       "    .dataframe thead th {\n",
       "        text-align: right;\n",
       "    }\n",
       "</style>\n",
       "<table border=\"1\" class=\"dataframe\">\n",
       "  <thead>\n",
       "    <tr style=\"text-align: right;\">\n",
       "      <th></th>\n",
       "      <th>Courses</th>\n",
       "      <th>Discount</th>\n",
       "    </tr>\n",
       "  </thead>\n",
       "  <tbody>\n",
       "    <tr>\n",
       "      <th>r1</th>\n",
       "      <td>Spark</td>\n",
       "      <td>2000</td>\n",
       "    </tr>\n",
       "    <tr>\n",
       "      <th>r6</th>\n",
       "      <td>Java</td>\n",
       "      <td>2300</td>\n",
       "    </tr>\n",
       "    <tr>\n",
       "      <th>r3</th>\n",
       "      <td>C++</td>\n",
       "      <td>1200</td>\n",
       "    </tr>\n",
       "    <tr>\n",
       "      <th>r5</th>\n",
       "      <td>Go</td>\n",
       "      <td>2000</td>\n",
       "    </tr>\n",
       "  </tbody>\n",
       "</table>\n",
       "</div>"
      ],
      "text/plain": [
       "   Courses  Discount\n",
       "r1   Spark      2000\n",
       "r6    Java      2300\n",
       "r3     C++      1200\n",
       "r5      Go      2000"
      ]
     },
     "execution_count": 49,
     "metadata": {},
     "output_type": "execute_result"
    }
   ],
   "source": [
    "## Creating an Dataframe for technology course\n",
    "\n",
    "technologies2 = {\n",
    "    'Courses':[\"Spark\",\"Java\",\"C++\",\"Go\"],\n",
    "    'Discount':[2000,2300,1200,2000]\n",
    "              }\n",
    "index_labels2=['r1','r6','r3','r5']\n",
    "df2 = pd.DataFrame(technologies2,index=index_labels2)\n",
    "\n",
    "df2"
   ]
  },
  {
   "cell_type": "markdown",
   "metadata": {
    "id": "I5LiEuwk8PGU"
   },
   "source": [
    "```\n",
    "DataFrame.join(other, on=None, how='left', lsuffix='', rsuffix='', sort=False)\n",
    "```\n",
    "\n",
    "By default, `.join()` will attempt to do a left join on indices. \n",
    "\n",
    "* **other** is the only required parameter. It defines the other DataFrame to join. You can also specify a list of DataFrames here, allowing you to combine a number of datasets in a single .join() call.\n",
    "\n",
    "* **on** specifies an optional column or index name for the left DataFrame to join the other DataFrame’s index. If it’s set to None, which is the default, then you’ll get an index-on-index join.\n",
    "\n",
    "* **how** has the same options as how from merge(). The difference is that it’s index-based unless you also specify columns with on.\n",
    "\n",
    "* **lsuffix** and **rsuffix** are similar to suffixes in merge(). They specify a suffix to add to any overlapping columns but have no effect when passing a list of other DataFrames.\n",
    "\n",
    "* **sort** can be enabled to sort the resulting DataFrame by the join key."
   ]
  },
  {
   "cell_type": "code",
   "execution_count": 4,
   "metadata": {
    "colab": {
     "base_uri": "https://localhost:8080/",
     "height": 175
    },
    "executionInfo": {
     "elapsed": 48,
     "status": "ok",
     "timestamp": 1663167136890,
     "user": {
      "displayName": "Yogesh Kothiya",
      "userId": "16013917111822092306"
     },
     "user_tz": -330
    },
    "id": "LCzwnXTDAdMU",
    "outputId": "b4efd4ae-067d-40c0-9229-8606d70a244d"
   },
   "outputs": [
    {
     "data": {
      "text/html": [
       "<div>\n",
       "<style scoped>\n",
       "    .dataframe tbody tr th:only-of-type {\n",
       "        vertical-align: middle;\n",
       "    }\n",
       "\n",
       "    .dataframe tbody tr th {\n",
       "        vertical-align: top;\n",
       "    }\n",
       "\n",
       "    .dataframe thead th {\n",
       "        text-align: right;\n",
       "    }\n",
       "</style>\n",
       "<table border=\"1\" class=\"dataframe\">\n",
       "  <thead>\n",
       "    <tr style=\"text-align: right;\">\n",
       "      <th></th>\n",
       "      <th>Courses_x</th>\n",
       "      <th>Fee</th>\n",
       "      <th>Duration</th>\n",
       "      <th>Courses_y</th>\n",
       "      <th>Discount</th>\n",
       "    </tr>\n",
       "  </thead>\n",
       "  <tbody>\n",
       "    <tr>\n",
       "      <th>r1</th>\n",
       "      <td>Spark</td>\n",
       "      <td>20000</td>\n",
       "      <td>30days</td>\n",
       "      <td>Spark</td>\n",
       "      <td>2000.0</td>\n",
       "    </tr>\n",
       "    <tr>\n",
       "      <th>r2</th>\n",
       "      <td>PySpark</td>\n",
       "      <td>25000</td>\n",
       "      <td>40days</td>\n",
       "      <td>NaN</td>\n",
       "      <td>NaN</td>\n",
       "    </tr>\n",
       "    <tr>\n",
       "      <th>r3</th>\n",
       "      <td>C++</td>\n",
       "      <td>22000</td>\n",
       "      <td>35days</td>\n",
       "      <td>C++</td>\n",
       "      <td>1200.0</td>\n",
       "    </tr>\n",
       "    <tr>\n",
       "      <th>r4</th>\n",
       "      <td>Assembly language</td>\n",
       "      <td>30000</td>\n",
       "      <td>50days</td>\n",
       "      <td>NaN</td>\n",
       "      <td>NaN</td>\n",
       "    </tr>\n",
       "  </tbody>\n",
       "</table>\n",
       "</div>"
      ],
      "text/plain": [
       "            Courses_x    Fee Duration Courses_y  Discount\n",
       "r1              Spark  20000   30days     Spark    2000.0\n",
       "r2            PySpark  25000   40days       NaN       NaN\n",
       "r3                C++  22000   35days       C++    1200.0\n",
       "r4  Assembly language  30000   50days       NaN       NaN"
      ]
     },
     "execution_count": 4,
     "metadata": {},
     "output_type": "execute_result"
    }
   ],
   "source": [
    "# Pandas left join two DataFrames by Index\n",
    "# Here other parameter takes df2\n",
    "# Default join is left\n",
    "df3=df1.join(df2, lsuffix=\"_x\", rsuffix=\"_y\")\n",
    "\n",
    "df3"
   ]
  },
  {
   "cell_type": "code",
   "execution_count": 5,
   "metadata": {
    "colab": {
     "base_uri": "https://localhost:8080/",
     "height": 175
    },
    "executionInfo": {
     "elapsed": 44,
     "status": "ok",
     "timestamp": 1663167136891,
     "user": {
      "displayName": "Yogesh Kothiya",
      "userId": "16013917111822092306"
     },
     "user_tz": -330
    },
    "id": "qBQw5A8-zLMs",
    "outputId": "5888711b-f2e0-451d-af75-b139d355265c"
   },
   "outputs": [
    {
     "data": {
      "text/html": [
       "<div>\n",
       "<style scoped>\n",
       "    .dataframe tbody tr th:only-of-type {\n",
       "        vertical-align: middle;\n",
       "    }\n",
       "\n",
       "    .dataframe tbody tr th {\n",
       "        vertical-align: top;\n",
       "    }\n",
       "\n",
       "    .dataframe thead th {\n",
       "        text-align: right;\n",
       "    }\n",
       "</style>\n",
       "<table border=\"1\" class=\"dataframe\">\n",
       "  <thead>\n",
       "    <tr style=\"text-align: right;\">\n",
       "      <th></th>\n",
       "      <th>Courses_x</th>\n",
       "      <th>Fee</th>\n",
       "      <th>Duration</th>\n",
       "      <th>Courses_y</th>\n",
       "      <th>Discount</th>\n",
       "    </tr>\n",
       "  </thead>\n",
       "  <tbody>\n",
       "    <tr>\n",
       "      <th>r1</th>\n",
       "      <td>Spark</td>\n",
       "      <td>20000</td>\n",
       "      <td>30days</td>\n",
       "      <td>Spark</td>\n",
       "      <td>2000.0</td>\n",
       "    </tr>\n",
       "    <tr>\n",
       "      <th>r2</th>\n",
       "      <td>PySpark</td>\n",
       "      <td>25000</td>\n",
       "      <td>40days</td>\n",
       "      <td>NaN</td>\n",
       "      <td>NaN</td>\n",
       "    </tr>\n",
       "    <tr>\n",
       "      <th>r3</th>\n",
       "      <td>C++</td>\n",
       "      <td>22000</td>\n",
       "      <td>35days</td>\n",
       "      <td>C++</td>\n",
       "      <td>1200.0</td>\n",
       "    </tr>\n",
       "    <tr>\n",
       "      <th>r4</th>\n",
       "      <td>Assembly language</td>\n",
       "      <td>30000</td>\n",
       "      <td>50days</td>\n",
       "      <td>NaN</td>\n",
       "      <td>NaN</td>\n",
       "    </tr>\n",
       "  </tbody>\n",
       "</table>\n",
       "</div>"
      ],
      "text/plain": [
       "            Courses_x    Fee Duration Courses_y  Discount\n",
       "r1              Spark  20000   30days     Spark    2000.0\n",
       "r2            PySpark  25000   40days       NaN       NaN\n",
       "r3                C++  22000   35days       C++    1200.0\n",
       "r4  Assembly language  30000   50days       NaN       NaN"
      ]
     },
     "execution_count": 5,
     "metadata": {},
     "output_type": "execute_result"
    }
   ],
   "source": [
    "# Pandas left join two DataFrames by Index\n",
    "df3=df1.join(df2, lsuffix=\"_x\", rsuffix=\"_y\", how='left')\n",
    "\n",
    "df3"
   ]
  },
  {
   "cell_type": "code",
   "execution_count": 6,
   "metadata": {
    "colab": {
     "base_uri": "https://localhost:8080/",
     "height": 112
    },
    "executionInfo": {
     "elapsed": 43,
     "status": "ok",
     "timestamp": 1663167136892,
     "user": {
      "displayName": "Yogesh Kothiya",
      "userId": "16013917111822092306"
     },
     "user_tz": -330
    },
    "id": "n1YHqnOpAXxD",
    "outputId": "5163f198-aa00-49db-e59c-6abfb86c5d19"
   },
   "outputs": [
    {
     "data": {
      "text/html": [
       "<div>\n",
       "<style scoped>\n",
       "    .dataframe tbody tr th:only-of-type {\n",
       "        vertical-align: middle;\n",
       "    }\n",
       "\n",
       "    .dataframe tbody tr th {\n",
       "        vertical-align: top;\n",
       "    }\n",
       "\n",
       "    .dataframe thead th {\n",
       "        text-align: right;\n",
       "    }\n",
       "</style>\n",
       "<table border=\"1\" class=\"dataframe\">\n",
       "  <thead>\n",
       "    <tr style=\"text-align: right;\">\n",
       "      <th></th>\n",
       "      <th>Courses_x</th>\n",
       "      <th>Fee</th>\n",
       "      <th>Duration</th>\n",
       "      <th>Courses_y</th>\n",
       "      <th>Discount</th>\n",
       "    </tr>\n",
       "  </thead>\n",
       "  <tbody>\n",
       "    <tr>\n",
       "      <th>r1</th>\n",
       "      <td>Spark</td>\n",
       "      <td>20000</td>\n",
       "      <td>30days</td>\n",
       "      <td>Spark</td>\n",
       "      <td>2000</td>\n",
       "    </tr>\n",
       "    <tr>\n",
       "      <th>r3</th>\n",
       "      <td>C++</td>\n",
       "      <td>22000</td>\n",
       "      <td>35days</td>\n",
       "      <td>C++</td>\n",
       "      <td>1200</td>\n",
       "    </tr>\n",
       "  </tbody>\n",
       "</table>\n",
       "</div>"
      ],
      "text/plain": [
       "   Courses_x    Fee Duration Courses_y  Discount\n",
       "r1     Spark  20000   30days     Spark      2000\n",
       "r3       C++  22000   35days       C++      1200"
      ]
     },
     "execution_count": 6,
     "metadata": {},
     "output_type": "execute_result"
    }
   ],
   "source": [
    "# Pandas left join two DataFrames by Index\n",
    "# Here other parameter takes df2\n",
    "# Joining both dataframe based on inner join\n",
    "df3=df1.join(df2, lsuffix=\"_x\", rsuffix=\"_y\", how='inner')\n",
    "\n",
    "df3"
   ]
  },
  {
   "cell_type": "code",
   "execution_count": 7,
   "metadata": {
    "colab": {
     "base_uri": "https://localhost:8080/",
     "height": 175
    },
    "executionInfo": {
     "elapsed": 42,
     "status": "ok",
     "timestamp": 1663167136893,
     "user": {
      "displayName": "Yogesh Kothiya",
      "userId": "16013917111822092306"
     },
     "user_tz": -330
    },
    "id": "2loG5qobB5Qq",
    "outputId": "cbb8bdc2-64f7-4249-ee2e-f8ad0ebc2b7d"
   },
   "outputs": [
    {
     "data": {
      "text/html": [
       "<div>\n",
       "<style scoped>\n",
       "    .dataframe tbody tr th:only-of-type {\n",
       "        vertical-align: middle;\n",
       "    }\n",
       "\n",
       "    .dataframe tbody tr th {\n",
       "        vertical-align: top;\n",
       "    }\n",
       "\n",
       "    .dataframe thead th {\n",
       "        text-align: right;\n",
       "    }\n",
       "</style>\n",
       "<table border=\"1\" class=\"dataframe\">\n",
       "  <thead>\n",
       "    <tr style=\"text-align: right;\">\n",
       "      <th></th>\n",
       "      <th>Courses_x</th>\n",
       "      <th>Fee</th>\n",
       "      <th>Duration</th>\n",
       "      <th>Courses_y</th>\n",
       "      <th>Discount</th>\n",
       "    </tr>\n",
       "  </thead>\n",
       "  <tbody>\n",
       "    <tr>\n",
       "      <th>r1</th>\n",
       "      <td>Spark</td>\n",
       "      <td>20000.0</td>\n",
       "      <td>30days</td>\n",
       "      <td>Spark</td>\n",
       "      <td>2000</td>\n",
       "    </tr>\n",
       "    <tr>\n",
       "      <th>r6</th>\n",
       "      <td>NaN</td>\n",
       "      <td>NaN</td>\n",
       "      <td>NaN</td>\n",
       "      <td>Java</td>\n",
       "      <td>2300</td>\n",
       "    </tr>\n",
       "    <tr>\n",
       "      <th>r3</th>\n",
       "      <td>C++</td>\n",
       "      <td>22000.0</td>\n",
       "      <td>35days</td>\n",
       "      <td>C++</td>\n",
       "      <td>1200</td>\n",
       "    </tr>\n",
       "    <tr>\n",
       "      <th>r5</th>\n",
       "      <td>NaN</td>\n",
       "      <td>NaN</td>\n",
       "      <td>NaN</td>\n",
       "      <td>Go</td>\n",
       "      <td>2000</td>\n",
       "    </tr>\n",
       "  </tbody>\n",
       "</table>\n",
       "</div>"
      ],
      "text/plain": [
       "   Courses_x      Fee Duration Courses_y  Discount\n",
       "r1     Spark  20000.0   30days     Spark      2000\n",
       "r6       NaN      NaN      NaN      Java      2300\n",
       "r3       C++  22000.0   35days       C++      1200\n",
       "r5       NaN      NaN      NaN        Go      2000"
      ]
     },
     "execution_count": 7,
     "metadata": {},
     "output_type": "execute_result"
    }
   ],
   "source": [
    "# Pandas left join two DataFrames by Index\n",
    "# Here other parameter takes df2\n",
    "# Joining both dataframe based on right join\n",
    "df3=df1.join(df2, lsuffix=\"_x\", rsuffix=\"_y\", how='right')\n",
    "\n",
    "df3"
   ]
  },
  {
   "cell_type": "code",
   "execution_count": 8,
   "metadata": {
    "colab": {
     "base_uri": "https://localhost:8080/",
     "height": 238
    },
    "executionInfo": {
     "elapsed": 39,
     "status": "ok",
     "timestamp": 1663167136894,
     "user": {
      "displayName": "Yogesh Kothiya",
      "userId": "16013917111822092306"
     },
     "user_tz": -330
    },
    "id": "Q8uNpXuoCsOl",
    "outputId": "50f53e95-c4f1-4e71-bc63-70cadaf67f65"
   },
   "outputs": [
    {
     "data": {
      "text/html": [
       "<div>\n",
       "<style scoped>\n",
       "    .dataframe tbody tr th:only-of-type {\n",
       "        vertical-align: middle;\n",
       "    }\n",
       "\n",
       "    .dataframe tbody tr th {\n",
       "        vertical-align: top;\n",
       "    }\n",
       "\n",
       "    .dataframe thead th {\n",
       "        text-align: right;\n",
       "    }\n",
       "</style>\n",
       "<table border=\"1\" class=\"dataframe\">\n",
       "  <thead>\n",
       "    <tr style=\"text-align: right;\">\n",
       "      <th></th>\n",
       "      <th>Courses_x</th>\n",
       "      <th>Fee</th>\n",
       "      <th>Duration</th>\n",
       "      <th>Courses_y</th>\n",
       "      <th>Discount</th>\n",
       "    </tr>\n",
       "  </thead>\n",
       "  <tbody>\n",
       "    <tr>\n",
       "      <th>r1</th>\n",
       "      <td>Spark</td>\n",
       "      <td>20000.0</td>\n",
       "      <td>30days</td>\n",
       "      <td>Spark</td>\n",
       "      <td>2000.0</td>\n",
       "    </tr>\n",
       "    <tr>\n",
       "      <th>r2</th>\n",
       "      <td>PySpark</td>\n",
       "      <td>25000.0</td>\n",
       "      <td>40days</td>\n",
       "      <td>NaN</td>\n",
       "      <td>NaN</td>\n",
       "    </tr>\n",
       "    <tr>\n",
       "      <th>r3</th>\n",
       "      <td>C++</td>\n",
       "      <td>22000.0</td>\n",
       "      <td>35days</td>\n",
       "      <td>C++</td>\n",
       "      <td>1200.0</td>\n",
       "    </tr>\n",
       "    <tr>\n",
       "      <th>r4</th>\n",
       "      <td>Assembly language</td>\n",
       "      <td>30000.0</td>\n",
       "      <td>50days</td>\n",
       "      <td>NaN</td>\n",
       "      <td>NaN</td>\n",
       "    </tr>\n",
       "    <tr>\n",
       "      <th>r5</th>\n",
       "      <td>NaN</td>\n",
       "      <td>NaN</td>\n",
       "      <td>NaN</td>\n",
       "      <td>Go</td>\n",
       "      <td>2000.0</td>\n",
       "    </tr>\n",
       "    <tr>\n",
       "      <th>r6</th>\n",
       "      <td>NaN</td>\n",
       "      <td>NaN</td>\n",
       "      <td>NaN</td>\n",
       "      <td>Java</td>\n",
       "      <td>2300.0</td>\n",
       "    </tr>\n",
       "  </tbody>\n",
       "</table>\n",
       "</div>"
      ],
      "text/plain": [
       "            Courses_x      Fee Duration Courses_y  Discount\n",
       "r1              Spark  20000.0   30days     Spark    2000.0\n",
       "r2            PySpark  25000.0   40days       NaN       NaN\n",
       "r3                C++  22000.0   35days       C++    1200.0\n",
       "r4  Assembly language  30000.0   50days       NaN       NaN\n",
       "r5                NaN      NaN      NaN        Go    2000.0\n",
       "r6                NaN      NaN      NaN      Java    2300.0"
      ]
     },
     "execution_count": 8,
     "metadata": {},
     "output_type": "execute_result"
    }
   ],
   "source": [
    "# Pandas left join two DataFrames by Index\n",
    "# Here other parameter takes df2\n",
    "# Joining both dataframe based on outer join\n",
    "df3=df1.join(df2, lsuffix=\"_x\", rsuffix=\"_y\", how='outer')\n",
    "\n",
    "df3"
   ]
  },
  {
   "cell_type": "code",
   "execution_count": 9,
   "metadata": {
    "colab": {
     "base_uri": "https://localhost:8080/",
     "height": 551
    },
    "executionInfo": {
     "elapsed": 503,
     "status": "ok",
     "timestamp": 1663167137360,
     "user": {
      "displayName": "Yogesh Kothiya",
      "userId": "16013917111822092306"
     },
     "user_tz": -330
    },
    "id": "pWw0epsmDRiE",
    "outputId": "624d9801-59cd-49a5-ce2d-97171ab8756d"
   },
   "outputs": [
    {
     "data": {
      "text/html": [
       "<div>\n",
       "<style scoped>\n",
       "    .dataframe tbody tr th:only-of-type {\n",
       "        vertical-align: middle;\n",
       "    }\n",
       "\n",
       "    .dataframe tbody tr th {\n",
       "        vertical-align: top;\n",
       "    }\n",
       "\n",
       "    .dataframe thead th {\n",
       "        text-align: right;\n",
       "    }\n",
       "</style>\n",
       "<table border=\"1\" class=\"dataframe\">\n",
       "  <thead>\n",
       "    <tr style=\"text-align: right;\">\n",
       "      <th></th>\n",
       "      <th>Courses_x</th>\n",
       "      <th>Fee</th>\n",
       "      <th>Duration</th>\n",
       "      <th>Courses_y</th>\n",
       "      <th>Discount</th>\n",
       "    </tr>\n",
       "  </thead>\n",
       "  <tbody>\n",
       "    <tr>\n",
       "      <th>0</th>\n",
       "      <td>Spark</td>\n",
       "      <td>20000</td>\n",
       "      <td>30days</td>\n",
       "      <td>Spark</td>\n",
       "      <td>2000</td>\n",
       "    </tr>\n",
       "    <tr>\n",
       "      <th>1</th>\n",
       "      <td>Spark</td>\n",
       "      <td>20000</td>\n",
       "      <td>30days</td>\n",
       "      <td>Java</td>\n",
       "      <td>2300</td>\n",
       "    </tr>\n",
       "    <tr>\n",
       "      <th>2</th>\n",
       "      <td>Spark</td>\n",
       "      <td>20000</td>\n",
       "      <td>30days</td>\n",
       "      <td>C++</td>\n",
       "      <td>1200</td>\n",
       "    </tr>\n",
       "    <tr>\n",
       "      <th>3</th>\n",
       "      <td>Spark</td>\n",
       "      <td>20000</td>\n",
       "      <td>30days</td>\n",
       "      <td>Go</td>\n",
       "      <td>2000</td>\n",
       "    </tr>\n",
       "    <tr>\n",
       "      <th>4</th>\n",
       "      <td>PySpark</td>\n",
       "      <td>25000</td>\n",
       "      <td>40days</td>\n",
       "      <td>Spark</td>\n",
       "      <td>2000</td>\n",
       "    </tr>\n",
       "    <tr>\n",
       "      <th>5</th>\n",
       "      <td>PySpark</td>\n",
       "      <td>25000</td>\n",
       "      <td>40days</td>\n",
       "      <td>Java</td>\n",
       "      <td>2300</td>\n",
       "    </tr>\n",
       "    <tr>\n",
       "      <th>6</th>\n",
       "      <td>PySpark</td>\n",
       "      <td>25000</td>\n",
       "      <td>40days</td>\n",
       "      <td>C++</td>\n",
       "      <td>1200</td>\n",
       "    </tr>\n",
       "    <tr>\n",
       "      <th>7</th>\n",
       "      <td>PySpark</td>\n",
       "      <td>25000</td>\n",
       "      <td>40days</td>\n",
       "      <td>Go</td>\n",
       "      <td>2000</td>\n",
       "    </tr>\n",
       "    <tr>\n",
       "      <th>8</th>\n",
       "      <td>C++</td>\n",
       "      <td>22000</td>\n",
       "      <td>35days</td>\n",
       "      <td>Spark</td>\n",
       "      <td>2000</td>\n",
       "    </tr>\n",
       "    <tr>\n",
       "      <th>9</th>\n",
       "      <td>C++</td>\n",
       "      <td>22000</td>\n",
       "      <td>35days</td>\n",
       "      <td>Java</td>\n",
       "      <td>2300</td>\n",
       "    </tr>\n",
       "    <tr>\n",
       "      <th>10</th>\n",
       "      <td>C++</td>\n",
       "      <td>22000</td>\n",
       "      <td>35days</td>\n",
       "      <td>C++</td>\n",
       "      <td>1200</td>\n",
       "    </tr>\n",
       "    <tr>\n",
       "      <th>11</th>\n",
       "      <td>C++</td>\n",
       "      <td>22000</td>\n",
       "      <td>35days</td>\n",
       "      <td>Go</td>\n",
       "      <td>2000</td>\n",
       "    </tr>\n",
       "    <tr>\n",
       "      <th>12</th>\n",
       "      <td>Assembly language</td>\n",
       "      <td>30000</td>\n",
       "      <td>50days</td>\n",
       "      <td>Spark</td>\n",
       "      <td>2000</td>\n",
       "    </tr>\n",
       "    <tr>\n",
       "      <th>13</th>\n",
       "      <td>Assembly language</td>\n",
       "      <td>30000</td>\n",
       "      <td>50days</td>\n",
       "      <td>Java</td>\n",
       "      <td>2300</td>\n",
       "    </tr>\n",
       "    <tr>\n",
       "      <th>14</th>\n",
       "      <td>Assembly language</td>\n",
       "      <td>30000</td>\n",
       "      <td>50days</td>\n",
       "      <td>C++</td>\n",
       "      <td>1200</td>\n",
       "    </tr>\n",
       "    <tr>\n",
       "      <th>15</th>\n",
       "      <td>Assembly language</td>\n",
       "      <td>30000</td>\n",
       "      <td>50days</td>\n",
       "      <td>Go</td>\n",
       "      <td>2000</td>\n",
       "    </tr>\n",
       "  </tbody>\n",
       "</table>\n",
       "</div>"
      ],
      "text/plain": [
       "            Courses_x    Fee Duration Courses_y  Discount\n",
       "0               Spark  20000   30days     Spark      2000\n",
       "1               Spark  20000   30days      Java      2300\n",
       "2               Spark  20000   30days       C++      1200\n",
       "3               Spark  20000   30days        Go      2000\n",
       "4             PySpark  25000   40days     Spark      2000\n",
       "5             PySpark  25000   40days      Java      2300\n",
       "6             PySpark  25000   40days       C++      1200\n",
       "7             PySpark  25000   40days        Go      2000\n",
       "8                 C++  22000   35days     Spark      2000\n",
       "9                 C++  22000   35days      Java      2300\n",
       "10                C++  22000   35days       C++      1200\n",
       "11                C++  22000   35days        Go      2000\n",
       "12  Assembly language  30000   50days     Spark      2000\n",
       "13  Assembly language  30000   50days      Java      2300\n",
       "14  Assembly language  30000   50days       C++      1200\n",
       "15  Assembly language  30000   50days        Go      2000"
      ]
     },
     "execution_count": 9,
     "metadata": {},
     "output_type": "execute_result"
    }
   ],
   "source": [
    "# Pandas left join two DataFrames by Index\n",
    "# Here other parameter takes df2\n",
    "# Joining both dataframe based on cross join\n",
    "df3=df1.join(df2, lsuffix=\"_x\", rsuffix=\"_y\", how='cross')\n",
    "\n",
    "df3"
   ]
  },
  {
   "cell_type": "code",
   "execution_count": 10,
   "metadata": {
    "colab": {
     "base_uri": "https://localhost:8080/",
     "height": 175
    },
    "executionInfo": {
     "elapsed": 195,
     "status": "ok",
     "timestamp": 1663167137362,
     "user": {
      "displayName": "Yogesh Kothiya",
      "userId": "16013917111822092306"
     },
     "user_tz": -330
    },
    "id": "mET-VvEfEumz",
    "outputId": "306299e5-0027-4997-daf2-42bec9edcacf"
   },
   "outputs": [
    {
     "data": {
      "text/html": [
       "<div>\n",
       "<style scoped>\n",
       "    .dataframe tbody tr th:only-of-type {\n",
       "        vertical-align: middle;\n",
       "    }\n",
       "\n",
       "    .dataframe tbody tr th {\n",
       "        vertical-align: top;\n",
       "    }\n",
       "\n",
       "    .dataframe thead th {\n",
       "        text-align: right;\n",
       "    }\n",
       "</style>\n",
       "<table border=\"1\" class=\"dataframe\">\n",
       "  <thead>\n",
       "    <tr style=\"text-align: right;\">\n",
       "      <th></th>\n",
       "      <th>Courses</th>\n",
       "      <th>Fee</th>\n",
       "      <th>Duration</th>\n",
       "      <th>Discount</th>\n",
       "    </tr>\n",
       "  </thead>\n",
       "  <tbody>\n",
       "    <tr>\n",
       "      <th>r1</th>\n",
       "      <td>Spark</td>\n",
       "      <td>20000</td>\n",
       "      <td>30days</td>\n",
       "      <td>2000.0</td>\n",
       "    </tr>\n",
       "    <tr>\n",
       "      <th>r2</th>\n",
       "      <td>PySpark</td>\n",
       "      <td>25000</td>\n",
       "      <td>40days</td>\n",
       "      <td>NaN</td>\n",
       "    </tr>\n",
       "    <tr>\n",
       "      <th>r3</th>\n",
       "      <td>C++</td>\n",
       "      <td>22000</td>\n",
       "      <td>35days</td>\n",
       "      <td>1200.0</td>\n",
       "    </tr>\n",
       "    <tr>\n",
       "      <th>r4</th>\n",
       "      <td>Assembly language</td>\n",
       "      <td>30000</td>\n",
       "      <td>50days</td>\n",
       "      <td>NaN</td>\n",
       "    </tr>\n",
       "  </tbody>\n",
       "</table>\n",
       "</div>"
      ],
      "text/plain": [
       "              Courses    Fee Duration  Discount\n",
       "r1              Spark  20000   30days    2000.0\n",
       "r2            PySpark  25000   40days       NaN\n",
       "r3                C++  22000   35days    1200.0\n",
       "r4  Assembly language  30000   50days       NaN"
      ]
     },
     "execution_count": 10,
     "metadata": {},
     "output_type": "execute_result"
    }
   ],
   "source": [
    "# Pandas left join two DataFrames by Index\n",
    "# Here other parameter takes df2\n",
    "# Default join is left\n",
    "# Using a \"on\" paramater to join two dataframe\n",
    "df3=df1.join(df2.set_index('Courses'), on = 'Courses', lsuffix=\"_x\", rsuffix=\"_y\")\n",
    "\n",
    "df3"
   ]
  },
  {
   "cell_type": "code",
   "execution_count": 11,
   "metadata": {
    "colab": {
     "base_uri": "https://localhost:8080/",
     "height": 175
    },
    "executionInfo": {
     "elapsed": 193,
     "status": "ok",
     "timestamp": 1663167137363,
     "user": {
      "displayName": "Yogesh Kothiya",
      "userId": "16013917111822092306"
     },
     "user_tz": -330
    },
    "id": "VBD8fUs5IM8W",
    "outputId": "59663c76-85fe-47de-abd7-128cc029096b"
   },
   "outputs": [
    {
     "data": {
      "text/html": [
       "<div>\n",
       "<style scoped>\n",
       "    .dataframe tbody tr th:only-of-type {\n",
       "        vertical-align: middle;\n",
       "    }\n",
       "\n",
       "    .dataframe tbody tr th {\n",
       "        vertical-align: top;\n",
       "    }\n",
       "\n",
       "    .dataframe thead th {\n",
       "        text-align: right;\n",
       "    }\n",
       "</style>\n",
       "<table border=\"1\" class=\"dataframe\">\n",
       "  <thead>\n",
       "    <tr style=\"text-align: right;\">\n",
       "      <th></th>\n",
       "      <th>Courses</th>\n",
       "      <th>Fee</th>\n",
       "      <th>Duration</th>\n",
       "      <th>Discount</th>\n",
       "    </tr>\n",
       "  </thead>\n",
       "  <tbody>\n",
       "    <tr>\n",
       "      <th>r4</th>\n",
       "      <td>Assembly language</td>\n",
       "      <td>30000</td>\n",
       "      <td>50days</td>\n",
       "      <td>NaN</td>\n",
       "    </tr>\n",
       "    <tr>\n",
       "      <th>r3</th>\n",
       "      <td>C++</td>\n",
       "      <td>22000</td>\n",
       "      <td>35days</td>\n",
       "      <td>1200.0</td>\n",
       "    </tr>\n",
       "    <tr>\n",
       "      <th>r2</th>\n",
       "      <td>PySpark</td>\n",
       "      <td>25000</td>\n",
       "      <td>40days</td>\n",
       "      <td>NaN</td>\n",
       "    </tr>\n",
       "    <tr>\n",
       "      <th>r1</th>\n",
       "      <td>Spark</td>\n",
       "      <td>20000</td>\n",
       "      <td>30days</td>\n",
       "      <td>2000.0</td>\n",
       "    </tr>\n",
       "  </tbody>\n",
       "</table>\n",
       "</div>"
      ],
      "text/plain": [
       "              Courses    Fee Duration  Discount\n",
       "r4  Assembly language  30000   50days       NaN\n",
       "r3                C++  22000   35days    1200.0\n",
       "r2            PySpark  25000   40days       NaN\n",
       "r1              Spark  20000   30days    2000.0"
      ]
     },
     "execution_count": 11,
     "metadata": {},
     "output_type": "execute_result"
    }
   ],
   "source": [
    "# Pandas left join two DataFrames by Index\n",
    "# Here other parameter takes df2\n",
    "# Joining both dataframe based on outer join\n",
    "df3=df1.join(df2.set_index('Courses'), on = 'Courses', lsuffix=\"_x\", rsuffix=\"_y\", sort=True)\n",
    "\n",
    "df3"
   ]
  },
  {
   "cell_type": "code",
   "execution_count": 31,
   "metadata": {},
   "outputs": [
    {
     "data": {
      "text/html": [
       "<div>\n",
       "<style scoped>\n",
       "    .dataframe tbody tr th:only-of-type {\n",
       "        vertical-align: middle;\n",
       "    }\n",
       "\n",
       "    .dataframe tbody tr th {\n",
       "        vertical-align: top;\n",
       "    }\n",
       "\n",
       "    .dataframe thead th {\n",
       "        text-align: right;\n",
       "    }\n",
       "</style>\n",
       "<table border=\"1\" class=\"dataframe\">\n",
       "  <thead>\n",
       "    <tr style=\"text-align: right;\">\n",
       "      <th></th>\n",
       "      <th>Brand</th>\n",
       "      <th>Model</th>\n",
       "      <th>Price</th>\n",
       "    </tr>\n",
       "  </thead>\n",
       "  <tbody>\n",
       "    <tr>\n",
       "      <th>1</th>\n",
       "      <td>Apple</td>\n",
       "      <td>Iphone 14</td>\n",
       "      <td>120000</td>\n",
       "    </tr>\n",
       "    <tr>\n",
       "      <th>2</th>\n",
       "      <td>Redmi</td>\n",
       "      <td>note 15</td>\n",
       "      <td>15000</td>\n",
       "    </tr>\n",
       "    <tr>\n",
       "      <th>3</th>\n",
       "      <td>Samsung</td>\n",
       "      <td>s21 ultra</td>\n",
       "      <td>72000</td>\n",
       "    </tr>\n",
       "    <tr>\n",
       "      <th>4</th>\n",
       "      <td>Honor</td>\n",
       "      <td>10x</td>\n",
       "      <td>35000</td>\n",
       "    </tr>\n",
       "  </tbody>\n",
       "</table>\n",
       "</div>"
      ],
      "text/plain": [
       "     Brand      Model   Price\n",
       "1    Apple  Iphone 14  120000\n",
       "2    Redmi    note 15   15000\n",
       "3  Samsung  s21 ultra   72000\n",
       "4    Honor        10x   35000"
      ]
     },
     "execution_count": 31,
     "metadata": {},
     "output_type": "execute_result"
    }
   ],
   "source": [
    "mobiles = {\n",
    "    'Brand':[\"Apple\",\"Redmi\",\"Samsung\",\"Honor\"],\n",
    "    'Model':['Iphone 14','note 15','s21 ultra','10x'],\n",
    "    'Price' :[120000,15000,72000,35000],\n",
    "    \n",
    "              }\n",
    "indexs=['1','2','3','4']\n",
    "df1 = pd.DataFrame(mobiles,index=indexs)\n",
    "\n",
    "df1"
   ]
  },
  {
   "cell_type": "code",
   "execution_count": 32,
   "metadata": {},
   "outputs": [
    {
     "data": {
      "text/html": [
       "<div>\n",
       "<style scoped>\n",
       "    .dataframe tbody tr th:only-of-type {\n",
       "        vertical-align: middle;\n",
       "    }\n",
       "\n",
       "    .dataframe tbody tr th {\n",
       "        vertical-align: top;\n",
       "    }\n",
       "\n",
       "    .dataframe thead th {\n",
       "        text-align: right;\n",
       "    }\n",
       "</style>\n",
       "<table border=\"1\" class=\"dataframe\">\n",
       "  <thead>\n",
       "    <tr style=\"text-align: right;\">\n",
       "      <th></th>\n",
       "      <th>Brand</th>\n",
       "      <th>Storage</th>\n",
       "    </tr>\n",
       "  </thead>\n",
       "  <tbody>\n",
       "    <tr>\n",
       "      <th>1</th>\n",
       "      <td>Apple</td>\n",
       "      <td>128Gb</td>\n",
       "    </tr>\n",
       "    <tr>\n",
       "      <th>6</th>\n",
       "      <td>Samsung</td>\n",
       "      <td>256Gb</td>\n",
       "    </tr>\n",
       "    <tr>\n",
       "      <th>3</th>\n",
       "      <td>Oppo</td>\n",
       "      <td>64Gb</td>\n",
       "    </tr>\n",
       "    <tr>\n",
       "      <th>5</th>\n",
       "      <td>Vivo</td>\n",
       "      <td>32Gb</td>\n",
       "    </tr>\n",
       "  </tbody>\n",
       "</table>\n",
       "</div>"
      ],
      "text/plain": [
       "     Brand Storage\n",
       "1    Apple   128Gb\n",
       "6  Samsung   256Gb\n",
       "3     Oppo    64Gb\n",
       "5     Vivo    32Gb"
      ]
     },
     "execution_count": 32,
     "metadata": {},
     "output_type": "execute_result"
    }
   ],
   "source": [
    "mobiles2 = {\n",
    "    'Brand':[\"Apple\",\"Samsung\",\"Oppo\",\"Vivo\"],\n",
    "    'Storage':[\"128Gb\",\"256Gb\",\"64Gb\",\"32Gb\"]\n",
    "              }\n",
    "indexs2=['1','6','3','5']\n",
    "df2 = pd.DataFrame(mobiles2,index=indexs2)\n",
    "\n",
    "df2"
   ]
  },
  {
   "cell_type": "code",
   "execution_count": 14,
   "metadata": {},
   "outputs": [
    {
     "data": {
      "text/html": [
       "<div>\n",
       "<style scoped>\n",
       "    .dataframe tbody tr th:only-of-type {\n",
       "        vertical-align: middle;\n",
       "    }\n",
       "\n",
       "    .dataframe tbody tr th {\n",
       "        vertical-align: top;\n",
       "    }\n",
       "\n",
       "    .dataframe thead th {\n",
       "        text-align: right;\n",
       "    }\n",
       "</style>\n",
       "<table border=\"1\" class=\"dataframe\">\n",
       "  <thead>\n",
       "    <tr style=\"text-align: right;\">\n",
       "      <th></th>\n",
       "      <th>Brand_x</th>\n",
       "      <th>Model</th>\n",
       "      <th>Price</th>\n",
       "      <th>Brand_y</th>\n",
       "      <th>Storage</th>\n",
       "    </tr>\n",
       "  </thead>\n",
       "  <tbody>\n",
       "    <tr>\n",
       "      <th>1</th>\n",
       "      <td>Apple</td>\n",
       "      <td>Iphone 14</td>\n",
       "      <td>120000</td>\n",
       "      <td>Apple</td>\n",
       "      <td>128Gb</td>\n",
       "    </tr>\n",
       "    <tr>\n",
       "      <th>2</th>\n",
       "      <td>Redmi</td>\n",
       "      <td>note 15</td>\n",
       "      <td>15000</td>\n",
       "      <td>NaN</td>\n",
       "      <td>NaN</td>\n",
       "    </tr>\n",
       "    <tr>\n",
       "      <th>3</th>\n",
       "      <td>Samsung</td>\n",
       "      <td>s21 ultra</td>\n",
       "      <td>72000</td>\n",
       "      <td>Oppo</td>\n",
       "      <td>64Gb</td>\n",
       "    </tr>\n",
       "    <tr>\n",
       "      <th>4</th>\n",
       "      <td>Honor</td>\n",
       "      <td>10x</td>\n",
       "      <td>35000</td>\n",
       "      <td>NaN</td>\n",
       "      <td>NaN</td>\n",
       "    </tr>\n",
       "  </tbody>\n",
       "</table>\n",
       "</div>"
      ],
      "text/plain": [
       "   Brand_x      Model   Price Brand_y Storage\n",
       "1    Apple  Iphone 14  120000   Apple   128Gb\n",
       "2    Redmi    note 15   15000     NaN     NaN\n",
       "3  Samsung  s21 ultra   72000    Oppo    64Gb\n",
       "4    Honor        10x   35000     NaN     NaN"
      ]
     },
     "execution_count": 14,
     "metadata": {},
     "output_type": "execute_result"
    }
   ],
   "source": [
    "df3=df1.join(df2, lsuffix=\"_x\", rsuffix=\"_y\")\n",
    "\n",
    "df3"
   ]
  },
  {
   "cell_type": "code",
   "execution_count": 15,
   "metadata": {},
   "outputs": [
    {
     "data": {
      "text/html": [
       "<div>\n",
       "<style scoped>\n",
       "    .dataframe tbody tr th:only-of-type {\n",
       "        vertical-align: middle;\n",
       "    }\n",
       "\n",
       "    .dataframe tbody tr th {\n",
       "        vertical-align: top;\n",
       "    }\n",
       "\n",
       "    .dataframe thead th {\n",
       "        text-align: right;\n",
       "    }\n",
       "</style>\n",
       "<table border=\"1\" class=\"dataframe\">\n",
       "  <thead>\n",
       "    <tr style=\"text-align: right;\">\n",
       "      <th></th>\n",
       "      <th>Brand_x</th>\n",
       "      <th>Model</th>\n",
       "      <th>Price</th>\n",
       "      <th>Brand_y</th>\n",
       "      <th>Storage</th>\n",
       "    </tr>\n",
       "  </thead>\n",
       "  <tbody>\n",
       "    <tr>\n",
       "      <th>1</th>\n",
       "      <td>Apple</td>\n",
       "      <td>Iphone 14</td>\n",
       "      <td>120000</td>\n",
       "      <td>Apple</td>\n",
       "      <td>128Gb</td>\n",
       "    </tr>\n",
       "    <tr>\n",
       "      <th>2</th>\n",
       "      <td>Redmi</td>\n",
       "      <td>note 15</td>\n",
       "      <td>15000</td>\n",
       "      <td>NaN</td>\n",
       "      <td>NaN</td>\n",
       "    </tr>\n",
       "    <tr>\n",
       "      <th>3</th>\n",
       "      <td>Samsung</td>\n",
       "      <td>s21 ultra</td>\n",
       "      <td>72000</td>\n",
       "      <td>Oppo</td>\n",
       "      <td>64Gb</td>\n",
       "    </tr>\n",
       "    <tr>\n",
       "      <th>4</th>\n",
       "      <td>Honor</td>\n",
       "      <td>10x</td>\n",
       "      <td>35000</td>\n",
       "      <td>NaN</td>\n",
       "      <td>NaN</td>\n",
       "    </tr>\n",
       "  </tbody>\n",
       "</table>\n",
       "</div>"
      ],
      "text/plain": [
       "   Brand_x      Model   Price Brand_y Storage\n",
       "1    Apple  Iphone 14  120000   Apple   128Gb\n",
       "2    Redmi    note 15   15000     NaN     NaN\n",
       "3  Samsung  s21 ultra   72000    Oppo    64Gb\n",
       "4    Honor        10x   35000     NaN     NaN"
      ]
     },
     "execution_count": 15,
     "metadata": {},
     "output_type": "execute_result"
    }
   ],
   "source": [
    "df3=df1.join(df2, lsuffix=\"_x\", rsuffix=\"_y\", how='left')\n",
    "\n",
    "df3"
   ]
  },
  {
   "cell_type": "code",
   "execution_count": 16,
   "metadata": {},
   "outputs": [
    {
     "data": {
      "text/html": [
       "<div>\n",
       "<style scoped>\n",
       "    .dataframe tbody tr th:only-of-type {\n",
       "        vertical-align: middle;\n",
       "    }\n",
       "\n",
       "    .dataframe tbody tr th {\n",
       "        vertical-align: top;\n",
       "    }\n",
       "\n",
       "    .dataframe thead th {\n",
       "        text-align: right;\n",
       "    }\n",
       "</style>\n",
       "<table border=\"1\" class=\"dataframe\">\n",
       "  <thead>\n",
       "    <tr style=\"text-align: right;\">\n",
       "      <th></th>\n",
       "      <th>Brand_x</th>\n",
       "      <th>Model</th>\n",
       "      <th>Price</th>\n",
       "      <th>Brand_y</th>\n",
       "      <th>Storage</th>\n",
       "    </tr>\n",
       "  </thead>\n",
       "  <tbody>\n",
       "    <tr>\n",
       "      <th>1</th>\n",
       "      <td>Apple</td>\n",
       "      <td>Iphone 14</td>\n",
       "      <td>120000</td>\n",
       "      <td>Apple</td>\n",
       "      <td>128Gb</td>\n",
       "    </tr>\n",
       "    <tr>\n",
       "      <th>3</th>\n",
       "      <td>Samsung</td>\n",
       "      <td>s21 ultra</td>\n",
       "      <td>72000</td>\n",
       "      <td>Oppo</td>\n",
       "      <td>64Gb</td>\n",
       "    </tr>\n",
       "  </tbody>\n",
       "</table>\n",
       "</div>"
      ],
      "text/plain": [
       "   Brand_x      Model   Price Brand_y Storage\n",
       "1    Apple  Iphone 14  120000   Apple   128Gb\n",
       "3  Samsung  s21 ultra   72000    Oppo    64Gb"
      ]
     },
     "execution_count": 16,
     "metadata": {},
     "output_type": "execute_result"
    }
   ],
   "source": [
    "df3=df1.join(df2, lsuffix=\"_x\", rsuffix=\"_y\", how='inner')\n",
    "\n",
    "df3"
   ]
  },
  {
   "cell_type": "code",
   "execution_count": 17,
   "metadata": {},
   "outputs": [
    {
     "data": {
      "text/html": [
       "<div>\n",
       "<style scoped>\n",
       "    .dataframe tbody tr th:only-of-type {\n",
       "        vertical-align: middle;\n",
       "    }\n",
       "\n",
       "    .dataframe tbody tr th {\n",
       "        vertical-align: top;\n",
       "    }\n",
       "\n",
       "    .dataframe thead th {\n",
       "        text-align: right;\n",
       "    }\n",
       "</style>\n",
       "<table border=\"1\" class=\"dataframe\">\n",
       "  <thead>\n",
       "    <tr style=\"text-align: right;\">\n",
       "      <th></th>\n",
       "      <th>Brand_x</th>\n",
       "      <th>Model</th>\n",
       "      <th>Price</th>\n",
       "      <th>Brand_y</th>\n",
       "      <th>Storage</th>\n",
       "    </tr>\n",
       "  </thead>\n",
       "  <tbody>\n",
       "    <tr>\n",
       "      <th>1</th>\n",
       "      <td>Apple</td>\n",
       "      <td>Iphone 14</td>\n",
       "      <td>120000.0</td>\n",
       "      <td>Apple</td>\n",
       "      <td>128Gb</td>\n",
       "    </tr>\n",
       "    <tr>\n",
       "      <th>6</th>\n",
       "      <td>NaN</td>\n",
       "      <td>NaN</td>\n",
       "      <td>NaN</td>\n",
       "      <td>Samsung</td>\n",
       "      <td>256Gb</td>\n",
       "    </tr>\n",
       "    <tr>\n",
       "      <th>3</th>\n",
       "      <td>Samsung</td>\n",
       "      <td>s21 ultra</td>\n",
       "      <td>72000.0</td>\n",
       "      <td>Oppo</td>\n",
       "      <td>64Gb</td>\n",
       "    </tr>\n",
       "    <tr>\n",
       "      <th>5</th>\n",
       "      <td>NaN</td>\n",
       "      <td>NaN</td>\n",
       "      <td>NaN</td>\n",
       "      <td>Vivo</td>\n",
       "      <td>32Gb</td>\n",
       "    </tr>\n",
       "  </tbody>\n",
       "</table>\n",
       "</div>"
      ],
      "text/plain": [
       "   Brand_x      Model     Price  Brand_y Storage\n",
       "1    Apple  Iphone 14  120000.0    Apple   128Gb\n",
       "6      NaN        NaN       NaN  Samsung   256Gb\n",
       "3  Samsung  s21 ultra   72000.0     Oppo    64Gb\n",
       "5      NaN        NaN       NaN     Vivo    32Gb"
      ]
     },
     "execution_count": 17,
     "metadata": {},
     "output_type": "execute_result"
    }
   ],
   "source": [
    "df3=df1.join(df2, lsuffix=\"_x\", rsuffix=\"_y\", how='right')\n",
    "\n",
    "df3"
   ]
  },
  {
   "cell_type": "code",
   "execution_count": 18,
   "metadata": {},
   "outputs": [
    {
     "data": {
      "text/html": [
       "<div>\n",
       "<style scoped>\n",
       "    .dataframe tbody tr th:only-of-type {\n",
       "        vertical-align: middle;\n",
       "    }\n",
       "\n",
       "    .dataframe tbody tr th {\n",
       "        vertical-align: top;\n",
       "    }\n",
       "\n",
       "    .dataframe thead th {\n",
       "        text-align: right;\n",
       "    }\n",
       "</style>\n",
       "<table border=\"1\" class=\"dataframe\">\n",
       "  <thead>\n",
       "    <tr style=\"text-align: right;\">\n",
       "      <th></th>\n",
       "      <th>Brand_x</th>\n",
       "      <th>Model</th>\n",
       "      <th>Price</th>\n",
       "      <th>Brand_y</th>\n",
       "      <th>Storage</th>\n",
       "    </tr>\n",
       "  </thead>\n",
       "  <tbody>\n",
       "    <tr>\n",
       "      <th>1</th>\n",
       "      <td>Apple</td>\n",
       "      <td>Iphone 14</td>\n",
       "      <td>120000.0</td>\n",
       "      <td>Apple</td>\n",
       "      <td>128Gb</td>\n",
       "    </tr>\n",
       "    <tr>\n",
       "      <th>2</th>\n",
       "      <td>Redmi</td>\n",
       "      <td>note 15</td>\n",
       "      <td>15000.0</td>\n",
       "      <td>NaN</td>\n",
       "      <td>NaN</td>\n",
       "    </tr>\n",
       "    <tr>\n",
       "      <th>3</th>\n",
       "      <td>Samsung</td>\n",
       "      <td>s21 ultra</td>\n",
       "      <td>72000.0</td>\n",
       "      <td>Oppo</td>\n",
       "      <td>64Gb</td>\n",
       "    </tr>\n",
       "    <tr>\n",
       "      <th>4</th>\n",
       "      <td>Honor</td>\n",
       "      <td>10x</td>\n",
       "      <td>35000.0</td>\n",
       "      <td>NaN</td>\n",
       "      <td>NaN</td>\n",
       "    </tr>\n",
       "    <tr>\n",
       "      <th>5</th>\n",
       "      <td>NaN</td>\n",
       "      <td>NaN</td>\n",
       "      <td>NaN</td>\n",
       "      <td>Vivo</td>\n",
       "      <td>32Gb</td>\n",
       "    </tr>\n",
       "    <tr>\n",
       "      <th>6</th>\n",
       "      <td>NaN</td>\n",
       "      <td>NaN</td>\n",
       "      <td>NaN</td>\n",
       "      <td>Samsung</td>\n",
       "      <td>256Gb</td>\n",
       "    </tr>\n",
       "  </tbody>\n",
       "</table>\n",
       "</div>"
      ],
      "text/plain": [
       "   Brand_x      Model     Price  Brand_y Storage\n",
       "1    Apple  Iphone 14  120000.0    Apple   128Gb\n",
       "2    Redmi    note 15   15000.0      NaN     NaN\n",
       "3  Samsung  s21 ultra   72000.0     Oppo    64Gb\n",
       "4    Honor        10x   35000.0      NaN     NaN\n",
       "5      NaN        NaN       NaN     Vivo    32Gb\n",
       "6      NaN        NaN       NaN  Samsung   256Gb"
      ]
     },
     "execution_count": 18,
     "metadata": {},
     "output_type": "execute_result"
    }
   ],
   "source": [
    "df3=df1.join(df2, lsuffix=\"_x\", rsuffix=\"_y\", how='outer')\n",
    "\n",
    "df3"
   ]
  },
  {
   "cell_type": "code",
   "execution_count": 19,
   "metadata": {},
   "outputs": [
    {
     "data": {
      "text/html": [
       "<div>\n",
       "<style scoped>\n",
       "    .dataframe tbody tr th:only-of-type {\n",
       "        vertical-align: middle;\n",
       "    }\n",
       "\n",
       "    .dataframe tbody tr th {\n",
       "        vertical-align: top;\n",
       "    }\n",
       "\n",
       "    .dataframe thead th {\n",
       "        text-align: right;\n",
       "    }\n",
       "</style>\n",
       "<table border=\"1\" class=\"dataframe\">\n",
       "  <thead>\n",
       "    <tr style=\"text-align: right;\">\n",
       "      <th></th>\n",
       "      <th>Brand_x</th>\n",
       "      <th>Model</th>\n",
       "      <th>Price</th>\n",
       "      <th>Brand_y</th>\n",
       "      <th>Storage</th>\n",
       "    </tr>\n",
       "  </thead>\n",
       "  <tbody>\n",
       "    <tr>\n",
       "      <th>0</th>\n",
       "      <td>Apple</td>\n",
       "      <td>Iphone 14</td>\n",
       "      <td>120000</td>\n",
       "      <td>Apple</td>\n",
       "      <td>128Gb</td>\n",
       "    </tr>\n",
       "    <tr>\n",
       "      <th>1</th>\n",
       "      <td>Apple</td>\n",
       "      <td>Iphone 14</td>\n",
       "      <td>120000</td>\n",
       "      <td>Samsung</td>\n",
       "      <td>256Gb</td>\n",
       "    </tr>\n",
       "    <tr>\n",
       "      <th>2</th>\n",
       "      <td>Apple</td>\n",
       "      <td>Iphone 14</td>\n",
       "      <td>120000</td>\n",
       "      <td>Oppo</td>\n",
       "      <td>64Gb</td>\n",
       "    </tr>\n",
       "    <tr>\n",
       "      <th>3</th>\n",
       "      <td>Apple</td>\n",
       "      <td>Iphone 14</td>\n",
       "      <td>120000</td>\n",
       "      <td>Vivo</td>\n",
       "      <td>32Gb</td>\n",
       "    </tr>\n",
       "    <tr>\n",
       "      <th>4</th>\n",
       "      <td>Redmi</td>\n",
       "      <td>note 15</td>\n",
       "      <td>15000</td>\n",
       "      <td>Apple</td>\n",
       "      <td>128Gb</td>\n",
       "    </tr>\n",
       "    <tr>\n",
       "      <th>5</th>\n",
       "      <td>Redmi</td>\n",
       "      <td>note 15</td>\n",
       "      <td>15000</td>\n",
       "      <td>Samsung</td>\n",
       "      <td>256Gb</td>\n",
       "    </tr>\n",
       "    <tr>\n",
       "      <th>6</th>\n",
       "      <td>Redmi</td>\n",
       "      <td>note 15</td>\n",
       "      <td>15000</td>\n",
       "      <td>Oppo</td>\n",
       "      <td>64Gb</td>\n",
       "    </tr>\n",
       "    <tr>\n",
       "      <th>7</th>\n",
       "      <td>Redmi</td>\n",
       "      <td>note 15</td>\n",
       "      <td>15000</td>\n",
       "      <td>Vivo</td>\n",
       "      <td>32Gb</td>\n",
       "    </tr>\n",
       "    <tr>\n",
       "      <th>8</th>\n",
       "      <td>Samsung</td>\n",
       "      <td>s21 ultra</td>\n",
       "      <td>72000</td>\n",
       "      <td>Apple</td>\n",
       "      <td>128Gb</td>\n",
       "    </tr>\n",
       "    <tr>\n",
       "      <th>9</th>\n",
       "      <td>Samsung</td>\n",
       "      <td>s21 ultra</td>\n",
       "      <td>72000</td>\n",
       "      <td>Samsung</td>\n",
       "      <td>256Gb</td>\n",
       "    </tr>\n",
       "    <tr>\n",
       "      <th>10</th>\n",
       "      <td>Samsung</td>\n",
       "      <td>s21 ultra</td>\n",
       "      <td>72000</td>\n",
       "      <td>Oppo</td>\n",
       "      <td>64Gb</td>\n",
       "    </tr>\n",
       "    <tr>\n",
       "      <th>11</th>\n",
       "      <td>Samsung</td>\n",
       "      <td>s21 ultra</td>\n",
       "      <td>72000</td>\n",
       "      <td>Vivo</td>\n",
       "      <td>32Gb</td>\n",
       "    </tr>\n",
       "    <tr>\n",
       "      <th>12</th>\n",
       "      <td>Honor</td>\n",
       "      <td>10x</td>\n",
       "      <td>35000</td>\n",
       "      <td>Apple</td>\n",
       "      <td>128Gb</td>\n",
       "    </tr>\n",
       "    <tr>\n",
       "      <th>13</th>\n",
       "      <td>Honor</td>\n",
       "      <td>10x</td>\n",
       "      <td>35000</td>\n",
       "      <td>Samsung</td>\n",
       "      <td>256Gb</td>\n",
       "    </tr>\n",
       "    <tr>\n",
       "      <th>14</th>\n",
       "      <td>Honor</td>\n",
       "      <td>10x</td>\n",
       "      <td>35000</td>\n",
       "      <td>Oppo</td>\n",
       "      <td>64Gb</td>\n",
       "    </tr>\n",
       "    <tr>\n",
       "      <th>15</th>\n",
       "      <td>Honor</td>\n",
       "      <td>10x</td>\n",
       "      <td>35000</td>\n",
       "      <td>Vivo</td>\n",
       "      <td>32Gb</td>\n",
       "    </tr>\n",
       "  </tbody>\n",
       "</table>\n",
       "</div>"
      ],
      "text/plain": [
       "    Brand_x      Model   Price  Brand_y Storage\n",
       "0     Apple  Iphone 14  120000    Apple   128Gb\n",
       "1     Apple  Iphone 14  120000  Samsung   256Gb\n",
       "2     Apple  Iphone 14  120000     Oppo    64Gb\n",
       "3     Apple  Iphone 14  120000     Vivo    32Gb\n",
       "4     Redmi    note 15   15000    Apple   128Gb\n",
       "5     Redmi    note 15   15000  Samsung   256Gb\n",
       "6     Redmi    note 15   15000     Oppo    64Gb\n",
       "7     Redmi    note 15   15000     Vivo    32Gb\n",
       "8   Samsung  s21 ultra   72000    Apple   128Gb\n",
       "9   Samsung  s21 ultra   72000  Samsung   256Gb\n",
       "10  Samsung  s21 ultra   72000     Oppo    64Gb\n",
       "11  Samsung  s21 ultra   72000     Vivo    32Gb\n",
       "12    Honor        10x   35000    Apple   128Gb\n",
       "13    Honor        10x   35000  Samsung   256Gb\n",
       "14    Honor        10x   35000     Oppo    64Gb\n",
       "15    Honor        10x   35000     Vivo    32Gb"
      ]
     },
     "execution_count": 19,
     "metadata": {},
     "output_type": "execute_result"
    }
   ],
   "source": [
    "df3=df1.join(df2, lsuffix=\"_x\", rsuffix=\"_y\", how='cross')\n",
    "\n",
    "df3"
   ]
  },
  {
   "cell_type": "code",
   "execution_count": 20,
   "metadata": {},
   "outputs": [
    {
     "ename": "SyntaxError",
     "evalue": "leading zeros in decimal integer literals are not permitted; use an 0o prefix for octal integers (2391510811.py, line 1)",
     "output_type": "error",
     "traceback": [
      "\u001b[1;36m  Cell \u001b[1;32mIn[20], line 1\u001b[1;36m\u001b[0m\n\u001b[1;33m    https://github.com/aadeshlokhande/Python/blob/main/DataSciencePython/006%20Pandas%20Basic.ipynb\u001b[0m\n\u001b[1;37m                                                                         ^\u001b[0m\n\u001b[1;31mSyntaxError\u001b[0m\u001b[1;31m:\u001b[0m leading zeros in decimal integer literals are not permitted; use an 0o prefix for octal integers\n"
     ]
    }
   ],
   "source": [
    "https://github.com/aadeshlokhande/Python/blob/main/DataSciencePython/006%20Pandas%20Basic.ipynb"
   ]
  },
  {
   "cell_type": "markdown",
   "metadata": {
    "id": "Fqt9Uo9jQEDx"
   },
   "source": [
    "#### Merge"
   ]
  },
  {
   "cell_type": "markdown",
   "metadata": {
    "id": "rV3PKZbQvfgP"
   },
   "source": [
    "```\n",
    "DataFrame.merge(right, how='inner', on=None, left_on=None, right_on=None, left_index=False, right_index=False, sort=False, suffixes=('_x', '_y'),indicator=False, validate=None)\n",
    "```\n",
    "\n",
    "* **how** defines what kind of merge to make. It defaults to 'inner', but other possible options include 'outer', 'left', and 'right'.\n",
    "\n",
    "* **on** tells merge() which columns or indices, also called key columns or key indices, you want to join on. This is optional. If it isn’t specified, and left_index and right_index (covered below) are False, then columns from the two DataFrames that share names will be used as join keys. If you use on, then the column or index that you specify must be present in both objects.\n",
    "\n",
    "* **left_on** and **right_on** specify a column or index that’s present only in the left or right object that you’re merging. Both default to None.\n",
    "\n",
    "* **left_index** and **right_index** both default to False, but if you want to use the index of the left or right object to be merged, then you can set the relevant argument to True.\n",
    "\n",
    "* **suffixes** is a tuple of strings to append to identical column names that aren’t merge keys. This allows you to keep track of the origins of columns with the same name.\n",
    "\n",
    "* **sort** can be enabled to sort the resulting DataFrame by the join key. If False, the order of the join keys depends on the join type (how keyword).\n",
    "\n",
    "* **indicator** if True, adds a column to the output DataFrame called “_merge” with information on the source of each row. The column can be given a different name by providing a string argument. The column will have a Categorical type with the value of “left_only” for observations whose merge key only appears in the left DataFrame, “right_only” for observations whose merge key only appears in the right DataFrame, and “both” if the observation’s merge key is found in both DataFrames."
   ]
  },
  {
   "cell_type": "code",
   "execution_count": 23,
   "metadata": {
    "colab": {
     "base_uri": "https://localhost:8080/",
     "height": 112
    },
    "executionInfo": {
     "elapsed": 191,
     "status": "ok",
     "timestamp": 1663167137363,
     "user": {
      "displayName": "Yogesh Kothiya",
      "userId": "16013917111822092306"
     },
     "user_tz": -330
    },
    "id": "-SHt9ZQv21Ig",
    "outputId": "342d3732-5cd6-4aca-f5eb-371fa2890f16"
   },
   "outputs": [
    {
     "data": {
      "text/html": [
       "<div>\n",
       "<style scoped>\n",
       "    .dataframe tbody tr th:only-of-type {\n",
       "        vertical-align: middle;\n",
       "    }\n",
       "\n",
       "    .dataframe tbody tr th {\n",
       "        vertical-align: top;\n",
       "    }\n",
       "\n",
       "    .dataframe thead th {\n",
       "        text-align: right;\n",
       "    }\n",
       "</style>\n",
       "<table border=\"1\" class=\"dataframe\">\n",
       "  <thead>\n",
       "    <tr style=\"text-align: right;\">\n",
       "      <th></th>\n",
       "      <th>Courses</th>\n",
       "      <th>Fee</th>\n",
       "      <th>Duration</th>\n",
       "      <th>Discount</th>\n",
       "    </tr>\n",
       "  </thead>\n",
       "  <tbody>\n",
       "    <tr>\n",
       "      <th>0</th>\n",
       "      <td>Spark</td>\n",
       "      <td>20000</td>\n",
       "      <td>30days</td>\n",
       "      <td>2000</td>\n",
       "    </tr>\n",
       "    <tr>\n",
       "      <th>1</th>\n",
       "      <td>C++</td>\n",
       "      <td>22000</td>\n",
       "      <td>35days</td>\n",
       "      <td>1200</td>\n",
       "    </tr>\n",
       "  </tbody>\n",
       "</table>\n",
       "</div>"
      ],
      "text/plain": [
       "  Courses    Fee Duration  Discount\n",
       "0   Spark  20000   30days      2000\n",
       "1     C++  22000   35days      1200"
      ]
     },
     "execution_count": 23,
     "metadata": {},
     "output_type": "execute_result"
    }
   ],
   "source": [
    "# pandas merge - inner join by default\n",
    "# Also, try right, outer and cross join\n",
    "df3=pd.merge(df1,df2)\n",
    "df3"
   ]
  },
  {
   "cell_type": "code",
   "execution_count": 24,
   "metadata": {
    "colab": {
     "base_uri": "https://localhost:8080/",
     "height": 175
    },
    "executionInfo": {
     "elapsed": 191,
     "status": "ok",
     "timestamp": 1663167137365,
     "user": {
      "displayName": "Yogesh Kothiya",
      "userId": "16013917111822092306"
     },
     "user_tz": -330
    },
    "id": "SVzC7UbaYSyo",
    "outputId": "31f240c9-c324-4d60-f842-36145e8d34c7"
   },
   "outputs": [
    {
     "data": {
      "text/html": [
       "<div>\n",
       "<style scoped>\n",
       "    .dataframe tbody tr th:only-of-type {\n",
       "        vertical-align: middle;\n",
       "    }\n",
       "\n",
       "    .dataframe tbody tr th {\n",
       "        vertical-align: top;\n",
       "    }\n",
       "\n",
       "    .dataframe thead th {\n",
       "        text-align: right;\n",
       "    }\n",
       "</style>\n",
       "<table border=\"1\" class=\"dataframe\">\n",
       "  <thead>\n",
       "    <tr style=\"text-align: right;\">\n",
       "      <th></th>\n",
       "      <th>Courses</th>\n",
       "      <th>Fee</th>\n",
       "      <th>Duration</th>\n",
       "      <th>Discount</th>\n",
       "    </tr>\n",
       "  </thead>\n",
       "  <tbody>\n",
       "    <tr>\n",
       "      <th>0</th>\n",
       "      <td>Spark</td>\n",
       "      <td>20000</td>\n",
       "      <td>30days</td>\n",
       "      <td>2000.0</td>\n",
       "    </tr>\n",
       "    <tr>\n",
       "      <th>1</th>\n",
       "      <td>PySpark</td>\n",
       "      <td>25000</td>\n",
       "      <td>40days</td>\n",
       "      <td>NaN</td>\n",
       "    </tr>\n",
       "    <tr>\n",
       "      <th>2</th>\n",
       "      <td>C++</td>\n",
       "      <td>22000</td>\n",
       "      <td>35days</td>\n",
       "      <td>1200.0</td>\n",
       "    </tr>\n",
       "    <tr>\n",
       "      <th>3</th>\n",
       "      <td>Assembly language</td>\n",
       "      <td>30000</td>\n",
       "      <td>50days</td>\n",
       "      <td>NaN</td>\n",
       "    </tr>\n",
       "  </tbody>\n",
       "</table>\n",
       "</div>"
      ],
      "text/plain": [
       "             Courses    Fee Duration  Discount\n",
       "0              Spark  20000   30days    2000.0\n",
       "1            PySpark  25000   40days       NaN\n",
       "2                C++  22000   35days    1200.0\n",
       "3  Assembly language  30000   50days       NaN"
      ]
     },
     "execution_count": 24,
     "metadata": {},
     "output_type": "execute_result"
    }
   ],
   "source": [
    "# Merge two DataFrames by index using pandas.merge()\n",
    "df3 = pd.merge(df1, df2, how='left')\n",
    "\n",
    "df3"
   ]
  },
  {
   "cell_type": "code",
   "execution_count": 25,
   "metadata": {
    "colab": {
     "base_uri": "https://localhost:8080/",
     "height": 175
    },
    "executionInfo": {
     "elapsed": 189,
     "status": "ok",
     "timestamp": 1663167137365,
     "user": {
      "displayName": "Yogesh Kothiya",
      "userId": "16013917111822092306"
     },
     "user_tz": -330
    },
    "id": "RUaMAna92cPT",
    "outputId": "d705d56e-30ad-401c-bc66-ec10df82b77d"
   },
   "outputs": [
    {
     "data": {
      "text/html": [
       "<div>\n",
       "<style scoped>\n",
       "    .dataframe tbody tr th:only-of-type {\n",
       "        vertical-align: middle;\n",
       "    }\n",
       "\n",
       "    .dataframe tbody tr th {\n",
       "        vertical-align: top;\n",
       "    }\n",
       "\n",
       "    .dataframe thead th {\n",
       "        text-align: right;\n",
       "    }\n",
       "</style>\n",
       "<table border=\"1\" class=\"dataframe\">\n",
       "  <thead>\n",
       "    <tr style=\"text-align: right;\">\n",
       "      <th></th>\n",
       "      <th>Courses_x</th>\n",
       "      <th>Fee</th>\n",
       "      <th>Duration</th>\n",
       "      <th>Courses_y</th>\n",
       "      <th>Discount</th>\n",
       "    </tr>\n",
       "  </thead>\n",
       "  <tbody>\n",
       "    <tr>\n",
       "      <th>r1</th>\n",
       "      <td>Spark</td>\n",
       "      <td>20000</td>\n",
       "      <td>30days</td>\n",
       "      <td>Spark</td>\n",
       "      <td>2000.0</td>\n",
       "    </tr>\n",
       "    <tr>\n",
       "      <th>r2</th>\n",
       "      <td>PySpark</td>\n",
       "      <td>25000</td>\n",
       "      <td>40days</td>\n",
       "      <td>NaN</td>\n",
       "      <td>NaN</td>\n",
       "    </tr>\n",
       "    <tr>\n",
       "      <th>r3</th>\n",
       "      <td>C++</td>\n",
       "      <td>22000</td>\n",
       "      <td>35days</td>\n",
       "      <td>C++</td>\n",
       "      <td>1200.0</td>\n",
       "    </tr>\n",
       "    <tr>\n",
       "      <th>r4</th>\n",
       "      <td>Assembly language</td>\n",
       "      <td>30000</td>\n",
       "      <td>50days</td>\n",
       "      <td>NaN</td>\n",
       "      <td>NaN</td>\n",
       "    </tr>\n",
       "  </tbody>\n",
       "</table>\n",
       "</div>"
      ],
      "text/plain": [
       "            Courses_x    Fee Duration Courses_y  Discount\n",
       "r1              Spark  20000   30days     Spark    2000.0\n",
       "r2            PySpark  25000   40days       NaN       NaN\n",
       "r3                C++  22000   35days       C++    1200.0\n",
       "r4  Assembly language  30000   50days       NaN       NaN"
      ]
     },
     "execution_count": 25,
     "metadata": {},
     "output_type": "execute_result"
    }
   ],
   "source": [
    "# Merge two DataFrames (Left Join) by index using pandas.merge()\n",
    "# Output joining column i.e Courses in the output\n",
    "df3 = pd.merge(df1, df2, left_index=True, right_index=True, how='left')\n",
    "\n",
    "df3"
   ]
  },
  {
   "cell_type": "code",
   "execution_count": 26,
   "metadata": {
    "colab": {
     "base_uri": "https://localhost:8080/",
     "height": 175
    },
    "executionInfo": {
     "elapsed": 187,
     "status": "ok",
     "timestamp": 1663167137366,
     "user": {
      "displayName": "Yogesh Kothiya",
      "userId": "16013917111822092306"
     },
     "user_tz": -330
    },
    "id": "CWCK5N4ESGzT",
    "outputId": "e460d813-75f4-45ce-ee85-649511b35dc9"
   },
   "outputs": [
    {
     "data": {
      "text/html": [
       "<div>\n",
       "<style scoped>\n",
       "    .dataframe tbody tr th:only-of-type {\n",
       "        vertical-align: middle;\n",
       "    }\n",
       "\n",
       "    .dataframe tbody tr th {\n",
       "        vertical-align: top;\n",
       "    }\n",
       "\n",
       "    .dataframe thead th {\n",
       "        text-align: right;\n",
       "    }\n",
       "</style>\n",
       "<table border=\"1\" class=\"dataframe\">\n",
       "  <thead>\n",
       "    <tr style=\"text-align: right;\">\n",
       "      <th></th>\n",
       "      <th>Courses_left</th>\n",
       "      <th>Fee</th>\n",
       "      <th>Duration</th>\n",
       "      <th>Courses_right</th>\n",
       "      <th>Discount</th>\n",
       "    </tr>\n",
       "  </thead>\n",
       "  <tbody>\n",
       "    <tr>\n",
       "      <th>r1</th>\n",
       "      <td>Spark</td>\n",
       "      <td>20000</td>\n",
       "      <td>30days</td>\n",
       "      <td>Spark</td>\n",
       "      <td>2000.0</td>\n",
       "    </tr>\n",
       "    <tr>\n",
       "      <th>r2</th>\n",
       "      <td>PySpark</td>\n",
       "      <td>25000</td>\n",
       "      <td>40days</td>\n",
       "      <td>NaN</td>\n",
       "      <td>NaN</td>\n",
       "    </tr>\n",
       "    <tr>\n",
       "      <th>r3</th>\n",
       "      <td>C++</td>\n",
       "      <td>22000</td>\n",
       "      <td>35days</td>\n",
       "      <td>C++</td>\n",
       "      <td>1200.0</td>\n",
       "    </tr>\n",
       "    <tr>\n",
       "      <th>r4</th>\n",
       "      <td>Assembly language</td>\n",
       "      <td>30000</td>\n",
       "      <td>50days</td>\n",
       "      <td>NaN</td>\n",
       "      <td>NaN</td>\n",
       "    </tr>\n",
       "  </tbody>\n",
       "</table>\n",
       "</div>"
      ],
      "text/plain": [
       "         Courses_left    Fee Duration Courses_right  Discount\n",
       "r1              Spark  20000   30days         Spark    2000.0\n",
       "r2            PySpark  25000   40days           NaN       NaN\n",
       "r3                C++  22000   35days           C++    1200.0\n",
       "r4  Assembly language  30000   50days           NaN       NaN"
      ]
     },
     "execution_count": 26,
     "metadata": {},
     "output_type": "execute_result"
    }
   ],
   "source": [
    "# Merge two DataFrames by index using pandas.merge()\n",
    "df3 = pd.merge(df1, df2, left_index=True, right_index=True, how='left', suffixes=[\"_left\", \"_right\"])\n",
    "\n",
    "df3"
   ]
  },
  {
   "cell_type": "code",
   "execution_count": 27,
   "metadata": {
    "colab": {
     "base_uri": "https://localhost:8080/"
    },
    "executionInfo": {
     "elapsed": 185,
     "status": "ok",
     "timestamp": 1663167137367,
     "user": {
      "displayName": "Yogesh Kothiya",
      "userId": "16013917111822092306"
     },
     "user_tz": -330
    },
    "id": "aqd7yummZulx",
    "outputId": "8cd4fe0a-3e6d-4f96-affd-56837c378a92"
   },
   "outputs": [
    {
     "name": "stdout",
     "output_type": "stream",
     "text": [
      "             Courses    Fee Duration  Discount\n",
      "0              Spark  20000   30days    2000.0\n",
      "1            PySpark  25000   40days       NaN\n",
      "2                C++  22000   35days    1200.0\n",
      "3  Assembly language  30000   50days       NaN\n"
     ]
    }
   ],
   "source": [
    "# Merge DataFrames by Column using an \"on\" parameter\n",
    "df3=pd.merge(df1,df2, on='Courses', how=\"left\")\n",
    "print(df3)"
   ]
  },
  {
   "cell_type": "code",
   "execution_count": 28,
   "metadata": {
    "colab": {
     "base_uri": "https://localhost:8080/"
    },
    "executionInfo": {
     "elapsed": 40,
     "status": "ok",
     "timestamp": 1663167137367,
     "user": {
      "displayName": "Yogesh Kothiya",
      "userId": "16013917111822092306"
     },
     "user_tz": -330
    },
    "id": "T_Dx2P6p29Nr",
    "outputId": "1ed5ef67-24ce-48c6-d327-bd5e1b5913fb"
   },
   "outputs": [
    {
     "name": "stdout",
     "output_type": "stream",
     "text": [
      "             Courses    Fee Duration  Discount\n",
      "0  Assembly language  30000   50days       NaN\n",
      "1                C++  22000   35days    1200.0\n",
      "2            PySpark  25000   40days       NaN\n",
      "3              Spark  20000   30days    2000.0\n"
     ]
    }
   ],
   "source": [
    "# Merge DataFrames by Column using an \"on\" parameter and sort the results\n",
    "df3=pd.merge(df1,df2, on='Courses', how=\"left\", sort=True)\n",
    "print(df3)"
   ]
  },
  {
   "cell_type": "code",
   "execution_count": 30,
   "metadata": {
    "colab": {
     "base_uri": "https://localhost:8080/"
    },
    "executionInfo": {
     "elapsed": 35,
     "status": "ok",
     "timestamp": 1663167137368,
     "user": {
      "displayName": "Yogesh Kothiya",
      "userId": "16013917111822092306"
     },
     "user_tz": -330
    },
    "id": "SNEYff9Fsgwk",
    "outputId": "c9269bf0-70ac-45de-ef47-686c52e3c251"
   },
   "outputs": [
    {
     "name": "stdout",
     "output_type": "stream",
     "text": [
      "             Courses      Fee Duration  Discount      _merge\n",
      "0              Spark  20000.0   30days    2000.0        both\n",
      "1            PySpark  25000.0   40days       NaN   left_only\n",
      "2                C++  22000.0   35days    1200.0        both\n",
      "3  Assembly language  30000.0   50days       NaN   left_only\n",
      "4               Java      NaN      NaN    2300.0  right_only\n",
      "5                 Go      NaN      NaN    2000.0  right_only\n"
     ]
    }
   ],
   "source": [
    "# Merge (Outer join) DataFrames by Column and use indicator parameter to see the merging\n",
    "df3=pd.merge(df1,df2, how=\"outer\", indicator=True)\n",
    "print(df3)"
   ]
  },
  {
   "cell_type": "code",
   "execution_count": 34,
   "metadata": {},
   "outputs": [
    {
     "data": {
      "text/html": [
       "<div>\n",
       "<style scoped>\n",
       "    .dataframe tbody tr th:only-of-type {\n",
       "        vertical-align: middle;\n",
       "    }\n",
       "\n",
       "    .dataframe tbody tr th {\n",
       "        vertical-align: top;\n",
       "    }\n",
       "\n",
       "    .dataframe thead th {\n",
       "        text-align: right;\n",
       "    }\n",
       "</style>\n",
       "<table border=\"1\" class=\"dataframe\">\n",
       "  <thead>\n",
       "    <tr style=\"text-align: right;\">\n",
       "      <th></th>\n",
       "      <th>Brand</th>\n",
       "      <th>Model</th>\n",
       "      <th>Price</th>\n",
       "      <th>Storage</th>\n",
       "    </tr>\n",
       "  </thead>\n",
       "  <tbody>\n",
       "    <tr>\n",
       "      <th>0</th>\n",
       "      <td>Apple</td>\n",
       "      <td>Iphone 14</td>\n",
       "      <td>120000</td>\n",
       "      <td>128Gb</td>\n",
       "    </tr>\n",
       "    <tr>\n",
       "      <th>1</th>\n",
       "      <td>Samsung</td>\n",
       "      <td>s21 ultra</td>\n",
       "      <td>72000</td>\n",
       "      <td>256Gb</td>\n",
       "    </tr>\n",
       "  </tbody>\n",
       "</table>\n",
       "</div>"
      ],
      "text/plain": [
       "     Brand      Model   Price Storage\n",
       "0    Apple  Iphone 14  120000   128Gb\n",
       "1  Samsung  s21 ultra   72000   256Gb"
      ]
     },
     "execution_count": 34,
     "metadata": {},
     "output_type": "execute_result"
    }
   ],
   "source": [
    "df3=pd.merge(df1,df2)\n",
    "df3"
   ]
  },
  {
   "cell_type": "code",
   "execution_count": 36,
   "metadata": {},
   "outputs": [
    {
     "data": {
      "text/html": [
       "<div>\n",
       "<style scoped>\n",
       "    .dataframe tbody tr th:only-of-type {\n",
       "        vertical-align: middle;\n",
       "    }\n",
       "\n",
       "    .dataframe tbody tr th {\n",
       "        vertical-align: top;\n",
       "    }\n",
       "\n",
       "    .dataframe thead th {\n",
       "        text-align: right;\n",
       "    }\n",
       "</style>\n",
       "<table border=\"1\" class=\"dataframe\">\n",
       "  <thead>\n",
       "    <tr style=\"text-align: right;\">\n",
       "      <th></th>\n",
       "      <th>Brand</th>\n",
       "      <th>Model</th>\n",
       "      <th>Price</th>\n",
       "      <th>Storage</th>\n",
       "    </tr>\n",
       "  </thead>\n",
       "  <tbody>\n",
       "    <tr>\n",
       "      <th>0</th>\n",
       "      <td>Apple</td>\n",
       "      <td>Iphone 14</td>\n",
       "      <td>120000</td>\n",
       "      <td>128Gb</td>\n",
       "    </tr>\n",
       "    <tr>\n",
       "      <th>1</th>\n",
       "      <td>Redmi</td>\n",
       "      <td>note 15</td>\n",
       "      <td>15000</td>\n",
       "      <td>NaN</td>\n",
       "    </tr>\n",
       "    <tr>\n",
       "      <th>2</th>\n",
       "      <td>Samsung</td>\n",
       "      <td>s21 ultra</td>\n",
       "      <td>72000</td>\n",
       "      <td>256Gb</td>\n",
       "    </tr>\n",
       "    <tr>\n",
       "      <th>3</th>\n",
       "      <td>Honor</td>\n",
       "      <td>10x</td>\n",
       "      <td>35000</td>\n",
       "      <td>NaN</td>\n",
       "    </tr>\n",
       "  </tbody>\n",
       "</table>\n",
       "</div>"
      ],
      "text/plain": [
       "     Brand      Model   Price Storage\n",
       "0    Apple  Iphone 14  120000   128Gb\n",
       "1    Redmi    note 15   15000     NaN\n",
       "2  Samsung  s21 ultra   72000   256Gb\n",
       "3    Honor        10x   35000     NaN"
      ]
     },
     "execution_count": 36,
     "metadata": {},
     "output_type": "execute_result"
    }
   ],
   "source": [
    "df3 = pd.merge(df1, df2, how='left')\n",
    "\n",
    "df3"
   ]
  },
  {
   "cell_type": "code",
   "execution_count": 37,
   "metadata": {},
   "outputs": [
    {
     "data": {
      "text/html": [
       "<div>\n",
       "<style scoped>\n",
       "    .dataframe tbody tr th:only-of-type {\n",
       "        vertical-align: middle;\n",
       "    }\n",
       "\n",
       "    .dataframe tbody tr th {\n",
       "        vertical-align: top;\n",
       "    }\n",
       "\n",
       "    .dataframe thead th {\n",
       "        text-align: right;\n",
       "    }\n",
       "</style>\n",
       "<table border=\"1\" class=\"dataframe\">\n",
       "  <thead>\n",
       "    <tr style=\"text-align: right;\">\n",
       "      <th></th>\n",
       "      <th>Brand_x</th>\n",
       "      <th>Model</th>\n",
       "      <th>Price</th>\n",
       "      <th>Brand_y</th>\n",
       "      <th>Storage</th>\n",
       "    </tr>\n",
       "  </thead>\n",
       "  <tbody>\n",
       "    <tr>\n",
       "      <th>1</th>\n",
       "      <td>Apple</td>\n",
       "      <td>Iphone 14</td>\n",
       "      <td>120000</td>\n",
       "      <td>Apple</td>\n",
       "      <td>128Gb</td>\n",
       "    </tr>\n",
       "    <tr>\n",
       "      <th>2</th>\n",
       "      <td>Redmi</td>\n",
       "      <td>note 15</td>\n",
       "      <td>15000</td>\n",
       "      <td>NaN</td>\n",
       "      <td>NaN</td>\n",
       "    </tr>\n",
       "    <tr>\n",
       "      <th>3</th>\n",
       "      <td>Samsung</td>\n",
       "      <td>s21 ultra</td>\n",
       "      <td>72000</td>\n",
       "      <td>Oppo</td>\n",
       "      <td>64Gb</td>\n",
       "    </tr>\n",
       "    <tr>\n",
       "      <th>4</th>\n",
       "      <td>Honor</td>\n",
       "      <td>10x</td>\n",
       "      <td>35000</td>\n",
       "      <td>NaN</td>\n",
       "      <td>NaN</td>\n",
       "    </tr>\n",
       "  </tbody>\n",
       "</table>\n",
       "</div>"
      ],
      "text/plain": [
       "   Brand_x      Model   Price Brand_y Storage\n",
       "1    Apple  Iphone 14  120000   Apple   128Gb\n",
       "2    Redmi    note 15   15000     NaN     NaN\n",
       "3  Samsung  s21 ultra   72000    Oppo    64Gb\n",
       "4    Honor        10x   35000     NaN     NaN"
      ]
     },
     "execution_count": 37,
     "metadata": {},
     "output_type": "execute_result"
    }
   ],
   "source": [
    "df3 = pd.merge(df1, df2, left_index=True, right_index=True, how='left')\n",
    "\n",
    "df3"
   ]
  },
  {
   "cell_type": "code",
   "execution_count": 38,
   "metadata": {},
   "outputs": [
    {
     "data": {
      "text/html": [
       "<div>\n",
       "<style scoped>\n",
       "    .dataframe tbody tr th:only-of-type {\n",
       "        vertical-align: middle;\n",
       "    }\n",
       "\n",
       "    .dataframe tbody tr th {\n",
       "        vertical-align: top;\n",
       "    }\n",
       "\n",
       "    .dataframe thead th {\n",
       "        text-align: right;\n",
       "    }\n",
       "</style>\n",
       "<table border=\"1\" class=\"dataframe\">\n",
       "  <thead>\n",
       "    <tr style=\"text-align: right;\">\n",
       "      <th></th>\n",
       "      <th>Brand_left</th>\n",
       "      <th>Model</th>\n",
       "      <th>Price</th>\n",
       "      <th>Brand_right</th>\n",
       "      <th>Storage</th>\n",
       "    </tr>\n",
       "  </thead>\n",
       "  <tbody>\n",
       "    <tr>\n",
       "      <th>1</th>\n",
       "      <td>Apple</td>\n",
       "      <td>Iphone 14</td>\n",
       "      <td>120000</td>\n",
       "      <td>Apple</td>\n",
       "      <td>128Gb</td>\n",
       "    </tr>\n",
       "    <tr>\n",
       "      <th>2</th>\n",
       "      <td>Redmi</td>\n",
       "      <td>note 15</td>\n",
       "      <td>15000</td>\n",
       "      <td>NaN</td>\n",
       "      <td>NaN</td>\n",
       "    </tr>\n",
       "    <tr>\n",
       "      <th>3</th>\n",
       "      <td>Samsung</td>\n",
       "      <td>s21 ultra</td>\n",
       "      <td>72000</td>\n",
       "      <td>Oppo</td>\n",
       "      <td>64Gb</td>\n",
       "    </tr>\n",
       "    <tr>\n",
       "      <th>4</th>\n",
       "      <td>Honor</td>\n",
       "      <td>10x</td>\n",
       "      <td>35000</td>\n",
       "      <td>NaN</td>\n",
       "      <td>NaN</td>\n",
       "    </tr>\n",
       "  </tbody>\n",
       "</table>\n",
       "</div>"
      ],
      "text/plain": [
       "  Brand_left      Model   Price Brand_right Storage\n",
       "1      Apple  Iphone 14  120000       Apple   128Gb\n",
       "2      Redmi    note 15   15000         NaN     NaN\n",
       "3    Samsung  s21 ultra   72000        Oppo    64Gb\n",
       "4      Honor        10x   35000         NaN     NaN"
      ]
     },
     "execution_count": 38,
     "metadata": {},
     "output_type": "execute_result"
    }
   ],
   "source": [
    "df3 = pd.merge(df1, df2, left_index=True, right_index=True, how='left', suffixes=[\"_left\", \"_right\"])\n",
    "\n",
    "df3"
   ]
  },
  {
   "cell_type": "code",
   "execution_count": 42,
   "metadata": {},
   "outputs": [
    {
     "name": "stdout",
     "output_type": "stream",
     "text": [
      "     Brand      Model   Price Storage\n",
      "0    Apple  Iphone 14  120000   128Gb\n",
      "1    Redmi    note 15   15000     NaN\n",
      "2  Samsung  s21 ultra   72000   256Gb\n",
      "3    Honor        10x   35000     NaN\n"
     ]
    }
   ],
   "source": [
    "df3=pd.merge(df1,df2, on='Brand', how=\"left\")\n",
    "print(df3)"
   ]
  },
  {
   "cell_type": "code",
   "execution_count": 44,
   "metadata": {},
   "outputs": [
    {
     "name": "stdout",
     "output_type": "stream",
     "text": [
      "     Brand      Model   Price Storage\n",
      "0    Apple  Iphone 14  120000   128Gb\n",
      "1    Honor        10x   35000     NaN\n",
      "2    Redmi    note 15   15000     NaN\n",
      "3  Samsung  s21 ultra   72000   256Gb\n"
     ]
    }
   ],
   "source": [
    "df3=pd.merge(df1,df2, on='Brand', how=\"left\", sort=True)\n",
    "print(df3)"
   ]
  },
  {
   "cell_type": "code",
   "execution_count": 45,
   "metadata": {},
   "outputs": [
    {
     "name": "stdout",
     "output_type": "stream",
     "text": [
      "     Brand      Model     Price Storage      _merge\n",
      "0    Apple  Iphone 14  120000.0   128Gb        both\n",
      "1    Redmi    note 15   15000.0     NaN   left_only\n",
      "2  Samsung  s21 ultra   72000.0   256Gb        both\n",
      "3    Honor        10x   35000.0     NaN   left_only\n",
      "4     Oppo        NaN       NaN    64Gb  right_only\n",
      "5     Vivo        NaN       NaN    32Gb  right_only\n"
     ]
    }
   ],
   "source": [
    "df3=pd.merge(df1,df2, how=\"outer\", indicator=True)\n",
    "print(df3)"
   ]
  },
  {
   "cell_type": "code",
   "execution_count": null,
   "metadata": {},
   "outputs": [],
   "source": []
  },
  {
   "cell_type": "code",
   "execution_count": 52,
   "metadata": {
    "id": "-TZMJ-hYWRdv"
   },
   "outputs": [],
   "source": [
    "technologies = {\n",
    "    'Courses_Batch_A':[\"Spark\",\"PySpark\",\"C++\",\"Assembly language\"],\n",
    "    'Fee' :[20000,25000,22000,30000],\n",
    "    'Duration':['30days','40days','35days','50days'],\n",
    "              }\n",
    "index_labels=['r1','r2','r3','r4']\n",
    "df11 = pd.DataFrame(technologies,index=index_labels)\n",
    "\n",
    "technologies2 = {\n",
    "    'Courses_Batch_B':[\"Spark\",\"Java\",\"C++\",\"Go\"],\n",
    "    'Discount':[2000,2300,1200,2000]\n",
    "              }\n",
    "index_labels2=['r1','r6','r3','r5']\n",
    "df22 = pd.DataFrame(technologies2,index=index_labels2)"
   ]
  },
  {
   "cell_type": "code",
   "execution_count": 53,
   "metadata": {
    "colab": {
     "base_uri": "https://localhost:8080/",
     "height": 408
    },
    "executionInfo": {
     "elapsed": 320,
     "status": "error",
     "timestamp": 1663167137658,
     "user": {
      "displayName": "Yogesh Kothiya",
      "userId": "16013917111822092306"
     },
     "user_tz": -330
    },
    "id": "Eks7mkiUTTEe",
    "outputId": "03aca9e3-421d-4a28-ba4b-456a5ceead01"
   },
   "outputs": [
    {
     "ename": "MergeError",
     "evalue": "No common columns to perform merge on. Merge options: left_on=None, right_on=None, left_index=False, right_index=False",
     "output_type": "error",
     "traceback": [
      "\u001b[1;31m---------------------------------------------------------------------------\u001b[0m",
      "\u001b[1;31mMergeError\u001b[0m                                Traceback (most recent call last)",
      "Cell \u001b[1;32mIn[53], line 3\u001b[0m\n\u001b[0;32m      1\u001b[0m \u001b[38;5;66;03m# Merge two DataFrames by index using pandas.merge()\u001b[39;00m\n\u001b[0;32m      2\u001b[0m \u001b[38;5;66;03m# While merging, merge function will try to find a common column else it will throw an error\u001b[39;00m\n\u001b[1;32m----> 3\u001b[0m df3 \u001b[38;5;241m=\u001b[39m \u001b[43mpd\u001b[49m\u001b[38;5;241;43m.\u001b[39;49m\u001b[43mmerge\u001b[49m\u001b[43m(\u001b[49m\u001b[43mdf11\u001b[49m\u001b[43m,\u001b[49m\u001b[43m \u001b[49m\u001b[43mdf22\u001b[49m\u001b[43m,\u001b[49m\u001b[43m \u001b[49m\u001b[43mhow\u001b[49m\u001b[38;5;241;43m=\u001b[39;49m\u001b[38;5;124;43m'\u001b[39;49m\u001b[38;5;124;43mleft\u001b[39;49m\u001b[38;5;124;43m'\u001b[39;49m\u001b[43m)\u001b[49m\n\u001b[0;32m      5\u001b[0m df3\n",
      "File \u001b[1;32mC:\\python\\Lib\\site-packages\\pandas\\core\\reshape\\merge.py:110\u001b[0m, in \u001b[0;36mmerge\u001b[1;34m(left, right, how, on, left_on, right_on, left_index, right_index, sort, suffixes, copy, indicator, validate)\u001b[0m\n\u001b[0;32m     93\u001b[0m \u001b[38;5;129m@Substitution\u001b[39m(\u001b[38;5;124m\"\u001b[39m\u001b[38;5;130;01m\\n\u001b[39;00m\u001b[38;5;124mleft : DataFrame or named Series\u001b[39m\u001b[38;5;124m\"\u001b[39m)\n\u001b[0;32m     94\u001b[0m \u001b[38;5;129m@Appender\u001b[39m(_merge_doc, indents\u001b[38;5;241m=\u001b[39m\u001b[38;5;241m0\u001b[39m)\n\u001b[0;32m     95\u001b[0m \u001b[38;5;28;01mdef\u001b[39;00m \u001b[38;5;21mmerge\u001b[39m(\n\u001b[1;32m   (...)\u001b[0m\n\u001b[0;32m    108\u001b[0m     validate: \u001b[38;5;28mstr\u001b[39m \u001b[38;5;241m|\u001b[39m \u001b[38;5;28;01mNone\u001b[39;00m \u001b[38;5;241m=\u001b[39m \u001b[38;5;28;01mNone\u001b[39;00m,\n\u001b[0;32m    109\u001b[0m ) \u001b[38;5;241m-\u001b[39m\u001b[38;5;241m>\u001b[39m DataFrame:\n\u001b[1;32m--> 110\u001b[0m     op \u001b[38;5;241m=\u001b[39m \u001b[43m_MergeOperation\u001b[49m\u001b[43m(\u001b[49m\n\u001b[0;32m    111\u001b[0m \u001b[43m        \u001b[49m\u001b[43mleft\u001b[49m\u001b[43m,\u001b[49m\n\u001b[0;32m    112\u001b[0m \u001b[43m        \u001b[49m\u001b[43mright\u001b[49m\u001b[43m,\u001b[49m\n\u001b[0;32m    113\u001b[0m \u001b[43m        \u001b[49m\u001b[43mhow\u001b[49m\u001b[38;5;241;43m=\u001b[39;49m\u001b[43mhow\u001b[49m\u001b[43m,\u001b[49m\n\u001b[0;32m    114\u001b[0m \u001b[43m        \u001b[49m\u001b[43mon\u001b[49m\u001b[38;5;241;43m=\u001b[39;49m\u001b[43mon\u001b[49m\u001b[43m,\u001b[49m\n\u001b[0;32m    115\u001b[0m \u001b[43m        \u001b[49m\u001b[43mleft_on\u001b[49m\u001b[38;5;241;43m=\u001b[39;49m\u001b[43mleft_on\u001b[49m\u001b[43m,\u001b[49m\n\u001b[0;32m    116\u001b[0m \u001b[43m        \u001b[49m\u001b[43mright_on\u001b[49m\u001b[38;5;241;43m=\u001b[39;49m\u001b[43mright_on\u001b[49m\u001b[43m,\u001b[49m\n\u001b[0;32m    117\u001b[0m \u001b[43m        \u001b[49m\u001b[43mleft_index\u001b[49m\u001b[38;5;241;43m=\u001b[39;49m\u001b[43mleft_index\u001b[49m\u001b[43m,\u001b[49m\n\u001b[0;32m    118\u001b[0m \u001b[43m        \u001b[49m\u001b[43mright_index\u001b[49m\u001b[38;5;241;43m=\u001b[39;49m\u001b[43mright_index\u001b[49m\u001b[43m,\u001b[49m\n\u001b[0;32m    119\u001b[0m \u001b[43m        \u001b[49m\u001b[43msort\u001b[49m\u001b[38;5;241;43m=\u001b[39;49m\u001b[43msort\u001b[49m\u001b[43m,\u001b[49m\n\u001b[0;32m    120\u001b[0m \u001b[43m        \u001b[49m\u001b[43msuffixes\u001b[49m\u001b[38;5;241;43m=\u001b[39;49m\u001b[43msuffixes\u001b[49m\u001b[43m,\u001b[49m\n\u001b[0;32m    121\u001b[0m \u001b[43m        \u001b[49m\u001b[43mindicator\u001b[49m\u001b[38;5;241;43m=\u001b[39;49m\u001b[43mindicator\u001b[49m\u001b[43m,\u001b[49m\n\u001b[0;32m    122\u001b[0m \u001b[43m        \u001b[49m\u001b[43mvalidate\u001b[49m\u001b[38;5;241;43m=\u001b[39;49m\u001b[43mvalidate\u001b[49m\u001b[43m,\u001b[49m\n\u001b[0;32m    123\u001b[0m \u001b[43m    \u001b[49m\u001b[43m)\u001b[49m\n\u001b[0;32m    124\u001b[0m     \u001b[38;5;28;01mreturn\u001b[39;00m op\u001b[38;5;241m.\u001b[39mget_result(copy\u001b[38;5;241m=\u001b[39mcopy)\n",
      "File \u001b[1;32mC:\\python\\Lib\\site-packages\\pandas\\core\\reshape\\merge.py:685\u001b[0m, in \u001b[0;36m_MergeOperation.__init__\u001b[1;34m(self, left, right, how, on, left_on, right_on, axis, left_index, right_index, sort, suffixes, indicator, validate)\u001b[0m\n\u001b[0;32m    681\u001b[0m     \u001b[38;5;66;03m# stacklevel chosen to be correct when this is reached via pd.merge\u001b[39;00m\n\u001b[0;32m    682\u001b[0m     \u001b[38;5;66;03m# (and not DataFrame.join)\u001b[39;00m\n\u001b[0;32m    683\u001b[0m     warnings\u001b[38;5;241m.\u001b[39mwarn(msg, \u001b[38;5;167;01mFutureWarning\u001b[39;00m, stacklevel\u001b[38;5;241m=\u001b[39mfind_stack_level())\n\u001b[1;32m--> 685\u001b[0m \u001b[38;5;28mself\u001b[39m\u001b[38;5;241m.\u001b[39mleft_on, \u001b[38;5;28mself\u001b[39m\u001b[38;5;241m.\u001b[39mright_on \u001b[38;5;241m=\u001b[39m \u001b[38;5;28;43mself\u001b[39;49m\u001b[38;5;241;43m.\u001b[39;49m\u001b[43m_validate_left_right_on\u001b[49m\u001b[43m(\u001b[49m\u001b[43mleft_on\u001b[49m\u001b[43m,\u001b[49m\u001b[43m \u001b[49m\u001b[43mright_on\u001b[49m\u001b[43m)\u001b[49m\n\u001b[0;32m    687\u001b[0m cross_col \u001b[38;5;241m=\u001b[39m \u001b[38;5;28;01mNone\u001b[39;00m\n\u001b[0;32m    688\u001b[0m \u001b[38;5;28;01mif\u001b[39;00m \u001b[38;5;28mself\u001b[39m\u001b[38;5;241m.\u001b[39mhow \u001b[38;5;241m==\u001b[39m \u001b[38;5;124m\"\u001b[39m\u001b[38;5;124mcross\u001b[39m\u001b[38;5;124m\"\u001b[39m:\n",
      "File \u001b[1;32mC:\\python\\Lib\\site-packages\\pandas\\core\\reshape\\merge.py:1434\u001b[0m, in \u001b[0;36m_MergeOperation._validate_left_right_on\u001b[1;34m(self, left_on, right_on)\u001b[0m\n\u001b[0;32m   1432\u001b[0m common_cols \u001b[38;5;241m=\u001b[39m left_cols\u001b[38;5;241m.\u001b[39mintersection(right_cols)\n\u001b[0;32m   1433\u001b[0m \u001b[38;5;28;01mif\u001b[39;00m \u001b[38;5;28mlen\u001b[39m(common_cols) \u001b[38;5;241m==\u001b[39m \u001b[38;5;241m0\u001b[39m:\n\u001b[1;32m-> 1434\u001b[0m     \u001b[38;5;28;01mraise\u001b[39;00m MergeError(\n\u001b[0;32m   1435\u001b[0m         \u001b[38;5;124m\"\u001b[39m\u001b[38;5;124mNo common columns to perform merge on. \u001b[39m\u001b[38;5;124m\"\u001b[39m\n\u001b[0;32m   1436\u001b[0m         \u001b[38;5;124mf\u001b[39m\u001b[38;5;124m\"\u001b[39m\u001b[38;5;124mMerge options: left_on=\u001b[39m\u001b[38;5;132;01m{\u001b[39;00mleft_on\u001b[38;5;132;01m}\u001b[39;00m\u001b[38;5;124m, \u001b[39m\u001b[38;5;124m\"\u001b[39m\n\u001b[0;32m   1437\u001b[0m         \u001b[38;5;124mf\u001b[39m\u001b[38;5;124m\"\u001b[39m\u001b[38;5;124mright_on=\u001b[39m\u001b[38;5;132;01m{\u001b[39;00mright_on\u001b[38;5;132;01m}\u001b[39;00m\u001b[38;5;124m, \u001b[39m\u001b[38;5;124m\"\u001b[39m\n\u001b[0;32m   1438\u001b[0m         \u001b[38;5;124mf\u001b[39m\u001b[38;5;124m\"\u001b[39m\u001b[38;5;124mleft_index=\u001b[39m\u001b[38;5;132;01m{\u001b[39;00m\u001b[38;5;28mself\u001b[39m\u001b[38;5;241m.\u001b[39mleft_index\u001b[38;5;132;01m}\u001b[39;00m\u001b[38;5;124m, \u001b[39m\u001b[38;5;124m\"\u001b[39m\n\u001b[0;32m   1439\u001b[0m         \u001b[38;5;124mf\u001b[39m\u001b[38;5;124m\"\u001b[39m\u001b[38;5;124mright_index=\u001b[39m\u001b[38;5;132;01m{\u001b[39;00m\u001b[38;5;28mself\u001b[39m\u001b[38;5;241m.\u001b[39mright_index\u001b[38;5;132;01m}\u001b[39;00m\u001b[38;5;124m\"\u001b[39m\n\u001b[0;32m   1440\u001b[0m     )\n\u001b[0;32m   1441\u001b[0m \u001b[38;5;28;01mif\u001b[39;00m (\n\u001b[0;32m   1442\u001b[0m     \u001b[38;5;129;01mnot\u001b[39;00m left_cols\u001b[38;5;241m.\u001b[39mjoin(common_cols, how\u001b[38;5;241m=\u001b[39m\u001b[38;5;124m\"\u001b[39m\u001b[38;5;124minner\u001b[39m\u001b[38;5;124m\"\u001b[39m)\u001b[38;5;241m.\u001b[39mis_unique\n\u001b[0;32m   1443\u001b[0m     \u001b[38;5;129;01mor\u001b[39;00m \u001b[38;5;129;01mnot\u001b[39;00m right_cols\u001b[38;5;241m.\u001b[39mjoin(common_cols, how\u001b[38;5;241m=\u001b[39m\u001b[38;5;124m\"\u001b[39m\u001b[38;5;124minner\u001b[39m\u001b[38;5;124m\"\u001b[39m)\u001b[38;5;241m.\u001b[39mis_unique\n\u001b[0;32m   1444\u001b[0m ):\n\u001b[0;32m   1445\u001b[0m     \u001b[38;5;28;01mraise\u001b[39;00m MergeError(\u001b[38;5;124mf\u001b[39m\u001b[38;5;124m\"\u001b[39m\u001b[38;5;124mData columns not unique: \u001b[39m\u001b[38;5;132;01m{\u001b[39;00m\u001b[38;5;28mrepr\u001b[39m(common_cols)\u001b[38;5;132;01m}\u001b[39;00m\u001b[38;5;124m\"\u001b[39m)\n",
      "\u001b[1;31mMergeError\u001b[0m: No common columns to perform merge on. Merge options: left_on=None, right_on=None, left_index=False, right_index=False"
     ]
    }
   ],
   "source": [
    "# Merge two DataFrames by index using pandas.merge()\n",
    "# While merging, merge function will try to find a common column else it will throw an error\n",
    "df3 = pd.merge(df11, df22, how='left')\n",
    "\n",
    "df3"
   ]
  },
  {
   "cell_type": "code",
   "execution_count": 54,
   "metadata": {
    "colab": {
     "base_uri": "https://localhost:8080/"
    },
    "executionInfo": {
     "elapsed": 232,
     "status": "ok",
     "timestamp": 1663167410405,
     "user": {
      "displayName": "Yogesh Kothiya",
      "userId": "16013917111822092306"
     },
     "user_tz": -330
    },
    "id": "Bc9pGR9D3AcY",
    "outputId": "6a94b5e3-77a7-4bb3-c32a-a2fb4b4a39a7"
   },
   "outputs": [
    {
     "name": "stdout",
     "output_type": "stream",
     "text": [
      "     Courses_Batch_A    Fee Duration Courses_Batch_B  Discount\n",
      "0              Spark  20000   30days           Spark    2000.0\n",
      "1            PySpark  25000   40days             NaN       NaN\n",
      "2                C++  22000   35days             C++    1200.0\n",
      "3  Assembly language  30000   50days             NaN       NaN\n"
     ]
    }
   ],
   "source": [
    "# When column names are different\n",
    "df3=pd.merge(df11,df22, left_on='Courses_Batch_A', right_on='Courses_Batch_B', how='left')\n",
    "print(df3)"
   ]
  },
  {
   "cell_type": "markdown",
   "metadata": {
    "id": "wkLWYEzBNGNM"
   },
   "source": [
    "## GROUP BY"
   ]
  },
  {
   "cell_type": "markdown",
   "metadata": {
    "id": "sW7A_S8SHlLL"
   },
   "source": [
    "`DataFrame.groupby(by=None, axis=0, level=None, as_index=True, sort=True)`\n",
    "\n",
    "Parameters :\n",
    "* **by** : mapping, function, str, or iterable\n",
    "axis : int, default 0\n",
    "* **level** : If the axis is a MultiIndex (hierarchical), group by a particular level or levels\n",
    "* **as_index** : For aggregated output, return object with group labels as the index. Only relevant for DataFrame input. as_index=False is effectively “SQL-style” grouped output\n",
    "* **sort** : Sort group keys. Get better performance by turning this off. Note this does not influence the order of observations within each group. groupby preserves the order of rows within each group."
   ]
  },
  {
   "cell_type": "code",
   "execution_count": 55,
   "metadata": {
    "colab": {
     "base_uri": "https://localhost:8080/",
     "height": 300
    },
    "executionInfo": {
     "elapsed": 4,
     "status": "ok",
     "timestamp": 1663167411071,
     "user": {
      "displayName": "Yogesh Kothiya",
      "userId": "16013917111822092306"
     },
     "user_tz": -330
    },
    "id": "Q9x4wTzAfDBZ",
    "outputId": "bf674fc6-82c6-4ce9-fc8f-1a70087f5b51"
   },
   "outputs": [
    {
     "data": {
      "text/html": [
       "<div>\n",
       "<style scoped>\n",
       "    .dataframe tbody tr th:only-of-type {\n",
       "        vertical-align: middle;\n",
       "    }\n",
       "\n",
       "    .dataframe tbody tr th {\n",
       "        vertical-align: top;\n",
       "    }\n",
       "\n",
       "    .dataframe thead th {\n",
       "        text-align: right;\n",
       "    }\n",
       "</style>\n",
       "<table border=\"1\" class=\"dataframe\">\n",
       "  <thead>\n",
       "    <tr style=\"text-align: right;\">\n",
       "      <th></th>\n",
       "      <th>Name</th>\n",
       "      <th>Age</th>\n",
       "      <th>Address</th>\n",
       "      <th>Qualification</th>\n",
       "      <th>Score</th>\n",
       "    </tr>\n",
       "  </thead>\n",
       "  <tbody>\n",
       "    <tr>\n",
       "      <th>0</th>\n",
       "      <td>Jai</td>\n",
       "      <td>27</td>\n",
       "      <td>Nagpur</td>\n",
       "      <td>Msc</td>\n",
       "      <td>23</td>\n",
       "    </tr>\n",
       "    <tr>\n",
       "      <th>1</th>\n",
       "      <td>Anuj</td>\n",
       "      <td>24</td>\n",
       "      <td>Kanpur</td>\n",
       "      <td>MA</td>\n",
       "      <td>34</td>\n",
       "    </tr>\n",
       "    <tr>\n",
       "      <th>2</th>\n",
       "      <td>Jai</td>\n",
       "      <td>22</td>\n",
       "      <td>Allahabad</td>\n",
       "      <td>MCA</td>\n",
       "      <td>35</td>\n",
       "    </tr>\n",
       "    <tr>\n",
       "      <th>3</th>\n",
       "      <td>Princi</td>\n",
       "      <td>32</td>\n",
       "      <td>Kannuaj</td>\n",
       "      <td>Phd</td>\n",
       "      <td>45</td>\n",
       "    </tr>\n",
       "    <tr>\n",
       "      <th>4</th>\n",
       "      <td>Gaurav</td>\n",
       "      <td>33</td>\n",
       "      <td>Jaunpur</td>\n",
       "      <td>B.Tech</td>\n",
       "      <td>47</td>\n",
       "    </tr>\n",
       "    <tr>\n",
       "      <th>5</th>\n",
       "      <td>Anuj</td>\n",
       "      <td>36</td>\n",
       "      <td>Kanpur</td>\n",
       "      <td>B.com</td>\n",
       "      <td>50</td>\n",
       "    </tr>\n",
       "    <tr>\n",
       "      <th>6</th>\n",
       "      <td>Princi</td>\n",
       "      <td>27</td>\n",
       "      <td>Allahabad</td>\n",
       "      <td>Msc</td>\n",
       "      <td>52</td>\n",
       "    </tr>\n",
       "    <tr>\n",
       "      <th>7</th>\n",
       "      <td>Abhi</td>\n",
       "      <td>32</td>\n",
       "      <td>Aligarh</td>\n",
       "      <td>MA</td>\n",
       "      <td>53</td>\n",
       "    </tr>\n",
       "  </tbody>\n",
       "</table>\n",
       "</div>"
      ],
      "text/plain": [
       "     Name  Age    Address Qualification  Score\n",
       "0     Jai   27     Nagpur           Msc     23\n",
       "1    Anuj   24     Kanpur            MA     34\n",
       "2     Jai   22  Allahabad           MCA     35\n",
       "3  Princi   32    Kannuaj           Phd     45\n",
       "4  Gaurav   33    Jaunpur        B.Tech     47\n",
       "5    Anuj   36     Kanpur         B.com     50\n",
       "6  Princi   27  Allahabad           Msc     52\n",
       "7    Abhi   32    Aligarh            MA     53"
      ]
     },
     "execution_count": 55,
     "metadata": {},
     "output_type": "execute_result"
    }
   ],
   "source": [
    "# importing pandas module\n",
    "import pandas as pd\n",
    "  \n",
    "# Define a dictionary containing employee data\n",
    "data1 = {'Name':['Jai', 'Anuj', 'Jai', 'Princi',\n",
    "                 'Gaurav', 'Anuj', 'Princi', 'Abhi'],\n",
    "        'Age':[27, 24, 22, 32,\n",
    "               33, 36, 27, 32],\n",
    "        'Address':['Nagpur', 'Kanpur', 'Allahabad', 'Kannuaj',\n",
    "                   'Jaunpur', 'Kanpur', 'Allahabad', 'Aligarh'],\n",
    "        'Qualification':['Msc', 'MA', 'MCA', 'Phd',\n",
    "                         'B.Tech', 'B.com', 'Msc', 'MA'],\n",
    "             'Score': [23, 34, 35, 45, 47, 50, 52, 53]}\n",
    "    \n",
    "  \n",
    "# Convert the dictionary into DataFrame \n",
    "df = pd.DataFrame(data1)\n",
    "  \n",
    "df"
   ]
  },
  {
   "cell_type": "code",
   "execution_count": 59,
   "metadata": {
    "colab": {
     "base_uri": "https://localhost:8080/"
    },
    "executionInfo": {
     "elapsed": 10,
     "status": "ok",
     "timestamp": 1663167411890,
     "user": {
      "displayName": "Yogesh Kothiya",
      "userId": "16013917111822092306"
     },
     "user_tz": -330
    },
    "id": "WcPDC_1t95_h",
    "outputId": "01ede865-8ee8-4e33-a049-336d0e6cd36a"
   },
   "outputs": [
    {
     "name": "stdout",
     "output_type": "stream",
     "text": [
      "{'Abhi': [7], 'Anuj': [1, 5], 'Gaurav': [4], 'Jai': [0, 2], 'Princi': [3, 6]}\n"
     ]
    }
   ],
   "source": [
    "# Using groupby function\n",
    "# with one key\n",
    " \n",
    "grp_df_1 = df.groupby(by='Name')\n",
    "\n",
    "print(grp_df_1.groups)\n"
   ]
  },
  {
   "cell_type": "code",
   "execution_count": 61,
   "metadata": {},
   "outputs": [
    {
     "data": {
      "text/html": [
       "<div>\n",
       "<style scoped>\n",
       "    .dataframe tbody tr th:only-of-type {\n",
       "        vertical-align: middle;\n",
       "    }\n",
       "\n",
       "    .dataframe tbody tr th {\n",
       "        vertical-align: top;\n",
       "    }\n",
       "\n",
       "    .dataframe thead th {\n",
       "        text-align: right;\n",
       "    }\n",
       "</style>\n",
       "<table border=\"1\" class=\"dataframe\">\n",
       "  <thead>\n",
       "    <tr style=\"text-align: right;\">\n",
       "      <th></th>\n",
       "      <th>Name</th>\n",
       "      <th>Age</th>\n",
       "      <th>Address</th>\n",
       "      <th>Qualification</th>\n",
       "      <th>Score</th>\n",
       "    </tr>\n",
       "  </thead>\n",
       "  <tbody>\n",
       "    <tr>\n",
       "      <th>1</th>\n",
       "      <td>Anuj</td>\n",
       "      <td>24</td>\n",
       "      <td>Kanpur</td>\n",
       "      <td>MA</td>\n",
       "      <td>34</td>\n",
       "    </tr>\n",
       "    <tr>\n",
       "      <th>5</th>\n",
       "      <td>Anuj</td>\n",
       "      <td>36</td>\n",
       "      <td>Kanpur</td>\n",
       "      <td>B.com</td>\n",
       "      <td>50</td>\n",
       "    </tr>\n",
       "  </tbody>\n",
       "</table>\n",
       "</div>"
      ],
      "text/plain": [
       "   Name  Age Address Qualification  Score\n",
       "1  Anuj   24  Kanpur            MA     34\n",
       "5  Anuj   36  Kanpur         B.com     50"
      ]
     },
     "execution_count": 61,
     "metadata": {},
     "output_type": "execute_result"
    }
   ],
   "source": [
    "grp_df_1.get_group(\"Anuj\")"
   ]
  },
  {
   "cell_type": "code",
   "execution_count": 66,
   "metadata": {},
   "outputs": [
    {
     "ename": "AttributeError",
     "evalue": "'DataFrame' object has no attribute 'get_group'",
     "output_type": "error",
     "traceback": [
      "\u001b[1;31m---------------------------------------------------------------------------\u001b[0m",
      "\u001b[1;31mAttributeError\u001b[0m                            Traceback (most recent call last)",
      "Cell \u001b[1;32mIn[66], line 1\u001b[0m\n\u001b[1;32m----> 1\u001b[0m \u001b[43mgrp_df_1\u001b[49m\u001b[38;5;241;43m.\u001b[39;49m\u001b[43mget_group\u001b[49m(\u001b[38;5;124m\"\u001b[39m\u001b[38;5;124mAnuj\u001b[39m\u001b[38;5;124m\"\u001b[39m)\n",
      "File \u001b[1;32mC:\\python\\Lib\\site-packages\\pandas\\core\\generic.py:5902\u001b[0m, in \u001b[0;36mNDFrame.__getattr__\u001b[1;34m(self, name)\u001b[0m\n\u001b[0;32m   5895\u001b[0m \u001b[38;5;28;01mif\u001b[39;00m (\n\u001b[0;32m   5896\u001b[0m     name \u001b[38;5;129;01mnot\u001b[39;00m \u001b[38;5;129;01min\u001b[39;00m \u001b[38;5;28mself\u001b[39m\u001b[38;5;241m.\u001b[39m_internal_names_set\n\u001b[0;32m   5897\u001b[0m     \u001b[38;5;129;01mand\u001b[39;00m name \u001b[38;5;129;01mnot\u001b[39;00m \u001b[38;5;129;01min\u001b[39;00m \u001b[38;5;28mself\u001b[39m\u001b[38;5;241m.\u001b[39m_metadata\n\u001b[0;32m   5898\u001b[0m     \u001b[38;5;129;01mand\u001b[39;00m name \u001b[38;5;129;01mnot\u001b[39;00m \u001b[38;5;129;01min\u001b[39;00m \u001b[38;5;28mself\u001b[39m\u001b[38;5;241m.\u001b[39m_accessors\n\u001b[0;32m   5899\u001b[0m     \u001b[38;5;129;01mand\u001b[39;00m \u001b[38;5;28mself\u001b[39m\u001b[38;5;241m.\u001b[39m_info_axis\u001b[38;5;241m.\u001b[39m_can_hold_identifiers_and_holds_name(name)\n\u001b[0;32m   5900\u001b[0m ):\n\u001b[0;32m   5901\u001b[0m     \u001b[38;5;28;01mreturn\u001b[39;00m \u001b[38;5;28mself\u001b[39m[name]\n\u001b[1;32m-> 5902\u001b[0m \u001b[38;5;28;01mreturn\u001b[39;00m \u001b[38;5;28;43mobject\u001b[39;49m\u001b[38;5;241;43m.\u001b[39;49m\u001b[38;5;21;43m__getattribute__\u001b[39;49m\u001b[43m(\u001b[49m\u001b[38;5;28;43mself\u001b[39;49m\u001b[43m,\u001b[49m\u001b[43m \u001b[49m\u001b[43mname\u001b[49m\u001b[43m)\u001b[49m\n",
      "\u001b[1;31mAttributeError\u001b[0m: 'DataFrame' object has no attribute 'get_group'"
     ]
    }
   ],
   "source": [
    "grp_df_1.get_group(\"Anuj\")"
   ]
  },
  {
   "cell_type": "code",
   "execution_count": 68,
   "metadata": {
    "colab": {
     "base_uri": "https://localhost:8080/"
    },
    "executionInfo": {
     "elapsed": 9,
     "status": "ok",
     "timestamp": 1663167411890,
     "user": {
      "displayName": "Yogesh Kothiya",
      "userId": "16013917111822092306"
     },
     "user_tz": -330
    },
    "id": "isf0AqgYOEt5",
    "outputId": "5ac151b2-3caa-4dc3-dd33-2d6c61472bdb"
   },
   "outputs": [
    {
     "name": "stdout",
     "output_type": "stream",
     "text": [
      "        Age  Score\n",
      "Name              \n",
      "Abhi     32     53\n",
      "Anuj     60     84\n",
      "Gaurav   33     47\n",
      "Jai      49     58\n",
      "Princi   59     97\n"
     ]
    },
    {
     "name": "stderr",
     "output_type": "stream",
     "text": [
      "C:\\Users\\aades\\AppData\\Local\\Temp\\ipykernel_21324\\2027400442.py:4: FutureWarning: The default value of numeric_only in DataFrameGroupBy.sum is deprecated. In a future version, numeric_only will default to False. Either specify numeric_only or select only columns which should be valid for the function.\n",
      "  grp_df_1 = df.groupby(by='Name').sum()\n"
     ]
    }
   ],
   "source": [
    "# Using groupby function\n",
    "# with one key\n",
    " \n",
    "grp_df_1 = df.groupby(by='Name').sum()\n",
    "print(grp_df_1)"
   ]
  },
  {
   "cell_type": "code",
   "execution_count": 71,
   "metadata": {},
   "outputs": [
    {
     "name": "stdout",
     "output_type": "stream",
     "text": [
      "Name\n",
      "Abhi      53\n",
      "Anuj      34\n",
      "Gaurav    47\n",
      "Jai       23\n",
      "Princi    45\n",
      "Name: Score, dtype: int64\n"
     ]
    }
   ],
   "source": [
    "grp_df_1 = df.groupby(by='Name')['Score'].min()\n",
    "print(grp_df_1)"
   ]
  },
  {
   "cell_type": "markdown",
   "metadata": {
    "id": "4XKqy222COLY"
   },
   "source": [
    "<h2 align=\"center\">Illustration of axis</h2>\n",
    "<img src=\"https://i.stack.imgur.com/4pFuZ.png\" width=\"600\">"
   ]
  },
  {
   "cell_type": "code",
   "execution_count": null,
   "metadata": {
    "colab": {
     "base_uri": "https://localhost:8080/"
    },
    "executionInfo": {
     "elapsed": 5,
     "status": "ok",
     "timestamp": 1663167411890,
     "user": {
      "displayName": "Yogesh Kothiya",
      "userId": "16013917111822092306"
     },
     "user_tz": -330
    },
    "id": "LDtllAm2CZoy",
    "outputId": "00dc6ec2-0d01-4a5e-dac2-c575a626a6de"
   },
   "outputs": [],
   "source": [
    "grp_df_1 = df.groupby(by='Name', axis=0)\n",
    "print(grp_df_1.groups)"
   ]
  },
  {
   "cell_type": "code",
   "execution_count": null,
   "metadata": {
    "colab": {
     "base_uri": "https://localhost:8080/",
     "height": 300
    },
    "executionInfo": {
     "elapsed": 15,
     "status": "ok",
     "timestamp": 1663167412173,
     "user": {
      "displayName": "Yogesh Kothiya",
      "userId": "16013917111822092306"
     },
     "user_tz": -330
    },
    "id": "ZUZJQBZqIuG0",
    "outputId": "b5a5b1dd-4853-4768-92d3-2712f99648fc"
   },
   "outputs": [],
   "source": [
    "Marks = {'Name':['Jai', 'Anuj', 'Jai', 'Princi',\n",
    "                 'Gaurav', 'Anuj', 'Princi', 'Abhi'],\n",
    "             'Maths': [23, 34, 35, 45, 47, 50, 52, 53],\n",
    "         'Physics': [45, 47, 50, 32, 23, 34, 35, 43],\n",
    "         'Science': [34, 35, 45, 47, 50, 32, 23, 33],\n",
    "         }\n",
    "  \n",
    "# Convert the dictionary into DataFrame \n",
    "dfm = pd.DataFrame(Marks)\n",
    "  \n",
    "dfm"
   ]
  },
  {
   "cell_type": "code",
   "execution_count": null,
   "metadata": {
    "colab": {
     "base_uri": "https://localhost:8080/"
    },
    "executionInfo": {
     "elapsed": 14,
     "status": "ok",
     "timestamp": 1663167412173,
     "user": {
      "displayName": "Yogesh Kothiya",
      "userId": "16013917111822092306"
     },
     "user_tz": -330
    },
    "id": "2HVDVLkJKV8Z",
    "outputId": "e8105cf8-2838-412f-d147-d896351d7e26"
   },
   "outputs": [],
   "source": [
    "#create DataFrame\n",
    "df_marks = pd.DataFrame({'name': ['Amit', 'Amit', 'Amit', 'Amit', 'Bhushan', 'Bhushan', 'Bhushan', 'Bhushan'],\n",
    "                         'term' : ['midterm 1', 'midterm 1','midterm 2','midterm 2','midterm 1', 'midterm 1','midterm 2','midterm 2'],\n",
    "                   'subject': ['English', 'Science', 'English', 'Science', 'English', 'Science', 'English', 'Science'],\n",
    "                   'marks': [46, 38, 59, 81, 43, 58, 68, 65]})\n",
    "\n",
    "#define multiindex\n",
    "df_marks.set_index(['name', 'term', 'subject'], inplace=True)\n",
    "\n",
    "#view DataFrame\n",
    "print(df_marks)"
   ]
  },
  {
   "cell_type": "code",
   "execution_count": null,
   "metadata": {
    "colab": {
     "base_uri": "https://localhost:8080/",
     "height": 206
    },
    "executionInfo": {
     "elapsed": 12,
     "status": "ok",
     "timestamp": 1663167412174,
     "user": {
      "displayName": "Yogesh Kothiya",
      "userId": "16013917111822092306"
     },
     "user_tz": -330
    },
    "id": "P2HMGCf0LgFu",
    "outputId": "2c9df874-eeb9-42c2-8234-cd39abdd7f35"
   },
   "outputs": [],
   "source": [
    "# calculate sum of markes grouped by 2 levels of the multiindex\n",
    "df_marks.groupby(level=['name', 'subject']).sum()"
   ]
  },
  {
   "cell_type": "code",
   "execution_count": null,
   "metadata": {
    "colab": {
     "base_uri": "https://localhost:8080/",
     "height": 206
    },
    "executionInfo": {
     "elapsed": 10,
     "status": "ok",
     "timestamp": 1663167412174,
     "user": {
      "displayName": "Yogesh Kothiya",
      "userId": "16013917111822092306"
     },
     "user_tz": -330
    },
    "id": "-ERE5bJRMid5",
    "outputId": "78ad230b-5bba-4406-8b1b-d4a804d8fc7b"
   },
   "outputs": [],
   "source": [
    "df_marks.groupby(level=['name', 'subject']).max()"
   ]
  },
  {
   "cell_type": "code",
   "execution_count": null,
   "metadata": {
    "colab": {
     "base_uri": "https://localhost:8080/",
     "height": 238
    },
    "executionInfo": {
     "elapsed": 10,
     "status": "ok",
     "timestamp": 1663167412175,
     "user": {
      "displayName": "Yogesh Kothiya",
      "userId": "16013917111822092306"
     },
     "user_tz": -330
    },
    "id": "eDHqPNm5C7lF",
    "outputId": "40a0ef7a-325c-4eb4-9d1d-4fc75d333c35"
   },
   "outputs": [],
   "source": [
    "# applying groupby() function to\n",
    "# group the data on Name value.\n",
    "gk = df.groupby(by='Name')   ## Here groupby column is used ad index \n",
    "   \n",
    "# Let's print the first entries\n",
    "# in all the groups formed.\n",
    "gk.first()"
   ]
  },
  {
   "cell_type": "code",
   "execution_count": null,
   "metadata": {
    "colab": {
     "base_uri": "https://localhost:8080/",
     "height": 206
    },
    "executionInfo": {
     "elapsed": 9,
     "status": "ok",
     "timestamp": 1663167412559,
     "user": {
      "displayName": "Yogesh Kothiya",
      "userId": "16013917111822092306"
     },
     "user_tz": -330
    },
    "id": "GEnAJFylgxSc",
    "outputId": "9bc1014a-d601-4801-89f5-8894ca8178ff"
   },
   "outputs": [],
   "source": [
    "# Use as_index=False to treat groupby column as regular column\n",
    "gk = df.groupby(by='Name', as_index=False)\n",
    "   \n",
    "# Let's print the first entries\n",
    "# in all the groups formed.\n",
    "gk.first()"
   ]
  },
  {
   "cell_type": "code",
   "execution_count": null,
   "metadata": {
    "colab": {
     "base_uri": "https://localhost:8080/"
    },
    "executionInfo": {
     "elapsed": 8,
     "status": "ok",
     "timestamp": 1663167412560,
     "user": {
      "displayName": "Yogesh Kothiya",
      "userId": "16013917111822092306"
     },
     "user_tz": -330
    },
    "id": "ecKDNMJo_4hv",
    "outputId": "a33a3872-dbf7-4b4f-99dd-38e4b490c1a6"
   },
   "outputs": [],
   "source": [
    "# selecting a single group\n",
    " \n",
    "grp = df.groupby('Name')\n",
    "print(grp.get_group('Jai'))"
   ]
  },
  {
   "cell_type": "code",
   "execution_count": null,
   "metadata": {
    "colab": {
     "base_uri": "https://localhost:8080/"
    },
    "executionInfo": {
     "elapsed": 5,
     "status": "ok",
     "timestamp": 1663167412827,
     "user": {
      "displayName": "Yogesh Kothiya",
      "userId": "16013917111822092306"
     },
     "user_tz": -330
    },
    "id": "Ibaej2zRASAh",
    "outputId": "ee82cec0-f5ea-4163-aca6-aff7d1b9fbac"
   },
   "outputs": [],
   "source": [
    "# selecting object grouped\n",
    "# on multiple columns\n",
    " \n",
    "grp = df.groupby(['Name', 'Qualification'])\n",
    "print(grp.get_group(('Jai', 'MCA')))"
   ]
  },
  {
   "cell_type": "markdown",
   "metadata": {
    "id": "Hk_2-QItg89q"
   },
   "source": [
    "### Grouping Data with multiple keys"
   ]
  },
  {
   "cell_type": "code",
   "execution_count": null,
   "metadata": {
    "colab": {
     "base_uri": "https://localhost:8080/"
    },
    "executionInfo": {
     "elapsed": 9,
     "status": "ok",
     "timestamp": 1663167413649,
     "user": {
      "displayName": "Yogesh Kothiya",
      "userId": "16013917111822092306"
     },
     "user_tz": -330
    },
    "id": "SDnyF-vPg8Gi",
    "outputId": "e070d063-e905-4f14-c13b-d4c4291db385"
   },
   "outputs": [],
   "source": [
    "# Using multiple keys in\n",
    "# groupby() function\n",
    "grp_df_2 = df.groupby(['Name', 'Qualification'])\n",
    " \n",
    "print(grp_df_2.groups)"
   ]
  },
  {
   "cell_type": "code",
   "execution_count": null,
   "metadata": {
    "colab": {
     "base_uri": "https://localhost:8080/",
     "height": 238
    },
    "executionInfo": {
     "elapsed": 7,
     "status": "ok",
     "timestamp": 1663167413649,
     "user": {
      "displayName": "Yogesh Kothiya",
      "userId": "16013917111822092306"
     },
     "user_tz": -330
    },
    "id": "CT8FTztJ_h6V",
    "outputId": "74137b5e-f520-469c-e1c0-8545dbb2b519"
   },
   "outputs": [],
   "source": [
    "# Groupby function with aggregation\n",
    " \n",
    "df.groupby(['Name']).sum()"
   ]
  },
  {
   "cell_type": "code",
   "execution_count": null,
   "metadata": {
    "colab": {
     "base_uri": "https://localhost:8080/"
    },
    "executionInfo": {
     "elapsed": 7,
     "status": "ok",
     "timestamp": 1663167413650,
     "user": {
      "displayName": "Yogesh Kothiya",
      "userId": "16013917111822092306"
     },
     "user_tz": -330
    },
    "id": "1SmgKobKBP1J",
    "outputId": "3b76b2a3-f950-4d17-a2a3-29d6742e7cd7"
   },
   "outputs": [],
   "source": [
    "df.groupby(['Name'])[\"Age\"].sum() ## Output of this code will be a series"
   ]
  },
  {
   "cell_type": "markdown",
   "metadata": {
    "id": "24llNc1rEQAY"
   },
   "source": [
    "Like wise aggregation functions like sum(), max(), min(), count() etc"
   ]
  },
  {
   "cell_type": "code",
   "execution_count": null,
   "metadata": {
    "colab": {
     "base_uri": "https://localhost:8080/"
    },
    "executionInfo": {
     "elapsed": 2,
     "status": "ok",
     "timestamp": 1663167413982,
     "user": {
      "displayName": "Yogesh Kothiya",
      "userId": "16013917111822092306"
     },
     "user_tz": -330
    },
    "id": "1rJwCkAMGERX",
    "outputId": "52076405-9b31-4315-ebe6-e7eed2389f59"
   },
   "outputs": [],
   "source": [
    "# applying a function by passing\n",
    "# a list of functions\n",
    " \n",
    "grp = df.groupby('Name')\n",
    " \n",
    "print(grp['Age'].agg([np.sum, np.mean, np.std]))"
   ]
  },
  {
   "cell_type": "code",
   "execution_count": null,
   "metadata": {
    "colab": {
     "base_uri": "https://localhost:8080/",
     "height": 238
    },
    "executionInfo": {
     "elapsed": 9,
     "status": "ok",
     "timestamp": 1663167414256,
     "user": {
      "displayName": "Yogesh Kothiya",
      "userId": "16013917111822092306"
     },
     "user_tz": -330
    },
    "id": "hrda_H8SGGc2",
    "outputId": "c2094139-35b3-447e-a2f5-fe6c01249dce"
   },
   "outputs": [],
   "source": [
    "# using different aggregation\n",
    "# function by passing dictionary\n",
    "# to aggregate\n",
    "grp = df.groupby(by='Name')\n",
    " \n",
    "grp.agg({'Age' : 'sum', 'Score' : 'std'})"
   ]
  },
  {
   "cell_type": "code",
   "execution_count": null,
   "metadata": {
    "colab": {
     "base_uri": "https://localhost:8080/",
     "height": 300
    },
    "executionInfo": {
     "elapsed": 7,
     "status": "ok",
     "timestamp": 1663167414256,
     "user": {
      "displayName": "Yogesh Kothiya",
      "userId": "16013917111822092306"
     },
     "user_tz": -330
    },
    "id": "_rLn7382kARo",
    "outputId": "e0de02b9-864b-4270-cecd-17a5c95c0a7c"
   },
   "outputs": [],
   "source": [
    "df"
   ]
  },
  {
   "cell_type": "markdown",
   "metadata": {
    "id": "ZEE3LOgujxAo"
   },
   "source": [
    "## Grouping by sorting keys"
   ]
  },
  {
   "cell_type": "code",
   "execution_count": null,
   "metadata": {
    "colab": {
     "base_uri": "https://localhost:8080/",
     "height": 238
    },
    "executionInfo": {
     "elapsed": 4,
     "status": "ok",
     "timestamp": 1663167414496,
     "user": {
      "displayName": "Yogesh Kothiya",
      "userId": "16013917111822092306"
     },
     "user_tz": -330
    },
    "id": "K4DLamM7jzb1",
    "outputId": "58d39d9f-b403-40e1-9a80-e1fa083122dd"
   },
   "outputs": [],
   "source": [
    "# We are getting the same results but we disabled the sorting \n",
    "# hence we are getting the results in the same as original order\n",
    "grp = df.groupby(by='Name', sort=False)\n",
    " \n",
    "grp.agg({'Age' : 'sum', 'Score' : 'std'})"
   ]
  },
  {
   "cell_type": "code",
   "execution_count": null,
   "metadata": {
    "colab": {
     "base_uri": "https://localhost:8080/",
     "height": 238
    },
    "executionInfo": {
     "elapsed": 5,
     "status": "ok",
     "timestamp": 1663167416055,
     "user": {
      "displayName": "Yogesh Kothiya",
      "userId": "16013917111822092306"
     },
     "user_tz": -330
    },
    "id": "IavdgSQ7lLnf",
    "outputId": "81a5691a-f258-49f8-fb56-9db4960fb181"
   },
   "outputs": [],
   "source": [
    "# filtering data using\n",
    "# filter data\n",
    "grp = df.groupby('Name')\n",
    "\n",
    "grp.filter(lambda x: x['Score'].mean() >= 30)"
   ]
  },
  {
   "cell_type": "markdown",
   "metadata": {
    "id": "vmtG691TsPu9"
   },
   "source": [
    "## Sorting Values"
   ]
  },
  {
   "cell_type": "markdown",
   "metadata": {
    "id": "bg-4XxAYITem"
   },
   "source": [
    "`DataFrame.sort_values(by, axis=0, ascending=True, inplace=False, kind=’quicksort’, na_position=’last’)`\n",
    "\n",
    "* **by**: Single/List of column names to sort Data Frame by. \n",
    "axis: 0 or ‘index’ for rows and 1 or ‘columns’ for Column. \n",
    "* **ascending**: Boolean value which sorts Data frame in ascending order if True. \n",
    "* **inplace**: Boolean value. Makes the changes in passed data frame itself if True. \n",
    "* **kind**: String which can have three inputs(‘quicksort’, ‘mergesort’ or ‘heapsort’) of algorithm used to sort data frame. \n",
    "* **na_position**: Takes two string input ‘last’ or ‘first’ to set position of Null values. Default is ‘last’."
   ]
  },
  {
   "cell_type": "code",
   "execution_count": null,
   "metadata": {
    "id": "8um3Mu75sX-H"
   },
   "outputs": [],
   "source": [
    "grp = df.groupby(by='Name')\n",
    "grp1 = df.groupby(by='Name', as_index=False)"
   ]
  },
  {
   "cell_type": "code",
   "execution_count": null,
   "metadata": {
    "colab": {
     "base_uri": "https://localhost:8080/",
     "height": 238
    },
    "executionInfo": {
     "elapsed": 7,
     "status": "ok",
     "timestamp": 1663167416387,
     "user": {
      "displayName": "Yogesh Kothiya",
      "userId": "16013917111822092306"
     },
     "user_tz": -330
    },
    "id": "2a4iNu6oi2RT",
    "outputId": "c0410d72-b1c8-4b53-8590-e0cc5cb7d4da"
   },
   "outputs": [],
   "source": [
    "grp.agg({'Age' : 'sum', 'Score' : 'std'}).sort_values(by='Age', ascending=False)"
   ]
  },
  {
   "cell_type": "code",
   "execution_count": null,
   "metadata": {
    "colab": {
     "base_uri": "https://localhost:8080/",
     "height": 206
    },
    "executionInfo": {
     "elapsed": 7,
     "status": "ok",
     "timestamp": 1663167416388,
     "user": {
      "displayName": "Yogesh Kothiya",
      "userId": "16013917111822092306"
     },
     "user_tz": -330
    },
    "id": "6tli_cLkjB3q",
    "outputId": "a8a1bd37-be2f-451f-8a77-b61058f640d2"
   },
   "outputs": [],
   "source": [
    "agg_grp = grp1.agg({'Age' : 'sum', 'Score' : 'std'}).sort_values(by='Age', ascending=False)\n",
    "agg_grp"
   ]
  },
  {
   "cell_type": "code",
   "execution_count": null,
   "metadata": {
    "colab": {
     "base_uri": "https://localhost:8080/",
     "height": 206
    },
    "executionInfo": {
     "elapsed": 5,
     "status": "ok",
     "timestamp": 1663167416664,
     "user": {
      "displayName": "Yogesh Kothiya",
      "userId": "16013917111822092306"
     },
     "user_tz": -330
    },
    "id": "ksKFojNjh8_R",
    "outputId": "e0b40b0e-09c5-4c79-f671-176bd56db758"
   },
   "outputs": [],
   "source": [
    "grp.agg({'Age' : 'sum', 'Score' : 'std'}).sort_values(by='Age', ascending=False, ignore_index=True)"
   ]
  },
  {
   "cell_type": "markdown",
   "metadata": {
    "id": "0vQiTHj0Cc3F"
   },
   "source": [
    "### Pivot tables in Pandas"
   ]
  },
  {
   "cell_type": "code",
   "execution_count": null,
   "metadata": {
    "colab": {
     "base_uri": "https://localhost:8080/"
    },
    "executionInfo": {
     "elapsed": 11,
     "status": "ok",
     "timestamp": 1663167416991,
     "user": {
      "displayName": "Yogesh Kothiya",
      "userId": "16013917111822092306"
     },
     "user_tz": -330
    },
    "id": "OB_XUelTCcqf",
    "outputId": "816394e3-efdd-4b32-81d2-0d0c24179f3b"
   },
   "outputs": [],
   "source": [
    "#creating a dataframe\n",
    "import numpy as np\n",
    "df = pd.DataFrame({\"A\": [\"foo\", \"foo\", \"foo\", \"foo\", \"foo\",\n",
    "                         \"bar\", \"bar\", \"bar\", \"bar\"],\n",
    "                   \"B\": [\"one\", \"one\", \"one\", \"two\", \"two\",\n",
    "                         \"one\", \"one\", \"two\", \"two\"],\n",
    "                   \"C\": [\"small\", \"large\", \"large\", \"small\",\n",
    "                         \"small\", \"large\", \"small\", \"small\",\n",
    "                         \"large\"],\n",
    "                   \"D\": [1, 2, 2, 3, 3, 4, 5, 6, 7],\n",
    "                   \"E\": [2, 4, 5, 5, 6, 6, 8, 9, 9]})\n",
    "#aggregating using sum\n",
    "table = pd.pivot_table(df, values='D', index=['A', 'B'],\n",
    "                    columns=['C'], aggfunc=np.sum)\n",
    "print(table)"
   ]
  },
  {
   "cell_type": "code",
   "execution_count": null,
   "metadata": {
    "colab": {
     "base_uri": "https://localhost:8080/"
    },
    "executionInfo": {
     "elapsed": 9,
     "status": "ok",
     "timestamp": 1663167416991,
     "user": {
      "displayName": "Yogesh Kothiya",
      "userId": "16013917111822092306"
     },
     "user_tz": -330
    },
    "id": "R5Vx5Z_BkshO",
    "outputId": "1859605e-29e7-4850-c5d7-30e8511d3392"
   },
   "outputs": [],
   "source": [
    "#using fill_value to fill the missing value\n",
    "table1 = pd.pivot_table(df, values='D', index=['A', 'B'],\n",
    "                    columns=['C'], aggfunc=np.sum, fill_value=0)\n",
    "print(table1)"
   ]
  },
  {
   "cell_type": "code",
   "execution_count": null,
   "metadata": {
    "colab": {
     "base_uri": "https://localhost:8080/"
    },
    "executionInfo": {
     "elapsed": 6,
     "status": "ok",
     "timestamp": 1663167416991,
     "user": {
      "displayName": "Yogesh Kothiya",
      "userId": "16013917111822092306"
     },
     "user_tz": -330
    },
    "id": "wSCnJjsakvP_",
    "outputId": "a701a1c4-664f-4fa8-9f93-a848acf229be"
   },
   "outputs": [],
   "source": [
    "#using mean aggregate function\n",
    "table2 = pd.pivot_table(df, values=['D', 'E'], index=['A', 'C'],\n",
    "                    aggfunc={'D': np.mean,\n",
    "                             'E': np.mean})\n",
    "print(table2)"
   ]
  },
  {
   "cell_type": "code",
   "execution_count": null,
   "metadata": {
    "colab": {
     "base_uri": "https://localhost:8080/"
    },
    "executionInfo": {
     "elapsed": 3,
     "status": "ok",
     "timestamp": 1663167417272,
     "user": {
      "displayName": "Yogesh Kothiya",
      "userId": "16013917111822092306"
     },
     "user_tz": -330
    },
    "id": "i7VYtzIGkxDf",
    "outputId": "a14ca621-62d6-49e3-de8e-53ef6480b8c5"
   },
   "outputs": [],
   "source": [
    "#using multiple aggregates at a time\n",
    "table3 = pd.pivot_table(df, values=['D', 'E'], index=['A', 'C'],\n",
    "                    aggfunc={'D': np.mean,\n",
    "                             'E': [min, max, np.mean]})\n",
    "print(table3)"
   ]
  },
  {
   "cell_type": "markdown",
   "metadata": {
    "id": "AO5En4C2eLJ0"
   },
   "source": [
    "### Handling NULL values"
   ]
  },
  {
   "cell_type": "code",
   "execution_count": null,
   "metadata": {
    "colab": {
     "base_uri": "https://localhost:8080/"
    },
    "executionInfo": {
     "elapsed": 4,
     "status": "ok",
     "timestamp": 1663167417670,
     "user": {
      "displayName": "Yogesh Kothiya",
      "userId": "16013917111822092306"
     },
     "user_tz": -330
    },
    "id": "I8HTltEI2ziM",
    "outputId": "49561675-472c-425f-f9a0-da31e7b0f535"
   },
   "outputs": [],
   "source": [
    "import pandas as pd\n",
    "d = {\n",
    "      \"a\": [1, 2, 3, None],\n",
    "      \"b\": [1, None, 3, None],\n",
    "      \"c\": [1, 2, 3, None],\n",
    "      \"d\": [1, 2, 3, None]\n",
    "      }\n",
    "df = pd.DataFrame(d)\n",
    "print(\"The original DataFrame\")\n",
    "print(df)\n",
    "print(\"\\n-----------------------------\")\n",
    "print(\"Checking the given value is null or not\")\n",
    "print(df.isnull()) #check does given value is null\n",
    "\n",
    "print(\"\\n-----------------------------\")\n",
    "print(\"Checking the given value is not null or not\")\n",
    "print(df.notnull()) ##check does given value is not a null\n",
    "\n",
    "print(\"\\n-----------------------------\")\n",
    "print(\"Finding total missing value from each column\")\n",
    "print(df.isnull().sum()) # Additionally count the missing values.\n"
   ]
  },
  {
   "cell_type": "code",
   "execution_count": null,
   "metadata": {
    "colab": {
     "base_uri": "https://localhost:8080/",
     "height": 175
    },
    "executionInfo": {
     "elapsed": 10,
     "status": "ok",
     "timestamp": 1663167418465,
     "user": {
      "displayName": "Yogesh Kothiya",
      "userId": "16013917111822092306"
     },
     "user_tz": -330
    },
    "id": "3bbY6Od4yoA2",
    "outputId": "64d52caa-fd5d-4152-c068-1dedd1b0c733"
   },
   "outputs": [],
   "source": [
    "## Replace all NaN elements with 0s.\n",
    "df.fillna(0)"
   ]
  },
  {
   "cell_type": "code",
   "execution_count": null,
   "metadata": {
    "colab": {
     "base_uri": "https://localhost:8080/",
     "height": 175
    },
    "executionInfo": {
     "elapsed": 10,
     "status": "ok",
     "timestamp": 1663167418466,
     "user": {
      "displayName": "Yogesh Kothiya",
      "userId": "16013917111822092306"
     },
     "user_tz": -330
    },
    "id": "Mva27PnByyFA",
    "outputId": "6c3fb598-c9e7-478b-ed8a-468e20ed181e"
   },
   "outputs": [],
   "source": [
    "df"
   ]
  },
  {
   "cell_type": "code",
   "execution_count": null,
   "metadata": {
    "colab": {
     "base_uri": "https://localhost:8080/",
     "height": 175
    },
    "executionInfo": {
     "elapsed": 9,
     "status": "ok",
     "timestamp": 1663167418466,
     "user": {
      "displayName": "Yogesh Kothiya",
      "userId": "16013917111822092306"
     },
     "user_tz": -330
    },
    "id": "znHl4p-8ysAY",
    "outputId": "4154ba27-1d29-4c3c-c0af-7d64feaa05fb"
   },
   "outputs": [],
   "source": [
    "## Propagate non-null values forward\n",
    "df.fillna(method=\"ffill\")"
   ]
  },
  {
   "cell_type": "code",
   "execution_count": null,
   "metadata": {
    "colab": {
     "base_uri": "https://localhost:8080/",
     "height": 175
    },
    "executionInfo": {
     "elapsed": 8,
     "status": "ok",
     "timestamp": 1663167418466,
     "user": {
      "displayName": "Yogesh Kothiya",
      "userId": "16013917111822092306"
     },
     "user_tz": -330
    },
    "id": "hk2uzgCWzBrp",
    "outputId": "989a951c-b304-4d6e-a87c-bc75af8ee503"
   },
   "outputs": [],
   "source": [
    "# Replace all NaN elements in column ‘a’, ‘b’, ‘c’, and ‘d’, with 0, 1, 2, and 3 respectively.\n",
    "values = {\"a\": 0, \"b\": 1, \"c\": 2, \"d\": 3}\n",
    "df.fillna(value=values)"
   ]
  },
  {
   "cell_type": "code",
   "execution_count": null,
   "metadata": {
    "colab": {
     "base_uri": "https://localhost:8080/"
    },
    "executionInfo": {
     "elapsed": 2,
     "status": "ok",
     "timestamp": 1663167418770,
     "user": {
      "displayName": "Yogesh Kothiya",
      "userId": "16013917111822092306"
     },
     "user_tz": -330
    },
    "id": "Lbq3wHqpvBIH",
    "outputId": "f34fc446-9148-4726-de7f-f1f719482786"
   },
   "outputs": [],
   "source": [
    "print(\"-----------------------------\")\n",
    "df1 = df.dropna()\n",
    "print(\"Rows with index 1 and 3 are dropped.\")\n",
    "print(df1)\n",
    "\n",
    "print(\"\\n-----------------------------\")\n",
    "print(\"Rows with index 3 are dropped, whose values are all NA\")\n",
    "df2 = df.dropna(how='all')\n",
    "print(df2)"
   ]
  },
  {
   "cell_type": "code",
   "execution_count": null,
   "metadata": {
    "colab": {
     "base_uri": "https://localhost:8080/"
    },
    "executionInfo": {
     "elapsed": 5,
     "status": "ok",
     "timestamp": 1663167419439,
     "user": {
      "displayName": "Yogesh Kothiya",
      "userId": "16013917111822092306"
     },
     "user_tz": -330
    },
    "id": "6ZfmFQ7UvHtV",
    "outputId": "c5e27d8a-1a5e-4392-e086-7d81f0d381ad"
   },
   "outputs": [],
   "source": [
    "print(\"-----------------------------\")\n",
    "df['e'] = df['a'].fillna(1) + 1\n",
    "print(\"Column a b c d are dropped\")\n",
    "df3 = df.dropna(axis=1)\n",
    "print(df3)"
   ]
  }
 ],
 "metadata": {
  "colab": {
   "authorship_tag": "ABX9TyMBnGqUdTY+sZ05RuI7kmLQ",
   "collapsed_sections": [],
   "provenance": []
  },
  "kernelspec": {
   "display_name": "Python 3 (ipykernel)",
   "language": "python",
   "name": "python3"
  },
  "language_info": {
   "codemirror_mode": {
    "name": "ipython",
    "version": 3
   },
   "file_extension": ".py",
   "mimetype": "text/x-python",
   "name": "python",
   "nbconvert_exporter": "python",
   "pygments_lexer": "ipython3",
   "version": "3.11.2"
  }
 },
 "nbformat": 4,
 "nbformat_minor": 1
}
