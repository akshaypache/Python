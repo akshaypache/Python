{
 "cells": [
  {
   "cell_type": "markdown",
   "metadata": {
    "id": "sGEgqUhkqc4w"
   },
   "source": []
  },
  {
   "cell_type": "markdown",
   "metadata": {
    "id": "SIqLJnGOcXn7"
   },
   "source": [
    "**Question-1**\n",
    "Sometimes the data has few duplicate values which will affect the analysis done. In this problem, you will be given a list. You have to find and delete the duplicates and print the updated list with no duplicates.\n",
    "\n",
    "----------------------------------------------------------------------\n",
    "Input:\n",
    "A list of integers.\n",
    "\n",
    "Output:\n",
    "A list of integers, with duplicates removed if any.\n",
    "\n",
    "----------------------------------------------------------------------\n",
    "Sample input:\n",
    "[8, 9, 2, 2, 3, 4, 5, 2]\n",
    "\n",
    "Sample output:\n",
    "[8, 9, 2, 3, 4, 5]\n",
    "\n",
    "----------------------------------------------------------------------\n",
    "Sample input:\n",
    "[4, 4, 4, 4]\n",
    "\n",
    "Sample output:\n",
    "[4]\n",
    "\n",
    "----------------------------------------------------------------------\n",
    "Note the order of the data did not change in input and output.\n"
   ]
  },
  {
   "cell_type": "code",
   "execution_count": null,
   "metadata": {
    "colab": {
     "base_uri": "https://localhost:8080/"
    },
    "executionInfo": {
     "elapsed": 3401,
     "status": "ok",
     "timestamp": 1661102862203,
     "user": {
      "displayName": "Eshan Tiwari",
      "userId": "08888152677302974738"
     },
     "user_tz": -330
    },
    "id": "5EoEzQJJcemG",
    "outputId": "ceebdfb1-fe46-4793-cbf5-70c63515c8e1"
   },
   "outputs": [],
   "source": []
  },
  {
   "cell_type": "code",
   "execution_count": null,
   "metadata": {
    "id": "-5N1LGq8cm8l"
   },
   "outputs": [],
   "source": []
  },
  {
   "cell_type": "markdown",
   "metadata": {
    "id": "KvxzTPrtcnr7"
   },
   "source": [
    "**Question-2**\n",
    "\n",
    "You will be converting a dictionary, of string(keys) and list of string (values),  to a list of strings. Please check the sample input/output for clarification.\n",
    "\n",
    "\n",
    "Input:\n",
    "A dictionary with keys as strings and values as a list of strings.\n",
    "\n",
    "Output:\n",
    "A list of strings\n",
    "\n",
    "\n",
    "Sample input:\n",
    "\n",
    "{'Mobile': ['Redmi', 'Samsung', 'Realme'], \n",
    "'Laptop': ['Dell', 'HP'],\n",
    "'TV': ['Videocon', 'Sony'] }\n",
    "\n",
    "Sample output:\n",
    "\n",
    "['Mobile_Redmi', 'Mobile_Samsung', 'Mobile_Realme', 'Laptop_Dell', 'Laptop_HP', 'TV_Videocon', 'TV_Sony']\n",
    "\n",
    "\n",
    "Sample input:\n",
    "\n",
    "{ 'Pen': ['Gel', 'Ink', 'ball'],\n",
    "'Mobile': ['Android', 'apple'] }\n",
    "\n",
    "Sample output:\n",
    "\n",
    "['Pen_Gel', 'Pen_Ink', 'Pen_ball', 'Mobile_Android', 'Mobile_apple']\n"
   ]
  },
  {
   "cell_type": "code",
   "execution_count": null,
   "metadata": {
    "colab": {
     "base_uri": "https://localhost:8080/"
    },
    "executionInfo": {
     "elapsed": 11697,
     "status": "ok",
     "timestamp": 1661103152825,
     "user": {
      "displayName": "Eshan Tiwari",
      "userId": "08888152677302974738"
     },
     "user_tz": -330
    },
    "id": "UmvoqTNicxDM",
    "outputId": "ee98b739-5442-43f5-fda9-a600966c75c7"
   },
   "outputs": [],
   "source": []
  },
  {
   "cell_type": "markdown",
   "metadata": {
    "id": "AyPEFsjSeCzH"
   },
   "source": [
    "**Question-3**\n",
    "\n",
    "For the purpose of this question, we will define something called an Relevel string. Note that this definition is not valid outside this question. A string Relevel string if the frequency of its characters is something like 1, 2, 3, 4, .... That is a character appears only once, another appears twice, another appears thrice and so on. For example string '$yrr$ssrsr' is a beautiful string since the frequency of y:1, $:2, s:3, r:4, however string '$yrr$ssrsr%' will not be beautiful since it has two characters (y and %) with frequency 1. The frequency of characters should be of form 1, 2, 3, 4, 5... only.\n",
    "Given a string, can you determine if the string is Relevel string or no?\n",
    "\n",
    "\n",
    "Input:\n",
    "\n",
    "A string\n",
    "\n",
    "Output:\n",
    "\n",
    "Boolean depending whether the string is Relevel string or not\n",
    "\n",
    "\n",
    "Sample input:\n",
    "\n",
    "$yrr$ssrsr\n",
    "\n",
    "Sample output:\n",
    "\n",
    "True\n",
    "\n",
    "\n",
    "Sample input:\n",
    "\n",
    "$yrr$ssrsr%\n",
    "\n",
    "Sample output:\n",
    "\n",
    "False\n",
    "\n",
    "Sample input:\n",
    "\n",
    "ab#ab#aba\n",
    "\n",
    "Sample output:\n",
    "\n",
    "False\n",
    "\n",
    "Sample input:\n",
    "\n",
    "ab#ab#ab6a\n",
    "\n",
    "Sample output:\n",
    "\n",
    "True\n"
   ]
  },
  {
   "cell_type": "code",
   "execution_count": null,
   "metadata": {
    "colab": {
     "base_uri": "https://localhost:8080/"
    },
    "executionInfo": {
     "elapsed": 3256,
     "status": "ok",
     "timestamp": 1661103488045,
     "user": {
      "displayName": "Eshan Tiwari",
      "userId": "08888152677302974738"
     },
     "user_tz": -330
    },
    "id": "K-39RzCie0Do",
    "outputId": "e2b9f9b4-0440-4f6f-e452-c47db34321d5"
   },
   "outputs": [],
   "source": []
  },
  {
   "cell_type": "markdown",
   "metadata": {
    "id": "zXDTsbmHfDnO"
   },
   "source": [
    "**Question-4**\n",
    "\n",
    "You will be given a string with a lot of brackets. You have to print if the brackets are balanced or not. Remember, there are three types of brackets: ‘( )’,  ‘{ }’ and ‘[ ]’.\n",
    "\n",
    "----------------------------------------------------------------------\n",
    "Input:\n",
    "\n",
    "A string\n",
    "\n",
    "Output:\n",
    "\n",
    "Yes, if the brackets are balanced.\n",
    "No otherwise.\n",
    "\n",
    "----------------------------------------------------------------------\n",
    "Sample input:\n",
    "\n",
    "){[[]]}())()\n",
    "\n",
    "Sample output:\n",
    "\n",
    "No\n",
    "\n",
    "----------------------------------------------------------------------\n",
    "Sample input 2:\n",
    "\n",
    "[](){[]()(){}}\n",
    "\n",
    "Sample output 2:\n",
    "\n",
    "Yes\n"
   ]
  },
  {
   "cell_type": "code",
   "execution_count": null,
   "metadata": {
    "colab": {
     "base_uri": "https://localhost:8080/"
    },
    "executionInfo": {
     "elapsed": 7678,
     "status": "ok",
     "timestamp": 1661103599687,
     "user": {
      "displayName": "Eshan Tiwari",
      "userId": "08888152677302974738"
     },
     "user_tz": -330
    },
    "id": "fbGMxA3PfTOF",
    "outputId": "34b0dacf-93ad-4ed0-9473-519e17031da3"
   },
   "outputs": [],
   "source": []
  },
  {
   "cell_type": "markdown",
   "metadata": {
    "id": "YVEB_vE0gAmM"
   },
   "source": [
    "**Question-5**\n",
    "\n",
    "You will be given a list of repeated elements. You have to find the maximum distance between two same elements. The answer will be zero if there are no repeated elements.\n",
    "\n",
    "----------------------------------------------------------------------\n",
    "Input:\n",
    "A non-empty list of integers.\n",
    "\n",
    "Output:\n",
    "A single integer denoting the maximum distance between two same integers.\n",
    "\n",
    "----------------------------------------------------------------------\n",
    "Sample input:\n",
    "\n",
    "[1, 2, 3, 2, 5, 1, 2, 4, 6, 2, 7, 8, 6]\n",
    "\n",
    "Sample output:\n",
    "\n",
    "8\n",
    "\n",
    "Explanation:\n",
    "\n",
    "Max distance for 1: 5\n",
    "\n",
    "Max distance for 2: 8\n",
    "\n",
    "Max distance for 3: 0\n",
    "\n",
    "Max distance for 4: 0\n",
    "\n",
    "Max distance for 5: 0\n",
    "\n",
    "Max distance for 6: 4\n",
    "\n",
    "Max distance for 7: 0\n",
    "\n",
    "Max distance for 8: 0"
   ]
  },
  {
   "cell_type": "code",
   "execution_count": null,
   "metadata": {
    "colab": {
     "base_uri": "https://localhost:8080/"
    },
    "executionInfo": {
     "elapsed": 9533,
     "status": "ok",
     "timestamp": 1661103866042,
     "user": {
      "displayName": "Eshan Tiwari",
      "userId": "08888152677302974738"
     },
     "user_tz": -330
    },
    "id": "9h0768eTgUoU",
    "outputId": "48dbc07b-f7c5-450b-c58d-f09219349f30"
   },
   "outputs": [],
   "source": []
  },
  {
   "cell_type": "markdown",
   "metadata": {
    "id": "jAJt2LlmgbaB"
   },
   "source": [
    "**Question-6:**\n",
    "\n",
    "You have an array of integers of length n spanning 0 to n with one missing. Write a function missing_number that returns the missing number in the array.\n",
    "\n",
    "Sample Input:\n",
    "\n",
    "[0,1,2,4,5] \n",
    "\n",
    "Sample Output:\n",
    "\n",
    "missing_number(nums) -> 3"
   ]
  },
  {
   "cell_type": "code",
   "execution_count": null,
   "metadata": {
    "colab": {
     "base_uri": "https://localhost:8080/"
    },
    "executionInfo": {
     "elapsed": 5847,
     "status": "ok",
     "timestamp": 1661105616490,
     "user": {
      "displayName": "Eshan Tiwari",
      "userId": "08888152677302974738"
     },
     "user_tz": -330
    },
    "id": "dv_BdgxggkAr",
    "outputId": "148676fc-accb-4728-a676-65aceb12be8f"
   },
   "outputs": [],
   "source": []
  },
  {
   "cell_type": "code",
   "execution_count": null,
   "metadata": {
    "id": "sQ1oxs4Agkmb"
   },
   "outputs": [],
   "source": []
  },
  {
   "cell_type": "markdown",
   "metadata": {
    "id": "0ZdkQ4vknU9U"
   },
   "source": [
    "**Question-7:**\n",
    "\n",
    "Let’s say there are many vehicles on a long road. At each mile along the road, a checkpoint indicates the length traveled across the road.\n",
    "\n",
    "You are given a list called vehicles which indicates the number of vehicles between each checkpoint. For example, the list [7,4,3] would mean that there are seven vehicles before the first checkpoint, four vehicles between the first and second checkpoints, and three vehicles between the second and third checkpoints.\n",
    "\n",
    "Write a function range_vehicles that will give the number of vehicles between the start and end checkpoints.\n",
    "\n",
    "Note: start may be 0\n",
    "\n",
    "**Input:**\n",
    "\n",
    "vehicles = [5,6,4,2,1]\n",
    "\n",
    "start = 1\n",
    "\n",
    "end = 3\n",
    "\n",
    "**Output:**\n",
    "\n",
    "10"
   ]
  },
  {
   "cell_type": "code",
   "execution_count": null,
   "metadata": {
    "colab": {
     "base_uri": "https://localhost:8080/"
    },
    "executionInfo": {
     "elapsed": 9166,
     "status": "ok",
     "timestamp": 1661106034877,
     "user": {
      "displayName": "Eshan Tiwari",
      "userId": "08888152677302974738"
     },
     "user_tz": -330
    },
    "id": "hdjyisCEgkr-",
    "outputId": "fe3c3c44-33d3-4c6b-ad6a-fb731fe8703e"
   },
   "outputs": [],
   "source": []
  },
  {
   "cell_type": "markdown",
   "metadata": {
    "id": "snRncX6So1Cj"
   },
   "source": [
    "**Question-8**\n",
    "\n",
    "Given a dictionary with keys of letters and values of a list of letters, write a function closest_key to find the key with the input value closest to the beginning of the list.\n",
    "\n",
    "**Input:**\n",
    "\n",
    "dictionary = {\n",
    "    'a' : ['b','c','e'],\n",
    "    'm' : ['c','e'],\n",
    "}\n",
    "\n",
    "input = 'c'\n",
    "\n",
    "**Ouput:**\n",
    "\n",
    "m"
   ]
  },
  {
   "cell_type": "code",
   "execution_count": null,
   "metadata": {
    "id": "PPvD6VWcpSRX"
   },
   "outputs": [],
   "source": []
  },
  {
   "cell_type": "markdown",
   "metadata": {
    "id": "6szOQVmNq-bG"
   },
   "source": [
    "**Question-9**\n",
    "\n",
    "You are given a string that represents some floating-point number. Write a function, digit_accumulator, that returns the sum of every digit in the string.\n",
    "\n",
    "**Input:**\n",
    "\n",
    "s = \"123.0045\"\n",
    "\n",
    "**Output:**\n",
    "\n",
    "15"
   ]
  },
  {
   "cell_type": "code",
   "execution_count": null,
   "metadata": {
    "colab": {
     "base_uri": "https://localhost:8080/"
    },
    "executionInfo": {
     "elapsed": 4298,
     "status": "ok",
     "timestamp": 1661106931500,
     "user": {
      "displayName": "Eshan Tiwari",
      "userId": "08888152677302974738"
     },
     "user_tz": -330
    },
    "id": "3e5jMNQErNKY",
    "outputId": "25026bf7-48f0-4447-ab2c-3d459efa708b"
   },
   "outputs": [],
   "source": []
  },
  {
   "cell_type": "markdown",
   "metadata": {
    "id": "v6KK37D2ujgE"
   },
   "source": [
    "**Question-10**\n",
    "\n",
    "Using the Map function, create a list 'cube', which consists of the cube of numbers in input_list.\n",
    "\n",
    "Input:\n",
    "\n",
    "[5,6,4,8,9] \n",
    "\n",
    "Output:\n",
    "\n",
    "[125, 216, 64, 512, 729]."
   ]
  },
  {
   "cell_type": "code",
   "execution_count": null,
   "metadata": {
    "colab": {
     "base_uri": "https://localhost:8080/"
    },
    "executionInfo": {
     "elapsed": 7895,
     "status": "ok",
     "timestamp": 1662031291703,
     "user": {
      "displayName": "Eshan Tiwari",
      "userId": "08888152677302974738"
     },
     "user_tz": -330
    },
    "id": "-2TCIBPYx8BC",
    "outputId": "580ad5d3-e103-4203-99ee-b95a6eb49f81"
   },
   "outputs": [],
   "source": []
  },
  {
   "cell_type": "markdown",
   "metadata": {
    "id": "9iDWPH2F0717"
   },
   "source": [
    "**Question-11**\n",
    "\n",
    "Create a list ‘name’ consisting of the combination of the first name and the second name from list 1 and 2 respectively. \n",
    "\n",
    "\n",
    "Input:\n",
    "\n",
    "[ ['Ankur', 'Avik', 'Kiran', 'Nitin'], ['Narang', 'Sarkar', 'R', 'Sareen']]\n",
    "\n",
    "Output:\n",
    "\n",
    "['Ankur Narang', 'Avik Sarkar', 'Kiran R', 'Nitin Sareen']"
   ]
  },
  {
   "cell_type": "code",
   "execution_count": null,
   "metadata": {
    "colab": {
     "base_uri": "https://localhost:8080/"
    },
    "executionInfo": {
     "elapsed": 7931,
     "status": "ok",
     "timestamp": 1662032127136,
     "user": {
      "displayName": "Eshan Tiwari",
      "userId": "08888152677302974738"
     },
     "user_tz": -330
    },
    "id": "lgANu95x1PfQ",
    "outputId": "2bf04d7b-acfd-415a-e157-bed6a326667d"
   },
   "outputs": [],
   "source": []
  },
  {
   "cell_type": "markdown",
   "metadata": {
    "id": "e6o7cXO_2Lvg"
   },
   "source": [
    "**Question-12**\n",
    "\n",
    "Add the element ‘Python’ to a tuple input_tuple = ('Monty Python', 'British', 1969). "
   ]
  },
  {
   "cell_type": "code",
   "execution_count": null,
   "metadata": {
    "colab": {
     "base_uri": "https://localhost:8080/"
    },
    "executionInfo": {
     "elapsed": 7861,
     "status": "ok",
     "timestamp": 1662032398768,
     "user": {
      "displayName": "Eshan Tiwari",
      "userId": "08888152677302974738"
     },
     "user_tz": -330
    },
    "id": "ZJjsEOoh2S8y",
    "outputId": "a03e111a-d464-4e53-dea2-e4e29c15f5ae"
   },
   "outputs": [],
   "source": []
  }
 ],
 "metadata": {
  "colab": {
   "collapsed_sections": [],
   "provenance": [
    {
     "file_id": "1A3mkHyB-J9-eyosN8kX_221T3BzxDWTM",
     "timestamp": 1662963676168
    }
   ]
  },
  "kernelspec": {
   "display_name": "Python 3 (ipykernel)",
   "language": "python",
   "name": "python3"
  },
  "language_info": {
   "codemirror_mode": {
    "name": "ipython",
    "version": 3
   },
   "file_extension": ".py",
   "mimetype": "text/x-python",
   "name": "python",
   "nbconvert_exporter": "python",
   "pygments_lexer": "ipython3",
   "version": "3.11.2"
  }
 },
 "nbformat": 4,
 "nbformat_minor": 1
}
