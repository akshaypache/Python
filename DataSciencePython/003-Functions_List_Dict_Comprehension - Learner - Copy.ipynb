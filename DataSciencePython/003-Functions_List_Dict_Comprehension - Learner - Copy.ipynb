{
 "cells": [
  {
   "cell_type": "markdown",
   "metadata": {
    "id": "C2GiPDzAIik_"
   },
   "source": [
    "# List Comprehension"
   ]
  },
  {
   "cell_type": "markdown",
   "metadata": {
    "id": "-SMS-BqiUpgh"
   },
   "source": [
    "List comprehension allows shorter way of writing a for loop"
   ]
  },
  {
   "cell_type": "markdown",
   "metadata": {
    "id": "UH9me4Z1G6-Z"
   },
   "source": [
    "\n",
    "\n",
    "```\n",
    "#Syntax for list comprehension\n",
    "newList = [ expression(element) for element in oldList ] \n",
    "```\n",
    "\n"
   ]
  },
  {
   "cell_type": "code",
   "execution_count": 2,
   "metadata": {
    "id": "Ut9kL-IDIr6d"
   },
   "outputs": [
    {
     "name": "stdout",
     "output_type": "stream",
     "text": [
      "[0, 1, 2, 3, 4, 5, 6, 7, 8, 9, 10, 11, 12, 13, 14]\n"
     ]
    }
   ],
   "source": [
    "## Iterate from 0 to 14 using for and range function\n",
    "l = []\n",
    "for i in range(15):\n",
    "    l.append(i)\n",
    "print(l)"
   ]
  },
  {
   "cell_type": "code",
   "execution_count": 1,
   "metadata": {
    "id": "lnPeFCPGIxIU"
   },
   "outputs": [
    {
     "name": "stdout",
     "output_type": "stream",
     "text": [
      "[0, 1, 2, 3, 4, 5, 6, 7, 8, 9, 10, 11, 12, 13, 14]\n"
     ]
    }
   ],
   "source": [
    "## Iterate from 0 to 14 using list comprehension\n",
    "list = [i for i in range(15)]\n",
    "print(list)"
   ]
  },
  {
   "cell_type": "code",
   "execution_count": 4,
   "metadata": {},
   "outputs": [
    {
     "name": "stdout",
     "output_type": "stream",
     "text": [
      "Enter a number = 9\n",
      "[9, 18, 27, 36, 45, 54, 63, 72, 81, 90]\n"
     ]
    }
   ],
   "source": [
    "a = int(input(\"Enter a number = \"))\n",
    "list = [i*a for i in range(1,11)]\n",
    "print(list)"
   ]
  },
  {
   "cell_type": "markdown",
   "metadata": {
    "id": "uv9PTpqlIhiU"
   },
   "source": [
    "List comprehension allows shorter way of writing a for loop"
   ]
  },
  {
   "cell_type": "markdown",
   "metadata": {
    "id": "-FGxREEIIhid"
   },
   "source": [
    "\n",
    "\n",
    "```\n",
    "#Syntax for list comprehension\n",
    "newList = [ expression(element) for element in oldList if condition ] \n",
    "```\n",
    "\n"
   ]
  },
  {
   "cell_type": "markdown",
   "metadata": {
    "id": "YWkyzD6ST0dE"
   },
   "source": [
    "### Conditionals in list comprehension"
   ]
  },
  {
   "cell_type": "code",
   "execution_count": 5,
   "metadata": {
    "id": "P7wCP-BiH3XU"
   },
   "outputs": [
    {
     "name": "stdout",
     "output_type": "stream",
     "text": [
      "[1, 3, 5, 7, 9, 11, 13]\n"
     ]
    }
   ],
   "source": [
    "## Iterate from 0 to 14 using for and range function. Print only odd numbers\n",
    "l = []\n",
    "for i in range(0,15):\n",
    "    if(i%2==1):\n",
    "        l.append(i)\n",
    "print(l)"
   ]
  },
  {
   "cell_type": "code",
   "execution_count": 6,
   "metadata": {},
   "outputs": [
    {
     "name": "stdout",
     "output_type": "stream",
     "text": [
      "[1, 3, 5, 7, 9, 11, 13]\n"
     ]
    }
   ],
   "source": [
    "list = [i for i in range(15) if i%2==1]\n",
    "print(list)"
   ]
  },
  {
   "cell_type": "code",
   "execution_count": 7,
   "metadata": {
    "id": "1i1qyHnOT8-l"
   },
   "outputs": [
    {
     "name": "stdout",
     "output_type": "stream",
     "text": [
      "[1, 3, 5, 7, 9, 11, 13]\n"
     ]
    }
   ],
   "source": [
    "#Print all odd natural numbers till 13 using conditional list comprehension\n",
    "list = [i for i in range(14) if i%2==1]\n",
    "print(list)"
   ]
  },
  {
   "cell_type": "markdown",
   "metadata": {
    "id": "B6LVXmytUTUM"
   },
   "source": [
    "### Performance comparison : List comprehension Vs For loop"
   ]
  },
  {
   "cell_type": "markdown",
   "metadata": {
    "id": "0E95eQuJQDhb"
   },
   "source": [
    "List comprehension is more efficient than for loop in terms of time and space."
   ]
  },
  {
   "cell_type": "code",
   "execution_count": 8,
   "metadata": {
    "id": "mocf9U70Im2Y"
   },
   "outputs": [
    {
     "name": "stdout",
     "output_type": "stream",
     "text": [
      "time of execution using for loop :  0.21158623695373535 seconds\n",
      "time of execution using list comprehension :  0.11261940002441406 seconds\n"
     ]
    }
   ],
   "source": [
    "#comparison of time difference between execution of list comprehension and for loop\n",
    "import time\n",
    "start_time = time.time()\n",
    "for_list = []\n",
    "for i in range(1000000):\n",
    "    for_list.append(i*i)\n",
    "print(\"time of execution using for loop :  %s seconds\" % (time.time() - start_time))\n",
    "\n",
    "current_time = time.time()\n",
    "comp_list = [i*i for i in range(1000000)]\n",
    "print(\"time of execution using list comprehension :  %s seconds\" % (time.time() - current_time))"
   ]
  },
  {
   "cell_type": "markdown",
   "metadata": {
    "id": "s17hFQ8ERvPV"
   },
   "source": [
    "We can see from above example that list comprehension took almost half time for execution as compared to for loop for performing the same **task**"
   ]
  },
  {
   "cell_type": "markdown",
   "metadata": {
    "id": "5iSXfl9gN6Cg"
   },
   "source": [
    "# Dict Comprehension"
   ]
  },
  {
   "cell_type": "code",
   "execution_count": 12,
   "metadata": {
    "id": "mMLedBGPN5fI"
   },
   "outputs": [],
   "source": [
    "#item price in dollars\n",
    "dollar_price = {'mic': 11.02, 'speaker': 12.5, 'headphones': 22.5}\n",
    "\n",
    "dollar_to_inr = 79.43\n"
   ]
  },
  {
   "cell_type": "code",
   "execution_count": 13,
   "metadata": {
    "id": "0SC5G7EiO0N4"
   },
   "outputs": [
    {
     "name": "stdout",
     "output_type": "stream",
     "text": [
      "{'mic': 875.3186000000001, 'speaker': 992.8750000000001, 'headphones': 1787.1750000000002}\n"
     ]
    }
   ],
   "source": [
    "# Item price in inr for all the dict items using For loop\n",
    "new_dict ={}\n",
    "\n",
    "for key,value in dollar_price.items():\n",
    "    new_dict.update({key : value*dollar_to_inr})\n",
    "print(new_dict)\n"
   ]
  },
  {
   "cell_type": "code",
   "execution_count": 22,
   "metadata": {
    "id": "vLMo7gKIO0iO"
   },
   "outputs": [
    {
     "data": {
      "text/plain": [
       "{'mic': 875.3186000000001,\n",
       " 'speaker': 992.8750000000001,\n",
       " 'headphones': 1787.1750000000002}"
      ]
     },
     "execution_count": 22,
     "metadata": {},
     "output_type": "execute_result"
    }
   ],
   "source": [
    "# Item price in inr for all the dict items using Dict Comprehension\n",
    "\n",
    "{key:value*dollar_to_inr for key,value in dollar_price.items()}"
   ]
  },
  {
   "cell_type": "markdown",
   "metadata": {
    "id": "N5UqvRinP1Jf"
   },
   "source": [
    "### Conditionals in Dict Comprehension"
   ]
  },
  {
   "cell_type": "code",
   "execution_count": 28,
   "metadata": {
    "id": "9KEVDje9Pyyn"
   },
   "outputs": [
    {
     "data": {
      "text/plain": [
       "{'Veer': 48, 'Aakruti': 57}"
      ]
     },
     "execution_count": 28,
     "metadata": {},
     "output_type": "execute_result"
    }
   ],
   "source": [
    "## From the below Dict filter the names whoes age is more than 40\n",
    "citi_age = {'Ramesh ': 38, 'Veer': 48, 'Aakruti': 57, 'Meneka': 33}\n",
    "\n",
    "# {action forloop ifCondition}\n",
    "{name:age for name,age in citi_age.items() if age>40}\n"
   ]
  },
  {
   "cell_type": "markdown",
   "metadata": {
    "id": "mp-ejhWHMKbP"
   },
   "source": [
    "# Functions"
   ]
  },
  {
   "cell_type": "markdown",
   "metadata": {
    "id": "9gxepGxhRjuM"
   },
   "source": [
    "in-built function.\n",
    "\n",
    "First, len() is called with the argument \"second\". The length of the string\n",
    "\"second\" is calculated, which is the number 6. Then len() returns the\n",
    "number 6 and replaces the function call with the value."
   ]
  },
  {
   "cell_type": "code",
   "execution_count": 31,
   "metadata": {
    "id": "6619tkRWUfY-"
   },
   "outputs": [
    {
     "name": "stdout",
     "output_type": "stream",
     "text": [
      "Help on built-in function len in module builtins:\n",
      "\n",
      "len(obj, /)\n",
      "    Return the number of items in a container.\n",
      "\n"
     ]
    }
   ],
   "source": [
    "help(len)"
   ]
  },
  {
   "cell_type": "code",
   "execution_count": 32,
   "metadata": {
    "id": "N3N_uy3iRi5z"
   },
   "outputs": [
    {
     "data": {
      "text/plain": [
       "6"
      ]
     },
     "execution_count": 32,
     "metadata": {},
     "output_type": "execute_result"
    }
   ],
   "source": [
    "num_letters = len(\"second\")  ## It is equivalent to num_letters = 6\n",
    "\n",
    "num_letters"
   ]
  },
  {
   "cell_type": "code",
   "execution_count": 35,
   "metadata": {
    "id": "fRoNkHJoSbYo"
   },
   "outputs": [
    {
     "data": {
      "text/plain": [
       "15"
      ]
     },
     "execution_count": 35,
     "metadata": {},
     "output_type": "execute_result"
    }
   ],
   "source": [
    "l = [1, 2, 3, 4, 5]\n",
    "\n",
    "sum_of_list = sum(l)\n",
    "sum_of_list"
   ]
  },
  {
   "cell_type": "markdown",
   "metadata": {
    "id": "7yo22SKMEpf5"
   },
   "source": [
    "Syntax of user defined function\n",
    "```\n",
    "def function_name(argument1, argument2):\n",
    "  statement 1\n",
    "  statement 2\n",
    "  ...\n",
    "  statement n\n",
    "```\n",
    "\n"
   ]
  },
  {
   "cell_type": "markdown",
   "metadata": {
    "id": "A-Sify0RFrXB"
   },
   "source": [
    "Example of a function"
   ]
  },
  {
   "cell_type": "code",
   "execution_count": 36,
   "metadata": {
    "id": "7qdLCD8JXZji"
   },
   "outputs": [
    {
     "name": "stdout",
     "output_type": "stream",
     "text": [
      "10\n"
     ]
    }
   ],
   "source": [
    "# create a function to print multiplication of two numbers\n",
    "\n",
    "def multiply(a,b):\n",
    "    c = a*b\n",
    "    print(c)\n",
    "multiply(2,5)"
   ]
  },
  {
   "cell_type": "code",
   "execution_count": 37,
   "metadata": {
    "id": "WRZsJTX5UriZ"
   },
   "outputs": [
    {
     "name": "stdout",
     "output_type": "stream",
     "text": [
      "Help on function multiply in module __main__:\n",
      "\n",
      "multiply(a, b)\n",
      "\n"
     ]
    }
   ],
   "source": [
    "help(multiply)"
   ]
  },
  {
   "cell_type": "code",
   "execution_count": 41,
   "metadata": {
    "id": "diNbhBIhUxcb"
   },
   "outputs": [
    {
     "name": "stdout",
     "output_type": "stream",
     "text": [
      "8\n"
     ]
    }
   ],
   "source": [
    "## Document the function\n",
    "def sum_two_numbers(a,b):\n",
    "  \"\"\" this function can add 2 number \"\"\"\n",
    "  print(a+b)\n",
    "\n",
    "sum_two_numbers(3,5)"
   ]
  },
  {
   "cell_type": "code",
   "execution_count": 42,
   "metadata": {
    "id": "JD0N7z6-U4cV"
   },
   "outputs": [
    {
     "name": "stdout",
     "output_type": "stream",
     "text": [
      "Help on function sum_two_numbers in module __main__:\n",
      "\n",
      "sum_two_numbers(a, b)\n",
      "    this function can add 2 number\n",
      "\n"
     ]
    }
   ],
   "source": [
    "help(sum_two_numbers)"
   ]
  },
  {
   "cell_type": "markdown",
   "metadata": {
    "id": "BM-DDSgVGYx5"
   },
   "source": [
    "Function with default arguments"
   ]
  },
  {
   "cell_type": "code",
   "execution_count": 3,
   "metadata": {
    "id": "iTEM-P99HJuv"
   },
   "outputs": [
    {
     "name": "stdout",
     "output_type": "stream",
     "text": [
      "Hello Varun, Welcome to Python fundamental class!\n",
      "Hello Kiara, How are you\n"
     ]
    }
   ],
   "source": [
    "#call the given function twice ;  Once with both the arguments and once with only single arguments \n",
    "def welcome_msg(name, msg=\"Welcome to Python fundamental class!\"):\n",
    "    \"\"\"\n",
    "    ...\n",
    "    \"\"\"\n",
    "    print(\"Hello\", name + ', ' + msg)\n",
    "\n",
    "\n",
    "welcome_msg(\"Varun\")\n",
    "welcome_msg(\"Kiara\", \"How are you\")"
   ]
  },
  {
   "cell_type": "markdown",
   "metadata": {
    "id": "jghC1RTFH6Ho"
   },
   "source": [
    "### Function with keyword argument"
   ]
  },
  {
   "cell_type": "code",
   "execution_count": 14,
   "metadata": {},
   "outputs": [],
   "source": [
    "def sumOfAllNumbers(*args):\n",
    "    print(sum(args))"
   ]
  },
  {
   "cell_type": "code",
   "execution_count": 15,
   "metadata": {},
   "outputs": [
    {
     "name": "stdout",
     "output_type": "stream",
     "text": [
      "89\n"
     ]
    }
   ],
   "source": [
    "sumOfAllNumbers(12,23,54)"
   ]
  },
  {
   "cell_type": "code",
   "execution_count": 7,
   "metadata": {
    "id": "GHy18k68H_Mm"
   },
   "outputs": [],
   "source": [
    "#Call the given function using keyword arguments name3=\"Varun\", name2=\"Karan\" and name3=\"Taslim\"\n",
    "\n",
    "def welcome(**kwargs):\n",
    "    for key,value in kwargs.items():\n",
    "        print(\"welcome \"+value+\"!!!\")"
   ]
  },
  {
   "cell_type": "code",
   "execution_count": 8,
   "metadata": {},
   "outputs": [
    {
     "name": "stdout",
     "output_type": "stream",
     "text": [
      "welcome Varun!!!\n",
      "welcome Karan!!!\n",
      "welcome Taslim!!!\n"
     ]
    }
   ],
   "source": [
    "welcome(name1=\"Varun\",name2=\"Karan\",name3=\"Taslim\")"
   ]
  },
  {
   "cell_type": "markdown",
   "metadata": {
    "id": "DbtSm_c0H_z7"
   },
   "source": [
    "### Function with variable argument"
   ]
  },
  {
   "cell_type": "code",
   "execution_count": 11,
   "metadata": {
    "id": "M4Ah0-JFIDgI"
   },
   "outputs": [],
   "source": [
    "#Call the given function and print the name of third child : names of child's in order are Varun, Karan and Taslim\n",
    "def print_name_3_child(*args):\n",
    "    print(\"name of 3rd child is\",args[2])"
   ]
  },
  {
   "cell_type": "code",
   "execution_count": 13,
   "metadata": {},
   "outputs": [
    {
     "name": "stdout",
     "output_type": "stream",
     "text": [
      "name of 3rd child is Jaya\n"
     ]
    }
   ],
   "source": [
    "print_name_3_child(\"Hema\",\"Rekha\",\"Jaya\",\"Sushama\")"
   ]
  },
  {
   "cell_type": "code",
   "execution_count": 16,
   "metadata": {
    "id": "iXMrMR9D_PrG"
   },
   "outputs": [],
   "source": [
    "# Call the given function using variable keyworded argument with first name as \"Hari\" and lastname as \"Khan\"\n",
    "def full_name(**kwargs):\n",
    "    value = list(kwargs.values())\n",
    "    print(\"First name is :\",value[0],\"and Last name is :\",value[1])"
   ]
  },
  {
   "cell_type": "code",
   "execution_count": 17,
   "metadata": {},
   "outputs": [
    {
     "name": "stdout",
     "output_type": "stream",
     "text": [
      "First name is : Aadesh and Last name is : Lokhande\n"
     ]
    }
   ],
   "source": [
    "full_name(firstName = \"Aadesh\", lastName = \"Lokhande\")"
   ]
  },
  {
   "cell_type": "markdown",
   "metadata": {
    "id": "I2tFvcel_VCg"
   },
   "source": [
    "### Function with return value"
   ]
  },
  {
   "cell_type": "code",
   "execution_count": null,
   "metadata": {
    "id": "MLL-sh-o_brg"
   },
   "outputs": [],
   "source": [
    "# calcute the output of following function with input value as 5\n",
    "\n"
   ]
  },
  {
   "cell_type": "markdown",
   "metadata": {
    "id": "d0TqX_RhiDwP"
   },
   "source": [
    "### Function with multple return values"
   ]
  },
  {
   "cell_type": "code",
   "execution_count": 19,
   "metadata": {
    "id": "yCZohqXdiEJQ"
   },
   "outputs": [
    {
     "name": "stdout",
     "output_type": "stream",
     "text": [
      "50 30\n"
     ]
    }
   ],
   "source": [
    "## Write a function \"calculation\" which returns the addition and substraction\n",
    "def calculation(a, b):\n",
    "    add = a + b\n",
    "    sub = a - b\n",
    "    return add,sub\n",
    "\n",
    "\n",
    "output1,output2 = calculation(40, 10)\n",
    "print(output1,output2)"
   ]
  },
  {
   "cell_type": "markdown",
   "metadata": {
    "id": "c1ROe6b5InQv"
   },
   "source": [
    "# Lambda/Anonymous Function"
   ]
  },
  {
   "cell_type": "markdown",
   "metadata": {
    "id": "JG2s5_KRVewp"
   },
   "source": [
    "Lambda functions are short anonymous functions that needs no name. They can take any number of arguments but returns only single expression."
   ]
  },
  {
   "cell_type": "markdown",
   "metadata": {
    "id": "NLN-XzfFatzd"
   },
   "source": [
    "\n",
    "\n",
    "```\n",
    "#Syntax for lambda\n",
    "lambda arguments : expression\n",
    "```\n",
    "\n"
   ]
  },
  {
   "cell_type": "markdown",
   "metadata": {
    "id": "S4XNe9HnWH1j"
   },
   "source": [
    "### Lambda function Vs Regular function"
   ]
  },
  {
   "cell_type": "code",
   "execution_count": 21,
   "metadata": {
    "id": "99mF49vkI2DE"
   },
   "outputs": [
    {
     "name": "stdout",
     "output_type": "stream",
     "text": [
      "36\n"
     ]
    },
    {
     "data": {
      "text/plain": [
       "30"
      ]
     },
     "execution_count": 21,
     "metadata": {},
     "output_type": "execute_result"
    }
   ],
   "source": [
    "#Multiply variable by 3 using lambda function\n",
    "\n",
    "f = lambda x : x * 3\n",
    "print(f(12))\n",
    "#Multiply variable by 3 using regular function\n",
    "def multiplyby3(x):\n",
    "  return x*3\n",
    "\n",
    "multiplyby3(10)"
   ]
  },
  {
   "cell_type": "markdown",
   "metadata": {
    "id": "ecQnk2DjjOUV"
   },
   "source": [
    "### Lambda function with conditional statement"
   ]
  },
  {
   "cell_type": "code",
   "execution_count": 27,
   "metadata": {
    "id": "IBkksS3tkRpx"
   },
   "outputs": [],
   "source": [
    "# Use Lambda function with if-else to find a cube a positive number and return None if negative\n",
    "cube = lambda x : x**3 if x>0 else None"
   ]
  },
  {
   "cell_type": "code",
   "execution_count": 28,
   "metadata": {},
   "outputs": [
    {
     "data": {
      "text/plain": [
       "1000"
      ]
     },
     "execution_count": 28,
     "metadata": {},
     "output_type": "execute_result"
    }
   ],
   "source": [
    "cube(10)"
   ]
  },
  {
   "cell_type": "markdown",
   "metadata": {
    "id": "JpW7HOjslljD"
   },
   "source": [
    "### Lambda functions within user defined function"
   ]
  },
  {
   "cell_type": "code",
   "execution_count": 30,
   "metadata": {
    "id": "EF_5pSTuluhq"
   },
   "outputs": [
    {
     "name": "stdout",
     "output_type": "stream",
     "text": [
      "<function variable_func.<locals>.<lambda> at 0x000002125B1D2AC0>\n",
      "30\n"
     ]
    }
   ],
   "source": [
    "#example of lambda function within user defined function\n",
    "\n",
    "def variable_func(n):\n",
    "    return lambda x : x * n\n",
    "\n",
    "multiple_times = variable_func(3)\n",
    "print(multiple_times)\n",
    "print(multiple_times(10))"
   ]
  },
  {
   "cell_type": "markdown",
   "metadata": {
    "id": "ul_wBZJHI2QF"
   },
   "source": [
    "# Some important inbuilt high order functions"
   ]
  },
  {
   "cell_type": "markdown",
   "metadata": {
    "id": "cGZe0etZI6G8"
   },
   "source": [
    "## Map function"
   ]
  },
  {
   "cell_type": "markdown",
   "metadata": {
    "id": "dtULvZuZp8Ax"
   },
   "source": [
    "\n",
    "\n",
    "```\n",
    "#syntax of map function\n",
    "map(function, iterables) \n",
    "```\n",
    "\n"
   ]
  },
  {
   "cell_type": "code",
   "execution_count": 31,
   "metadata": {
    "id": "ye0eoGb5n23O"
   },
   "outputs": [
    {
     "data": {
      "text/plain": [
       "[1, 8, 27, 64, 125]"
      ]
     },
     "execution_count": 31,
     "metadata": {},
     "output_type": "execute_result"
    }
   ],
   "source": [
    "#Print cubes of all natural numbers till 5 using map function\n",
    "\n",
    "list(map(lambda x : x**3, range(1,6)))"
   ]
  },
  {
   "cell_type": "markdown",
   "metadata": {
    "id": "sQraUp7OodTW"
   },
   "source": [
    "### Map with lambda function"
   ]
  },
  {
   "cell_type": "code",
   "execution_count": 35,
   "metadata": {
    "id": "VYQ6QLT2ohWb"
   },
   "outputs": [
    {
     "name": "stdout",
     "output_type": "stream",
     "text": [
      "[1, 8, 27, 64, 125]\n"
     ]
    }
   ],
   "source": [
    "#Print cubes from 1 to 5 using map and lambda cube function\n",
    "\n",
    "pow_ = [3,3,3,3,3]\n",
    "\n",
    "result = map(lambda n1,n2 : n1**n2, range(1,6),pow_)\n",
    "print(list(result))"
   ]
  },
  {
   "cell_type": "markdown",
   "metadata": {
    "id": "WIMYyw1t5Ygh"
   },
   "source": [
    "### Passing Multiple Iterators to map() Using Lambda"
   ]
  },
  {
   "cell_type": "code",
   "execution_count": null,
   "metadata": {
    "id": "V9q5Tzb25ZM2"
   },
   "outputs": [],
   "source": []
  },
  {
   "cell_type": "markdown",
   "metadata": {
    "id": "VxKeQRX3I9-G"
   },
   "source": [
    "## Filter function"
   ]
  },
  {
   "cell_type": "markdown",
   "metadata": {
    "id": "HYF7UqH3tUJn"
   },
   "source": [
    "Filter function takes function and an iterable sequence and allows us to extract items that satisfy a given condition."
   ]
  },
  {
   "cell_type": "markdown",
   "metadata": {
    "id": "AyW8ixMStTE2"
   },
   "source": [
    "\n",
    "\n",
    "```\n",
    "Syntax of filter function\n",
    "filter(function, iterable)\n",
    "```\n",
    "\n"
   ]
  },
  {
   "cell_type": "markdown",
   "metadata": {
    "id": "FqkDS5tStiZd"
   },
   "source": [
    "### Example of Filter function use\n",
    "\n"
   ]
  },
  {
   "cell_type": "code",
   "execution_count": 37,
   "metadata": {
    "id": "cstoXmt_uD22"
   },
   "outputs": [
    {
     "name": "stdout",
     "output_type": "stream",
     "text": [
      "[10, 22, 88, 78]\n"
     ]
    }
   ],
   "source": [
    "#print even numbers from given list using filter function\n",
    "nums = [1, 43, 89, 10, 22, 88, 78]\n",
    "\n",
    "def even(x):\n",
    "    if x%2==0:\n",
    "        return x\n",
    "\n",
    "filter_obj = list(filter(even, nums))\n",
    "print(filter_obj)"
   ]
  },
  {
   "cell_type": "markdown",
   "metadata": {
    "id": "swwAYWU5uYD8"
   },
   "source": [
    "### Filter function with lambda function"
   ]
  },
  {
   "cell_type": "code",
   "execution_count": 38,
   "metadata": {
    "id": "jaI-vieLuhir"
   },
   "outputs": [
    {
     "data": {
      "text/plain": [
       "[10, 22, 88, 78]"
      ]
     },
     "execution_count": 38,
     "metadata": {},
     "output_type": "execute_result"
    }
   ],
   "source": [
    "##print even numbers from given list using filter and lambda function\n",
    "nums = [1, 43, 89, 10, 22, 88, 78]\n",
    "\n",
    "list(filter(lambda x : x%2==0, nums))"
   ]
  },
  {
   "cell_type": "markdown",
   "metadata": {
    "id": "mjhTItObJMa3"
   },
   "source": [
    "## Reduce Function"
   ]
  },
  {
   "cell_type": "markdown",
   "metadata": {
    "id": "R0s1t0MExBN0"
   },
   "source": [
    "### Reduce with Lambda function"
   ]
  },
  {
   "cell_type": "code",
   "execution_count": 40,
   "metadata": {
    "id": "4tg4ICnoJW6f"
   },
   "outputs": [
    {
     "name": "stdout",
     "output_type": "stream",
     "text": [
      "9\n"
     ]
    }
   ],
   "source": [
    "# Sum of first three natural odd integers using reduce function\n",
    "from functools import reduce \n",
    "nums = [1, 3, 5]\n",
    "\n",
    "sum = reduce(lambda x,y : x + y, nums)\n",
    "print(sum)"
   ]
  }
 ],
 "metadata": {
  "colab": {
   "collapsed_sections": [],
   "name": "Copy of Functions_List_Dict_Comprehension - Learner",
   "provenance": [
    {
     "file_id": "1ozwHXfTdjMx4_BRmpnsp94zJfXesjkhP",
     "timestamp": 1660563975737
    }
   ]
  },
  "kernelspec": {
   "display_name": "Python 3 (ipykernel)",
   "language": "python",
   "name": "python3"
  },
  "language_info": {
   "codemirror_mode": {
    "name": "ipython",
    "version": 3
   },
   "file_extension": ".py",
   "mimetype": "text/x-python",
   "name": "python",
   "nbconvert_exporter": "python",
   "pygments_lexer": "ipython3",
   "version": "3.11.2"
  }
 },
 "nbformat": 4,
 "nbformat_minor": 1
}
