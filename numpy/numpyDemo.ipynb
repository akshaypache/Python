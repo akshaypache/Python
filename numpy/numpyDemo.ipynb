{
 "cells": [
  {
   "cell_type": "markdown",
   "id": "2a1367bc",
   "metadata": {},
   "source": [
    "# This is **NUMPY** notebook"
   ]
  },
  {
   "cell_type": "markdown",
   "id": "14f6534a",
   "metadata": {},
   "source": [
    "Numpy Stands for numerical python and is the core python library for numeric and scientific computing\n",
    "\n",
    "It consists of multi-dimensional array objects and a collection or routines for processing those arrays"
   ]
  },
  {
   "cell_type": "markdown",
   "id": "ae780a4c",
   "metadata": {},
   "source": [
    "# creating NumPy Array"
   ]
  },
  {
   "cell_type": "code",
   "execution_count": 1,
   "id": "fd55db3c",
   "metadata": {},
   "outputs": [
    {
     "data": {
      "text/plain": [
       "array([10, 20, 30, 40])"
      ]
     },
     "execution_count": 1,
     "metadata": {},
     "output_type": "execute_result"
    }
   ],
   "source": [
    "# single- dimensional Array\n",
    "import numpy as np\n",
    "n1 = np.array([10,20,30,40])\n",
    "n1"
   ]
  },
  {
   "cell_type": "code",
   "execution_count": 2,
   "id": "acf4d155",
   "metadata": {},
   "outputs": [
    {
     "data": {
      "text/plain": [
       "array([[10, 20, 30, 40],\n",
       "       [40, 30, 20, 10]])"
      ]
     },
     "execution_count": 2,
     "metadata": {},
     "output_type": "execute_result"
    }
   ],
   "source": [
    "# Multi- dimensional Array\n",
    "import numpy as np\n",
    "n1 = np.array([[10,20,30,40],[40,30,20,10]])\n",
    "n1"
   ]
  },
  {
   "cell_type": "code",
   "execution_count": 1,
   "id": "42d4f4e2",
   "metadata": {},
   "outputs": [
    {
     "data": {
      "text/plain": [
       "array([1, 2, 3, 4])"
      ]
     },
     "execution_count": 1,
     "metadata": {},
     "output_type": "execute_result"
    }
   ],
   "source": [
    "import numpy as np\n",
    "l1 = [1,2,3,4]\n",
    "n1 = np.array(l1)\n",
    "n1"
   ]
  },
  {
   "cell_type": "code",
   "execution_count": 2,
   "id": "3d016aea",
   "metadata": {},
   "outputs": [
    {
     "data": {
      "text/plain": [
       "numpy.ndarray"
      ]
     },
     "execution_count": 2,
     "metadata": {},
     "output_type": "execute_result"
    }
   ],
   "source": [
    "type(n1)"
   ]
  },
  {
   "cell_type": "code",
   "execution_count": null,
   "id": "8c9a2654",
   "metadata": {},
   "outputs": [],
   "source": []
  }
 ],
 "metadata": {
  "kernelspec": {
   "display_name": "Python 3 (ipykernel)",
   "language": "python",
   "name": "python3"
  },
  "language_info": {
   "codemirror_mode": {
    "name": "ipython",
    "version": 3
   },
   "file_extension": ".py",
   "mimetype": "text/x-python",
   "name": "python",
   "nbconvert_exporter": "python",
   "pygments_lexer": "ipython3",
   "version": "3.8.10"
  }
 },
 "nbformat": 4,
 "nbformat_minor": 5
}
