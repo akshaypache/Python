{
 "cells": [
  {
   "cell_type": "markdown",
   "metadata": {
    "id": "8BiLgFKpIWA6"
   },
   "source": [
    "# Numpy\n",
    "\n",
    "Numpy is a python library that helps to do high level mathematical operations on multi dimensional array and matrices."
   ]
  },
  {
   "cell_type": "markdown",
   "metadata": {
    "id": "DXxMWd7TIvyj"
   },
   "source": [
    "## Importing numpy"
   ]
  },
  {
   "cell_type": "code",
   "execution_count": 1,
   "metadata": {
    "id": "Xl59-EVmIP7c"
   },
   "outputs": [],
   "source": [
    "import numpy as np"
   ]
  },
  {
   "cell_type": "markdown",
   "metadata": {
    "id": "AEoIXWEZiDty"
   },
   "source": [
    "Syntax of an array in numpy as np.array (object, dtype=None, copy=True, order='K', subok=False, ndmin=0)\n",
    "\n",
    "```\n",
    "Object:\n",
    "Any object, which exposes an array interface whose __array__ method returns any nested sequence or an array.\n",
    "\n",
    "dtype: (Optional)\n",
    "This parameter is used to define the desired parameter for the array element. If we do not define the data type, then it will determine the type as the minimum type which will require to hold the object in the sequence. This parameter is used only for upcasting the array.\n",
    "```"
   ]
  },
  {
   "cell_type": "code",
   "execution_count": 2,
   "metadata": {
    "colab": {
     "base_uri": "https://localhost:8080/"
    },
    "executionInfo": {
     "elapsed": 198,
     "status": "ok",
     "timestamp": 1661020729729,
     "user": {
      "displayName": "Yogesh Kothiya",
      "userId": "16013917111822092306"
     },
     "user_tz": -330
    },
    "id": "AHcwbxbGH5Q8",
    "outputId": "dbc83e00-6044-46b0-e688-282f7b22a9a9"
   },
   "outputs": [
    {
     "name": "stdout",
     "output_type": "stream",
     "text": [
      "['jay', 2, 1.9, 25, [1, 1.0]]\n",
      "[1 2 3 4]\n",
      "[1. 2. 3. 4.]\n",
      "['1' '2' '3' '4']\n"
     ]
    }
   ],
   "source": [
    "# List capable of contain multiple data types but array can not contain multiple data type every element should be of single data type (homogenous data).\n",
    "\n",
    "list_0 = [1, 1.0]                     ## List of Multiple Datatypes\n",
    "list_1 = ['jay', 2, 1.9, 25, list_0]  ## List containing List\n",
    "list_1\n",
    "print(list_1)\n",
    "\n",
    "\n",
    "# np.array (object, dtype=None)\n",
    "## Create NumPy array from list\n",
    "array_1 = np.array([1,2,3,4], dtype=int) \n",
    "print(array_1)\n",
    "array_2 = np.array([1,2,3,4], dtype=float)\n",
    "print(array_2)\n",
    "array_3 = np.array([1,2,3,4], dtype=str)\n",
    "print(array_3)"
   ]
  },
  {
   "cell_type": "markdown",
   "metadata": {
    "id": "QaO_6J9-gb8d"
   },
   "source": [
    "## List vs Array"
   ]
  },
  {
   "cell_type": "markdown",
   "metadata": {
    "id": "2_WwXxvvnzZE"
   },
   "source": [
    "A list cannot do mathematical operations directly, whereas an array can.\n",
    "One of the key distinctions between an array and a list is this. A list can store a float or an integer, but it can't really perform mathematical operations on them.\n",
    "\n"
   ]
  },
  {
   "cell_type": "code",
   "execution_count": 3,
   "metadata": {
    "colab": {
     "base_uri": "https://localhost:8080/"
    },
    "executionInfo": {
     "elapsed": 4,
     "status": "ok",
     "timestamp": 1661020730489,
     "user": {
      "displayName": "Yogesh Kothiya",
      "userId": "16013917111822092306"
     },
     "user_tz": -330
    },
    "id": "Y-7ng8wGj7Zd",
    "outputId": "5c48471e-f03a-4a51-87c9-55d50e20e840"
   },
   "outputs": [
    {
     "data": {
      "text/plain": [
       "[0, 1, 2, 0, 1, 2]"
      ]
     },
     "execution_count": 3,
     "metadata": {},
     "output_type": "execute_result"
    }
   ],
   "source": [
    "list_1 = [0,1,2]\n",
    "list_1 * 2"
   ]
  },
  {
   "cell_type": "code",
   "execution_count": 4,
   "metadata": {
    "colab": {
     "base_uri": "https://localhost:8080/",
     "height": 171
    },
    "executionInfo": {
     "elapsed": 209,
     "status": "error",
     "timestamp": 1661020732188,
     "user": {
      "displayName": "Yogesh Kothiya",
      "userId": "16013917111822092306"
     },
     "user_tz": -330
    },
    "id": "0BkFZGAkjrcZ",
    "outputId": "053ce6ef-635b-407d-879d-5d28e2add563"
   },
   "outputs": [
    {
     "ename": "TypeError",
     "evalue": "unsupported operand type(s) for /: 'list' and 'int'",
     "output_type": "error",
     "traceback": [
      "\u001b[1;31m---------------------------------------------------------------------------\u001b[0m",
      "\u001b[1;31mTypeError\u001b[0m                                 Traceback (most recent call last)",
      "Cell \u001b[1;32mIn[4], line 1\u001b[0m\n\u001b[1;32m----> 1\u001b[0m \u001b[43mlist_1\u001b[49m\u001b[38;5;241;43m/\u001b[39;49m\u001b[38;5;241;43m3\u001b[39;49m\n",
      "\u001b[1;31mTypeError\u001b[0m: unsupported operand type(s) for /: 'list' and 'int'"
     ]
    }
   ],
   "source": [
    "list_1/3"
   ]
  },
  {
   "cell_type": "markdown",
   "metadata": {
    "id": "Ef2cIR7LjxCW"
   },
   "source": [
    "Of course, it's possible to do a mathematical operation with a list, but it's much less efficient."
   ]
  },
  {
   "cell_type": "markdown",
   "metadata": {
    "id": "uPfw2ihchNkq"
   },
   "source": [
    "* Arrays need to be declared. Lists don't.\n",
    "* Arrays can store data very compactly and are more efficient for storing large amounts of data."
   ]
  },
  {
   "cell_type": "code",
   "execution_count": null,
   "metadata": {
    "colab": {
     "base_uri": "https://localhost:8080/"
    },
    "executionInfo": {
     "elapsed": 5,
     "status": "ok",
     "timestamp": 1661020732378,
     "user": {
      "displayName": "Yogesh Kothiya",
      "userId": "16013917111822092306"
     },
     "user_tz": -330
    },
    "id": "k0z7tHJAkpVN",
    "outputId": "accffdc8-780a-4705-d0da-4393368bbc66"
   },
   "outputs": [],
   "source": [
    "arr = np.array([0,1,2])\n",
    "arr * 2"
   ]
  },
  {
   "cell_type": "markdown",
   "metadata": {
    "id": "SqD6L1R4lMv_"
   },
   "source": [
    "See how using a * (multiply) in a list returns a repeated data in the list (while we meant to multiply all of the data in the list) and where using it on an array gives a correct or desired result.\n",
    "\n",
    "This is why you should use an array if your data requires a lot of mathematical calculations. However, you may easily add a mathematical function to your list using a numpy function.\n",
    "\n",
    "But, you still have to use the numpy libraries anyway, so why don’t just use an array?"
   ]
  },
  {
   "cell_type": "code",
   "execution_count": null,
   "metadata": {
    "colab": {
     "base_uri": "https://localhost:8080/"
    },
    "executionInfo": {
     "elapsed": 6,
     "status": "ok",
     "timestamp": 1661020734227,
     "user": {
      "displayName": "Yogesh Kothiya",
      "userId": "16013917111822092306"
     },
     "user_tz": -330
    },
    "id": "56qb0twPlpaF",
    "outputId": "0593f7ce-84af-4ceb-b88f-b5cb156ef9e2"
   },
   "outputs": [],
   "source": [
    "list_1\n",
    "np.multiply(list_1,2)"
   ]
  },
  {
   "cell_type": "markdown",
   "metadata": {
    "id": "2KsiYTW2kwLt"
   },
   "source": [
    "### Advantages of using Numpy Arrays Over Python Lists:\n",
    "\n",
    "* consumes less memory.\n",
    "* fast as compared to the python List.\n",
    "* convenient to use."
   ]
  },
  {
   "cell_type": "markdown",
   "metadata": {
    "id": "yxFwCVhGMcAq"
   },
   "source": [
    "## Array creation in Numpy"
   ]
  },
  {
   "cell_type": "markdown",
   "metadata": {
    "id": "2gqyUNFfI96g"
   },
   "source": [
    "### Creating arrays from multiple methods"
   ]
  },
  {
   "cell_type": "code",
   "execution_count": null,
   "metadata": {
    "colab": {
     "base_uri": "https://localhost:8080/"
    },
    "executionInfo": {
     "elapsed": 3,
     "status": "ok",
     "timestamp": 1661020735778,
     "user": {
      "displayName": "Yogesh Kothiya",
      "userId": "16013917111822092306"
     },
     "user_tz": -330
    },
    "id": "UUuIwsXyI-Ym",
    "outputId": "47e36c0d-2a13-4b88-ec86-678b5bbf77cf"
   },
   "outputs": [],
   "source": [
    "# Creating array from list with type float\n",
    "float_array = np.array([[10, 34, 35], [125, 851, 0]], dtype = 'float')\n",
    "print (\"Float numbers array created from list\", float_array)\n",
    " \n",
    "# Creating array from tuple\n",
    "array_from_tuple = np.array((5, 6, 9))\n",
    "print (\"\\nArray created from tuple:\\n\", array_from_tuple)"
   ]
  },
  {
   "cell_type": "code",
   "execution_count": null,
   "metadata": {
    "colab": {
     "base_uri": "https://localhost:8080/"
    },
    "executionInfo": {
     "elapsed": 171,
     "status": "ok",
     "timestamp": 1661020737002,
     "user": {
      "displayName": "Yogesh Kothiya",
      "userId": "16013917111822092306"
     },
     "user_tz": -330
    },
    "id": "d3kHJlxdkX2f",
    "outputId": "acf42bb7-5986-4f47-c117-ff152194ab80"
   },
   "outputs": [],
   "source": [
    "# Array creation with arange, np.ones \n",
    "\n",
    "# Syntax. np.arrange (end value, dtype=data type)\n",
    "# Create array from 0 to 4\n",
    "arrange_array= np.arange(4, dtype=float) #arranging array by giving end value\n",
    "print(\"arranging array from 0 to 4:\\n\",arrange_array)\n",
    "\n",
    "# Syntax. np.arrange (start vaue, end value, interval, dtype=data type)\n",
    "# Create array from 0 to 6 with interval of 2\n",
    "arrange_array1 =np.arange(1, 6, 2, dtype=int) \n",
    "print(\"arranging array with given interval:\\n\",arrange_array1)\n",
    "\n",
    "# Syntax. np.arrange (end value with data type)\n",
    "# Create array till 5.0\n",
    "arrange_array2= np.arange(6.0)\n",
    "print(\"arranging array with given end point:\\n\",arrange_array2)"
   ]
  },
  {
   "cell_type": "code",
   "execution_count": null,
   "metadata": {
    "colab": {
     "base_uri": "https://localhost:8080/"
    },
    "executionInfo": {
     "elapsed": 156,
     "status": "ok",
     "timestamp": 1661020761846,
     "user": {
      "displayName": "Yogesh Kothiya",
      "userId": "16013917111822092306"
     },
     "user_tz": -330
    },
    "id": "0o_KmTtmDOxM",
    "outputId": "73a98816-7396-4613-b9fb-e185fc09c370"
   },
   "outputs": [],
   "source": [
    "# Syntax. np.ones (size of array, dtype=data type)\n",
    "## Create an array (2 x 3) of all values as 1\n",
    "array_with_ones= np.ones((2,3), dtype=float)\n",
    "print(\"arranging array with all ones given rows and columns:\\n\",array_with_ones)\n",
    "\n",
    "# Creating a 2X3 array intialised with all zeroes\n",
    "## Create an array (2 x 3) of all values as 0\n",
    "array_with_zeros = np.zeros((2,3))\n",
    "print (\"\\n Array of defined size initialized with zeros:\\n\", array_with_zeros)\n",
    "\n",
    "# Create a 3X2 array intialised with all zeroes\n",
    "array_with_zeros = np.zeros((3,2))\n",
    "print (\"\\n Array of defined size initialized with zeros:\\n\", array_with_zeros)"
   ]
  },
  {
   "cell_type": "code",
   "execution_count": null,
   "metadata": {
    "colab": {
     "base_uri": "https://localhost:8080/"
    },
    "executionInfo": {
     "elapsed": 170,
     "status": "ok",
     "timestamp": 1661020774465,
     "user": {
      "displayName": "Yogesh Kothiya",
      "userId": "16013917111822092306"
     },
     "user_tz": -330
    },
    "id": "Je08G5xcjX8M",
    "outputId": "a7bcbe87-ca50-4c67-c0d8-641246d2c897"
   },
   "outputs": [],
   "source": [
    "# Create an array with random values of size 3x3\n",
    "Random_array = np.random.random((3, 3))\n",
    "print (\"\\n Random numbers array:\\n\", Random_array)"
   ]
  },
  {
   "cell_type": "markdown",
   "metadata": {
    "id": "wo6SthjTjajy"
   },
   "source": [
    "Rerun the above cell to see random values everytime."
   ]
  },
  {
   "cell_type": "code",
   "execution_count": null,
   "metadata": {
    "colab": {
     "base_uri": "https://localhost:8080/"
    },
    "executionInfo": {
     "elapsed": 11,
     "status": "ok",
     "timestamp": 1661020737544,
     "user": {
      "displayName": "Yogesh Kothiya",
      "userId": "16013917111822092306"
     },
     "user_tz": -330
    },
    "id": "ZXgPn0pFjgxv",
    "outputId": "d90dc964-3aab-45d7-91fc-c0d65cad8909"
   },
   "outputs": [],
   "source": [
    "# List of Tuples to array\n",
    "\n",
    "l_of_t = [(1, 2, 3), (4, 5, 6)] #Define the tuples\n",
    "\n",
    "# Syntax. np.array (defined list of tuples)\n",
    "a = np.array(l_of_t)\n",
    "print(a)"
   ]
  },
  {
   "cell_type": "markdown",
   "metadata": {
    "id": "idkLqSoOJLLm"
   },
   "source": [
    "### linspace method"
   ]
  },
  {
   "cell_type": "code",
   "execution_count": null,
   "metadata": {
    "colab": {
     "base_uri": "https://localhost:8080/"
    },
    "executionInfo": {
     "elapsed": 165,
     "status": "ok",
     "timestamp": 1661020739063,
     "user": {
      "displayName": "Yogesh Kothiya",
      "userId": "16013917111822092306"
     },
     "user_tz": -330
    },
    "id": "iqrrUnL3JLc5",
    "outputId": "2ed84140-7f5c-410d-8ff9-5af32edb8f09"
   },
   "outputs": [],
   "source": [
    "#Create a sequence of 8 values in range 20 to 50\n",
    "new_array = np.linspace(20, 50, 8)\n",
    "print (\"\\nA sequential array with 8 values between\"\n",
    "                                        \"20 and 50:\\n\", new_array)"
   ]
  },
  {
   "cell_type": "markdown",
   "metadata": {
    "id": "ytWK7WAyEXql"
   },
   "source": [
    "## NumPy Array dimensions"
   ]
  },
  {
   "cell_type": "code",
   "execution_count": null,
   "metadata": {
    "colab": {
     "base_uri": "https://localhost:8080/"
    },
    "executionInfo": {
     "elapsed": 149,
     "status": "ok",
     "timestamp": 1661020909973,
     "user": {
      "displayName": "Yogesh Kothiya",
      "userId": "16013917111822092306"
     },
     "user_tz": -330
    },
    "id": "9ULgJJDktbeW",
    "outputId": "a7a0296c-04fd-4fef-b29d-3475e7244bb7"
   },
   "outputs": [],
   "source": [
    "#creating a new array\n",
    "array_0 = np.array([1,2,3,4])\n",
    "print(array_0)\n",
    "#syntax.arrayname.shape\n",
    "#Each array has attributes shape (the size of each dimension)\n",
    "array_0.shape   "
   ]
  },
  {
   "cell_type": "markdown",
   "metadata": {
    "id": "d_kL0a6bv9IW"
   },
   "source": [
    "In (4,) 4 indicates that size of the array and (4,) repesents the dimension of array i.e., (4,) means 1 Dimensional array "
   ]
  },
  {
   "cell_type": "code",
   "execution_count": null,
   "metadata": {
    "colab": {
     "base_uri": "https://localhost:8080/"
    },
    "executionInfo": {
     "elapsed": 1092,
     "status": "ok",
     "timestamp": 1661020911873,
     "user": {
      "displayName": "Yogesh Kothiya",
      "userId": "16013917111822092306"
     },
     "user_tz": -330
    },
    "id": "1Y_5leiLtMoH",
    "outputId": "6dfc31df-8ff1-4944-ffd9-22050d425314"
   },
   "outputs": [],
   "source": [
    "# Creating a new array\n",
    "array_1 = np.array([[1,2,3,4],[5,4,6,7],[2,3,4,6]])\n",
    "print(array_1)\n",
    "\n",
    "# Syntax.arrayname.shape\n",
    "array_1.shape   # shape (the size of each dimension)"
   ]
  },
  {
   "cell_type": "markdown",
   "metadata": {
    "id": "1S8TsuDqxM4y"
   },
   "source": [
    "In (3,4), 3 indicates that number of rows and 4 indicates number of column. and (3,4) indicates it is a 2 dimensional array"
   ]
  },
  {
   "cell_type": "code",
   "execution_count": null,
   "metadata": {
    "colab": {
     "base_uri": "https://localhost:8080/"
    },
    "executionInfo": {
     "elapsed": 2,
     "status": "ok",
     "timestamp": 1661020912227,
     "user": {
      "displayName": "Yogesh Kothiya",
      "userId": "16013917111822092306"
     },
     "user_tz": -330
    },
    "id": "gcrIfMLKLXR3",
    "outputId": "d9bc7cd2-c3e2-4806-ccf3-df3af85c62f8"
   },
   "outputs": [],
   "source": [
    "# Creating a new array\n",
    "array_2 = np.array([[[1,2,3,4],[5,4,6,7],[2,3,4,6]]])\n",
    "print(array_2)\n",
    "\n",
    "# Shape of an array\n",
    "#syntax.arrayname.shape\n",
    "array_2.shape   "
   ]
  },
  {
   "cell_type": "markdown",
   "metadata": {
    "id": "MB1RDzEh1E-y"
   },
   "source": [
    "In (1, 3, 4), 1 indicates the added dimension to array, remaining 3 and 4 are same as above, (1,3,4) indicates it is a 3 dimensional array"
   ]
  },
  {
   "cell_type": "code",
   "execution_count": null,
   "metadata": {
    "colab": {
     "base_uri": "https://localhost:8080/"
    },
    "executionInfo": {
     "elapsed": 3,
     "status": "ok",
     "timestamp": 1661020912385,
     "user": {
      "displayName": "Yogesh Kothiya",
      "userId": "16013917111822092306"
     },
     "user_tz": -330
    },
    "id": "7n5jv66ZMyrs",
    "outputId": "91b20474-bf8b-4875-a4d0-395c76a97bfa"
   },
   "outputs": [],
   "source": [
    "# to find the data type of an array\n",
    "# syntax arrayname.dtype\n",
    "print(\"data type of array_0:\\n\",array_0.dtype)  \n",
    "print(\"data type of arrange_array:\\n\",arrange_array.dtype) \n",
    "print(\"data type of array_2:\\n\",array_2.dtype)     "
   ]
  },
  {
   "cell_type": "code",
   "execution_count": null,
   "metadata": {
    "colab": {
     "base_uri": "https://localhost:8080/",
     "height": 235
    },
    "executionInfo": {
     "elapsed": 1525,
     "status": "error",
     "timestamp": 1663230451790,
     "user": {
      "displayName": "Gautham R S",
      "userId": "05600585940863494279"
     },
     "user_tz": -330
    },
    "id": "vViwQPv8M2An",
    "outputId": "437273e9-c835-458b-fee0-109045dde2bd"
   },
   "outputs": [],
   "source": [
    "# To know the dimension of an array(1D,2D,3D etc..)\n",
    "# syntax.arrayname.ndim\n",
    "print(\"the dimension of array_0:\\n\",array_0.ndim)\n",
    "print(\"the dimension of array_0:\\n\",array_1.ndim)\n",
    "print(\"the dimension of array_0:\\n\",array_2.ndim)  "
   ]
  },
  {
   "cell_type": "markdown",
   "metadata": {
    "id": "R4T9RZpEJPdj"
   },
   "source": [
    "### Reshaping array"
   ]
  },
  {
   "cell_type": "code",
   "execution_count": null,
   "metadata": {
    "colab": {
     "base_uri": "https://localhost:8080/"
    },
    "executionInfo": {
     "elapsed": 3,
     "status": "ok",
     "timestamp": 1661021109405,
     "user": {
      "displayName": "Yogesh Kothiya",
      "userId": "16013917111822092306"
     },
     "user_tz": -330
    },
    "id": "ynvhP0ny6ANW",
    "outputId": "39052dba-7a76-4c50-9695-359bc6fc73af"
   },
   "outputs": [],
   "source": [
    "# 1D to 2D and vice-versa\n",
    "# Reshaping 1X6 array to 3X2 array\n",
    "\n",
    "orig_arr_1 = np.array([10, 32, 36, 34, 4, 55]) ## 1D array\n",
    "\n",
    "reshaped_arr_1 = orig_arr_1.reshape(3, 2)\n",
    " \n",
    "print (\"\\nOriginal array:\\n\", orig_arr_1)\n",
    "print (\"\\n Reshaped array:\\n\", reshaped_arr_1)\n",
    "print (\"\\n Dimension of original array:\\n\", orig_arr_1.ndim)\n",
    "print (\"\\n dimension of Reshaped array:\\n\", reshaped_arr_1.ndim)\n",
    "\n",
    "orig_arr_2 = np.array([[10, 32, 36], [34, 4, 55]])   ## 2D Array\n",
    " \n",
    "reshaped_arr_2 = orig_arr_2.reshape(6,)\n",
    "print (\"\\nOriginal array:\\n\", orig_arr_2)\n",
    "print (\"\\n Reshaped array:\\n\", reshaped_arr_2)\n",
    "print (\"\\n dimension of original array:\\n\", orig_arr_2.ndim)\n",
    "print (\"\\n dimension of Reshaped array:\\n\", reshaped_arr_2.ndim)"
   ]
  },
  {
   "cell_type": "code",
   "execution_count": null,
   "metadata": {
    "colab": {
     "base_uri": "https://localhost:8080/",
     "height": 479
    },
    "executionInfo": {
     "elapsed": 231,
     "status": "error",
     "timestamp": 1661021943283,
     "user": {
      "displayName": "Yogesh Kothiya",
      "userId": "16013917111822092306"
     },
     "user_tz": -330
    },
    "id": "pmSu1TpfEmQ8",
    "outputId": "8ccb9a46-5add-4a00-a13d-d7fc93643098"
   },
   "outputs": [],
   "source": [
    "# 1D to 3D and vice-versa\n",
    "# Reshaping 1X4 array to 1X2X2 array\n",
    "orig_arr_3 = np.array([10, 32, 36, 4])\n",
    " \n",
    "reshaped_arr_3 = orig_arr_3.reshape(1 ,2, 2)\n",
    "\n",
    " \n",
    "print (\"\\nOriginal array:\\n\", orig_arr_3)\n",
    "print (\"\\n Reshaped array:\\n\", reshaped_arr_3)\n",
    "print (\"\\n dimension of original array:\\n\", orig_arr_3.ndim)\n",
    "print (\"\\n dimension of Reshaped array:\\n\", reshaped_arr_3.ndim)\n",
    "\n",
    "orig_arr_4 = np.array([[[10, 32, 36], [34, 4, 55], [4,5,6]]])\n",
    " \n",
    "reshaped_arr_4 = orig_arr_4.reshape(2,)\n",
    "print (\"\\nOriginal array:\\n\", orig_arr_4)\n",
    "print (\"\\n Reshaped array:\\n\", reshaped_arr_4)\n",
    "print (\"\\n dimension of original array:\\n\", orig_arr_4.ndim)\n",
    "print (\"\\n dimension of Reshaped array:\\n\", reshaped_arr_4.ndim)"
   ]
  },
  {
   "cell_type": "code",
   "execution_count": null,
   "metadata": {
    "colab": {
     "base_uri": "https://localhost:8080/"
    },
    "executionInfo": {
     "elapsed": 177,
     "status": "ok",
     "timestamp": 1661022064088,
     "user": {
      "displayName": "Yogesh Kothiya",
      "userId": "16013917111822092306"
     },
     "user_tz": -330
    },
    "id": "DEVo-RLe6ASF",
    "outputId": "aaf9f9e6-0213-435a-c912-b53a91490be1"
   },
   "outputs": [],
   "source": [
    "# Reshaping 2X4 array to 2X2X2 array\n",
    "orig_arr = np.array([[10, 32, 36, 34],\n",
    "                [56, 19, 75, 20]])\n",
    " \n",
    "reshaped_arr = orig_arr.reshape(2, 2, 2)\n",
    " \n",
    "print (\"\\nOriginal array:\\n\", orig_arr)\n",
    "print (\"\\n Reshaped array:\\n\", reshaped_arr)"
   ]
  },
  {
   "cell_type": "markdown",
   "metadata": {
    "id": "EugfsJGgJR6C"
   },
   "source": [
    "### Flatten array"
   ]
  },
  {
   "cell_type": "code",
   "execution_count": null,
   "metadata": {
    "colab": {
     "base_uri": "https://localhost:8080/"
    },
    "executionInfo": {
     "elapsed": 418,
     "status": "ok",
     "timestamp": 1660410331011,
     "user": {
      "displayName": "Karthik Reddy",
      "userId": "12943247893792965833"
     },
     "user_tz": -330
    },
    "id": "be5xA4cEJR_e",
    "outputId": "e2bdf403-8db8-4d9c-85e5-eb4e82e946f4"
   },
   "outputs": [],
   "source": [
    "# Flatten array\n",
    "arr = np.array([[1, 2, 3], [4, 5, 6]])\n",
    "flarr = arr.flatten()\n",
    " \n",
    "print (\"\\nOriginal array:\\n\", arr)\n",
    "print (\"Fattened array:\\n\", flarr)"
   ]
  },
  {
   "cell_type": "markdown",
   "metadata": {
    "id": "zAfVI7tfS9aG"
   },
   "source": [
    "## Array Indexing"
   ]
  },
  {
   "cell_type": "markdown",
   "metadata": {
    "id": "gFDQzn52TAg-"
   },
   "source": [
    "### Slicing"
   ]
  },
  {
   "cell_type": "code",
   "execution_count": null,
   "metadata": {
    "colab": {
     "base_uri": "https://localhost:8080/"
    },
    "executionInfo": {
     "elapsed": 605,
     "status": "ok",
     "timestamp": 1660470128917,
     "user": {
      "displayName": "Yogesh Kothiya",
      "userId": "16013917111822092306"
     },
     "user_tz": -330
    },
    "id": "nVj9_EONHsUQ",
    "outputId": "533fe500-0e03-4594-9399-4348cc89ff84"
   },
   "outputs": [],
   "source": [
    "array_1D = np.array([10, 32, 36, 34]) #1 Dimensonal array indexing\n",
    "array_1D[1] # calling 32"
   ]
  },
  {
   "cell_type": "code",
   "execution_count": null,
   "metadata": {
    "colab": {
     "base_uri": "https://localhost:8080/"
    },
    "executionInfo": {
     "elapsed": 510,
     "status": "ok",
     "timestamp": 1660470135537,
     "user": {
      "displayName": "Yogesh Kothiya",
      "userId": "16013917111822092306"
     },
     "user_tz": -330
    },
    "id": "hXYhN9K9u3NO",
    "outputId": "954fa500-3717-462b-cd40-eb3b82fd1e9d"
   },
   "outputs": [],
   "source": [
    "array_1D[-1]   "
   ]
  },
  {
   "cell_type": "code",
   "execution_count": null,
   "metadata": {
    "colab": {
     "base_uri": "https://localhost:8080/"
    },
    "executionInfo": {
     "elapsed": 13,
     "status": "ok",
     "timestamp": 1661034189522,
     "user": {
      "displayName": "Yogesh Kothiya",
      "userId": "16013917111822092306"
     },
     "user_tz": -330
    },
    "id": "h7Pg_sIZgEx4",
    "outputId": "f5d03f65-b4e2-40ea-c642-844e6f484c8d"
   },
   "outputs": [],
   "source": [
    "#multidimentional array indexing\n",
    "array_multiD = np.array([[100, 14, 76, 54],\n",
    "                [125, 81, 0, -24],\n",
    "                [566, 159, 175, 20],\n",
    "                [38, -47, 84, 22.0]],dtype = int)\n",
    "\n",
    "print(\"Shape of the array is: \", array_multiD.ndim, array_multiD.shape)\n",
    "\n",
    "## 81 is in the 1st row and 1st column\n",
    "print(\"Accessing 1st row: \", array_multiD[1])\n",
    "print(\"Accessing 1st column: \", array_multiD[:, 1])  ## : indicates all the rows\n",
    "print(\"Accessing (1st row, 1st column): \", array_multiD[1,1])  # calling 81"
   ]
  },
  {
   "cell_type": "code",
   "execution_count": null,
   "metadata": {
    "colab": {
     "base_uri": "https://localhost:8080/"
    },
    "executionInfo": {
     "elapsed": 448,
     "status": "ok",
     "timestamp": 1660623838720,
     "user": {
      "displayName": "Karthik Reddy",
      "userId": "12943247893792965833"
     },
     "user_tz": -330
    },
    "id": "LuH5gN9h45J-",
    "outputId": "c5945423-a218-4017-a1d9-18def6efa710"
   },
   "outputs": [],
   "source": [
    "array_multiD[3,2] # calling 84"
   ]
  },
  {
   "cell_type": "code",
   "execution_count": null,
   "metadata": {
    "colab": {
     "base_uri": "https://localhost:8080/"
    },
    "executionInfo": {
     "elapsed": 393,
     "status": "ok",
     "timestamp": 1660623849699,
     "user": {
      "displayName": "Karthik Reddy",
      "userId": "12943247893792965833"
     },
     "user_tz": -330
    },
    "id": "dwgc2emf45Tm",
    "outputId": "c996470a-fdea-4143-dc50-89f2a8cb3ad0"
   },
   "outputs": [],
   "source": [
    "array_multiD[0,3] # calling 54"
   ]
  },
  {
   "cell_type": "code",
   "execution_count": null,
   "metadata": {
    "colab": {
     "base_uri": "https://localhost:8080/",
     "height": 189
    },
    "executionInfo": {
     "elapsed": 194,
     "status": "error",
     "timestamp": 1661033965707,
     "user": {
      "displayName": "Yogesh Kothiya",
      "userId": "16013917111822092306"
     },
     "user_tz": -330
    },
    "id": "GvFDvYFA47m1",
    "outputId": "b36ca35a-9242-4b38-ac3c-4a0e1eaa6aa8"
   },
   "outputs": [],
   "source": [
    "## Accesing 4th row, 3rd column\n",
    "array_multiD[4,3]"
   ]
  },
  {
   "cell_type": "code",
   "execution_count": null,
   "metadata": {
    "colab": {
     "base_uri": "https://localhost:8080/"
    },
    "executionInfo": {
     "elapsed": 249,
     "status": "ok",
     "timestamp": 1661034081224,
     "user": {
      "displayName": "Yogesh Kothiya",
      "userId": "16013917111822092306"
     },
     "user_tz": -330
    },
    "id": "Rm10LKz3S9sm",
    "outputId": "255d7c93-6075-4bfc-fcf9-c091c5bd55fc"
   },
   "outputs": [],
   "source": [
    "# An exemplar array\n",
    "array_example = np.array([[10, 32, 36, 34],\n",
    "                [125, 851, 0, -24],\n",
    "                [56, 19, 75, 20],\n",
    "                [3, -7, 4, 2.0]])\n",
    "\n",
    "# Slicing array\n",
    "## Access first 2 rows\n",
    "sliced_array = array_example[:2]   #:2 returns the 0,1 indexed row\n",
    "print(sliced_array)"
   ]
  },
  {
   "cell_type": "code",
   "execution_count": null,
   "metadata": {
    "colab": {
     "base_uri": "https://localhost:8080/"
    },
    "executionInfo": {
     "elapsed": 208,
     "status": "ok",
     "timestamp": 1661034131592,
     "user": {
      "displayName": "Yogesh Kothiya",
      "userId": "16013917111822092306"
     },
     "user_tz": -330
    },
    "id": "kLpmdtDrWNav",
    "outputId": "752bb3bc-b492-46a0-ad82-225109e0b3b4"
   },
   "outputs": [],
   "source": [
    "## Access first 2 columns\n",
    "sliced_array = array_example[:, :2]   #:2 (after comma) returns the 0,1 indexed column\n",
    "print(sliced_array)"
   ]
  },
  {
   "cell_type": "code",
   "execution_count": null,
   "metadata": {
    "colab": {
     "base_uri": "https://localhost:8080/"
    },
    "executionInfo": {
     "elapsed": 4,
     "status": "ok",
     "timestamp": 1661034142671,
     "user": {
      "displayName": "Yogesh Kothiya",
      "userId": "16013917111822092306"
     },
     "user_tz": -330
    },
    "id": "cPkH-tD3WAVX",
    "outputId": "51acc2d4-d466-4366-e88f-e4c5d4e00dc5"
   },
   "outputs": [],
   "source": [
    "# Slicing array\n",
    "sliced_array = array_example[:2, :2]   #:2 returns the 0,1 indexed row and ::2 returns the 0 and 2 nd column\n",
    "print (\"Array with first 2 rows and alternate\"\n",
    "                    \"columns(0 and 2):\\n\", sliced_array)"
   ]
  },
  {
   "cell_type": "code",
   "execution_count": null,
   "metadata": {
    "colab": {
     "base_uri": "https://localhost:8080/"
    },
    "executionInfo": {
     "elapsed": 228,
     "status": "ok",
     "timestamp": 1661034688348,
     "user": {
      "displayName": "Yogesh Kothiya",
      "userId": "16013917111822092306"
     },
     "user_tz": -330
    },
    "id": "MpMKvFi2X3lc",
    "outputId": "f93f8ecd-dda4-4a55-ee47-6c019fb25c5e"
   },
   "outputs": [],
   "source": [
    "## Accesing the 3rd row\n",
    "array_example[3:] ## When accessing only row(s). Mentioning anything after : is optional. It will take all by default."
   ]
  },
  {
   "cell_type": "code",
   "execution_count": null,
   "metadata": {
    "colab": {
     "base_uri": "https://localhost:8080/"
    },
    "executionInfo": {
     "elapsed": 206,
     "status": "ok",
     "timestamp": 1661034275054,
     "user": {
      "displayName": "Yogesh Kothiya",
      "userId": "16013917111822092306"
     },
     "user_tz": -330
    },
    "id": "dQ37hhVYhmbO",
    "outputId": "3cb26999-0d1a-4e3a-c0f5-a54ad4080f04"
   },
   "outputs": [],
   "source": [
    "# Slicing array\n",
    "## Accessing 1st, 2nd row and 2nd, 3rd column\n",
    "sliced_array = array_example[1:3,2:4]\n",
    "print (\"1st&2nd row, 2&3rd column\\n\", sliced_array)"
   ]
  },
  {
   "cell_type": "markdown",
   "metadata": {
    "id": "52bgwRjpS91t"
   },
   "source": [
    "### Integer array indexing"
   ]
  },
  {
   "cell_type": "code",
   "execution_count": 5,
   "metadata": {
    "colab": {
     "base_uri": "https://localhost:8080/"
    },
    "executionInfo": {
     "elapsed": 443,
     "status": "ok",
     "timestamp": 1660416474610,
     "user": {
      "displayName": "Karthik Reddy",
      "userId": "12943247893792965833"
     },
     "user_tz": -330
    },
    "id": "PnJSrqoOS99L",
    "outputId": "7aeaebb6-b024-4ca6-a715-9fdfb53b91f8"
   },
   "outputs": [
    {
     "name": "stdout",
     "output_type": "stream",
     "text": [
      "[[ 10.  32.  36.  34.]\n",
      " [125. 851.   0. -24.]\n",
      " [ 56.  19.  75.  20.]\n",
      " [  3.  -7.   4.   2.]]\n",
      "\n",
      "Elements at indices (0, 3), (1, 2), (2, 1),(3, 0):\n",
      " [34.  0. 19.  3.]\n"
     ]
    }
   ],
   "source": [
    "# An exemplar array\n",
    "array_example = np.array([[10, 32, 36, 34],\n",
    "                [125, 851, 0, -24],\n",
    "                [56, 19, 75, 20],\n",
    "                [3, -7, 4, 2.0]])\n",
    "print(array_example)\n",
    "# Integer array indexing example\n",
    "Integer_index_array = array_example[[0, 1, 2, 3], [3, 2, 1, 0]]\n",
    "print (\"\\nElements at indices (0, 3), (1, 2), (2, 1),\"\n",
    "                                    \"(3, 0):\\n\", Integer_index_array)"
   ]
  },
  {
   "cell_type": "markdown",
   "metadata": {
    "id": "Ut7eIUyyTTnx"
   },
   "source": [
    "### Boolean array indexing"
   ]
  },
  {
   "cell_type": "code",
   "execution_count": 6,
   "metadata": {
    "colab": {
     "base_uri": "https://localhost:8080/"
    },
    "executionInfo": {
     "elapsed": 412,
     "status": "ok",
     "timestamp": 1660626580646,
     "user": {
      "displayName": "Karthik Reddy",
      "userId": "12943247893792965833"
     },
     "user_tz": -330
    },
    "id": "urjVYathTTvk",
    "outputId": "4cc76d36-ee7d-461d-afa4-47752f1d04f8"
   },
   "outputs": [
    {
     "name": "stdout",
     "output_type": "stream",
     "text": [
      "\n",
      "Elements greater than 40:\n",
      " [125. 851.  56.  75.]\n"
     ]
    }
   ],
   "source": [
    "# An exemplar array\n",
    "array_example = np.array([[10, 32, 36, 34],\n",
    "                [125, 851, 0, -24],\n",
    "                [56, 19, 75, 20],\n",
    "                [3, -7, 4, 2.0]])\n",
    "\n",
    "# boolean array indexing example\n",
    "condition = array_example > 40 # cond is a boolean array\n",
    "boolean_output = array_example[condition]\n",
    "print (\"\\nElements greater than 40:\\n\", boolean_output)"
   ]
  },
  {
   "cell_type": "markdown",
   "metadata": {
    "id": "ENJMvzCrl039"
   },
   "source": [
    "## Manipulating Arrays"
   ]
  },
  {
   "cell_type": "code",
   "execution_count": 7,
   "metadata": {
    "colab": {
     "base_uri": "https://localhost:8080/"
    },
    "executionInfo": {
     "elapsed": 169,
     "status": "ok",
     "timestamp": 1661035903885,
     "user": {
      "displayName": "Yogesh Kothiya",
      "userId": "16013917111822092306"
     },
     "user_tz": -330
    },
    "id": "nT4NaaKPD6Yz",
    "outputId": "8556958e-29f1-4cbc-ebbd-c77c83f11706"
   },
   "outputs": [
    {
     "name": "stdout",
     "output_type": "stream",
     "text": [
      "original array\n",
      " [[1. 1. 1. 1. 1.]\n",
      " [1. 1. 1. 1. 1.]\n",
      " [1. 1. 1. 1. 1.]\n",
      " [1. 1. 1. 1. 1.]]\n",
      "modified array\n",
      " [[ 1.  1.  1.  1.  1.]\n",
      " [ 1.  1.  1.  1.  1.]\n",
      " [ 1.  1. 10.  1.  1.]\n",
      " [ 1.  1.  1.  1.  1.]]\n"
     ]
    }
   ],
   "source": [
    "#Items of an array can be modified in any place of an array like below\n",
    "array = np.ones((4, 5))\n",
    "print(\"original array\\n\",array)\n",
    "\n",
    "## Replace a value at 2nd row, 2nd column to 10\n",
    "array[2, 2] = 10\n",
    "print(\"modified array\\n\",array)"
   ]
  },
  {
   "cell_type": "code",
   "execution_count": 8,
   "metadata": {
    "colab": {
     "base_uri": "https://localhost:8080/"
    },
    "executionInfo": {
     "elapsed": 8,
     "status": "ok",
     "timestamp": 1661035904135,
     "user": {
      "displayName": "Yogesh Kothiya",
      "userId": "16013917111822092306"
     },
     "user_tz": -330
    },
    "id": "aPeqnvf8cpsO",
    "outputId": "ec062a73-2e96-4948-ec10-c4e6d62459c7"
   },
   "outputs": [
    {
     "name": "stdout",
     "output_type": "stream",
     "text": [
      "[[ 1.  1.  1.  1.  1.]\n",
      " [ 1.  1.  1.  1.  1.]\n",
      " [ 1.  1. 10.  1.  1.]\n",
      " [11. 11. 11. 11. 11.]]\n"
     ]
    }
   ],
   "source": [
    "## Replace a value at 3rd row to 11\n",
    "array[3] = 11\n",
    "\n",
    "print(array)"
   ]
  },
  {
   "cell_type": "code",
   "execution_count": null,
   "metadata": {
    "colab": {
     "base_uri": "https://localhost:8080/"
    },
    "executionInfo": {
     "elapsed": 229,
     "status": "ok",
     "timestamp": 1661035925196,
     "user": {
      "displayName": "Yogesh Kothiya",
      "userId": "16013917111822092306"
     },
     "user_tz": -330
    },
    "id": "4XO89UHKdIW8",
    "outputId": "61a1e92e-2b25-4e55-e58b-0f24e13e275f"
   },
   "outputs": [],
   "source": [
    "## Replace a value at 1st column to -12\n",
    "array[:, 1] = -12\n",
    "\n",
    "print(array)"
   ]
  },
  {
   "cell_type": "markdown",
   "metadata": {
    "id": "V7EQDRs9XQDL"
   },
   "source": [
    "## Basic arithmetic operations"
   ]
  },
  {
   "cell_type": "markdown",
   "metadata": {
    "id": "bGXHy5xtafpS"
   },
   "source": [
    "### Operations on a single array"
   ]
  },
  {
   "cell_type": "code",
   "execution_count": null,
   "metadata": {
    "colab": {
     "base_uri": "https://localhost:8080/"
    },
    "executionInfo": {
     "elapsed": 383,
     "status": "ok",
     "timestamp": 1660627463555,
     "user": {
      "displayName": "Karthik Reddy",
      "userId": "12943247893792965833"
     },
     "user_tz": -330
    },
    "id": "aQ2mr7lCWs_A",
    "outputId": "c2eed541-287e-44dd-8d27-2b459d817b4c"
   },
   "outputs": [],
   "source": [
    "sample_arr = np.array([[5, 215, 69],\n",
    "                [44, 74, 21],\n",
    "                [30, 12, 94]])\n",
    " \n",
    "# maximum element of array\n",
    "print (\"Largest element of array :\", sample_arr.max())\n",
    "print (\"Row-wise maximum elements:\",\n",
    "                    sample_arr.max(axis = 1))\n",
    " \n",
    "# minimum element of array\n",
    "print (\"Minimum element of array :\", sample_arr.min())\n",
    "print (\"Column-wise minimum elements:\",\n",
    "                        sample_arr.min(axis = 0))\n",
    " \n",
    "# sum of array elements\n",
    "print (\"Sum of all array elements:\",\n",
    "                            sample_arr.sum())\n",
    " \n",
    "# cumulative sum along each row\n",
    "print (\"Cumulative sum along each row:\\n\",\n",
    "                        sample_arr.cumsum(axis = 1))"
   ]
  },
  {
   "cell_type": "markdown",
   "metadata": {
    "id": "k0XUPanfbpup"
   },
   "source": [
    "### Binary operators"
   ]
  },
  {
   "cell_type": "code",
   "execution_count": null,
   "metadata": {
    "colab": {
     "base_uri": "https://localhost:8080/"
    },
    "id": "lEW_NOcnblLZ",
    "outputId": "35d4ecbf-fc4d-4970-d4ef-11abe8fb372d"
   },
   "outputs": [],
   "source": [
    "arr_a = np.array([[5, 7],\n",
    "            [8, 1]])\n",
    "arr_b = np.array([[4, 1],\n",
    "            [9, 2]])\n",
    " \n",
    "# addition of arrays\n",
    "print (\"Array sum:\\n\", arr_a+ arr_b)\n",
    " \n",
    "# multiplication of arrays (elementwise multiplication)\n",
    "print (\"Array multiplication:\\n\", arr_a*arr_b)\n",
    " \n",
    "# matrix multiplication of arrays\n",
    "print (\"Matrix multiplication:\\n\", arr_a.dot(arr_b))"
   ]
  },
  {
   "cell_type": "markdown",
   "metadata": {
    "id": "99MYvrBucWx_"
   },
   "source": [
    "## Sort Method"
   ]
  },
  {
   "cell_type": "code",
   "execution_count": null,
   "metadata": {
    "colab": {
     "base_uri": "https://localhost:8080/"
    },
    "executionInfo": {
     "elapsed": 189,
     "status": "ok",
     "timestamp": 1661038765434,
     "user": {
      "displayName": "Yogesh Kothiya",
      "userId": "16013917111822092306"
     },
     "user_tz": -330
    },
    "id": "ckJKLdR3cJVn",
    "outputId": "fe906987-82dd-4b61-f888-6cab4ed83f2e"
   },
   "outputs": [],
   "source": [
    "sample_arr = np.array([[1, 4, 2],\n",
    "                 [3, 4, 6],\n",
    "              [0, -1, 5]])\n",
    " \n",
    "# sorted array\n",
    "print (\"Array elements in sorted order:\\n\",\n",
    "                    np.sort(sample_arr, axis = None))\n",
    " \n",
    "# sort array row-wise\n",
    "print (\"Row-wise sorted array:\\n\",\n",
    "                np.sort(sample_arr, axis = 1))"
   ]
  },
  {
   "cell_type": "code",
   "execution_count": null,
   "metadata": {
    "colab": {
     "base_uri": "https://localhost:8080/"
    },
    "executionInfo": {
     "elapsed": 225,
     "status": "ok",
     "timestamp": 1661038794532,
     "user": {
      "displayName": "Yogesh Kothiya",
      "userId": "16013917111822092306"
     },
     "user_tz": -330
    },
    "id": "E5na6GPFc89g",
    "outputId": "cb1bd79b-4b8e-45c5-a64f-abdb44e3e5c0"
   },
   "outputs": [],
   "source": [
    "# Example to show sorting of structured array\n",
    "# set alias names for dtypes\n",
    "dtypes = [('name', 'S10'), ('graduation_year', int), ('Percentage', float)]\n",
    " \n",
    "# Values to be put in array\n",
    "values = [('Kartik', 2001, 96.5), ('Pranay', 2001, 85.7),\n",
    "           ('Arjav', 1999, 76.9), ('Krunal', 2003, 90.0)]\n",
    "            \n",
    "# Creating array\n",
    "created_arr = np.array(values, dtype = dtypes)\n",
    "print (\"\\nArray sorted by names:\\n\",\n",
    "            np.sort(created_arr, order = 'name'))"
   ]
  },
  {
   "cell_type": "markdown",
   "metadata": {
    "id": "UNSTrTeDffnu"
   },
   "source": [
    "## Data Type"
   ]
  },
  {
   "cell_type": "code",
   "execution_count": null,
   "metadata": {
    "colab": {
     "base_uri": "https://localhost:8080/"
    },
    "executionInfo": {
     "elapsed": 168,
     "status": "ok",
     "timestamp": 1661038873248,
     "user": {
      "displayName": "Yogesh Kothiya",
      "userId": "16013917111822092306"
     },
     "user_tz": -330
    },
    "id": "Sp3E05KedOHu",
    "outputId": "a7882ef0-94a4-47d2-fd13-7caf1d45979d"
   },
   "outputs": [],
   "source": [
    "import numpy as np\n",
    "\n",
    "#create array with data type integer\n",
    "arr = np.array([3, 6, 0, -1], dtype='i')\n",
    "print(arr.dtype)"
   ]
  },
  {
   "cell_type": "code",
   "execution_count": null,
   "metadata": {
    "colab": {
     "base_uri": "https://localhost:8080/"
    },
    "executionInfo": {
     "elapsed": 46,
     "status": "ok",
     "timestamp": 1661038873481,
     "user": {
      "displayName": "Yogesh Kothiya",
      "userId": "16013917111822092306"
     },
     "user_tz": -330
    },
    "id": "m3n_tn7efoaN",
    "outputId": "83707c4f-a5c3-4907-8373-9a90ac2200b8"
   },
   "outputs": [],
   "source": [
    "#coverting datatype of existing array\n",
    "converted_arr = arr.astype('bool')\n",
    "print(arr)\n",
    "print(converted_arr.dtype)\n",
    "print(converted_arr)"
   ]
  },
  {
   "cell_type": "markdown",
   "metadata": {
    "id": "fYR3HVOmhOW1"
   },
   "source": [
    "## numpy array join"
   ]
  },
  {
   "cell_type": "code",
   "execution_count": null,
   "metadata": {
    "colab": {
     "base_uri": "https://localhost:8080/"
    },
    "id": "ae1r5wjmf7OL",
    "outputId": "b3d9a51d-2124-4963-b4d7-164ef774f49f"
   },
   "outputs": [],
   "source": [
    "import numpy as np\n",
    "\n",
    "arr_concat1 = np.array([2, 2, 6, 8])\n",
    "arr_concat2 = np.array([1, 3, 5, 7])\n",
    "final_arr = np.concatenate((arr_concat1, arr_concat2))\n",
    "print(\"1d concatenated array : \\n\",final_arr)\n",
    "\n",
    "\n",
    "#joining a 2D array\n",
    "arr2d_concat1 = np.array([[3, 5], [7, 9]])\n",
    "arr2d_concat2 = np.array([[0, 6], [2, 1]])\n",
    "arr_concat_final = np.concatenate((arr2d_concat1, arr2d_concat2), axis=1)\n",
    "print(\"\\n 2d concatenated array: \\n\",arr_concat_final)"
   ]
  },
  {
   "cell_type": "markdown",
   "metadata": {
    "id": "tIzrd_ybjNMO"
   },
   "source": [
    "## numpy array search"
   ]
  },
  {
   "cell_type": "code",
   "execution_count": null,
   "metadata": {
    "colab": {
     "base_uri": "https://localhost:8080/"
    },
    "id": "TWDa8OQUjNcw",
    "outputId": "476f9122-f17e-43ba-e24d-b9b9ee7d10bb"
   },
   "outputs": [],
   "source": [
    "# find the indexes where values are odd\n",
    "import numpy as np\n",
    "\n",
    "arr_all = np.array([123, 345, 29, 24, 80, 61, 79, 84])\n",
    "\n",
    "arr_odd_index = np.where(arr_all%2 == 1)\n",
    "\n",
    "print(arr_odd_index)"
   ]
  },
  {
   "cell_type": "markdown",
   "metadata": {
    "id": "11y7f_-OJyCe"
   },
   "source": [
    "## numpy array split"
   ]
  },
  {
   "cell_type": "markdown",
   "metadata": {
    "id": "PDOYIQvldH1E"
   },
   "source": [
    "### Split Array function"
   ]
  },
  {
   "cell_type": "code",
   "execution_count": null,
   "metadata": {
    "colab": {
     "base_uri": "https://localhost:8080/"
    },
    "id": "nblGzGBdJEQi",
    "outputId": "3f3da174-9da8-439b-cca1-a4f30178cf3e"
   },
   "outputs": [],
   "source": [
    "import numpy as np\n",
    "\n",
    "array_to_split = np.array([6, 1, 7, 9, 10, 4, 43, 28])\n",
    "\n",
    "split_array = np.array_split(array_to_split , 3)\n",
    "\n",
    "print(split_array[0])\n",
    "print(split_array[1])\n",
    "print(split_array[2])"
   ]
  },
  {
   "cell_type": "markdown",
   "metadata": {
    "id": "bC0wcJ2z04e6"
   },
   "source": [
    "### Horizontal Split"
   ]
  },
  {
   "cell_type": "code",
   "execution_count": null,
   "metadata": {
    "id": "xaDvrHEP8gCi"
   },
   "outputs": [],
   "source": [
    "import numpy as np\n",
    "  \n",
    "array = np.arange(27.0).reshape(3, 3, 3)\n",
    "  \n",
    "hsplit_arr = np.hsplit(array, 1)\n",
    "print(\"Array before splitting : \\n\", array)\n",
    "print(\"\\n Array after horizontal split : \\n \",hsplit_arr)"
   ]
  },
  {
   "cell_type": "markdown",
   "metadata": {
    "id": "rHgw2eZM2G6x"
   },
   "source": [
    "### Vertical Split"
   ]
  },
  {
   "cell_type": "code",
   "execution_count": null,
   "metadata": {
    "id": "FpGma1r62HSN"
   },
   "outputs": [],
   "source": [
    "import numpy as np\n",
    "  \n",
    "array = np.arange(36.0).reshape(6, 6)\n",
    "  \n",
    "vsplit_arr = np.vsplit(array, 2)\n",
    "  \n",
    "print(\"Array before splitting : \\n\", array)\n",
    "print(\"\\n Array after vertical split : \\n\",vsplit_arr)"
   ]
  },
  {
   "cell_type": "markdown",
   "metadata": {
    "id": "MzRsBE8X5k34"
   },
   "source": [
    "## Numpy Stacking"
   ]
  },
  {
   "cell_type": "code",
   "execution_count": null,
   "metadata": {
    "id": "36oEjMWVqNuv"
   },
   "outputs": [],
   "source": [
    "import numpy as np\n",
    "  \n",
    "arr_1 = np.array([[7, 3],\n",
    "              [1, 4]])\n",
    "  \n",
    "arr_2 = np.array([[1, 9],\n",
    "              [4, 0]])"
   ]
  },
  {
   "cell_type": "markdown",
   "metadata": {
    "id": "31_-9him6INM"
   },
   "source": [
    "### Vertical Stacking\n",
    "\n"
   ]
  },
  {
   "cell_type": "code",
   "execution_count": null,
   "metadata": {
    "colab": {
     "base_uri": "https://localhost:8080/"
    },
    "id": "HbpAaop26Ha0",
    "outputId": "b1d313b1-844e-4121-aefd-05242d2c69ba"
   },
   "outputs": [],
   "source": [
    "# vertical stacking\n",
    "print(\"Vertical stacking:\\n\", np.vstack((arr_1, arr_2)))"
   ]
  },
  {
   "cell_type": "markdown",
   "metadata": {
    "id": "af09U8Ry6P1N"
   },
   "source": [
    "### Horizontal Stacking"
   ]
  },
  {
   "cell_type": "code",
   "execution_count": null,
   "metadata": {
    "colab": {
     "base_uri": "https://localhost:8080/"
    },
    "id": "EBLTSa1p6RGu",
    "outputId": "2643ce5e-3447-4f8d-9f10-5bac1175c7ae"
   },
   "outputs": [],
   "source": [
    "# horizontal stacking\n",
    "print(\"\\nHorizontal stacking:\\n\", np.hstack((arr_1, arr_2)))"
   ]
  },
  {
   "cell_type": "markdown",
   "metadata": {
    "id": "sFvKKOox6bjv"
   },
   "source": [
    "### Column Stacking"
   ]
  },
  {
   "cell_type": "code",
   "execution_count": null,
   "metadata": {
    "colab": {
     "base_uri": "https://localhost:8080/"
    },
    "id": "4zCHgN-Y6buJ",
    "outputId": "98b89586-af6b-4750-8875-5b5be0dd7853"
   },
   "outputs": [],
   "source": [
    "column = [5, 6]\n",
    "  \n",
    "# stacking columns\n",
    "print(\"\\nColumn stacking:\\n\", np.column_stack((arr_1, column)))"
   ]
  },
  {
   "cell_type": "markdown",
   "metadata": {
    "id": "PvVk4qxs3Ghr"
   },
   "source": [
    "## Broadcasting"
   ]
  },
  {
   "cell_type": "markdown",
   "metadata": {
    "id": "7O2jx1PVxRPY"
   },
   "source": [
    "Broadcasting is the ability of a of NumPy to treat arrays of different shapes during arithmetic operations.\n",
    "If two arrays are of exactly the same shape, then these operations are smoothly performed.\n"
   ]
  },
  {
   "cell_type": "code",
   "execution_count": null,
   "metadata": {
    "colab": {
     "base_uri": "https://localhost:8080/"
    },
    "executionInfo": {
     "elapsed": 414,
     "status": "ok",
     "timestamp": 1660472693650,
     "user": {
      "displayName": "Karthik Reddy",
      "userId": "12943247893792965833"
     },
     "user_tz": -330
    },
    "id": "CKiFUKe34GEI",
    "outputId": "f7943d24-7ed1-4e6d-fedc-96428b78125d"
   },
   "outputs": [],
   "source": [
    "a = np.array([1,2,3,4]) \n",
    "b = np.array([1,80,33,44]) \n",
    "c = a * b \n",
    "print(\"multiplication of the two arrays\",c)"
   ]
  },
  {
   "cell_type": "markdown",
   "metadata": {
    "id": "kxqwSbkM5K6o"
   },
   "source": [
    "If two or any set of arrays brodcastable then they are atleast follow any one of the following rules.\n",
    "1. Arrays have exactly the same shape.\n",
    "2. Arrays have the same number of dimensions and the length of each dimension is either a common length or 1.\n",
    "3. Arrays having too few dimensions can have their shape prepended with a dimension of length 1 so that the above-stated property is true."
   ]
  },
  {
   "cell_type": "code",
   "execution_count": null,
   "metadata": {
    "colab": {
     "base_uri": "https://localhost:8080/"
    },
    "executionInfo": {
     "elapsed": 415,
     "status": "ok",
     "timestamp": 1660474383433,
     "user": {
      "displayName": "Karthik Reddy",
      "userId": "12943247893792965833"
     },
     "user_tz": -330
    },
    "id": "k_0PWCEM5lI2",
    "outputId": "cc2f4668-b5dd-4b7f-d0cf-839b8a7c44c5"
   },
   "outputs": [],
   "source": [
    "# Rule 1 - Passed\n",
    "a = np.array([5, 11, 25,54])\n",
    "b = np.array([5, 5, 5, 63])\n",
    "c = a + b\n",
    "print(\"adding two arrays\",c)"
   ]
  },
  {
   "cell_type": "code",
   "execution_count": null,
   "metadata": {
    "colab": {
     "base_uri": "https://localhost:8080/",
     "height": 225
    },
    "executionInfo": {
     "elapsed": 191,
     "status": "error",
     "timestamp": 1661046135598,
     "user": {
      "displayName": "Yogesh Kothiya",
      "userId": "16013917111822092306"
     },
     "user_tz": -330
    },
    "id": "zItI1DIaD_Os",
    "outputId": "2bc1a141-800c-418f-c895-b0a6831a69ff"
   },
   "outputs": [],
   "source": [
    "# Rule 1 - Failed\n",
    "# Rule 2 - Failed\n",
    "a = np.array([5, 11, 25,54])\n",
    "b = np.array([5, 5, 5])\n",
    "c = a + b\n",
    "print(\"adding two arrays\",c)"
   ]
  },
  {
   "cell_type": "code",
   "execution_count": null,
   "metadata": {
    "colab": {
     "base_uri": "https://localhost:8080/"
    },
    "executionInfo": {
     "elapsed": 200,
     "status": "ok",
     "timestamp": 1661046241747,
     "user": {
      "displayName": "Yogesh Kothiya",
      "userId": "16013917111822092306"
     },
     "user_tz": -330
    },
    "id": "WQXbOMrdESPk",
    "outputId": "802e69f1-797c-4a3c-d38e-9391dd4205af"
   },
   "outputs": [],
   "source": [
    "# Rule 1 - Failed\n",
    "# Rule 2 - Pass\n",
    "a + 5  ## 5 is scalar value and defult of dimension 1"
   ]
  },
  {
   "cell_type": "markdown",
   "metadata": {
    "id": "y6N6p_rVsMOJ"
   },
   "source": [
    "### Scalar operation on an array\n",
    "\n",
    "\n",
    "In this example, the scalar is stretched to become an array of with the same shape as a so the shapes are compatible for element-by-element multiplication"
   ]
  },
  {
   "cell_type": "code",
   "execution_count": null,
   "metadata": {
    "colab": {
     "base_uri": "https://localhost:8080/"
    },
    "executionInfo": {
     "elapsed": 11,
     "status": "ok",
     "timestamp": 1660500903531,
     "user": {
      "displayName": "Karthik Reddy",
      "userId": "12943247893792965833"
     },
     "user_tz": -330
    },
    "id": "lo2s1EZD3GtI",
    "outputId": "4dd5ca37-5a7d-4748-f883-391b04d2031b"
   },
   "outputs": [],
   "source": [
    "\n",
    "import numpy as np\n",
    "  \n",
    "array = np.array([5, 6, 7])\n",
    "  \n",
    "# Example 1\n",
    "scalar = 2.0\n",
    "print(\"output of scalar multiplication : \", scalar * array)\n",
    "  \n",
    "# Example 2\n",
    "array_2 = [2.0, 2.0, 2.0]\n",
    "print(\"output on arrays multiplication :\",array * array_2)"
   ]
  },
  {
   "cell_type": "markdown",
   "metadata": {
    "id": "u-FefZ-rduFC"
   },
   "source": [
    "We can similarly extend this to arrays of higher dimensions. Observe the result when we add a one-dimensional array to a two-dimensional array:"
   ]
  },
  {
   "cell_type": "code",
   "execution_count": null,
   "metadata": {
    "colab": {
     "base_uri": "https://localhost:8080/"
    },
    "executionInfo": {
     "elapsed": 365,
     "status": "ok",
     "timestamp": 1660500908589,
     "user": {
      "displayName": "Karthik Reddy",
      "userId": "12943247893792965833"
     },
     "user_tz": -330
    },
    "id": "wLdpjg2qdkp6",
    "outputId": "fe11ed1b-d009-43ed-d93d-5ff22254e513"
   },
   "outputs": [],
   "source": [
    "a = np.array([0, 1, 2])\n",
    "M = np.ones((3, 3))\n",
    "print(\"output of array addition :\",M+a)"
   ]
  },
  {
   "cell_type": "markdown",
   "metadata": {
    "id": "UBJflP8n2trh"
   },
   "source": [
    "### Broadcasting where both arrays gets stretched\n",
    "\n",
    "In below example, broadcasting stretches both arrays to form an output array larger than either of the initial arrays"
   ]
  },
  {
   "cell_type": "markdown",
   "metadata": {
    "id": "fv0OlP6hkjjV"
   },
   "source": [
    "np.newaxis is used to increase the dimension of the existing array by one more dimension when used once. Thus,\n",
    "\n",
    "1D array will become 2D array.2D to 3D"
   ]
  },
  {
   "cell_type": "code",
   "execution_count": null,
   "metadata": {
    "colab": {
     "base_uri": "https://localhost:8080/"
    },
    "executionInfo": {
     "elapsed": 380,
     "status": "ok",
     "timestamp": 1660502526561,
     "user": {
      "displayName": "Karthik Reddy",
      "userId": "12943247893792965833"
     },
     "user_tz": -330
    },
    "id": "TuYuKTu0oDW1",
    "outputId": "f4508db5-d9a1-44e9-8c84-01ed8242836b"
   },
   "outputs": [],
   "source": [
    "a = np.arange(3)\n",
    "b = np.arange(2)[:, np.newaxis] #it is equal to b.reshape(2,1) \n",
    "a+b\n"
   ]
  },
  {
   "cell_type": "code",
   "execution_count": null,
   "metadata": {
    "colab": {
     "base_uri": "https://localhost:8080/"
    },
    "executionInfo": {
     "elapsed": 419,
     "status": "ok",
     "timestamp": 1660631959480,
     "user": {
      "displayName": "Karthik Reddy",
      "userId": "12943247893792965833"
     },
     "user_tz": -330
    },
    "id": "s9lLBdij2rIx",
    "outputId": "71a2dd7b-ecb7-48c6-92fe-2a594e67e104"
   },
   "outputs": [],
   "source": [
    "import numpy as np\n",
    "  \n",
    "a = np.array([5.0, 12.0, 42.0, 75.0])\n",
    "b = np.array([1.0, 6.0, 8.0])\n",
    "  \n",
    "print(a[:, np.newaxis] + b)"
   ]
  },
  {
   "cell_type": "markdown",
   "metadata": {
    "id": "YBXfLobCJ5HS"
   },
   "source": [
    "<img src='https://jakevdp.github.io/PythonDataScienceHandbook/figures/02.05-broadcasting.png' />\n",
    "\n",
    "The lightboxes represent the broadcasted values: again, this extra memory is not actually allocated in the course of the operation, but it can be useful conceptually to imagine that it is."
   ]
  },
  {
   "cell_type": "code",
   "execution_count": null,
   "metadata": {},
   "outputs": [],
   "source": []
  }
 ],
 "metadata": {
  "colab": {
   "collapsed_sections": [],
   "provenance": [
    {
     "file_id": "1BHemk71ESFps56YORab8dZkM-Ix-hJvf",
     "timestamp": 1661363715916
    }
   ]
  },
  "kernelspec": {
   "display_name": "Python 3 (ipykernel)",
   "language": "python",
   "name": "python3"
  },
  "language_info": {
   "codemirror_mode": {
    "name": "ipython",
    "version": 3
   },
   "file_extension": ".py",
   "mimetype": "text/x-python",
   "name": "python",
   "nbconvert_exporter": "python",
   "pygments_lexer": "ipython3",
   "version": "3.11.2"
  }
 },
 "nbformat": 4,
 "nbformat_minor": 1
}
