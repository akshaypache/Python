{
 "cells": [
  {
   "cell_type": "markdown",
   "metadata": {
    "id": "clHCDqZk7Zox"
   },
   "source": []
  },
  {
   "cell_type": "markdown",
   "metadata": {
    "id": "DLnuW95m8V7g"
   },
   "source": [
    "**Question-1:**\n",
    "\n",
    "Write a program to check whether a string is a palindrome or not. Print 1 if the string is a palindrome and 0 otherwise.\n",
    "\n",
    "Note: Please ensure that your program should not be case-sensitive. So, if the input is, say, “HAnnah”, then, its output should be 1.\n",
    "\n",
    "----------------------------------------------------------------------\n",
    "Input:\n",
    "A string\n",
    "\n",
    "Output:\n",
    "1 if the string is a palindrome, 0 otherwise\n",
    "\n",
    "----------------------------------------------------------------------\n",
    "Sample input:\n",
    "HAnnah\n",
    "\n",
    "Sample output:\n",
    "1\n",
    "\n",
    "----------------------------------------------------------------------\n",
    "Sample input:\n",
    "Rebecca\n",
    "\n",
    "Sample output:\n",
    "0\n"
   ]
  },
  {
   "cell_type": "code",
   "execution_count": 3,
   "metadata": {},
   "outputs": [
    {
     "name": "stdout",
     "output_type": "stream",
     "text": [
      "enter a String = Malayalam\n",
      "1\n"
     ]
    }
   ],
   "source": [
    "str = input(\"enter a String = \").lower()\n",
    "print(1) if str==str[::-1] else print(0)\n",
    "# enter a String = Malayalam\n",
    "# output : 1"
   ]
  },
  {
   "cell_type": "markdown",
   "metadata": {
    "id": "NOFa1pN280sN"
   },
   "source": [
    "**Question-2:**\n",
    "\n",
    "You will be given a sentence in the form of a string. You have to reverse the order of the words in the sentence. Remember not to reverse the individual words, but the order of words. Check the sample input-output for further clarification.\n",
    "\n",
    "----------------------------------------------------------------------\n",
    "Input:\n",
    "A string, which will consist of a few spaces.\n",
    "\n",
    "Output:\n",
    "The words in reverse order.\n",
    "\n",
    "----------------------------------------------------------------------\n",
    "Sample input:\n",
    "I love coding in python\n",
    "\n",
    "Sample output:\n",
    "python in coding love I\n",
    "\n",
    "----------------------------------------------------------------------\n",
    "Sample input:\n",
    "python is super easy and fun\n",
    "\n",
    "Sample output:\n",
    "fun and easy super is python"
   ]
  },
  {
   "cell_type": "code",
   "execution_count": 4,
   "metadata": {},
   "outputs": [
    {
     "name": "stdout",
     "output_type": "stream",
     "text": [
      "Enter a string = my name is aadesh\n",
      "aadesh is name my\n"
     ]
    }
   ],
   "source": [
    "str = input(\"Enter a string = \")\n",
    "wordList = str.split()\n",
    "newStr = \" \".join(wordList[::-1])\n",
    "print(newStr)"
   ]
  },
  {
   "cell_type": "markdown",
   "metadata": {
    "id": "nw1e5cFv9QUu"
   },
   "source": [
    "Question-3:\n",
    "\n",
    "While naming entities, it is a common practice to avoid spaces. That is the reason you see so many people using underscores instead of spaces. \n",
    "You will be given a string, containing a few spaces and random upper and lower cases. You have to write a code that will add underscore in place of spaces and also capitalise the letters properly, i.e. the first letter after underscore should be in upper case and the first letter of the string should be in upper case, all of the other letters should be lower case. \n",
    "This type of activity is frequently encountered while starting to analyse data. This is called Data cleaning and you will learn more about it in upcoming modules.\n",
    "\n",
    "----------------------------------------------------------------------\n",
    "Input:\n",
    "A string of only alphabets and spaces\n",
    "\n",
    "Output:\n",
    "A string formatted as stated above. See sample input/output for more clarification,\n",
    "\n",
    "----------------------------------------------------------------------\n",
    "Sample input:\n",
    "caloRie consuMed\n",
    "\n",
    "Sample output:\n",
    "Calorie_Consumed\n",
    "\n",
    "----------------------------------------------------------------------\n",
    "Sample input:\n",
    "data science\n",
    "\n",
    "Sample output:\n",
    "Data_Science\n"
   ]
  },
  {
   "cell_type": "code",
   "execution_count": 6,
   "metadata": {},
   "outputs": [
    {
     "name": "stdout",
     "output_type": "stream",
     "text": [
      "Enter a string = caloRie consuMed\n",
      "Calorie_Consumed\n"
     ]
    }
   ],
   "source": [
    "str = input(\"Enter a string = \")\n",
    "print(str.title().replace(\" \",\"_\"))"
   ]
  },
  {
   "cell_type": "code",
   "execution_count": null,
   "metadata": {},
   "outputs": [],
   "source": [
    "Str1=[\"pawAn\",\"AmiT\",\"Shweta\"]\n",
    "output = []\n",
    "for word in Str1:\n",
    "    #print(word)\n",
    "    for index,char in enumerate(word):\n",
    "        if char.isupper():\n",
    "            tup = (index, char)\n",
    "            output.append(tup)"
   ]
  },
  {
   "cell_type": "markdown",
   "metadata": {
    "id": "iD7tlUtN-x6Z"
   },
   "source": [
    "**Question-4:**\n",
    "\n",
    "Write a program that receives a string and shifts all the vowels present in it to the beginning. Output the resultant string. The order of all the vowels with respect to each other as well as the order of all the other characters with respect to each other should stay the same.\n",
    "\n",
    "----------------------------------------------------------------------\n",
    "Input:\n",
    "A string\n",
    "\n",
    "Output:\n",
    "Vowels shifted to the beginning in the input string.\n",
    "\n",
    "----------------------------------------------------------------------\n",
    "Sample input:\n",
    "\n",
    "programming\n",
    "\n",
    "Sample output:\n",
    "\n",
    "oaiprgrmmng\n",
    "\n",
    "----------------------------------------------------------------------\n",
    "Sample input:\n",
    "\n",
    "You love Python!\n",
    "\n",
    "Sample output:\n",
    "\n",
    "ouoeoY lv Pythn!\n",
    "\n",
    "----------------------------------------------------------------------\n",
    "Explanation:\n",
    "All the vowels have been shifted to the beginning in order. The order of all the other characters remains the same."
   ]
  },
  {
   "cell_type": "code",
   "execution_count": 7,
   "metadata": {},
   "outputs": [
    {
     "name": "stdout",
     "output_type": "stream",
     "text": [
      "Enter a String = aadesh lokhande\n",
      "eaoeaadsh lkhnd\n"
     ]
    }
   ],
   "source": [
    "str = input(\"Enter a String = \")\n",
    "outputStr = \"\"\n",
    "for i in str:\n",
    "    if i in (\"a\",\"A\",\"e\",\"E\",\"i\",\"I\",\"o\",\"O\",\"u\",\"U\"):\n",
    "        outputStr = i + outputStr\n",
    "    else:\n",
    "        outputStr = outputStr + i\n",
    "print(outputStr)"
   ]
  },
  {
   "cell_type": "code",
   "execution_count": 9,
   "metadata": {},
   "outputs": [
    {
     "name": "stdout",
     "output_type": "stream",
     "text": [
      "Enter a String = Aadesh Lokhande\n",
      "Aaeoaedsh Lkhnd\n"
     ]
    }
   ],
   "source": [
    "str = input(\"Enter a String = \")\n",
    "vowel = \"\"\n",
    "consonant = \"\"\n",
    "for i in str:\n",
    "    if i in (\"a\",\"A\",\"e\",\"E\",\"i\",\"I\",\"o\",\"O\",\"u\",\"U\"):\n",
    "        vowel += i\n",
    "    else:\n",
    "        consonant += i\n",
    "print(vowel+consonant)"
   ]
  },
  {
   "cell_type": "markdown",
   "metadata": {
    "id": "gcCNtpSABZuc"
   },
   "source": [
    "**Question-5:**\n",
    "\n",
    "Description\n",
    "You will be given two strings. You have to find the largest prefix common in both the strings.\n",
    "\n",
    "----------------------------------------------------------------------\n",
    "Input:\n",
    "Two lines of input, one string on each line\n",
    "\n",
    "Output:\n",
    "The common largest prefix for both strings. Check sample input/output for clarification. -1 if no prefix is common.\n",
    "\n",
    "----------------------------------------------------------------------\n",
    "Sample input:\n",
    "\n",
    "abshdksajd\n",
    "\n",
    "abshiehand\n",
    "\n",
    "Sample output:\n",
    "\n",
    "absh\n",
    "\n",
    "----------------------------------------------------------------------\n",
    "Sample input:\n",
    "\n",
    "relevelData\n",
    "\n",
    "RelevelScience\n",
    "\n",
    "Sample output:\n",
    "Relevel\n"
   ]
  },
  {
   "cell_type": "code",
   "execution_count": 14,
   "metadata": {},
   "outputs": [
    {
     "name": "stdout",
     "output_type": "stream",
     "text": [
      "enter a first String = asd\n",
      "enter a second String = asdd\n",
      "asd\n"
     ]
    }
   ],
   "source": [
    "str1 = input(\"enter a first String = \")\n",
    "str2 = input(\"enter a second String = \")\n",
    "\n",
    "len_ = len(str1) if len(str1)<len(str2) else len(str2)\n",
    "\n",
    "commonStr = \"\"\n",
    "for i in range(len_):\n",
    "    if(str1[i]!=str2[i]):\n",
    "        break\n",
    "    commonStr += str1[i]\n",
    "    \n",
    "print(commonStr)"
   ]
  },
  {
   "cell_type": "markdown",
   "metadata": {
    "id": "Kcb04x9UCNmw"
   },
   "source": [
    "**Question-6:**\n",
    "\n",
    "Two strings are anagrams of each other if you can rearrange the characters of one string to make the other string.\n",
    "Given two strings, can you find if they are anagrams or no?\n",
    "\n",
    "----------------------------------------------------------------------\n",
    "Input:\n",
    "Two lines of input, each line will contain a string without space.\n",
    "\n",
    "Output:\n",
    "True or False based on whether the strings are anagrams or not.\n",
    "\n",
    "----------------------------------------------------------------------\n",
    "Sample input:\n",
    "\n",
    "thing\n",
    "\n",
    "night\n",
    "\n",
    "Sample output:\n",
    "True\n",
    "\n",
    "----------------------------------------------------------------------\n",
    "Sample input:\n",
    "\n",
    "relevel\n",
    "\n",
    "found\n",
    "\n",
    "Sample output:\n",
    "False\n",
    "\n",
    "----------------------------------------------------------------------\n",
    "Note: the code will be case-Sensitive\n",
    "Hint: if the length of the strings doesn't match, the strings are obviously not anagrams.\n"
   ]
  },
  {
   "cell_type": "code",
   "execution_count": null,
   "metadata": {},
   "outputs": [],
   "source": []
  },
  {
   "cell_type": "markdown",
   "metadata": {
    "id": "CHSbVt0AYnGN"
   },
   "source": [
    "**Question-7**\n",
    "\n",
    "Given two strings, one of the strings will contain an extra character. Find the extra character. The number of all the other characters in both the strings will be the same. Check the sample input/output for more clarification.\n",
    "\n",
    "The code will be case sensitive.\n",
    "\n",
    "----------------------------------------------------------------------\n",
    "Input:\n",
    "\n",
    "Two strings on two separate lines. \n",
    "\n",
    "Output:\n",
    "\n",
    "One Character which is extra in one of the strings\n",
    "\n",
    "----------------------------------------------------------------------\n",
    "Sample input:\n",
    "\n",
    "abcd\n",
    "\n",
    "cedab\n",
    "\n",
    "Sample output:\n",
    "\n",
    "e"
   ]
  },
  {
   "cell_type": "code",
   "execution_count": null,
   "metadata": {},
   "outputs": [],
   "source": []
  },
  {
   "cell_type": "markdown",
   "metadata": {
    "id": "QWtylKn0A_kq"
   },
   "source": [
    "**Question - 8**\n",
    "\n",
    "Write a program that computes the value of n+nn+nnn+nnnn+... nn...n ntimes with a given number as the value of n.\n",
    "\n",
    "\n",
    "Input:\n",
    "\n",
    "3\n",
    "\n",
    "you have to find the value of 3+33+333\n",
    "\n",
    "Output:\n",
    "\n",
    "369\n",
    "\n",
    "Input:\n",
    "\n",
    "10\n",
    "\n",
    "you have to find the value of 10 + 1010 + 101010 + 10101010 + 1010101010 + 101010101010 + 10101010101010 + 1010101010101010 +101010101010101010+ 10101010101010101010\n",
    "\n",
    "Output:\n",
    "\n",
    "10203040506070809100"
   ]
  },
  {
   "cell_type": "code",
   "execution_count": null,
   "metadata": {},
   "outputs": [],
   "source": []
  },
  {
   "cell_type": "markdown",
   "metadata": {
    "id": "YIynM0UUBwXi"
   },
   "source": [
    "**Question -9**\n",
    "\n",
    "While extracting data from different sources, often numeric values come in string format and with commas like 1,000 or 23,321 and also sometimes with spaces in start and beginning of the string. For simplicity, we will consider only integer values imbedded with commas. You will take the input and print the cleaned integer without commas and spaces.\n",
    "\n",
    "----------------------------------------------------------------------\n",
    "Input:\n",
    "\n",
    "One line input of string, it will consist of only spaces commas and digits\n",
    "\n",
    "Output:\n",
    "\n",
    "Cleaned number\n",
    "\n",
    "----------------------------------------------------------------------\n",
    "Sample input:\n",
    "\n",
    "         3,213\n",
    "\n",
    "Sample output:\n",
    "\n",
    "3213\n",
    "\n",
    "----------------------------------------------------------------------\n",
    "Sample input:\n",
    "\n",
    "4,68,72,352          \n",
    "\n",
    "Sample output:\n",
    "\n",
    "46872352\n",
    "\n",
    "----------------------------------------------------------------------\n",
    "Note: Spaces will be either in the start or at the end."
   ]
  },
  {
   "cell_type": "code",
   "execution_count": null,
   "metadata": {},
   "outputs": [],
   "source": []
  },
  {
   "cell_type": "markdown",
   "metadata": {
    "id": "AajjYltYPxq0"
   },
   "source": [
    "**Question-10**\n",
    "\n",
    "Write a program to print 1 to 10 but skip number 7\n",
    "\n"
   ]
  },
  {
   "cell_type": "code",
   "execution_count": null,
   "metadata": {},
   "outputs": [],
   "source": []
  },
  {
   "cell_type": "markdown",
   "metadata": {
    "id": "gG7SbHVKS22H"
   },
   "source": [
    "**Question-11:**\n",
    "\n",
    "\n",
    "Write a program to determine the week day from the day number. \n",
    "\n",
    "Assume you get an input between 0 to 6 and you have to convert the day into the day name. Mapping is as follows:\n",
    "\n",
    "0: Mon\n",
    "\n",
    "1: Tue\n",
    "\n",
    "2: Wed\n",
    "\n",
    "3: Thu\n",
    "\n",
    "4: Fri\n",
    "\n",
    "5: Sat\n",
    "\n",
    "6: Sun"
   ]
  },
  {
   "cell_type": "code",
   "execution_count": null,
   "metadata": {},
   "outputs": [],
   "source": []
  },
  {
   "cell_type": "markdown",
   "metadata": {
    "id": "q5C5ztyFBG59"
   },
   "source": []
  }
 ],
 "metadata": {
  "colab": {
   "provenance": [
    {
     "file_id": "1hNDcT3-KFYBJO_MEf55BqUDDHaGwvU8k",
     "timestamp": 1662105307666
    }
   ]
  },
  "kernelspec": {
   "display_name": "Python 3 (ipykernel)",
   "language": "python",
   "name": "python3"
  },
  "language_info": {
   "codemirror_mode": {
    "name": "ipython",
    "version": 3
   },
   "file_extension": ".py",
   "mimetype": "text/x-python",
   "name": "python",
   "nbconvert_exporter": "python",
   "pygments_lexer": "ipython3",
   "version": "3.11.2"
  }
 },
 "nbformat": 4,
 "nbformat_minor": 1
}
