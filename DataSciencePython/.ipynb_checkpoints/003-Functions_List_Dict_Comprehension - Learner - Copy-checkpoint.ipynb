{
 "cells": [
  {
   "cell_type": "markdown",
   "metadata": {
    "id": "C2GiPDzAIik_"
   },
   "source": [
    "# List Comprehension"
   ]
  },
  {
   "cell_type": "markdown",
   "metadata": {
    "id": "-SMS-BqiUpgh"
   },
   "source": [
    "List comprehension allows shorter way of writing a for loop"
   ]
  },
  {
   "cell_type": "markdown",
   "metadata": {
    "id": "UH9me4Z1G6-Z"
   },
   "source": [
    "\n",
    "\n",
    "```\n",
    "#Syntax for list comprehension\n",
    "newList = [ expression(element) for element in oldList ] \n",
    "```\n",
    "\n"
   ]
  },
  {
   "cell_type": "code",
   "execution_count": null,
   "metadata": {
    "id": "Ut9kL-IDIr6d"
   },
   "outputs": [],
   "source": [
    "## Iterate from 0 to 14 using for and range function\n"
   ]
  },
  {
   "cell_type": "code",
   "execution_count": null,
   "metadata": {
    "id": "lnPeFCPGIxIU"
   },
   "outputs": [],
   "source": [
    "## Iterate from 0 to 14 using list comprehension\n"
   ]
  },
  {
   "cell_type": "markdown",
   "metadata": {
    "id": "uv9PTpqlIhiU"
   },
   "source": [
    "List comprehension allows shorter way of writing a for loop"
   ]
  },
  {
   "cell_type": "markdown",
   "metadata": {
    "id": "-FGxREEIIhid"
   },
   "source": [
    "\n",
    "\n",
    "```\n",
    "#Syntax for list comprehension\n",
    "newList = [ expression(element) for element in oldList if condition ] \n",
    "```\n",
    "\n"
   ]
  },
  {
   "cell_type": "markdown",
   "metadata": {
    "id": "YWkyzD6ST0dE"
   },
   "source": [
    "### Conditionals in list comprehension"
   ]
  },
  {
   "cell_type": "code",
   "execution_count": null,
   "metadata": {
    "id": "P7wCP-BiH3XU"
   },
   "outputs": [],
   "source": [
    "## Iterate from 0 to 14 using for and range function. Print only odd numbers\n"
   ]
  },
  {
   "cell_type": "code",
   "execution_count": null,
   "metadata": {
    "id": "1i1qyHnOT8-l"
   },
   "outputs": [],
   "source": [
    "#Print all odd natural numbers till 13 using conditional list comprehension\n"
   ]
  },
  {
   "cell_type": "markdown",
   "metadata": {
    "id": "B6LVXmytUTUM"
   },
   "source": [
    "### Performance comparison : List comprehension Vs For loop"
   ]
  },
  {
   "cell_type": "markdown",
   "metadata": {
    "id": "0E95eQuJQDhb"
   },
   "source": [
    "List comprehension is more efficient than for loop in terms of time and space."
   ]
  },
  {
   "cell_type": "code",
   "execution_count": null,
   "metadata": {
    "id": "mocf9U70Im2Y"
   },
   "outputs": [],
   "source": [
    "#comparison of time difference between execution of list comprehension and for loop\n",
    "import time\n",
    "start_time = time.time()\n",
    "for_list = []\n",
    "for i in range(1000000):\n",
    "    for_list.append(i*i)\n",
    "print(\"time of execution using for loop :  %s seconds\" % (time.time() - start_time))\n",
    "\n",
    "current_time = time.time()\n",
    "comp_list = [i*i for i in range(1000000)]\n",
    "print(\"time of execution using list comprehension :  %s seconds\" % (time.time() - current_time))"
   ]
  },
  {
   "cell_type": "markdown",
   "metadata": {
    "id": "s17hFQ8ERvPV"
   },
   "source": [
    "We can see from above example that list comprehension took almost half time for execution as compared to for loop for performing the same **task**"
   ]
  },
  {
   "cell_type": "markdown",
   "metadata": {
    "id": "5iSXfl9gN6Cg"
   },
   "source": [
    "# Dict Comprehension"
   ]
  },
  {
   "cell_type": "code",
   "execution_count": null,
   "metadata": {
    "id": "mMLedBGPN5fI"
   },
   "outputs": [],
   "source": [
    "#item price in dollars\n",
    "dollar_price = {'mic': 11.02, 'speaker': 12.5, 'headphones': 22.5}\n",
    "\n",
    "dollar_to_inr = 79.43"
   ]
  },
  {
   "cell_type": "code",
   "execution_count": null,
   "metadata": {
    "id": "0SC5G7EiO0N4"
   },
   "outputs": [],
   "source": [
    "# Item price in inr for all the dict items using For loop\n"
   ]
  },
  {
   "cell_type": "code",
   "execution_count": null,
   "metadata": {
    "id": "vLMo7gKIO0iO"
   },
   "outputs": [],
   "source": [
    "# Item price in inr for all the dict items using Dict Comprehension\n"
   ]
  },
  {
   "cell_type": "markdown",
   "metadata": {
    "id": "N5UqvRinP1Jf"
   },
   "source": [
    "### Conditionals in Dict Comprehension"
   ]
  },
  {
   "cell_type": "code",
   "execution_count": null,
   "metadata": {
    "id": "9KEVDje9Pyyn"
   },
   "outputs": [],
   "source": [
    "## From the below Dict filter the names whoes age is more than 40\n",
    "citi_age = {'Ramesh ': 38, 'Veer': 48, 'Aakruti': 57, 'Meneka': 33}\n",
    "\n"
   ]
  },
  {
   "cell_type": "markdown",
   "metadata": {
    "id": "mp-ejhWHMKbP"
   },
   "source": [
    "# Functions"
   ]
  },
  {
   "cell_type": "markdown",
   "metadata": {
    "id": "9gxepGxhRjuM"
   },
   "source": [
    "in-built function.\n",
    "\n",
    "First, len() is called with the argument \"second\". The length of the string\n",
    "\"second\" is calculated, which is the number 6. Then len() returns the\n",
    "number 6 and replaces the function call with the value."
   ]
  },
  {
   "cell_type": "code",
   "execution_count": null,
   "metadata": {
    "id": "6619tkRWUfY-"
   },
   "outputs": [],
   "source": [
    "help(len)"
   ]
  },
  {
   "cell_type": "code",
   "execution_count": null,
   "metadata": {
    "id": "N3N_uy3iRi5z"
   },
   "outputs": [],
   "source": [
    "num_letters = len(\"second\")  ## It is equivalent to num_letters = 6\n",
    "\n",
    "num_letters"
   ]
  },
  {
   "cell_type": "code",
   "execution_count": null,
   "metadata": {
    "id": "fRoNkHJoSbYo"
   },
   "outputs": [],
   "source": [
    "l = [1, 2, 3, 4, 5]\n",
    "\n",
    "sum_of_list = l"
   ]
  },
  {
   "cell_type": "markdown",
   "metadata": {
    "id": "7yo22SKMEpf5"
   },
   "source": [
    "Syntax of user defined function\n",
    "```\n",
    "def function_name(argument1, argument2):\n",
    "  statement 1\n",
    "  statement 2\n",
    "  ...\n",
    "  statement n\n",
    "```\n",
    "\n"
   ]
  },
  {
   "cell_type": "markdown",
   "metadata": {
    "id": "A-Sify0RFrXB"
   },
   "source": [
    "Example of a function"
   ]
  },
  {
   "cell_type": "code",
   "execution_count": null,
   "metadata": {
    "id": "7qdLCD8JXZji"
   },
   "outputs": [],
   "source": [
    "# create a function to print multiplication of two numbers\n",
    "\n"
   ]
  },
  {
   "cell_type": "code",
   "execution_count": null,
   "metadata": {
    "id": "WRZsJTX5UriZ"
   },
   "outputs": [],
   "source": [
    "help()"
   ]
  },
  {
   "cell_type": "code",
   "execution_count": null,
   "metadata": {
    "id": "diNbhBIhUxcb"
   },
   "outputs": [],
   "source": [
    "## Document the function\n",
    "def sum_two_numbers(a,b):\n",
    "  \"\"\" ... \"\"\"\n",
    "  print(a+b)\n",
    "\n",
    "sum_two_numbers(3,5)"
   ]
  },
  {
   "cell_type": "code",
   "execution_count": null,
   "metadata": {
    "id": "JD0N7z6-U4cV"
   },
   "outputs": [],
   "source": [
    "help(sum_two_numbers)"
   ]
  },
  {
   "cell_type": "markdown",
   "metadata": {
    "id": "BM-DDSgVGYx5"
   },
   "source": [
    "Function with default arguments"
   ]
  },
  {
   "cell_type": "code",
   "execution_count": null,
   "metadata": {
    "id": "iTEM-P99HJuv"
   },
   "outputs": [],
   "source": [
    "#call the given function twice ;  Once with both the arguments and once with only single arguments \n",
    "def welcome_msg(name, msg=\"Welcome to Python fundamental class!\"):\n",
    "    \"\"\"\n",
    "    ...\n",
    "    \"\"\"\n",
    "    print(\"Hello\", name + ', ' + msg)\n",
    "\n",
    "\n",
    "welcome_msg(\"Varun\")\n",
    "welcome_msg(\"Kiara\", \"How are you\")"
   ]
  },
  {
   "cell_type": "markdown",
   "metadata": {
    "id": "jghC1RTFH6Ho"
   },
   "source": [
    "### Function with keyword argument"
   ]
  },
  {
   "cell_type": "code",
   "execution_count": null,
   "metadata": {
    "id": "GHy18k68H_Mm"
   },
   "outputs": [],
   "source": [
    "#Call the given function using keyword arguments name3=\"Varun\", name2=\"Karan\" and name3=\"Taslim\"\n"
   ]
  },
  {
   "cell_type": "markdown",
   "metadata": {
    "id": "DbtSm_c0H_z7"
   },
   "source": [
    "### Function with variable argument"
   ]
  },
  {
   "cell_type": "code",
   "execution_count": null,
   "metadata": {
    "id": "M4Ah0-JFIDgI"
   },
   "outputs": [],
   "source": [
    "#Call the given function and print the name of third child : names of child's in order are Varun, Karan and Taslim\n"
   ]
  },
  {
   "cell_type": "code",
   "execution_count": null,
   "metadata": {
    "id": "iXMrMR9D_PrG"
   },
   "outputs": [],
   "source": [
    "# Call the given function using variable keyworded argument with first name as \"Hari\" and lastname as \"Khan\"\n"
   ]
  },
  {
   "cell_type": "markdown",
   "metadata": {
    "id": "I2tFvcel_VCg"
   },
   "source": [
    "### Function with return value"
   ]
  },
  {
   "cell_type": "code",
   "execution_count": null,
   "metadata": {
    "id": "MLL-sh-o_brg"
   },
   "outputs": [],
   "source": [
    "# calcute the output of following function with input value as 5\n",
    "\n"
   ]
  },
  {
   "cell_type": "markdown",
   "metadata": {
    "id": "d0TqX_RhiDwP"
   },
   "source": [
    "### Function with multple return values"
   ]
  },
  {
   "cell_type": "code",
   "execution_count": null,
   "metadata": {
    "id": "yCZohqXdiEJQ"
   },
   "outputs": [],
   "source": [
    "## Write a function \"calculation\" which returns the addition and substraction\n",
    "def calculation(a, b):\n",
    "    pass\n",
    "\n",
    "# get result in tuple format\n",
    "res = calculation(40, 10)\n",
    "print(type(res))\n",
    "print(res)"
   ]
  },
  {
   "cell_type": "markdown",
   "metadata": {
    "id": "c1ROe6b5InQv"
   },
   "source": [
    "# Lambda/Anonymous Function"
   ]
  },
  {
   "cell_type": "markdown",
   "metadata": {
    "id": "JG2s5_KRVewp"
   },
   "source": [
    "Lambda functions are short anonymous functions that needs no name. They can take any number of arguments but returns only single expression."
   ]
  },
  {
   "cell_type": "markdown",
   "metadata": {
    "id": "NLN-XzfFatzd"
   },
   "source": [
    "\n",
    "\n",
    "```\n",
    "#Syntax for lambda\n",
    "lambda arguments : expression\n",
    "```\n",
    "\n"
   ]
  },
  {
   "cell_type": "markdown",
   "metadata": {
    "id": "S4XNe9HnWH1j"
   },
   "source": [
    "### Lambda function Vs Regular function"
   ]
  },
  {
   "cell_type": "code",
   "execution_count": null,
   "metadata": {
    "id": "99mF49vkI2DE"
   },
   "outputs": [],
   "source": [
    "#Multiply variable by 3 using lambda function\n",
    "\n",
    "\n",
    "#Multiply variable by 3 using regular function\n",
    "def multiplyby3(x):\n",
    "  return x*3"
   ]
  },
  {
   "cell_type": "markdown",
   "metadata": {
    "id": "ecQnk2DjjOUV"
   },
   "source": [
    "### Lambda function with conditional statement"
   ]
  },
  {
   "cell_type": "code",
   "execution_count": null,
   "metadata": {
    "id": "IBkksS3tkRpx"
   },
   "outputs": [],
   "source": [
    "# Use Lambda function with if-else to find a cube a positive number and return None if negative\n"
   ]
  },
  {
   "cell_type": "markdown",
   "metadata": {
    "id": "JpW7HOjslljD"
   },
   "source": [
    "### Lambda functions within user defined function"
   ]
  },
  {
   "cell_type": "code",
   "execution_count": null,
   "metadata": {
    "id": "EF_5pSTuluhq"
   },
   "outputs": [],
   "source": [
    "#example of lambda function within user defined function\n"
   ]
  },
  {
   "cell_type": "markdown",
   "metadata": {
    "id": "ul_wBZJHI2QF"
   },
   "source": [
    "# Some important inbuilt high order functions"
   ]
  },
  {
   "cell_type": "markdown",
   "metadata": {
    "id": "cGZe0etZI6G8"
   },
   "source": [
    "## Map function"
   ]
  },
  {
   "cell_type": "markdown",
   "metadata": {
    "id": "dtULvZuZp8Ax"
   },
   "source": [
    "\n",
    "\n",
    "```\n",
    "#syntax of map function\n",
    "map(function, iterables) \n",
    "```\n",
    "\n"
   ]
  },
  {
   "cell_type": "code",
   "execution_count": null,
   "metadata": {
    "id": "ye0eoGb5n23O"
   },
   "outputs": [],
   "source": [
    "#Print cubes of all natural numbers till 5 using map function\n"
   ]
  },
  {
   "cell_type": "markdown",
   "metadata": {
    "id": "sQraUp7OodTW"
   },
   "source": [
    "### Map with lambda function"
   ]
  },
  {
   "cell_type": "code",
   "execution_count": null,
   "metadata": {
    "id": "VYQ6QLT2ohWb"
   },
   "outputs": [],
   "source": [
    "#Print cubes from 1 to 5 using map and lambda cube function\n"
   ]
  },
  {
   "cell_type": "markdown",
   "metadata": {
    "id": "WIMYyw1t5Ygh"
   },
   "source": [
    "### Passing Multiple Iterators to map() Using Lambda"
   ]
  },
  {
   "cell_type": "code",
   "execution_count": null,
   "metadata": {
    "id": "V9q5Tzb25ZM2"
   },
   "outputs": [],
   "source": []
  },
  {
   "cell_type": "markdown",
   "metadata": {
    "id": "VxKeQRX3I9-G"
   },
   "source": [
    "## Filter function"
   ]
  },
  {
   "cell_type": "markdown",
   "metadata": {
    "id": "HYF7UqH3tUJn"
   },
   "source": [
    "Filter function takes function and an iterable sequence and allows us to extract items that satisfy a given condition."
   ]
  },
  {
   "cell_type": "markdown",
   "metadata": {
    "id": "AyW8ixMStTE2"
   },
   "source": [
    "\n",
    "\n",
    "```\n",
    "Syntax of filter function\n",
    "filter(function, iterable)\n",
    "```\n",
    "\n"
   ]
  },
  {
   "cell_type": "markdown",
   "metadata": {
    "id": "FqkDS5tStiZd"
   },
   "source": [
    "### Example of Filter function use\n",
    "\n"
   ]
  },
  {
   "cell_type": "code",
   "execution_count": null,
   "metadata": {
    "id": "cstoXmt_uD22"
   },
   "outputs": [],
   "source": [
    "#print even numbers from given list using filter function\n",
    "nums = [1, 43, 89, 10, 22, 88, 78]\n"
   ]
  },
  {
   "cell_type": "markdown",
   "metadata": {
    "id": "swwAYWU5uYD8"
   },
   "source": [
    "### Filter function with lambda function"
   ]
  },
  {
   "cell_type": "code",
   "execution_count": null,
   "metadata": {
    "id": "jaI-vieLuhir"
   },
   "outputs": [],
   "source": [
    "##print even numbers from given list using filter and lambda function\n",
    "nums = [1, 43, 89, 10, 22, 88, 78]\n"
   ]
  },
  {
   "cell_type": "markdown",
   "metadata": {
    "id": "mjhTItObJMa3"
   },
   "source": [
    "## Reduce Function"
   ]
  },
  {
   "cell_type": "markdown",
   "metadata": {
    "id": "R0s1t0MExBN0"
   },
   "source": [
    "### Reduce with Lambda function"
   ]
  },
  {
   "cell_type": "code",
   "execution_count": null,
   "metadata": {
    "id": "4tg4ICnoJW6f"
   },
   "outputs": [],
   "source": [
    "# Sum of first three natural odd integers using reduce function\n",
    "from functools import reduce \n",
    "nums = [1, 3, 5]\n",
    "\n"
   ]
  }
 ],
 "metadata": {
  "colab": {
   "collapsed_sections": [],
   "name": "Copy of Functions_List_Dict_Comprehension - Learner",
   "provenance": [
    {
     "file_id": "1ozwHXfTdjMx4_BRmpnsp94zJfXesjkhP",
     "timestamp": 1660563975737
    }
   ]
  },
  "kernelspec": {
   "display_name": "Python 3 (ipykernel)",
   "language": "python",
   "name": "python3"
  },
  "language_info": {
   "codemirror_mode": {
    "name": "ipython",
    "version": 3
   },
   "file_extension": ".py",
   "mimetype": "text/x-python",
   "name": "python",
   "nbconvert_exporter": "python",
   "pygments_lexer": "ipython3",
   "version": "3.11.2"
  }
 },
 "nbformat": 4,
 "nbformat_minor": 1
}
