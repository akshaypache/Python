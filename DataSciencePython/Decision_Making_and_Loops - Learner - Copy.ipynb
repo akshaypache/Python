{
 "cells": [
  {
   "cell_type": "markdown",
   "metadata": {
    "id": "5VxfKpH3O0bf"
   },
   "source": [
    "# Decision Making\n",
    "Decision making in python is done using conditional statements to control the flow of execution of program "
   ]
  },
  {
   "cell_type": "markdown",
   "metadata": {
    "id": "a7dIWp2oQPvh"
   },
   "source": [
    "## if statement\n",
    "Program will evaluate the condition followed by if statement, if given condition is true, program will execute the block of code indented below if statement, if false it will move to next block of code."
   ]
  },
  {
   "cell_type": "markdown",
   "metadata": {
    "id": "3Il4Xcans1SD"
   },
   "source": [
    "```\n",
    "#syntax of if statement\n",
    "if test expression:\n",
    "   statement 1\n",
    "   ....\n",
    "   statement n\n",
    "```"
   ]
  },
  {
   "cell_type": "code",
   "execution_count": null,
   "metadata": {},
   "outputs": [],
   "source": [
    "a = 5\n",
    "\n",
    "if a < 10:\n",
    "    print(a,\"is Smaller\")\n",
    "else:\n",
    "    print(a,\"is Bigger\")"
   ]
  },
  {
   "cell_type": "code",
   "execution_count": null,
   "metadata": {
    "colab": {
     "base_uri": "https://localhost:8080/"
    },
    "executionInfo": {
     "elapsed": 8,
     "status": "ok",
     "timestamp": 1659612606259,
     "user": {
      "displayName": "Yogesh Kothiya",
      "userId": "16013917111822092306"
     },
     "user_tz": -330
    },
    "id": "H9762z-IneEa",
    "outputId": "b757c9e3-63b2-4184-b317-5fdd347df3f3"
   },
   "outputs": [
    {
     "name": "stdout",
     "output_type": "stream",
     "text": [
      "If statement gets executed\n"
     ]
    }
   ],
   "source": [
    "## Write a Conditional Statement with True in if statement \n"
   ]
  },
  {
   "cell_type": "code",
   "execution_count": null,
   "metadata": {
    "colab": {
     "base_uri": "https://localhost:8080/"
    },
    "executionInfo": {
     "elapsed": 409,
     "status": "ok",
     "timestamp": 1659617806889,
     "user": {
      "displayName": "Yogesh Kothiya",
      "userId": "16013917111822092306"
     },
     "user_tz": -330
    },
    "id": "woSqbWQr7fgi",
    "outputId": "8e0519f2-7dab-4ed5-f9aa-d73d20a95aa0"
   },
   "outputs": [
    {
     "name": "stdout",
     "output_type": "stream",
     "text": [
      "Else statement gets executed\n"
     ]
    }
   ],
   "source": [
    "## Write a Conditional Statement with False in if statement \n"
   ]
  },
  {
   "cell_type": "code",
   "execution_count": null,
   "metadata": {
    "colab": {
     "base_uri": "https://localhost:8080/"
    },
    "executionInfo": {
     "elapsed": 396,
     "status": "ok",
     "timestamp": 1659618347339,
     "user": {
      "displayName": "Yogesh Kothiya",
      "userId": "16013917111822092306"
     },
     "user_tz": -330
    },
    "id": "UXfVc41c9ZjJ",
    "outputId": "0f6aba6f-49d7-4bb3-ee72-3fc03ed87946"
   },
   "outputs": [
    {
     "name": "stdout",
     "output_type": "stream",
     "text": [
      "If statement gets executed\n"
     ]
    }
   ],
   "source": [
    "## Write a Conditional Statement with 1 in if statement \n"
   ]
  },
  {
   "cell_type": "code",
   "execution_count": null,
   "metadata": {
    "colab": {
     "base_uri": "https://localhost:8080/"
    },
    "executionInfo": {
     "elapsed": 394,
     "status": "ok",
     "timestamp": 1659618361182,
     "user": {
      "displayName": "Yogesh Kothiya",
      "userId": "16013917111822092306"
     },
     "user_tz": -330
    },
    "id": "oEmK19V09mPi",
    "outputId": "6d9c650a-d42a-428c-84a1-0ef1597b2bef"
   },
   "outputs": [
    {
     "name": "stdout",
     "output_type": "stream",
     "text": [
      "Else statement gets executed\n"
     ]
    }
   ],
   "source": [
    "## Write a Conditional Statement with 0 in if statement \n"
   ]
  },
  {
   "cell_type": "code",
   "execution_count": null,
   "metadata": {
    "colab": {
     "base_uri": "https://localhost:8080/"
    },
    "executionInfo": {
     "elapsed": 394,
     "status": "ok",
     "timestamp": 1659618407453,
     "user": {
      "displayName": "Yogesh Kothiya",
      "userId": "16013917111822092306"
     },
     "user_tz": -330
    },
    "id": "kqfsew0r9yKB",
    "outputId": "5c9db8af-ccbb-4c9d-cfbe-d969bce63f54"
   },
   "outputs": [
    {
     "name": "stdout",
     "output_type": "stream",
     "text": [
      "If statement gets executed\n"
     ]
    }
   ],
   "source": [
    "## Write a Conditional Statement with -1 in if statement \n"
   ]
  },
  {
   "cell_type": "code",
   "execution_count": null,
   "metadata": {
    "colab": {
     "base_uri": "https://localhost:8080/"
    },
    "executionInfo": {
     "elapsed": 413,
     "status": "ok",
     "timestamp": 1659617907150,
     "user": {
      "displayName": "Yogesh Kothiya",
      "userId": "16013917111822092306"
     },
     "user_tz": -330
    },
    "id": "m2AZQ89d65ob",
    "outputId": "1afd5669-a5cd-4f28-dabf-ff08be259ecc"
   },
   "outputs": [
    {
     "name": "stdout",
     "output_type": "stream",
     "text": [
      "If statement gets executed as 60 is greater than 50\n"
     ]
    }
   ],
   "source": [
    "## Write a Conditional Statement to check if 60 is greater than 50\n"
   ]
  },
  {
   "cell_type": "code",
   "execution_count": null,
   "metadata": {
    "colab": {
     "base_uri": "https://localhost:8080/"
    },
    "executionInfo": {
     "elapsed": 427,
     "status": "ok",
     "timestamp": 1659617934691,
     "user": {
      "displayName": "Yogesh Kothiya",
      "userId": "16013917111822092306"
     },
     "user_tz": -330
    },
    "id": "BMJDcPPFNEWn",
    "outputId": "2dd28e6d-9b80-4fd7-b8a7-c7d28ccc3a11"
   },
   "outputs": [
    {
     "name": "stdout",
     "output_type": "stream",
     "text": [
      "a is greater than b\n"
     ]
    }
   ],
   "source": [
    "# check if variable a which is of integer 60 is greater than variable b which is of 50\n"
   ]
  },
  {
   "cell_type": "code",
   "execution_count": null,
   "metadata": {
    "id": "8gGczaeJ8Elb"
   },
   "outputs": [],
   "source": [
    "# check if variable a which is of integer 60 is greater than variable b which is of 150\n"
   ]
  },
  {
   "cell_type": "code",
   "execution_count": null,
   "metadata": {
    "colab": {
     "base_uri": "https://localhost:8080/"
    },
    "executionInfo": {
     "elapsed": 17,
     "status": "ok",
     "timestamp": 1659645472987,
     "user": {
      "displayName": "Yogesh Kothiya",
      "userId": "16013917111822092306"
     },
     "user_tz": -330
    },
    "id": "ZJvchaqFkqa-",
    "outputId": "38883674-a240-4006-c724-0527f15594ec"
   },
   "outputs": [
    {
     "name": "stdout",
     "output_type": "stream",
     "text": [
      "List has 10 value\n"
     ]
    }
   ],
   "source": [
    "## From the list if 10 is part of it\n",
    "l = [10, 20, 30, 'Relevel']\n",
    "\n"
   ]
  },
  {
   "cell_type": "code",
   "execution_count": null,
   "metadata": {
    "colab": {
     "base_uri": "https://localhost:8080/"
    },
    "executionInfo": {
     "elapsed": 9,
     "status": "ok",
     "timestamp": 1659645956984,
     "user": {
      "displayName": "Yogesh Kothiya",
      "userId": "16013917111822092306"
     },
     "user_tz": -330
    },
    "id": "wL959taBmV28",
    "outputId": "68504c1c-8590-47e7-b784-34df25bb9a38"
   },
   "outputs": [
    {
     "name": "stdout",
     "output_type": "stream",
     "text": [
      "Dict contains the Maharashtra State\n"
     ]
    }
   ],
   "source": [
    "## Check if 'Maharashtra' is in the Dict\n",
    "cities = {'Maharashtra': 'Mumbai', 'Tamil Nadu': 'Chennai', 'Rajasthan': 'Jaipur', 'Punjab': 'Chandigarh', 'Haryana': 'Chandigarh'}\n",
    "\n"
   ]
  },
  {
   "cell_type": "markdown",
   "metadata": {
    "id": "oWxW8AyxeCXu"
   },
   "source": [
    "## If else statement\n",
    "\n",
    "Program will evaluate the condition followed by if statement, if given condition is true, program will execute the block of code indented below if statement, if false it will execute else block of statement.\n"
   ]
  },
  {
   "cell_type": "markdown",
   "metadata": {
    "id": "p5vHDLFZtZMt"
   },
   "source": [
    "\n",
    "\n",
    "```\n",
    "#syntax of if else statement\n",
    "if test expression:\n",
    "  condition 1\n",
    "  ....\n",
    "  condition n\n",
    "else:\n",
    "  condition 1\n",
    "  ....\n",
    "  condition n\n",
    "```\n",
    "\n"
   ]
  },
  {
   "cell_type": "code",
   "execution_count": null,
   "metadata": {
    "colab": {
     "base_uri": "https://localhost:8080/"
    },
    "id": "2ZjoUzlVed6F",
    "outputId": "93774b01-215b-4838-86c6-0bac2adce09c"
   },
   "outputs": [
    {
     "name": "stdout",
     "output_type": "stream",
     "text": [
      "price is more than or equal to 50\n"
     ]
    }
   ],
   "source": [
    "# Check if the price is less than 50\n",
    "price = 100\n",
    "\n"
   ]
  },
  {
   "cell_type": "code",
   "execution_count": null,
   "metadata": {
    "colab": {
     "base_uri": "https://localhost:8080/"
    },
    "executionInfo": {
     "elapsed": 18,
     "status": "ok",
     "timestamp": 1659645528641,
     "user": {
      "displayName": "Yogesh Kothiya",
      "userId": "16013917111822092306"
     },
     "user_tz": -330
    },
    "id": "Gh-oC0hblDXE",
    "outputId": "a8c3138f-20a5-4659-ae55-206408535c1d"
   },
   "outputs": [
    {
     "name": "stdout",
     "output_type": "stream",
     "text": [
      "List does not have 100 value\n"
     ]
    }
   ],
   "source": [
    "## From the list if 10 is part of it else print that it does not exist\n",
    "l = [10, 20, 30, 'Relevel']\n",
    "\n"
   ]
  },
  {
   "cell_type": "code",
   "execution_count": null,
   "metadata": {
    "colab": {
     "base_uri": "https://localhost:8080/"
    },
    "executionInfo": {
     "elapsed": 9,
     "status": "ok",
     "timestamp": 1659646046748,
     "user": {
      "displayName": "Yogesh Kothiya",
      "userId": "16013917111822092306"
     },
     "user_tz": -330
    },
    "id": "Kz7vptRom_WC",
    "outputId": "6fc518e3-cdba-4686-871b-7b1899e85880"
   },
   "outputs": [
    {
     "name": "stdout",
     "output_type": "stream",
     "text": [
      "Could not find Mumbai in the dict keys\n"
     ]
    }
   ],
   "source": [
    "## Check if 'Maharashtra' is in the Dict else print that it does not exist\n",
    "cities = {'Maharashtra': 'Mumbai', 'Tamil Nadu': 'Chennai', 'Rajasthan': 'Jaipur', 'Punjab': 'Chandigarh', 'Haryana': 'Chandigarh'}\n",
    "\n"
   ]
  },
  {
   "cell_type": "markdown",
   "metadata": {
    "id": "PjeTC8AenVfz"
   },
   "source": [
    "## Nested if else Statement\n",
    "\n",
    "Program will evaluate the condition followed by if statement, if given condition is true, program will execute the block of code indented below if statement, othwerwise it will move to next block of elif statements till one of the elif condition is met."
   ]
  },
  {
   "cell_type": "markdown",
   "metadata": {
    "id": "Jugxa1Vmt622"
   },
   "source": [
    "\n",
    "\n",
    "```\n",
    "#syntax of nested if-else statement\n",
    "if test expression:\n",
    "  condition 1\n",
    "  ....\n",
    "  condition n\n",
    "elif:\n",
    "  condition 1\n",
    "  ....\n",
    "elif:\n",
    "  condition 1\n",
    "  ...\n",
    "else:\n",
    "  condition 1\n",
    "  ...\n",
    "```\n",
    "\n"
   ]
  },
  {
   "cell_type": "code",
   "execution_count": null,
   "metadata": {
    "colab": {
     "base_uri": "https://localhost:8080/"
    },
    "id": "JoRxeSPGwpqx",
    "outputId": "738c64d7-953a-4556-c746-d364709c77a1"
   },
   "outputs": [
    {
     "name": "stdout",
     "output_type": "stream",
     "text": [
      "number is negative\n"
     ]
    }
   ],
   "source": [
    "# Find that given integer is positive, negative or Zero.\n",
    "number = -2\n",
    "\n"
   ]
  },
  {
   "cell_type": "code",
   "execution_count": null,
   "metadata": {
    "colab": {
     "base_uri": "https://localhost:8080/"
    },
    "executionInfo": {
     "elapsed": 6,
     "status": "ok",
     "timestamp": 1659645655345,
     "user": {
      "displayName": "Yogesh Kothiya",
      "userId": "16013917111822092306"
     },
     "user_tz": -330
    },
    "id": "lFX6Khq2lWiE",
    "outputId": "b547018c-5e8f-49c1-af76-447352f7b3a9"
   },
   "outputs": [
    {
     "name": "stdout",
     "output_type": "stream",
     "text": [
      "List has Relevel value\n"
     ]
    }
   ],
   "source": [
    "## From the list if 100, 'relevel', 'Relevel' is part of it else print that it does not exist\n",
    "l = [10, 20, 30, 'Relevel']\n",
    "\n"
   ]
  },
  {
   "cell_type": "markdown",
   "metadata": {
    "id": "QQY_QOh3pOjA"
   },
   "source": [
    "```\n",
    "if ( test condition 1):\n",
    "    # If test condition 1 is TRUE, then it checks for test condition 2\n",
    "    if ( test condition 2):\n",
    "         # If test condition 2 is TRUE, then these true lines executed\n",
    "         Test condition 2 True statements\n",
    "    else:\n",
    "         # If test condition 2 is FALSE, then these false lines executed\n",
    "         Test condition 2 False statements\n",
    "else:\n",
    "    # If test condition 1 is FALSE, then these lines executed\n",
    "    Test condition 1 False lines\n",
    "```"
   ]
  },
  {
   "cell_type": "code",
   "execution_count": null,
   "metadata": {
    "colab": {
     "base_uri": "https://localhost:8080/"
    },
    "executionInfo": {
     "elapsed": 6308,
     "status": "ok",
     "timestamp": 1659646426874,
     "user": {
      "displayName": "Yogesh Kothiya",
      "userId": "16013917111822092306"
     },
     "user_tz": -330
    },
    "id": "KgyBLUkAoo_z",
    "outputId": "6dc471ab-beb6-4117-d2f1-35103c53b28c"
   },
   "outputs": [
    {
     "name": "stdout",
     "output_type": "stream",
     "text": [
      " Please Enter Your Age Here:  78\n",
      " You are too old to work as per the Government rules\n",
      " Please Collect your pension!\n"
     ]
    }
   ],
   "source": [
    "# Example for Python Nested If\n",
    "\n",
    "age = int(input(\" Please Enter Your Age Here:  \"))\n"
   ]
  },
  {
   "cell_type": "markdown",
   "metadata": {
    "id": "81hoKhJZx5Kn"
   },
   "source": [
    "# Loops and Iterations\n",
    "Loops statements help to iterate over a block of code using a condition or iterable object."
   ]
  },
  {
   "cell_type": "markdown",
   "metadata": {
    "id": "vrWMoR1CzPka"
   },
   "source": [
    "## For Loop\n",
    "For loop is used to iterate over an iterable object like list, string, tuple, sets etc."
   ]
  },
  {
   "cell_type": "markdown",
   "metadata": {
    "id": "SHsdcqxEzqgF"
   },
   "source": [
    "\n",
    "\n",
    "```\n",
    "#syntax of for loop\n",
    "for [item] in [iterable object]:\n",
    "  statement 1\n",
    "  ...\n",
    "  statement n\n",
    "```\n",
    "\n"
   ]
  },
  {
   "cell_type": "code",
   "execution_count": null,
   "metadata": {
    "colab": {
     "base_uri": "https://localhost:8080/"
    },
    "executionInfo": {
     "elapsed": 6,
     "status": "ok",
     "timestamp": 1660537631338,
     "user": {
      "displayName": "Yogesh Kothiya",
      "userId": "16013917111822092306"
     },
     "user_tz": -330
    },
    "id": "PdnbactOwCRr",
    "outputId": "634e5341-46df-4c1c-8c67-39c7d8d9daa4"
   },
   "outputs": [
    {
     "name": "stdout",
     "output_type": "stream",
     "text": [
      "Sum is  16\n"
     ]
    }
   ],
   "source": [
    "## Sum all the values of the list\n",
    "\n",
    "l = [5, 1, 7, 3]\n",
    "\n",
    "# Method 1\n"
   ]
  },
  {
   "cell_type": "code",
   "execution_count": null,
   "metadata": {
    "colab": {
     "base_uri": "https://localhost:8080/"
    },
    "executionInfo": {
     "elapsed": 5,
     "status": "ok",
     "timestamp": 1660537961155,
     "user": {
      "displayName": "Yogesh Kothiya",
      "userId": "16013917111822092306"
     },
     "user_tz": -330
    },
    "id": "McktnxzJxUvb",
    "outputId": "25f93954-a85b-4641-de4c-2a3b2cdaa808"
   },
   "outputs": [
    {
     "name": "stdout",
     "output_type": "stream",
     "text": [
      "Sum is  16\n"
     ]
    }
   ],
   "source": [
    "## Sum all the values of the list using For Loop\n",
    "\n",
    "l = [5, 1, 7, 3]\n",
    "sum = 0\n",
    "\n"
   ]
  },
  {
   "cell_type": "code",
   "execution_count": null,
   "metadata": {
    "colab": {
     "base_uri": "https://localhost:8080/"
    },
    "executionInfo": {
     "elapsed": 4,
     "status": "ok",
     "timestamp": 1659682947151,
     "user": {
      "displayName": "Yogesh Kothiya",
      "userId": "16013917111822092306"
     },
     "user_tz": -330
    },
    "id": "wAxlIOsczkoS",
    "outputId": "d3c55e43-03d8-474f-fce8-bb75471154fb"
   },
   "outputs": [
    {
     "name": "stdout",
     "output_type": "stream",
     "text": [
      "R\n",
      "e\n",
      "l\n",
      "e\n",
      "v\n",
      "e\n",
      "l\n"
     ]
    }
   ],
   "source": [
    "#print all the letters one by one in the word Relevel\n"
   ]
  },
  {
   "cell_type": "code",
   "execution_count": null,
   "metadata": {
    "colab": {
     "base_uri": "https://localhost:8080/"
    },
    "executionInfo": {
     "elapsed": 19,
     "status": "ok",
     "timestamp": 1659647310977,
     "user": {
      "displayName": "Yogesh Kothiya",
      "userId": "16013917111822092306"
     },
     "user_tz": -330
    },
    "id": "sebxLxz7r_hZ",
    "outputId": "77b6c2a5-ad83-4f49-fca5-3fdc2324b87f"
   },
   "outputs": [
    {
     "name": "stdout",
     "output_type": "stream",
     "text": [
      "Maharashtra\n",
      "Tamil Nadu\n",
      "Rajasthan\n",
      "Punjab\n",
      "Haryana\n"
     ]
    }
   ],
   "source": [
    "# Iterate all the values of the states from the Dict\n",
    "cities = {'Maharashtra': 'Mumbai', 'Tamil Nadu': 'Chennai', 'Rajasthan': 'Jaipur', 'Punjab': 'Chandigarh', 'Haryana': 'Chandigarh'}\n",
    "\n"
   ]
  },
  {
   "cell_type": "code",
   "execution_count": null,
   "metadata": {
    "colab": {
     "base_uri": "https://localhost:8080/"
    },
    "executionInfo": {
     "elapsed": 9,
     "status": "ok",
     "timestamp": 1659647334472,
     "user": {
      "displayName": "Yogesh Kothiya",
      "userId": "16013917111822092306"
     },
     "user_tz": -330
    },
    "id": "-cAlo9HUsGNs",
    "outputId": "dbbbffe8-aeeb-4eba-b0d8-a965139d1e89"
   },
   "outputs": [
    {
     "name": "stdout",
     "output_type": "stream",
     "text": [
      "('Maharashtra', 'Mumbai')\n",
      "('Tamil Nadu', 'Chennai')\n",
      "('Rajasthan', 'Jaipur')\n",
      "('Punjab', 'Chandigarh')\n",
      "('Haryana', 'Chandigarh')\n"
     ]
    }
   ],
   "source": [
    "# Iterate all the values of the states and cities from the Dict\n"
   ]
  },
  {
   "cell_type": "code",
   "execution_count": null,
   "metadata": {
    "colab": {
     "base_uri": "https://localhost:8080/"
    },
    "executionInfo": {
     "elapsed": 16,
     "status": "ok",
     "timestamp": 1659647434963,
     "user": {
      "displayName": "Yogesh Kothiya",
      "userId": "16013917111822092306"
     },
     "user_tz": -330
    },
    "id": "pOotUqhWsLPf",
    "outputId": "1856d295-2938-4422-9751-30f0612114f2"
   },
   "outputs": [
    {
     "name": "stdout",
     "output_type": "stream",
     "text": [
      "Key is Maharashtra , Value is Mumbai\n",
      "Key is Tamil Nadu , Value is Chennai\n",
      "Key is Rajasthan , Value is Jaipur\n",
      "Key is Punjab , Value is Chandigarh\n",
      "Key is Haryana , Value is Chandigarh\n"
     ]
    }
   ],
   "source": [
    "# Iterate all the values of the states and cities from the Dict. Extract Key and Value seperately\n"
   ]
  },
  {
   "cell_type": "code",
   "execution_count": null,
   "metadata": {
    "colab": {
     "base_uri": "https://localhost:8080/"
    },
    "executionInfo": {
     "elapsed": 15,
     "status": "ok",
     "timestamp": 1659686091545,
     "user": {
      "displayName": "Yogesh Kothiya",
      "userId": "16013917111822092306"
     },
     "user_tz": -330
    },
    "id": "FXBQ0gGG-uLw",
    "outputId": "8cca53ac-d042-4096-9521-529c4bbc8c1a"
   },
   "outputs": [
    {
     "name": "stdout",
     "output_type": "stream",
     "text": [
      "Nested_dict {'Key_1': 'V1', 'Key2': 2}\n",
      "Nest_dict has a key 'Key_1'\n"
     ]
    }
   ],
   "source": [
    "## Check if Nest_dict has a key \"Key_1\"\n",
    "Dummy_Dict = {'Key1': 'Value 1', 0: 1, 'Nested_dict': {'Key_1': 'V1', 'Key2': 2}, 'List_Values': [0, 1, 2, 3, 4]}\n",
    "\n"
   ]
  },
  {
   "cell_type": "code",
   "execution_count": null,
   "metadata": {
    "colab": {
     "base_uri": "https://localhost:8080/"
    },
    "executionInfo": {
     "elapsed": 17,
     "status": "ok",
     "timestamp": 1659647552575,
     "user": {
      "displayName": "Yogesh Kothiya",
      "userId": "16013917111822092306"
     },
     "user_tz": -330
    },
    "id": "MFCmrgf5swzY",
    "outputId": "14b55aa7-f305-4e72-ce7f-8326d7c8e92e"
   },
   "outputs": [
    {
     "name": "stdout",
     "output_type": "stream",
     "text": [
      "10\n",
      "20\n",
      "30\n",
      "Relevel\n"
     ]
    }
   ],
   "source": [
    "# Iterate all the values of the tuple\n",
    "t = (10, 20, 30, 'Relevel')\n",
    "\n"
   ]
  },
  {
   "cell_type": "code",
   "execution_count": null,
   "metadata": {
    "colab": {
     "base_uri": "https://localhost:8080/"
    },
    "executionInfo": {
     "elapsed": 11,
     "status": "ok",
     "timestamp": 1659647937966,
     "user": {
      "displayName": "Yogesh Kothiya",
      "userId": "16013917111822092306"
     },
     "user_tz": -330
    },
    "id": "bBIYvGUAuZev",
    "outputId": "65be7e33-dbe5-4505-9c6c-5a43484b7174"
   },
   "outputs": [
    {
     "name": "stdout",
     "output_type": "stream",
     "text": [
      "1\n",
      "2\n",
      "3\n",
      "4\n",
      "5\n",
      "6\n",
      "7\n",
      "8\n",
      "9\n"
     ]
    }
   ],
   "source": [
    "# Print the value from 1 to 10 using range function in for loop\n"
   ]
  },
  {
   "cell_type": "code",
   "execution_count": null,
   "metadata": {
    "colab": {
     "base_uri": "https://localhost:8080/"
    },
    "executionInfo": {
     "elapsed": 14,
     "status": "ok",
     "timestamp": 1659684240293,
     "user": {
      "displayName": "Yogesh Kothiya",
      "userId": "16013917111822092306"
     },
     "user_tz": -330
    },
    "id": "Kp1qkDw840L5",
    "outputId": "a7445513-adeb-41ac-ba25-60dcc63f2084"
   },
   "outputs": [
    {
     "name": "stdout",
     "output_type": "stream",
     "text": [
      "1\n",
      "2\n",
      "3\n",
      "4\n"
     ]
    }
   ],
   "source": [
    "## Iterate following list as a set variable\n",
    "l = [1,2,2,3,3,4]\n",
    "set_var = l\n",
    "\n"
   ]
  },
  {
   "cell_type": "markdown",
   "metadata": {
    "id": "uwBiPdbf0h4M"
   },
   "source": [
    "## While Loop\n",
    "While loop will execute the given block of code till the entered test condition is true"
   ]
  },
  {
   "cell_type": "markdown",
   "metadata": {
    "id": "O2fzUFvAWtkA"
   },
   "source": [
    "\n",
    "\n",
    "```\n",
    "# syntax for while loop\n",
    "While [condition true]:\n",
    "      statement 1\n",
    "      ...\n",
    "      statement n\n",
    "```\n",
    "\n"
   ]
  },
  {
   "cell_type": "code",
   "execution_count": null,
   "metadata": {
    "colab": {
     "base_uri": "https://localhost:8080/"
    },
    "executionInfo": {
     "elapsed": 534,
     "status": "ok",
     "timestamp": 1660538416390,
     "user": {
      "displayName": "Yogesh Kothiya",
      "userId": "16013917111822092306"
     },
     "user_tz": -330
    },
    "id": "ZdlmV2We1UYv",
    "outputId": "00fcc003-09e7-4736-cf8b-186b6ed6543d"
   },
   "outputs": [
    {
     "name": "stdout",
     "output_type": "stream",
     "text": [
      "1\n",
      "2\n",
      "3\n",
      "4\n",
      "5\n"
     ]
    }
   ],
   "source": [
    "# print all integer from 1 to 5\n"
   ]
  },
  {
   "cell_type": "markdown",
   "metadata": {
    "id": "pDMzqh6ey7lh"
   },
   "source": [
    "Write a program to sum natural numbers up to n. <br>\n",
    "```sum = 1+2+3+...+n```"
   ]
  },
  {
   "cell_type": "code",
   "execution_count": null,
   "metadata": {
    "colab": {
     "base_uri": "https://localhost:8080/"
    },
    "executionInfo": {
     "elapsed": 589,
     "status": "ok",
     "timestamp": 1660538352957,
     "user": {
      "displayName": "Yogesh Kothiya",
      "userId": "16013917111822092306"
     },
     "user_tz": -330
    },
    "id": "JVWpeK-fzELX",
    "outputId": "e05aa441-15d5-49e4-9cde-4693de24a93a"
   },
   "outputs": [
    {
     "name": "stdout",
     "output_type": "stream",
     "text": [
      "The sum is 55\n"
     ]
    }
   ],
   "source": [
    "# Write a program to sum natural numbers up to n.\n",
    "# sum = 1+2+3+...+n\n",
    "\n",
    "n = 10\n",
    "\n",
    "# initialize sum and counter\n",
    "sum = 0\n",
    "i = 1\n",
    "\n",
    "\n"
   ]
  },
  {
   "cell_type": "markdown",
   "metadata": {
    "id": "i-0Qos1-1vcI"
   },
   "source": [
    "## Nested loops\n",
    "\n",
    "Multiple For loops, while loops or combination of for loop and while loops are allowed to used in Python "
   ]
  },
  {
   "cell_type": "markdown",
   "metadata": {
    "id": "sNtp4NeRgBD6"
   },
   "source": [
    "\n",
    "\n",
    "```\n",
    "#syntax for sample nested for loops\n",
    "# outer for loop\n",
    "for [item] in [iterable object]: \n",
    "   # inner for loop\n",
    "   for [item] in [iterable object]:\n",
    "       block of code for inner for loop\n",
    "   block of code for outer for loop\n",
    "```\n",
    "\n"
   ]
  },
  {
   "cell_type": "code",
   "execution_count": null,
   "metadata": {
    "colab": {
     "base_uri": "https://localhost:8080/"
    },
    "executionInfo": {
     "elapsed": 700,
     "status": "ok",
     "timestamp": 1659647056027,
     "user": {
      "displayName": "Yogesh Kothiya",
      "userId": "16013917111822092306"
     },
     "user_tz": -330
    },
    "id": "okhdXOhbg8j8",
    "outputId": "4d3b6f38-3a63-4758-cf49-6c6cf454e4a3"
   },
   "outputs": [
    {
     "name": "stdout",
     "output_type": "stream",
     "text": [
      "*****multiply  5  with integer from 1 to 5\n",
      "5\n",
      "10\n",
      "15\n",
      "20\n",
      "25\n",
      "*****multiply  10  with integer from 1 to 5\n",
      "10\n",
      "20\n",
      "30\n",
      "40\n",
      "50\n"
     ]
    }
   ],
   "source": [
    "# print the multiplication table till 5 for each item in elements list\n",
    "number = [1,2,3,4,5]\n",
    "elements = [5,10]\n"
   ]
  },
  {
   "cell_type": "code",
   "execution_count": null,
   "metadata": {
    "colab": {
     "base_uri": "https://localhost:8080/"
    },
    "executionInfo": {
     "elapsed": 6,
     "status": "ok",
     "timestamp": 1659647796187,
     "user": {
      "displayName": "Yogesh Kothiya",
      "userId": "16013917111822092306"
     },
     "user_tz": -330
    },
    "id": "8kZuN-BLrNDd",
    "outputId": "fbdbc794-3cd1-43f7-8c13-894f98e4dd2c"
   },
   "outputs": [
    {
     "name": "stdout",
     "output_type": "stream",
     "text": [
      "*****multiply  5  with integer from 1 to 5\n",
      "5\n",
      "20\n",
      "15\n",
      "30\n",
      "25\n",
      "*****multiply  10  with integer from 1 to 5\n",
      "10\n",
      "40\n",
      "30\n",
      "60\n",
      "50\n"
     ]
    }
   ],
   "source": [
    "# print the multiplication table till 5 for each item in elements list\n",
    "number = [1,2,3,4,5]\n",
    "elements = [5,10]\n"
   ]
  },
  {
   "cell_type": "markdown",
   "metadata": {
    "id": "7DRl5Bj82QAv"
   },
   "source": [
    "# Loop control Statement\n",
    "Loop control statements are used to skip over an iteration or terminate the execution of the Loop without iteration over the whole sequence.\n"
   ]
  },
  {
   "cell_type": "markdown",
   "metadata": {
    "id": "NomdhDLf2q2M"
   },
   "source": [
    "## Continue Statement\n",
    "continue keyword ends and rejects all the remaining statements for the current iteration and moves to the next iteration in the loop."
   ]
  },
  {
   "cell_type": "code",
   "execution_count": null,
   "metadata": {
    "colab": {
     "base_uri": "https://localhost:8080/"
    },
    "id": "KqVvf51nh1ed",
    "outputId": "e9e24ed1-8170-4531-ce70-55b060e18af7"
   },
   "outputs": [
    {
     "name": "stdout",
     "output_type": "stream",
     "text": [
      "Current Letter : R\n",
      "Current Letter : e\n",
      "Current Letter : e\n",
      "Current Letter : v\n",
      "Current Letter : e\n"
     ]
    }
   ],
   "source": [
    "# Print all the letters in word Relevel except letter \"l\"\n"
   ]
  },
  {
   "cell_type": "markdown",
   "metadata": {
    "id": "cbgs1JO135bb"
   },
   "source": [
    "## Pass statement\n",
    "Pass statement acts as a null statement and used as a placeholder for peice of code to be written in future"
   ]
  },
  {
   "cell_type": "code",
   "execution_count": null,
   "metadata": {
    "colab": {
     "base_uri": "https://localhost:8080/"
    },
    "id": "7CRyhBCluFgh",
    "outputId": "0394ca50-b656-4dac-e187-9c6a261269d6"
   },
   "outputs": [
    {
     "name": "stdout",
     "output_type": "stream",
     "text": [
      "Current Letter : R\n",
      "Current Letter : e\n",
      "Current Letter : e\n",
      "Current Letter : v\n",
      "Current Letter : e\n"
     ]
    }
   ],
   "source": [
    "# print all the letters in the word Relevel except letter \"l\" using pass statement\n",
    "word = \"Relevel\"\n"
   ]
  },
  {
   "cell_type": "markdown",
   "metadata": {
    "id": "jpWfzWZY51tF"
   },
   "source": [
    "## Break Statement\n",
    "Break statement helps to exit the loop from the current running iteration"
   ]
  },
  {
   "cell_type": "code",
   "execution_count": null,
   "metadata": {
    "id": "U8-mOnIA5vX2"
   },
   "outputs": [],
   "source": [
    "#Display numbers in given list before number 10\n",
    "seq = [2,4,20, 14, 10, 29, 33,7]\n"
   ]
  }
 ],
 "metadata": {
  "colab": {
   "collapsed_sections": [],
   "name": "Decision_Making_and_Loops - Learner",
   "provenance": [
    {
     "file_id": "1wO41GZeb1jDXY5C1xZpS2y3nGi9qaOLN",
     "timestamp": 1660563057434
    }
   ]
  },
  "kernelspec": {
   "display_name": "Python 3 (ipykernel)",
   "language": "python",
   "name": "python3"
  },
  "language_info": {
   "codemirror_mode": {
    "name": "ipython",
    "version": 3
   },
   "file_extension": ".py",
   "mimetype": "text/x-python",
   "name": "python",
   "nbconvert_exporter": "python",
   "pygments_lexer": "ipython3",
   "version": "3.11.2"
  }
 },
 "nbformat": 4,
 "nbformat_minor": 1
}
