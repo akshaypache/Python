{
 "cells": [
  {
   "cell_type": "markdown",
   "metadata": {
    "id": "sGEgqUhkqc4w"
   },
   "source": []
  },
  {
   "cell_type": "markdown",
   "metadata": {
    "id": "SIqLJnGOcXn7"
   },
   "source": [
    "**Question-1**\n",
    "Sometimes the data has few duplicate values which will affect the analysis done. In this problem, you will be given a list. You have to find and delete the duplicates and print the updated list with no duplicates.\n",
    "\n",
    "----------------------------------------------------------------------\n",
    "Input:\n",
    "A list of integers.\n",
    "\n",
    "Output:\n",
    "A list of integers, with duplicates removed if any.\n",
    "\n",
    "----------------------------------------------------------------------\n",
    "Sample input:\n",
    "[8, 9, 2, 2, 3, 4, 5, 2]\n",
    "\n",
    "Sample output:\n",
    "[8, 9, 2, 3, 4, 5]\n",
    "\n",
    "----------------------------------------------------------------------\n",
    "Sample input:\n",
    "[4, 4, 4, 4]\n",
    "\n",
    "Sample output:\n",
    "[4]\n",
    "\n",
    "----------------------------------------------------------------------\n",
    "Note the order of the data did not change in input and output.\n"
   ]
  },
  {
   "cell_type": "code",
   "execution_count": 2,
   "metadata": {
    "colab": {
     "base_uri": "https://localhost:8080/"
    },
    "executionInfo": {
     "elapsed": 3401,
     "status": "ok",
     "timestamp": 1661102862203,
     "user": {
      "displayName": "Eshan Tiwari",
      "userId": "08888152677302974738"
     },
     "user_tz": -330
    },
    "id": "5EoEzQJJcemG",
    "outputId": "ceebdfb1-fe46-4793-cbf5-70c63515c8e1"
   },
   "outputs": [
    {
     "name": "stdout",
     "output_type": "stream",
     "text": [
      "Enter list = [8, 9, 2, 2, 3, 4, 5, 2]\n",
      "[2, 3, 4, 5, 8, 9]\n"
     ]
    }
   ],
   "source": [
    "import ast\n",
    "var = input(\"Enter list = \")\n",
    "list1 = ast.literal_eval(var)\n",
    "output = list(set(list1))\n",
    "print(output)"
   ]
  },
  {
   "cell_type": "code",
   "execution_count": null,
   "metadata": {
    "id": "-5N1LGq8cm8l"
   },
   "outputs": [],
   "source": []
  },
  {
   "cell_type": "markdown",
   "metadata": {
    "id": "KvxzTPrtcnr7"
   },
   "source": [
    "**Question-2**\n",
    "\n",
    "You will be converting a dictionary, of string(keys) and list of string (values),  to a list of strings. Please check the sample input/output for clarification.\n",
    "\n",
    "\n",
    "Input:\n",
    "A dictionary with keys as strings and values as a list of strings.\n",
    "\n",
    "Output:\n",
    "A list of strings\n",
    "\n",
    "\n",
    "Sample input:\n",
    "\n",
    "{'Mobile': ['Redmi', 'Samsung', 'Realme'], \n",
    "'Laptop': ['Dell', 'HP'],\n",
    "'TV': ['Videocon', 'Sony'] }\n",
    "\n",
    "Sample output:\n",
    "\n",
    "['Mobile_Redmi', 'Mobile_Samsung', 'Mobile_Realme', 'Laptop_Dell', 'Laptop_HP', 'TV_Videocon', 'TV_Sony']\n",
    "\n",
    "\n",
    "Sample input:\n",
    "\n",
    "{ 'Pen': ['Gel', 'Ink', 'ball'],\n",
    "'Mobile': ['Android', 'apple'] }\n",
    "\n",
    "Sample output:\n",
    "\n",
    "['Pen_Gel', 'Pen_Ink', 'Pen_ball', 'Mobile_Android', 'Mobile_apple']\n"
   ]
  },
  {
   "cell_type": "code",
   "execution_count": 4,
   "metadata": {
    "colab": {
     "base_uri": "https://localhost:8080/"
    },
    "executionInfo": {
     "elapsed": 11697,
     "status": "ok",
     "timestamp": 1661103152825,
     "user": {
      "displayName": "Eshan Tiwari",
      "userId": "08888152677302974738"
     },
     "user_tz": -330
    },
    "id": "UmvoqTNicxDM",
    "outputId": "ee98b739-5442-43f5-fda9-a600966c75c7"
   },
   "outputs": [
    {
     "name": "stdout",
     "output_type": "stream",
     "text": [
      "Enter Dict = {'Mobile': ['Redmi', 'Samsung', 'Realme'], 'Laptop': ['Dell', 'HP'], 'TV': ['Videocon', 'Sony'] }\n",
      "['Mobile_Redmi', 'Mobile_Samsung', 'Mobile_Realme', 'Laptop_Dell', 'Laptop_HP', 'TV_Videocon', 'TV_Sony']\n"
     ]
    }
   ],
   "source": [
    "import ast\n",
    "var = input(\"Enter Dict = \")\n",
    "data = ast.literal_eval(var)\n",
    "list = []\n",
    "\n",
    "for i in data:\n",
    "    for j in data[i]:\n",
    "        list.append(i+\"_\"+j)\n",
    "print(list)"
   ]
  },
  {
   "cell_type": "code",
   "execution_count": 5,
   "metadata": {},
   "outputs": [
    {
     "name": "stdout",
     "output_type": "stream",
     "text": [
      "{'Mobile': ['Redmi', 'Samsung', 'Realme'], 'Laptop': ['Dell', 'HP'], 'TV': ['Videocon', 'Sony'] }\n",
      "['Mobile_Redmi', 'Mobile_Samsung', 'Mobile_Realme', 'Laptop_Dell', 'Laptop_HP', 'TV_Videocon', 'TV_Sony']\n"
     ]
    }
   ],
   "source": [
    "# vivek swami logic\n",
    "import ast\n",
    "n_str = input()\n",
    "b_str = ast.literal_eval(n_str)\n",
    "l = []\n",
    "\n",
    "for key in b_str.keys():\n",
    "    for word in b_str[key]:\n",
    "        l.append(str(key)+'_'+str(word))\n",
    "        \n",
    "print(l)"
   ]
  },
  {
   "cell_type": "markdown",
   "metadata": {
    "id": "AyPEFsjSeCzH"
   },
   "source": [
    "**Question-3**\n",
    "\n",
    "For the purpose of this question, we will define something called an Relevel string. Note that this definition is not valid outside this question. A string Relevel string if the frequency of its characters is something like 1, 2, 3, 4, .... That is a character appears only once, another appears twice, another appears thrice and so on. For example string '$yrr$ssrsr' is a beautiful string since the frequency of y:1, $:2, s:3, r:4, however string '$yrr$ssrsr%' will not be beautiful since it has two characters (y and %) with frequency 1. The frequency of characters should be of form 1, 2, 3, 4, 5... only.\n",
    "Given a string, can you determine if the string is Relevel string or no?\n",
    "\n",
    "\n",
    "Input:\n",
    "\n",
    "A string\n",
    "\n",
    "Output:\n",
    "\n",
    "Boolean depending whether the string is Relevel string or not\n",
    "\n",
    "\n",
    "Sample input:\n",
    "\n",
    "$yrr$ssrsr\n",
    "\n",
    "Sample output:\n",
    "\n",
    "True\n",
    "\n",
    "\n",
    "Sample input:\n",
    "\n",
    "$yrr$ssrsr%\n",
    "\n",
    "Sample output:\n",
    "\n",
    "False\n",
    "\n",
    "Sample input:\n",
    "\n",
    "ab#ab#aba\n",
    "\n",
    "Sample output:\n",
    "\n",
    "False\n",
    "\n",
    "Sample input:\n",
    "\n",
    "ab#ab#ab6a\n",
    "\n",
    "Sample output:\n",
    "\n",
    "True\n"
   ]
  },
  {
   "cell_type": "code",
   "execution_count": null,
   "metadata": {
    "colab": {
     "base_uri": "https://localhost:8080/"
    },
    "executionInfo": {
     "elapsed": 3256,
     "status": "ok",
     "timestamp": 1661103488045,
     "user": {
      "displayName": "Eshan Tiwari",
      "userId": "08888152677302974738"
     },
     "user_tz": -330
    },
    "id": "K-39RzCie0Do",
    "outputId": "e2b9f9b4-0440-4f6f-e452-c47db34321d5"
   },
   "outputs": [],
   "source": [
    "s = input()\n",
    "\n",
    "d = {}\n",
    "\n",
    "for i in s:\n",
    "    if i not in d:\n",
    "        d[i] = 1\n",
    "    else:\n",
    "        d[i] = d[i] +1\n",
    "\n",
    "vals = d.values()\n",
    "n = len(d)\n",
    "\n",
    "def relevel_string(vals):\n",
    "    for i in range(1,n+1):\n",
    "        if i not in vals:\n",
    "            return False\n",
    "    return True\n",
    "\n",
    "print(relevel_string(vals))"
   ]
  },
  {
   "cell_type": "markdown",
   "metadata": {
    "id": "zXDTsbmHfDnO"
   },
   "source": [
    "**Question-4**\n",
    "\n",
    "You will be given a string with a lot of brackets. You have to print if the brackets are balanced or not. Remember, there are three types of brackets: ‘( )’,  ‘{ }’ and ‘[ ]’.\n",
    "\n",
    "----------------------------------------------------------------------\n",
    "Input:\n",
    "\n",
    "A string\n",
    "\n",
    "Output:\n",
    "\n",
    "Yes, if the brackets are balanced.\n",
    "No otherwise.\n",
    "\n",
    "----------------------------------------------------------------------\n",
    "Sample input:\n",
    "\n",
    "){[[]]}())()\n",
    "\n",
    "Sample output:\n",
    "\n",
    "No\n",
    "\n",
    "----------------------------------------------------------------------\n",
    "Sample input 2:\n",
    "\n",
    "[](){[]()(){}}\n",
    "\n",
    "Sample output 2:\n",
    "\n",
    "Yes\n"
   ]
  },
  {
   "cell_type": "code",
   "execution_count": 10,
   "metadata": {
    "colab": {
     "base_uri": "https://localhost:8080/"
    },
    "executionInfo": {
     "elapsed": 7678,
     "status": "ok",
     "timestamp": 1661103599687,
     "user": {
      "displayName": "Eshan Tiwari",
      "userId": "08888152677302974738"
     },
     "user_tz": -330
    },
    "id": "fbGMxA3PfTOF",
    "outputId": "34b0dacf-93ad-4ed0-9473-519e17031da3"
   },
   "outputs": [
    {
     "name": "stdout",
     "output_type": "stream",
     "text": [
      "Enter a string = {[}()]\n",
      "Yes\n"
     ]
    }
   ],
   "source": [
    "inputStr = input(\"Enter a string = \")\n",
    "valueRound = 0\n",
    "valueSquare = 0\n",
    "valueCurly = 0\n",
    "\n",
    "for ch in inputStr:\n",
    "    if valueCurly>=0 and valueRound>=0 and valueSquare>=0:\n",
    "        if ch==\"{\":\n",
    "            valueCurly += 1\n",
    "        elif ch == \"}\":\n",
    "            valueCurly -= 1\n",
    "        elif ch==\"(\":\n",
    "            valueRound += 1\n",
    "        elif ch == \")\":\n",
    "            valueRound -= 1\n",
    "        elif ch==\"[\":\n",
    "            valueSquare += 1\n",
    "        elif ch == \"]\":\n",
    "            valueSquare -= 1\n",
    "    else:\n",
    "        break:\n",
    "        \n",
    "if(valueCurly==0 and valueRound==0 and valueSquare==0):\n",
    "    print(\"Yes\")\n",
    "else:\n",
    "    print(\"No\")"
   ]
  },
  {
   "cell_type": "code",
   "execution_count": 19,
   "metadata": {},
   "outputs": [
    {
     "name": "stdout",
     "output_type": "stream",
     "text": [
      "{}{}{{()()}}\n",
      "['{']\n",
      "[]\n",
      "['{']\n",
      "[]\n",
      "['{']\n",
      "['{', '{']\n",
      "['{', '{', '(']\n",
      "['{', '{']\n",
      "['{', '{', '(']\n",
      "['{', '{']\n",
      "['{']\n",
      "[]\n",
      "Yes\n"
     ]
    }
   ],
   "source": [
    "inp = input()\n",
    "\n",
    "stack = []\n",
    "\n",
    "for i in inp:\n",
    "    if len(stack) == 0:\n",
    "        stack.append(i)\n",
    "        print(stack)\n",
    "    else:\n",
    "        if i == ')' and stack[-1] == '(':\n",
    "            stack.pop()\n",
    "            print(stack)\n",
    "        elif i == '}' and stack[-1] == '{':\n",
    "            stack.pop()\n",
    "            print(stack)\n",
    "        elif i == ']' and stack[-1] == '[':\n",
    "            stack.pop()\n",
    "            print(stack)\n",
    "        else:\n",
    "            stack.append(i)\n",
    "            print(stack)\n",
    "            \n",
    "if len(stack) >0:\n",
    "    print('No')\n",
    "else:\n",
    "    print('Yes')"
   ]
  },
  {
   "cell_type": "markdown",
   "metadata": {
    "id": "YVEB_vE0gAmM"
   },
   "source": [
    "**Question-5**\n",
    "\n",
    "You will be given a list of repeated elements. You have to find the maximum distance between two same elements. The answer will be zero if there are no repeated elements.\n",
    "\n",
    "----------------------------------------------------------------------\n",
    "Input:\n",
    "A non-empty list of integers.\n",
    "\n",
    "Output:\n",
    "A single integer denoting the maximum distance between two same integers.\n",
    "\n",
    "----------------------------------------------------------------------\n",
    "Sample input:\n",
    "\n",
    "[1, 2, 3, 2, 5, 1, 2, 4, 6, 2, 7, 8, 6]\n",
    "\n",
    "Sample output:\n",
    "\n",
    "8\n",
    "\n",
    "Explanation:\n",
    "\n",
    "Max distance for 1: 5\n",
    "\n",
    "Max distance for 2: 8\n",
    "\n",
    "Max distance for 3: 0\n",
    "\n",
    "Max distance for 4: 0\n",
    "\n",
    "Max distance for 5: 0\n",
    "\n",
    "Max distance for 6: 4\n",
    "\n",
    "Max distance for 7: 0\n",
    "\n",
    "Max distance for 8: 0"
   ]
  },
  {
   "cell_type": "code",
   "execution_count": 20,
   "metadata": {
    "colab": {
     "base_uri": "https://localhost:8080/"
    },
    "executionInfo": {
     "elapsed": 9533,
     "status": "ok",
     "timestamp": 1661103866042,
     "user": {
      "displayName": "Eshan Tiwari",
      "userId": "08888152677302974738"
     },
     "user_tz": -330
    },
    "id": "9h0768eTgUoU",
    "outputId": "48dbc07b-f7c5-450b-c58d-f09219349f30"
   },
   "outputs": [],
   "source": [
    "\n"
   ]
  },
  {
   "cell_type": "code",
   "execution_count": 28,
   "metadata": {},
   "outputs": [
    {
     "name": "stdout",
     "output_type": "stream",
     "text": [
      "[1, 2, 3, 2, 5, 1, 2, 4, 6, 2, 7, 8, 6]\n",
      "{1: [0, 5], 2: [1, 3, 6, 9], 3: [2], 5: [4], 4: [7], 6: [8, 12], 7: [10], 8: [11]}\n",
      "8\n"
     ]
    }
   ],
   "source": [
    "import ast\n",
    "str = input()\n",
    "l = ast.literal_eval(str)\n",
    "d = {}\n",
    "for i in range(len(l)):\n",
    "    if l[i] in d:\n",
    "        d[l[i]].append(i)\n",
    "    else:\n",
    "        d[l[i]] = [i]\n",
    "\n",
    "# for referance\n",
    "print(d)  # {1: [0, 5], 2: [1, 3, 6, 9], 3: [2], 5: [4], 4: [7], 6: [8, 12], 7: [10], 8: [11]}\n",
    "\n",
    "listmax = []\n",
    "for i in d:\n",
    "    for j in d[i]:\n",
    "        maxvalue = d[i][-1] - d[i][0]\n",
    "    listmax.append(maxvalue)\n",
    "    \n",
    "print(max(listmax))"
   ]
  },
  {
   "cell_type": "code",
   "execution_count": null,
   "metadata": {},
   "outputs": [],
   "source": [
    "import ast \n",
    "l = ast.literal_eval(input())\n",
    "\n",
    "d = {}\n",
    "\n",
    "for i in range(len(l)):\n",
    "    if l[i] in d:\n",
    "        d[l[i]].append(i)\n",
    "    else:\n",
    "        d[l[i]] = [i]\n",
    "\n",
    "# answer =0       \n",
    "# for value in d.values():\n",
    "#     diff = value[-1] - value[0]\n",
    "#     if diff >answer:\n",
    "#         answer = difference\n",
    "    \n",
    "# print(answer)    \n",
    "\n",
    "diff = []\n",
    "for value in d.values():\n",
    "    diff.append(value[-1] - value[0])\n",
    "    \n",
    "print(max(diff))"
   ]
  },
  {
   "cell_type": "markdown",
   "metadata": {
    "id": "jAJt2LlmgbaB"
   },
   "source": [
    "**Question-6:**\n",
    "\n",
    "You have an array of integers of length n spanning 0 to n with one missing. Write a function missing_number that returns the missing number in the array.\n",
    "\n",
    "Sample Input:\n",
    "\n",
    "[0,1,2,4,5] \n",
    "\n",
    "Sample Output:\n",
    "\n",
    "missing_number(nums) -> 3"
   ]
  },
  {
   "cell_type": "code",
   "execution_count": 2,
   "metadata": {
    "colab": {
     "base_uri": "https://localhost:8080/"
    },
    "executionInfo": {
     "elapsed": 5847,
     "status": "ok",
     "timestamp": 1661105616490,
     "user": {
      "displayName": "Eshan Tiwari",
      "userId": "08888152677302974738"
     },
     "user_tz": -330
    },
    "id": "dv_BdgxggkAr",
    "outputId": "148676fc-accb-4728-a676-65aceb12be8f"
   },
   "outputs": [
    {
     "name": "stdout",
     "output_type": "stream",
     "text": [
      "[0,1,3,4,5]\n",
      "2\n"
     ]
    }
   ],
   "source": [
    "import ast\n",
    "var = input()\n",
    "list = ast.literal_eval(var)\n",
    "\n",
    "def missing_number(list1):\n",
    "    for i in range(len(list1)+1):\n",
    "        if i not in list1:\n",
    "            return i\n",
    "       \n",
    "    \n",
    "a = missing_number(list)\n",
    "print(a)"
   ]
  },
  {
   "cell_type": "markdown",
   "metadata": {
    "id": "0ZdkQ4vknU9U"
   },
   "source": [
    "**Question-7:**\n",
    "\n",
    "Let’s say there are many vehicles on a long road. At each mile along the road, a checkpoint indicates the length traveled across the road.\n",
    "\n",
    "You are given a list called vehicles which indicates the number of vehicles between each checkpoint. For example, the list [7,4,3] would mean that there are seven vehicles before the first checkpoint, four vehicles between the first and second checkpoints, and three vehicles between the second and third checkpoints.\n",
    "\n",
    "Write a function range_vehicles that will give the number of vehicles between the start and end checkpoints.\n",
    "\n",
    "Note: start may be 0\n",
    "\n",
    "**Input:**\n",
    "\n",
    "vehicles = [5,6,4,2,1]\n",
    "\n",
    "start = 1\n",
    "\n",
    "end = 3\n",
    "\n",
    "**Output:**\n",
    "\n",
    "10"
   ]
  },
  {
   "cell_type": "code",
   "execution_count": 8,
   "metadata": {
    "colab": {
     "base_uri": "https://localhost:8080/"
    },
    "executionInfo": {
     "elapsed": 9166,
     "status": "ok",
     "timestamp": 1661106034877,
     "user": {
      "displayName": "Eshan Tiwari",
      "userId": "08888152677302974738"
     },
     "user_tz": -330
    },
    "id": "hdjyisCEgkr-",
    "outputId": "fe3c3c44-33d3-4c6b-ad6a-fb731fe8703e"
   },
   "outputs": [
    {
     "name": "stdout",
     "output_type": "stream",
     "text": [
      "[5,6,4,2,1]\n",
      "Enter a start point = 3\n",
      "Enter a end point = 5\n",
      "3\n"
     ]
    }
   ],
   "source": [
    "import ast\n",
    "\n",
    "def range_vehicles(list,Sp,Ep):\n",
    "    sum = 0\n",
    "    for i in range(Sp,Ep):\n",
    "        sum += list[i]        \n",
    "    return sum\n",
    "\n",
    "list = ast.literal_eval(input(\"vehicles = \"))\n",
    "start = int(input(\"start = \"))\n",
    "end = int(input(\"end = \"))\n",
    "\n",
    "print(range_vehicles(list,start,end))"
   ]
  },
  {
   "cell_type": "markdown",
   "metadata": {
    "id": "snRncX6So1Cj"
   },
   "source": [
    "**Question-8**\n",
    "\n",
    "Given a dictionary with keys of letters and values of a list of letters, write a function closest_key to find the key with the input value closest to the beginning of the list.\n",
    "\n",
    "**Input:**\n",
    "\n",
    "dictionary = {\n",
    "    'a' : ['b','c','e'],\n",
    "    'm' : ['c','e'],\n",
    "}\n",
    "\n",
    "input = 'c'\n",
    "\n",
    "**Ouput:**\n",
    "\n",
    "m"
   ]
  },
  {
   "cell_type": "code",
   "execution_count": 34,
   "metadata": {
    "id": "PPvD6VWcpSRX"
   },
   "outputs": [
    {
     "name": "stdout",
     "output_type": "stream",
     "text": [
      "vehicles = { 'a' : ['b','c','e'], 'm' : ['c','e'], }\n",
      "input = b\n",
      "output =  a\n"
     ]
    }
   ],
   "source": [
    "import ast\n",
    "\n",
    "def closest_key(dic,Input):\n",
    "    List = []\n",
    "    for i in dic:\n",
    "        for j in dic[i]:\n",
    "            if(j==Input):\n",
    "                List.append(dic[i].index(j))\n",
    "    \n",
    "    less = List.index(min(List))\n",
    "    List = []\n",
    "    for i in dic:\n",
    "        List.append(i)\n",
    "    return List[less]\n",
    "        \n",
    "dic = ast.literal_eval(input(\"vehicles = \"))\n",
    "input_ = input(\"input = \")\n",
    "a = closest_key(dic,input_)\n",
    "print(\"Output =\",a)"
   ]
  },
  {
   "cell_type": "markdown",
   "metadata": {
    "id": "6szOQVmNq-bG"
   },
   "source": [
    "**Question-9**\n",
    "\n",
    "You are given a string that represents some floating-point number. Write a function, digit_accumulator, that returns the sum of every digit in the string.\n",
    "\n",
    "**Input:**\n",
    "\n",
    "s = \"123.0045\"\n",
    "\n",
    "**Output:**\n",
    "\n",
    "15"
   ]
  },
  {
   "cell_type": "code",
   "execution_count": 36,
   "metadata": {
    "colab": {
     "base_uri": "https://localhost:8080/"
    },
    "executionInfo": {
     "elapsed": 4298,
     "status": "ok",
     "timestamp": 1661106931500,
     "user": {
      "displayName": "Eshan Tiwari",
      "userId": "08888152677302974738"
     },
     "user_tz": -330
    },
    "id": "3e5jMNQErNKY",
    "outputId": "25026bf7-48f0-4447-ab2c-3d459efa708b"
   },
   "outputs": [
    {
     "name": "stdout",
     "output_type": "stream",
     "text": [
      "Enter a number = 12000.00034\n",
      "10\n"
     ]
    }
   ],
   "source": [
    "def digit_accumulator(a):\n",
    "    sum = 0\n",
    "    for i in a:\n",
    "        if(i.isdigit()):\n",
    "            sum += int(i)\n",
    "    return sum\n",
    "\n",
    "str1 = input(\"Enter a number = \")\n",
    "a = digit_accumulator(str1)\n",
    "print(a)"
   ]
  },
  {
   "cell_type": "markdown",
   "metadata": {
    "id": "v6KK37D2ujgE"
   },
   "source": [
    "**Question-10**\n",
    "\n",
    "Using the Map function, create a list 'cube', which consists of the cube of numbers in input_list.\n",
    "\n",
    "Input:\n",
    "\n",
    "[5,6,4,8,9] \n",
    "\n",
    "\n",
    "Output:\n",
    "\n",
    "[125, 216, 64, 512, 729]."
   ]
  },
  {
   "cell_type": "code",
   "execution_count": 44,
   "metadata": {
    "colab": {
     "base_uri": "https://localhost:8080/"
    },
    "executionInfo": {
     "elapsed": 7895,
     "status": "ok",
     "timestamp": 1662031291703,
     "user": {
      "displayName": "Eshan Tiwari",
      "userId": "08888152677302974738"
     },
     "user_tz": -330
    },
    "id": "-2TCIBPYx8BC",
    "outputId": "580ad5d3-e103-4203-99ee-b95a6eb49f81"
   },
   "outputs": [
    {
     "name": "stdout",
     "output_type": "stream",
     "text": [
      "Enter a list = [1,2,3]\n",
      "<map object at 0x00000261134F60E0>\n"
     ]
    }
   ],
   "source": [
    "import ast\n",
    "numbers = ast.literal_eval(input(\"Enter a list = \"))\n",
    "result = list(map(lambda x: x*x*x, numbers))\n",
    "print(result)"
   ]
  },
  {
   "cell_type": "markdown",
   "metadata": {
    "id": "9iDWPH2F0717"
   },
   "source": [
    "**Question-11**\n",
    "\n",
    "Create a list ‘name’ consisting of the combination of the first name and the second name from list 1 and 2 respectively. \n",
    "\n",
    "\n",
    "Input:\n",
    "\n",
    "[ ['Ankur', 'Avik', 'Kiran', 'Nitin'], ['Narang', 'Sarkar', 'R', 'Sareen']]\n",
    "\n",
    "Output:\n",
    "\n",
    "['Ankur Narang', 'Avik Sarkar', 'Kiran R', 'Nitin Sareen']"
   ]
  },
  {
   "cell_type": "code",
   "execution_count": 48,
   "metadata": {
    "colab": {
     "base_uri": "https://localhost:8080/"
    },
    "executionInfo": {
     "elapsed": 7931,
     "status": "ok",
     "timestamp": 1662032127136,
     "user": {
      "displayName": "Eshan Tiwari",
      "userId": "08888152677302974738"
     },
     "user_tz": -330
    },
    "id": "lgANu95x1PfQ",
    "outputId": "2bf04d7b-acfd-415a-e157-bed6a326667d"
   },
   "outputs": [
    {
     "name": "stdout",
     "output_type": "stream",
     "text": [
      "Enter a list of names = [ ['Ankur', 'Avik', 'Kiran', 'Nitin'], ['Narang', 'Sarkar', 'R', 'Sareen']]\n",
      "['Ankur Narang', 'Avik Sarkar', 'Kiran R', 'Nitin Sareen']\n"
     ]
    }
   ],
   "source": [
    "import ast\n",
    "list1 = ast.literal_eval(input(\"Enter a list of names = \"))\n",
    "namesList = []\n",
    "    \n",
    "for i in range(len(list1[0])):\n",
    "    namesList.append(list1[0][i] + \" \" + list1[1][i])    \n",
    "print(namesList)"
   ]
  },
  {
   "cell_type": "markdown",
   "metadata": {
    "id": "e6o7cXO_2Lvg"
   },
   "source": [
    "**Question-12**\n",
    "\n",
    "Add the element ‘Python’ to a tuple input_tuple = ('Monty Python', 'British', 1969). "
   ]
  },
  {
   "cell_type": "code",
   "execution_count": 51,
   "metadata": {
    "colab": {
     "base_uri": "https://localhost:8080/"
    },
    "executionInfo": {
     "elapsed": 7861,
     "status": "ok",
     "timestamp": 1662032398768,
     "user": {
      "displayName": "Eshan Tiwari",
      "userId": "08888152677302974738"
     },
     "user_tz": -330
    },
    "id": "ZJjsEOoh2S8y",
    "outputId": "a03e111a-d464-4e53-dea2-e4e29c15f5ae"
   },
   "outputs": [
    {
     "name": "stdout",
     "output_type": "stream",
     "text": [
      "Enter a tuple = ('Monty Python', 'British', 1969)\n"
     ]
    },
    {
     "ename": "TypeError",
     "evalue": "'list' object is not callable",
     "output_type": "error",
     "traceback": [
      "\u001b[1;31m---------------------------------------------------------------------------\u001b[0m",
      "\u001b[1;31mTypeError\u001b[0m                                 Traceback (most recent call last)",
      "Cell \u001b[1;32mIn[51], line 3\u001b[0m\n\u001b[0;32m      1\u001b[0m \u001b[38;5;28;01mimport\u001b[39;00m \u001b[38;5;21;01mast\u001b[39;00m\n\u001b[0;32m      2\u001b[0m tuple1 \u001b[38;5;241m=\u001b[39m ast\u001b[38;5;241m.\u001b[39mliteral_eval(\u001b[38;5;28minput\u001b[39m(\u001b[38;5;124m\"\u001b[39m\u001b[38;5;124mEnter a tuple = \u001b[39m\u001b[38;5;124m\"\u001b[39m))\n\u001b[1;32m----> 3\u001b[0m a \u001b[38;5;241m=\u001b[39m \u001b[38;5;28;43mlist\u001b[39;49m\u001b[43m(\u001b[49m\u001b[43mtuple1\u001b[49m\u001b[43m)\u001b[49m\n\u001b[0;32m      4\u001b[0m a\u001b[38;5;241m.\u001b[39mappend(\u001b[38;5;124m\"\u001b[39m\u001b[38;5;124mPython\u001b[39m\u001b[38;5;124m\"\u001b[39m)\n\u001b[0;32m      5\u001b[0m tuple1 \u001b[38;5;241m=\u001b[39m \u001b[38;5;28mtuple\u001b[39m(a)\n",
      "\u001b[1;31mTypeError\u001b[0m: 'list' object is not callable"
     ]
    }
   ],
   "source": [
    "import ast\n",
    "tuple1 = ast.literal_eval(input(\"Enter a tuple = \"))\n",
    "a = list(tuple1)\n",
    "a.append(\"Python\")\n",
    "tuple1 = tuple(a)\n",
    "print(tuple1)"
   ]
  },
  {
   "cell_type": "code",
   "execution_count": null,
   "metadata": {},
   "outputs": [],
   "source": [
    "import ast\n",
    "tuple1 = ast.literal_eval(input(\"Enter a tuple = \"))\n",
    "a = list(tuple1)\n",
    "a.append(\"Python\")\n",
    "tuple1 = tuple(a)\n",
    "print(tuple1)"
   ]
  },
  {
   "cell_type": "code",
   "execution_count": null,
   "metadata": {},
   "outputs": [],
   "source": []
  }
 ],
 "metadata": {
  "colab": {
   "collapsed_sections": [],
   "provenance": [
    {
     "file_id": "1A3mkHyB-J9-eyosN8kX_221T3BzxDWTM",
     "timestamp": 1662963676168
    }
   ]
  },
  "kernelspec": {
   "display_name": "Python 3 (ipykernel)",
   "language": "python",
   "name": "python3"
  },
  "language_info": {
   "codemirror_mode": {
    "name": "ipython",
    "version": 3
   },
   "file_extension": ".py",
   "mimetype": "text/x-python",
   "name": "python",
   "nbconvert_exporter": "python",
   "pygments_lexer": "ipython3",
   "version": "3.11.2"
  }
 },
 "nbformat": 4,
 "nbformat_minor": 1
}
